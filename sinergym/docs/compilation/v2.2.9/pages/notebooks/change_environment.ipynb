{
 "cells": [
  {
   "cell_type": "markdown",
   "metadata": {
    "collapsed": false
   },
   "source": [
    "# Changing an environment registered in Sinergym"
   ]
  },
  {
   "cell_type": "markdown",
   "metadata": {
    "collapsed": true,
    "pycharm": {
     "name": "#%% md\n"
    }
   },
   "source": [
    "As discussed above, Sinergym has a list of available environments that we can call with `gym.make(<environment_id>)` as long as the sinergym package is imported into the python script."
   ]
  },
  {
   "cell_type": "code",
   "execution_count": 1,
   "metadata": {
    "collapsed": false,
    "pycharm": {
     "is_executing": true,
     "name": "#%%\n"
    }
   },
   "outputs": [
    {
     "name": "stdout",
     "output_type": "stream",
     "text": [
      "[2023-02-09 11:01:27,198] EPLUS_ENV_5Zone-hot-continuous-stochastic-v1_MainThread_ROOT INFO:Updating idf ExternalInterface object if it is not present...\n",
      "[2023-02-09 11:01:27,199] EPLUS_ENV_5Zone-hot-continuous-stochastic-v1_MainThread_ROOT INFO:Updating idf Site:Location and SizingPeriod:DesignDay(s) to weather and ddy file...\n",
      "[2023-02-09 11:01:27,201] EPLUS_ENV_5Zone-hot-continuous-stochastic-v1_MainThread_ROOT INFO:Updating idf OutPut:Variable and variables XML tree model for BVCTB connection.\n",
      "[2023-02-09 11:01:27,202] EPLUS_ENV_5Zone-hot-continuous-stochastic-v1_MainThread_ROOT INFO:Setting up extra configuration in building model if exists...\n",
      "[2023-02-09 11:01:27,202] EPLUS_ENV_5Zone-hot-continuous-stochastic-v1_MainThread_ROOT INFO:Setting up action definition in building model if exists...\n"
     ]
    }
   ],
   "source": [
    "import gymnasium as gym\n",
    "import numpy as np\n",
    "\n",
    "import sinergym\n",
    "env = gym.make('Eplus-5Zone-hot-continuous-stochastic-v1')"
   ]
  },
  {
   "cell_type": "markdown",
   "metadata": {},
   "source": [
    "These environment IDs have a number of components defined, not only the building design (*IDF*), but also the reward function, the action and observation spaces, the defining variables, etc.\n",
    "\n",
    "If you want a new environment, you can define it from scratch in our [environment list](https://github.com/ugr-sail/sinergym/blob/main/sinergym/__init__.py) and run it locally.\n",
    "\n",
    "Another option (recommended) is to start from one of our environments and change the components you want. You can combine components you want to change obviously.\n",
    "\n",
    "The way to do that is to add in the `gym.make(<environment_id>)` those parameters of the constructor of the *Sinergym* environment we want to change. Let's see what things we can change starting from any environment:"
   ]
  },
  {
   "cell_type": "markdown",
   "metadata": {},
   "source": [
    "## Adding a new reward"
   ]
  },
  {
   "cell_type": "markdown",
   "metadata": {},
   "source": [
    "As mentioned above, simply add the appropriate parameters to `gym.make()` after specifying the environment ID."
   ]
  },
  {
   "cell_type": "code",
   "execution_count": 2,
   "metadata": {
    "collapsed": false,
    "pycharm": {
     "is_executing": true,
     "name": "#%%\n"
    }
   },
   "outputs": [
    {
     "name": "stdout",
     "output_type": "stream",
     "text": [
      "[2023-02-09 11:01:34,490] EPLUS_ENV_5Zone-hot-continuous-v1_MainThread_ROOT INFO:Updating idf ExternalInterface object if it is not present...\n",
      "[2023-02-09 11:01:34,491] EPLUS_ENV_5Zone-hot-continuous-v1_MainThread_ROOT INFO:Updating idf Site:Location and SizingPeriod:DesignDay(s) to weather and ddy file...\n",
      "[2023-02-09 11:01:34,492] EPLUS_ENV_5Zone-hot-continuous-v1_MainThread_ROOT INFO:Updating idf OutPut:Variable and variables XML tree model for BVCTB connection.\n",
      "[2023-02-09 11:01:34,493] EPLUS_ENV_5Zone-hot-continuous-v1_MainThread_ROOT INFO:Setting up extra configuration in building model if exists...\n",
      "[2023-02-09 11:01:34,494] EPLUS_ENV_5Zone-hot-continuous-v1_MainThread_ROOT INFO:Setting up action definition in building model if exists...\n"
     ]
    }
   ],
   "source": [
    "from sinergym.utils.rewards import LinearReward, ExpReward\n",
    "\n",
    "env = gym.make('Eplus-5Zone-hot-continuous-v1', reward=ExpReward, reward_kwargs={\n",
    "                                                                    'temperature_variable': 'Zone Air Temperature (SPACE1-1)',\n",
    "                                                                    'energy_variable': 'Facility Total HVAC Electricity Demand Rate (Whole Building)',\n",
    "                                                                    'range_comfort_winter': (20.0, 23.5),\n",
    "                                                                    'range_comfort_summer': (23.0, 26.0),\n",
    "                                                                    'energy_weight': 0.1})"
   ]
  },
  {
   "cell_type": "markdown",
   "metadata": {},
   "source": [
    "You have to specify the **reward** class you are going to use in the environment. A reward function class has several parameters that can be specified by user like temperature variables, weights, etc. Depending on the reward function you are using. In order to be able to define it, we have **reward_kwargs** parameter. See [reward documentation](https://ugr-sail.github.io/sinergym/compilation/html/pages/rewards.html) for more information about reward classes and how to create a new one. "
   ]
  },
  {
   "cell_type": "markdown",
   "metadata": {},
   "source": [
    "## Adding other new components to the environment"
   ]
  },
  {
   "cell_type": "markdown",
   "metadata": {},
   "source": [
    "In the same way that we can change the default reward function, as we have done in the second example, \n",
    "it is possible to substitute other default values of the environment ID. \n",
    "\n",
    "You can change the weather file, the number of timesteps an action repeats (default 1), \n",
    "the last n episodes you want to be stored in the Sinergym output folder (default 10), \n",
    "the name of the environment or the variability in stochastic environments:"
   ]
  },
  {
   "cell_type": "code",
   "execution_count": 3,
   "metadata": {},
   "outputs": [
    {
     "name": "stdout",
     "output_type": "stream",
     "text": [
      "[2023-02-09 11:14:36,775] EPLUS_ENV_new_env_name_MainThread_ROOT INFO:Updating idf ExternalInterface object if it is not present...\n",
      "[2023-02-09 11:14:36,776] EPLUS_ENV_new_env_name_MainThread_ROOT INFO:Updating idf Site:Location and SizingPeriod:DesignDay(s) to weather and ddy file...\n",
      "[2023-02-09 11:14:36,777] EPLUS_ENV_new_env_name_MainThread_ROOT INFO:Updating idf OutPut:Variable and variables XML tree model for BVCTB connection.\n",
      "[2023-02-09 11:14:36,778] EPLUS_ENV_new_env_name_MainThread_ROOT INFO:Setting up extra configuration in building model if exists...\n",
      "[2023-02-09 11:14:36,779] EPLUS_ENV_new_env_name_MainThread_ROOT INFO:Setting up action definition in building model if exists...\n"
     ]
    }
   ],
   "source": [
    "env = gym.make('Eplus-5Zone-cool-continuous-stochastic-v1', \n",
    "                weather_file='ESP_Granada.084190_SWEC.epw',\n",
    "                weather_variability=(1.0,0.0,0.001),\n",
    "                env_name='new_env_name',\n",
    "                act_repeat=4,\n",
    "                max_ep_data_store_num = 20)"
   ]
  },
  {
   "cell_type": "markdown",
   "metadata": {},
   "source": [
    "## Changing observation and action spaces"
   ]
  },
  {
   "cell_type": "markdown",
   "metadata": {},
   "source": [
    "By default, the IDs of the predefined environments in *Sinergym* already have a space of actions and observations set.\n",
    "\n",
    "However, it can be overwritten by a new definition of them. On the one hand, we will have to define the name of the \n",
    "**variables**, and on the other hand, the definition of the **spaces** (and an **action mapping** if it is a discrete environment)."
   ]
  },
  {
   "cell_type": "code",
   "execution_count": 4,
   "metadata": {},
   "outputs": [
    {
     "name": "stdout",
     "output_type": "stream",
     "text": [
      "[2023-02-09 11:15:58,042] EPLUS_ENV_datacenter-cool-discrete-stochastic-v1_MainThread_ROOT INFO:Updating idf ExternalInterface object if it is not present...\n",
      "[2023-02-09 11:15:58,043] EPLUS_ENV_datacenter-cool-discrete-stochastic-v1_MainThread_ROOT INFO:Updating idf Site:Location and SizingPeriod:DesignDay(s) to weather and ddy file...\n",
      "[2023-02-09 11:15:58,044] EPLUS_ENV_datacenter-cool-discrete-stochastic-v1_MainThread_ROOT INFO:Updating idf OutPut:Variable and variables XML tree model for BVCTB connection.\n",
      "[2023-02-09 11:15:58,045] EPLUS_ENV_datacenter-cool-discrete-stochastic-v1_MainThread_ROOT INFO:Setting up extra configuration in building model if exists...\n",
      "[2023-02-09 11:15:58,045] EPLUS_ENV_datacenter-cool-discrete-stochastic-v1_MainThread_ROOT INFO:Setting up action definition in building model if exists...\n",
      "[2023-02-09 11:15:58,047] EPLUS_ENV_datacenter-cool-discrete-stochastic-v1_MainThread_ROOT INFO:Creating new EnergyPlus simulation episode...\n",
      "[2023-02-09 11:15:58,202] EPLUS_ENV_datacenter-cool-discrete-stochastic-v1_MainThread_ROOT INFO:EnergyPlus working directory is in /workspaces/sinergym/examples/Eplus-env-datacenter-cool-discrete-stochastic-v1-res1/Eplus-env-sub_run1\n",
      "Reward:  -0.24071189929661993 {'timestep': 1, 'time_elapsed': 900, 'year': 1991, 'month': 1, 'day': 1, 'hour': 0, 'action': [20, 25], 'total_power': 4814.237985932398, 'total_power_no_units': -0.48142379859323986, 'comfort_penalty': -0.0, 'abs_comfort': 0.0, 'temperatures': []}\n",
      "Reward:  -663.5403139587615 {'timestep': 2976, 'time_elapsed': 2678400, 'year': 1991, 'month': 2, 'day': 1, 'hour': 0, 'action': [20, 25], 'total_power': 3902.820992932057, 'total_power_no_units': -0.39028209929320573, 'comfort_penalty': -0.0, 'abs_comfort': 0.0, 'temperatures': []}\n",
      "Reward:  -1239.6466565782107 {'timestep': 5664, 'time_elapsed': 5097600, 'year': 1991, 'month': 3, 'day': 1, 'hour': 0, 'action': [21, 24], 'total_power': 4289.43749835403, 'total_power_no_units': -0.428943749835403, 'comfort_penalty': -0.0, 'abs_comfort': 0.0, 'temperatures': []}\n",
      "Reward:  -1846.3376477287582 {'timestep': 8640, 'time_elapsed': 7776000, 'year': 1991, 'month': 4, 'day': 1, 'hour': 0, 'action': [18, 27], 'total_power': 4605.786815476858, 'total_power_no_units': -0.4605786815476858, 'comfort_penalty': -0.0, 'abs_comfort': 0.0, 'temperatures': []}\n",
      "Reward:  -2638.351276498183 {'timestep': 11520, 'time_elapsed': 10368000, 'year': 1991, 'month': 5, 'day': 1, 'hour': 0, 'action': [22, 23], 'total_power': 4140.066604495791, 'total_power_no_units': -0.41400666044957907, 'comfort_penalty': -0.0, 'abs_comfort': 0.0, 'temperatures': []}\n",
      "Reward:  -3535.2292329474312 {'timestep': 14496, 'time_elapsed': 13046400, 'year': 1991, 'month': 6, 'day': 1, 'hour': 0, 'action': [19, 26], 'total_power': 3585.00576986839, 'total_power_no_units': -0.358500576986839, 'comfort_penalty': -0.0, 'abs_comfort': 0.0, 'temperatures': []}\n",
      "Reward:  -5030.414183067792 {'timestep': 17376, 'time_elapsed': 15638400, 'year': 1991, 'month': 7, 'day': 1, 'hour': 0, 'action': [22, 22], 'total_power': 3962.959903637627, 'total_power_no_units': -0.39629599036376273, 'comfort_penalty': -0.0, 'abs_comfort': 0.0, 'temperatures': []}\n",
      "Reward:  -7065.662896790269 {'timestep': 20352, 'time_elapsed': 18316800, 'year': 1991, 'month': 8, 'day': 1, 'hour': 0, 'action': [15, 30], 'total_power': 2020.616347754115, 'total_power_no_units': -0.2020616347754115, 'comfort_penalty': -0.0, 'abs_comfort': 0.0, 'temperatures': []}\n",
      "Reward:  -9301.430375216012 {'timestep': 23328, 'time_elapsed': 20995200, 'year': 1991, 'month': 9, 'day': 1, 'hour': 0, 'action': [15, 30], 'total_power': 6150.00539925926, 'total_power_no_units': -0.6150005399259261, 'comfort_penalty': -0.0, 'abs_comfort': 0.0, 'temperatures': []}\n",
      "Reward:  -10852.482595941527 {'timestep': 26208, 'time_elapsed': 23587200, 'year': 1991, 'month': 10, 'day': 1, 'hour': 0, 'action': [19, 26], 'total_power': 4705.83115210627, 'total_power_no_units': -0.470583115210627, 'comfort_penalty': -0.0, 'abs_comfort': 0.0, 'temperatures': []}\n",
      "Reward:  -11635.614609284981 {'timestep': 29184, 'time_elapsed': 26265600, 'year': 1991, 'month': 11, 'day': 1, 'hour': 0, 'action': [16, 29], 'total_power': 3160.38778492112, 'total_power_no_units': -0.316038778492112, 'comfort_penalty': -0.0, 'abs_comfort': 0.0, 'temperatures': []}\n",
      "Reward:  -12226.346387257105 {'timestep': 32064, 'time_elapsed': 28857600, 'year': 1991, 'month': 12, 'day': 1, 'hour': 0, 'action': [19, 26], 'total_power': 4049.327293756508, 'total_power_no_units': -0.40493272937565084, 'comfort_penalty': -0.0, 'abs_comfort': 0.0, 'temperatures': []}\n",
      "Reward:  -12842.09822858374 {'timestep': 35040, 'time_elapsed': 31536000, 'year': 1992, 'month': 1, 'day': 1, 'hour': 0, 'action': [22, 22], 'total_power': 5236.012401867805, 'total_power_no_units': -0.5236012401867806, 'comfort_penalty': -0.0, 'abs_comfort': 0.0, 'temperatures': []}\n",
      "Episode  0 Mean reward:  -0.3664982371171533 Cumulative reward:  -12842.09822858374\n",
      "[2023-02-09 11:16:28,652] EPLUS_ENV_datacenter-cool-discrete-stochastic-v1_MainThread_ROOT INFO:EnergyPlus simulation closed successfully. \n"
     ]
    }
   ],
   "source": [
    "import gymnasium as gym\n",
    "import numpy as np\n",
    "\n",
    "import sinergym\n",
    "\n",
    "new_observation_variables=[\n",
    "    'Site Outdoor Air Drybulb Temperature(Environment)',\n",
    "    'Site Outdoor Air Relative Humidity(Environment)',\n",
    "    'Site Wind Speed(Environment)',\n",
    "    'Zone Thermal Comfort Fanger Model PPD(East Zone PEOPLE)',\n",
    "    'Zone People Occupant Count(East Zone)',\n",
    "    'People Air Temperature(East Zone PEOPLE)',\n",
    "    'Facility Total HVAC Electricity Demand Rate(Whole Building)'\n",
    "]\n",
    "\n",
    "new_action_variables = [\n",
    "    'Heating_Setpoint_RL',\n",
    "    'Cooling_Setpoint_RL',\n",
    "]\n",
    "\n",
    "new_observation_space = gym.spaces.Box(\n",
    "    low=-5e6,\n",
    "    high=5e6,\n",
    "    shape=(len(new_observation_variables) + 4,),\n",
    "    dtype=np.float32)\n",
    "\n",
    "new_action_mapping = {\n",
    "    0: (15, 30),\n",
    "    1: (16, 29),\n",
    "    2: (17, 28),\n",
    "    3: (18, 27),\n",
    "    4: (19, 26),\n",
    "    5: (20, 25),\n",
    "    6: (21, 24),\n",
    "    7: (22, 23),\n",
    "    8: (22, 22),\n",
    "    9: (21, 21)\n",
    "}\n",
    "\n",
    "new_action_space = gym.spaces.Discrete(10)\n",
    "\n",
    "env = gym.make('Eplus-datacenter-cool-discrete-stochastic-v1', \n",
    "                observation_variables=new_observation_variables,\n",
    "                observation_space=new_observation_space,\n",
    "                action_variables=new_action_variables,\n",
    "                action_mapping=new_action_mapping,\n",
    "                action_space=new_action_space\n",
    "            )\n",
    "\n",
    "\n",
    "for i in range(1):\n",
    "    obs, info = env.reset()\n",
    "    rewards = []\n",
    "    terminated = False\n",
    "    current_month = 0\n",
    "    while not terminated:\n",
    "        a = env.action_space.sample()\n",
    "        obs, reward, terminated, truncated, info = env.step(a)\n",
    "        rewards.append(reward)\n",
    "        if info['month'] != current_month:  # display results every month\n",
    "            current_month = info['month']\n",
    "            print('Reward: ', sum(rewards), info)\n",
    "    print(\n",
    "        'Episode ',\n",
    "        i,\n",
    "        'Mean reward: ',\n",
    "        np.mean(rewards),\n",
    "        'Cumulative reward: ',\n",
    "        sum(rewards))\n",
    "env.close()"
   ]
  },
  {
   "cell_type": "markdown",
   "metadata": {},
   "source": [
    "In case the definition has some inconsistency, such as the *IDF* has not been \n",
    "adapted to the new actions, the spaces do not fit with the variables, the \n",
    "observation variables do not exist, etc. *Sinergym* will display an error.\n",
    "\n",
    "**Action variables** defined must exists in IDF model like external interface.\n",
    "Then, you have two possibilities: \n",
    "\n",
    "- First, you can modify IDF file directly, but it is necessary to update several \n",
    "  components depending in order to connect them to the external interface \n",
    "  (requires knowledge of the building and EnergyPlus).\n",
    "- Second, you can use the **action definition** functionality of *Sinergym* (recommended).\n",
    "  This functionality will modify the IDF file before starting the simulation automatically \n",
    "  based on a simple definition of the components to be replaced by an external control.\n",
    "  See \"updating action definition\" example to learn how to use it.\n"
   ]
  },
  {
   "cell_type": "markdown",
   "metadata": {},
   "source": [
    "## Getting information about building model with Sinergym"
   ]
  },
  {
   "cell_type": "markdown",
   "metadata": {
    "collapsed": true,
    "pycharm": {
     "name": "#%% md\n"
    }
   },
   "source": [
    "Sinergym can get the schedulers information automatically, in a Python dictionary and/or exporting that information in a excel file.\n",
    "This information lets you know what things can be controlled by an external interface in the building.\n",
    "The way to do it is very simple, just load the environment and call a method:"
   ]
  },
  {
   "cell_type": "code",
   "execution_count": 5,
   "metadata": {
    "collapsed": false,
    "pycharm": {
     "is_executing": true,
     "name": "#%%\n"
    }
   },
   "outputs": [
    {
     "name": "stdout",
     "output_type": "stream",
     "text": [
      "[2023-02-09 11:17:56,385] EPLUS_ENV_demo-v1_MainThread_ROOT INFO:Updating idf ExternalInterface object if it is not present...\n",
      "[2023-02-09 11:17:56,385] EPLUS_ENV_demo-v1_MainThread_ROOT INFO:Updating idf Site:Location and SizingPeriod:DesignDay(s) to weather and ddy file...\n",
      "[2023-02-09 11:17:56,386] EPLUS_ENV_demo-v1_MainThread_ROOT INFO:Updating idf OutPut:Variable and variables XML tree model for BVCTB connection.\n",
      "[2023-02-09 11:17:56,388] EPLUS_ENV_demo-v1_MainThread_ROOT INFO:Setting up extra configuration in building model if exists...\n",
      "[2023-02-09 11:17:56,388] EPLUS_ENV_demo-v1_MainThread_ROOT INFO:Setting up action definition in building model if exists...\n",
      "{'activitysch': {'Type': 'any number'},\n",
      " 'actschd': {'Object1': {'object_field_name': 'activity_level_schedule_name',\n",
      "                         'object_name': 'space1-1 people 1',\n",
      "                         'object_type': 'People'},\n",
      "             'Object2': {'object_field_name': 'activity_level_schedule_name',\n",
      "                         'object_name': 'space2-1 people 1',\n",
      "                         'object_type': 'People'},\n",
      "             'Object3': {'object_field_name': 'activity_level_schedule_name',\n",
      "                         'object_name': 'space3-1 people 1',\n",
      "                         'object_type': 'People'},\n",
      "             'Object4': {'object_field_name': 'activity_level_schedule_name',\n",
      "                         'object_name': 'space4-1 people 1',\n",
      "                         'object_type': 'People'},\n",
      "             'Object5': {'object_field_name': 'activity_level_schedule_name',\n",
      "                         'object_name': 'space5-1 people 1',\n",
      "                         'object_type': 'People'},\n",
      "             'Type': 'any number'},\n",
      " 'airvelocitysch': {'Object1': {'object_field_name': 'air_velocity_schedule_name',\n",
      "                                'object_name': 'space1-1 people 1',\n",
      "                                'object_type': 'People'},\n",
      "                    'Object2': {'object_field_name': 'air_velocity_schedule_name',\n",
      "                                'object_name': 'space2-1 people 1',\n",
      "                                'object_type': 'People'},\n",
      "                    'Object3': {'object_field_name': 'air_velocity_schedule_name',\n",
      "                                'object_name': 'space3-1 people 1',\n",
      "                                'object_type': 'People'},\n",
      "                    'Object4': {'object_field_name': 'air_velocity_schedule_name',\n",
      "                                'object_name': 'space4-1 people 1',\n",
      "                                'object_type': 'People'},\n",
      "                    'Object5': {'object_field_name': 'air_velocity_schedule_name',\n",
      "                                'object_name': 'space5-1 people 1',\n",
      "                                'object_type': 'People'},\n",
      "                    'Type': 'any number'},\n",
      " 'basinheatersched': {'Object1': {'object_field_name': 'basin_heater_operating_schedule_name',\n",
      "                                  'object_name': 'main cooling coil 1',\n",
      "                                  'object_type': 'Coil:Cooling:DX:TwoSpeed'},\n",
      "                      'Type': 'on/off'},\n",
      " 'clg-setp-sch': {'Object1': {'object_field_name': 'cooling_setpoint_temperature_schedule_name',\n",
      "                              'object_name': 'dualsetpoint',\n",
      "                              'object_type': 'ThermostatSetpoint:DualSetpoint'},\n",
      "                  'Object2': {'object_field_name': 'setpoint_temperature_schedule_name',\n",
      "                              'object_name': 'coolingsetpoint',\n",
      "                              'object_type': 'ThermostatSetpoint:SingleCooling'},\n",
      "                  'Type': 'temperature'},\n",
      " 'clothingsch': {'Type': 'any number'},\n",
      " 'coolingcoilavailsched': {'Object1': {'object_field_name': 'availability_schedule_name',\n",
      "                                       'object_name': 'main cooling coil 1',\n",
      "                                       'object_type': 'Coil:Cooling:DX:TwoSpeed'},\n",
      "                           'Object2': {'object_field_name': 'availability_schedule_name',\n",
      "                                       'object_name': 'dx cooling coil system '\n",
      "                                                      '1',\n",
      "                                       'object_type': 'CoilSystem:Cooling:DX'},\n",
      "                           'Type': 'fraction'},\n",
      " 'equip-1': {'Object1': {'object_field_name': 'schedule_name',\n",
      "                         'object_name': 'space1-1 eleceq 1',\n",
      "                         'object_type': 'ElectricEquipment'},\n",
      "             'Object2': {'object_field_name': 'schedule_name',\n",
      "                         'object_name': 'space2-1 eleceq 1',\n",
      "                         'object_type': 'ElectricEquipment'},\n",
      "             'Object3': {'object_field_name': 'schedule_name',\n",
      "                         'object_name': 'space3-1 eleceq 1',\n",
      "                         'object_type': 'ElectricEquipment'},\n",
      "             'Object4': {'object_field_name': 'schedule_name',\n",
      "                         'object_name': 'space4-1 eleceq 1',\n",
      "                         'object_type': 'ElectricEquipment'},\n",
      "             'Object5': {'object_field_name': 'schedule_name',\n",
      "                         'object_name': 'space5-1 eleceq 1',\n",
      "                         'object_type': 'ElectricEquipment'},\n",
      "             'Type': 'fraction'},\n",
      " 'fanavailsched': {'Object1': {'object_field_name': 'schedule_name',\n",
      "                               'object_name': 'vav sys 1 avail',\n",
      "                               'object_type': 'AvailabilityManager:Scheduled'},\n",
      "                   'Object2': {'object_field_name': 'availability_schedule_name',\n",
      "                               'object_name': 'supply fan 1',\n",
      "                               'object_type': 'Fan:VariableVolume'},\n",
      "                   'Type': 'fraction'},\n",
      " 'htg-setp-sch': {'Object1': {'object_field_name': 'heating_setpoint_temperature_schedule_name',\n",
      "                              'object_name': 'dualsetpoint',\n",
      "                              'object_type': 'ThermostatSetpoint:DualSetpoint'},\n",
      "                  'Object2': {'object_field_name': 'setpoint_temperature_schedule_name',\n",
      "                              'object_name': 'heatingsetpoint',\n",
      "                              'object_type': 'ThermostatSetpoint:SingleHeating'},\n",
      "                  'Type': 'temperature'},\n",
      " 'infil-sch': {'Object1': {'object_field_name': 'schedule_name',\n",
      "                           'object_name': 'space1-1 infil 1',\n",
      "                           'object_type': 'ZoneInfiltration:DesignFlowRate'},\n",
      "               'Object2': {'object_field_name': 'schedule_name',\n",
      "                           'object_name': 'space2-1 infil 1',\n",
      "                           'object_type': 'ZoneInfiltration:DesignFlowRate'},\n",
      "               'Object3': {'object_field_name': 'schedule_name',\n",
      "                           'object_name': 'space3-1 infil 1',\n",
      "                           'object_type': 'ZoneInfiltration:DesignFlowRate'},\n",
      "               'Object4': {'object_field_name': 'schedule_name',\n",
      "                           'object_name': 'space4-1 infil 1',\n",
      "                           'object_type': 'ZoneInfiltration:DesignFlowRate'},\n",
      "               'Object5': {'object_field_name': 'schedule_name',\n",
      "                           'object_name': 'space5-1 infil 1',\n",
      "                           'object_type': 'ZoneInfiltration:DesignFlowRate'},\n",
      "               'Type': 'fraction'},\n",
      " 'lights-1': {'Object1': {'object_field_name': 'schedule_name',\n",
      "                          'object_name': 'space1-1 lights 1',\n",
      "                          'object_type': 'Lights'},\n",
      "              'Object2': {'object_field_name': 'schedule_name',\n",
      "                          'object_name': 'space2-1 lights 1',\n",
      "                          'object_type': 'Lights'},\n",
      "              'Object3': {'object_field_name': 'schedule_name',\n",
      "                          'object_name': 'space3-1 lights 1',\n",
      "                          'object_type': 'Lights'},\n",
      "              'Object4': {'object_field_name': 'schedule_name',\n",
      "                          'object_name': 'space4-1 lights 1',\n",
      "                          'object_type': 'Lights'},\n",
      "              'Object5': {'object_field_name': 'schedule_name',\n",
      "                          'object_name': 'space5-1 lights 1',\n",
      "                          'object_type': 'Lights'},\n",
      "              'Type': 'fraction'},\n",
      " 'min oa sched': {'Object1': {'object_field_name': 'minimum_outdoor_air_schedule_name',\n",
      "                              'object_name': 'oa controller 1',\n",
      "                              'object_type': 'Controller:OutdoorAir'},\n",
      "                  'Type': 'fraction'},\n",
      " 'min oarequirements sched': {'Object1': {'object_field_name': 'outdoor_air_schedule_name',\n",
      "                                          'object_name': 'zoneminoarequirements',\n",
      "                                          'object_type': 'DesignSpecification:OutdoorAir'},\n",
      "                              'Type': 'any number'},\n",
      " 'occupy-1': {'Object1': {'object_field_name': 'number_of_people_schedule_name',\n",
      "                          'object_name': 'space1-1 people 1',\n",
      "                          'object_type': 'People'},\n",
      "              'Object2': {'object_field_name': 'number_of_people_schedule_name',\n",
      "                          'object_name': 'space2-1 people 1',\n",
      "                          'object_type': 'People'},\n",
      "              'Object3': {'object_field_name': 'number_of_people_schedule_name',\n",
      "                          'object_name': 'space3-1 people 1',\n",
      "                          'object_type': 'People'},\n",
      "              'Object4': {'object_field_name': 'number_of_people_schedule_name',\n",
      "                          'object_name': 'space4-1 people 1',\n",
      "                          'object_type': 'People'},\n",
      "              'Object5': {'object_field_name': 'number_of_people_schedule_name',\n",
      "                          'object_name': 'space5-1 people 1',\n",
      "                          'object_type': 'People'},\n",
      "              'Type': 'fraction'},\n",
      " 'plenumclg-setp-sch': {'Object1': {'object_field_name': 'setpoint_temperature_schedule_name',\n",
      "                                    'object_name': 'plenumcoolingsetpoint',\n",
      "                                    'object_type': 'ThermostatSetpoint:SingleCooling'},\n",
      "                        'Type': 'temperature'},\n",
      " 'plenumhtg-setp-sch': {'Object1': {'object_field_name': 'setpoint_temperature_schedule_name',\n",
      "                                    'object_name': 'plenumheatingsetpoint',\n",
      "                                    'object_type': 'ThermostatSetpoint:SingleHeating'},\n",
      "                        'Type': 'temperature'},\n",
      " 'reheatcoilavailsched': {'Object1': {'object_field_name': 'availability_schedule_name',\n",
      "                                      'object_name': 'space1-1 vav reheat',\n",
      "                                      'object_type': 'AirTerminal:SingleDuct:VAV:Reheat'},\n",
      "                          'Object10': {'object_field_name': 'availability_schedule_name',\n",
      "                                       'object_name': 'space5-1 zone coil',\n",
      "                                       'object_type': 'Coil:Heating:Electric'},\n",
      "                          'Object11': {'object_field_name': 'availability_schedule_name',\n",
      "                                       'object_name': 'main heating coil 1',\n",
      "                                       'object_type': 'Coil:Heating:Electric'},\n",
      "                          'Object2': {'object_field_name': 'availability_schedule_name',\n",
      "                                      'object_name': 'space2-1 vav reheat',\n",
      "                                      'object_type': 'AirTerminal:SingleDuct:VAV:Reheat'},\n",
      "                          'Object3': {'object_field_name': 'availability_schedule_name',\n",
      "                                      'object_name': 'space3-1 vav reheat',\n",
      "                                      'object_type': 'AirTerminal:SingleDuct:VAV:Reheat'},\n",
      "                          'Object4': {'object_field_name': 'availability_schedule_name',\n",
      "                                      'object_name': 'space4-1 vav reheat',\n",
      "                                      'object_type': 'AirTerminal:SingleDuct:VAV:Reheat'},\n",
      "                          'Object5': {'object_field_name': 'availability_schedule_name',\n",
      "                                      'object_name': 'space5-1 vav reheat',\n",
      "                                      'object_type': 'AirTerminal:SingleDuct:VAV:Reheat'},\n",
      "                          'Object6': {'object_field_name': 'availability_schedule_name',\n",
      "                                      'object_name': 'space1-1 zone coil',\n",
      "                                      'object_type': 'Coil:Heating:Electric'},\n",
      "                          'Object7': {'object_field_name': 'availability_schedule_name',\n",
      "                                      'object_name': 'space2-1 zone coil',\n",
      "                                      'object_type': 'Coil:Heating:Electric'},\n",
      "                          'Object8': {'object_field_name': 'availability_schedule_name',\n",
      "                                      'object_name': 'space3-1 zone coil',\n",
      "                                      'object_type': 'Coil:Heating:Electric'},\n",
      "                          'Object9': {'object_field_name': 'availability_schedule_name',\n",
      "                                      'object_name': 'space4-1 zone coil',\n",
      "                                      'object_type': 'Coil:Heating:Electric'},\n",
      "                          'Type': 'fraction'},\n",
      " 'seasonal reset supply air temp sch': {'Type': 'temperature'},\n",
      " 'shadetranssch': {'Object1': {'object_field_name': 'transmittance_schedule_name',\n",
      "                               'object_name': 'main south overhang',\n",
      "                               'object_type': 'Shading:Zone:Detailed'},\n",
      "                   'Object2': {'object_field_name': 'transmittance_schedule_name',\n",
      "                               'object_name': 'south door overhang',\n",
      "                               'object_type': 'Shading:Zone:Detailed'},\n",
      "                   'Type': 'fraction'},\n",
      " 'workeffsch': {'Object1': {'object_field_name': 'work_efficiency_schedule_name',\n",
      "                            'object_name': 'space1-1 people 1',\n",
      "                            'object_type': 'People'},\n",
      "                'Object2': {'object_field_name': 'work_efficiency_schedule_name',\n",
      "                            'object_name': 'space2-1 people 1',\n",
      "                            'object_type': 'People'},\n",
      "                'Object3': {'object_field_name': 'work_efficiency_schedule_name',\n",
      "                            'object_name': 'space3-1 people 1',\n",
      "                            'object_type': 'People'},\n",
      "                'Object4': {'object_field_name': 'work_efficiency_schedule_name',\n",
      "                            'object_name': 'space4-1 people 1',\n",
      "                            'object_type': 'People'},\n",
      "                'Object5': {'object_field_name': 'work_efficiency_schedule_name',\n",
      "                            'object_name': 'space5-1 people 1',\n",
      "                            'object_type': 'People'},\n",
      "                'Type': 'fraction'},\n",
      " 'zone control type sched': {'Object1': {'object_field_name': 'control_type_schedule_name',\n",
      "                                         'object_name': 'space1-1 control',\n",
      "                                         'object_type': 'ZoneControl:Thermostat'},\n",
      "                             'Object2': {'object_field_name': 'control_type_schedule_name',\n",
      "                                         'object_name': 'space2-1 control',\n",
      "                                         'object_type': 'ZoneControl:Thermostat'},\n",
      "                             'Object3': {'object_field_name': 'control_type_schedule_name',\n",
      "                                         'object_name': 'space3-1 control',\n",
      "                                         'object_type': 'ZoneControl:Thermostat'},\n",
      "                             'Object4': {'object_field_name': 'control_type_schedule_name',\n",
      "                                         'object_name': 'space4-1 control',\n",
      "                                         'object_type': 'ZoneControl:Thermostat'},\n",
      "                             'Object5': {'object_field_name': 'control_type_schedule_name',\n",
      "                                         'object_name': 'space5-1 control',\n",
      "                                         'object_type': 'ZoneControl:Thermostat'},\n",
      "                             'Type': 'control type'}}\n"
     ]
    }
   ],
   "source": [
    "import gymnasium as gym\n",
    "import sinergym\n",
    "\n",
    "from pprint import pprint\n",
    "\n",
    "env = gym.make('Eplus-demo-v1')\n",
    "schedulers=env.get_schedulers()\n",
    "pprint(schedulers)"
   ]
  },
  {
   "cell_type": "markdown",
   "metadata": {
    "collapsed": false,
    "pycharm": {
     "name": "#%% md\n"
    }
   },
   "source": [
    "The way to export an excel file with such organized information is by specifying a path to the method:"
   ]
  },
  {
   "cell_type": "code",
   "execution_count": 6,
   "metadata": {
    "collapsed": false,
    "pycharm": {
     "is_executing": true,
     "name": "#%%\n"
    }
   },
   "outputs": [],
   "source": [
    "actuators=env.get_schedulers(path='./example.xlsx')"
   ]
  },
  {
   "cell_type": "markdown",
   "metadata": {},
   "source": [
    "It is possible to know the zones available in the environment too. You only have to do the next:"
   ]
  },
  {
   "cell_type": "code",
   "execution_count": 7,
   "metadata": {},
   "outputs": [
    {
     "name": "stdout",
     "output_type": "stream",
     "text": [
      "['plenum-1', 'space1-1', 'space2-1', 'space3-1', 'space4-1', 'space5-1']\n"
     ]
    }
   ],
   "source": [
    "print(env.get_zones())"
   ]
  },
  {
   "cell_type": "markdown",
   "metadata": {},
   "source": [
    "## Updating the action definition of the environment"
   ]
  },
  {
   "cell_type": "markdown",
   "metadata": {},
   "source": [
    "As we have explained in the action and observation space example, one of the problems that can arise when \n",
    "modifying the space of actions and observations is that the *IDF* is not adapted to the \n",
    "new space of actions established.\n",
    "\n",
    "For this purpose, the *Sinergym* **action definition** is available. With a dictionary we can \n",
    "build a definition of what scheduler we want to be replaced in the building by the external control.\n",
    "\n",
    "For this example, we are going to add lights control to the external interface for the agent.\n",
    "Then, is not only necessary to update that **action definition**, the list of the action\n",
    "variables and space is necessary to be updated too."
   ]
  },
  {
   "cell_type": "code",
   "execution_count": 8,
   "metadata": {},
   "outputs": [
    {
     "name": "stdout",
     "output_type": "stream",
     "text": [
      "[2023-02-09 11:18:08,246] EPLUS_ENV_5Zone-cool-continuous-stochastic-v1_MainThread_ROOT INFO:Updating idf ExternalInterface object if it is not present...\n",
      "[2023-02-09 11:18:08,246] EPLUS_ENV_5Zone-cool-continuous-stochastic-v1_MainThread_ROOT INFO:Updating idf Site:Location and SizingPeriod:DesignDay(s) to weather and ddy file...\n",
      "[2023-02-09 11:18:08,248] EPLUS_ENV_5Zone-cool-continuous-stochastic-v1_MainThread_ROOT INFO:Updating idf OutPut:Variable and variables XML tree model for BVCTB connection.\n",
      "[2023-02-09 11:18:08,249] EPLUS_ENV_5Zone-cool-continuous-stochastic-v1_MainThread_ROOT INFO:Setting up extra configuration in building model if exists...\n",
      "[2023-02-09 11:18:08,249] EPLUS_ENV_5Zone-cool-continuous-stochastic-v1_MainThread_ROOT INFO:Setting up action definition in building model if exists...\n",
      "[2023-02-09 11:18:08,251] EPLUS_ENV_5Zone-cool-continuous-stochastic-v1_MainThread_ROOT INFO:Creating new EnergyPlus simulation episode...\n",
      "[2023-02-09 11:18:08,378] EPLUS_ENV_5Zone-cool-continuous-stochastic-v1_MainThread_ROOT INFO:EnergyPlus working directory is in /workspaces/sinergym/examples/Eplus-env-5Zone-cool-continuous-stochastic-v1-res1/Eplus-env-sub_run1\n",
      "Reward:  -0.5953435921799378 {'timestep': 1, 'time_elapsed': 900, 'year': 1991, 'month': 1, 'day': 1, 'hour': 0, 'action': [18.772135, 28.065615, 0.118682444], 'total_power': 3702.129212670561, 'total_power_no_units': -0.3702129212670561, 'comfort_penalty': -0.8204742630928195, 'abs_comfort': 0.8204742630928195, 'temperatures': [19.17952573690718]}\n",
      "Reward:  -1323.6734504483704 {'timestep': 2976, 'time_elapsed': 2678400, 'year': 1991, 'month': 2, 'day': 1, 'hour': 0, 'action': [21.915005, 25.252123, 0.15262651], 'total_power': 8240.440639174443, 'total_power_no_units': -0.8240440639174443, 'comfort_penalty': -0.0, 'abs_comfort': 0.0, 'temperatures': [21.95402558077242]}\n",
      "Reward:  -2653.495511682493 {'timestep': 5664, 'time_elapsed': 5097600, 'year': 1991, 'month': 3, 'day': 1, 'hour': 0, 'action': [16.406197, 28.032454, 0.26987368], 'total_power': 2705.327387104871, 'total_power_no_units': -0.2705327387104871, 'comfort_penalty': -1.6026980339436996, 'abs_comfort': 1.6026980339436996, 'temperatures': [18.3973019660563]}\n",
      "Reward:  -3654.117264731128 {'timestep': 8640, 'time_elapsed': 7776000, 'year': 1991, 'month': 4, 'day': 1, 'hour': 0, 'action': [18.771828, 23.576086, 0.7228997], 'total_power': 5473.696407644316, 'total_power_no_units': -0.5473696407644316, 'comfort_penalty': -1.3236919826706703, 'abs_comfort': 1.3236919826706703, 'temperatures': [18.67630801732933]}\n",
      "Reward:  -4538.064413351645 {'timestep': 11520, 'time_elapsed': 10368000, 'year': 1991, 'month': 5, 'day': 1, 'hour': 0, 'action': [19.968792, 27.643467, 0.42019805], 'total_power': 120.4056020773604, 'total_power_no_units': -0.01204056020773604, 'comfort_penalty': -0.0, 'abs_comfort': 0.0, 'temperatures': [20.94994733268213]}\n",
      "Reward:  -5259.877199437174 {'timestep': 14496, 'time_elapsed': 13046400, 'year': 1991, 'month': 6, 'day': 1, 'hour': 0, 'action': [16.487429, 27.881165, 0.43655413], 'total_power': 182.7020926257567, 'total_power_no_units': -0.018270209262575672, 'comfort_penalty': -2.2600072645660596, 'abs_comfort': 2.2600072645660596, 'temperatures': [20.73999273543394]}\n",
      "Reward:  -6975.320963205122 {'timestep': 17376, 'time_elapsed': 15638400, 'year': 1991, 'month': 7, 'day': 1, 'hour': 0, 'action': [21.296425, 24.643679, 0.86003727], 'total_power': 1226.248426331626, 'total_power_no_units': -0.1226248426331626, 'comfort_penalty': -1.70903953647829, 'abs_comfort': 1.70903953647829, 'temperatures': [21.29096046352171]}\n",
      "Reward:  -8706.30201843947 {'timestep': 20352, 'time_elapsed': 18316800, 'year': 1991, 'month': 8, 'day': 1, 'hour': 0, 'action': [20.121338, 25.962442, 0.025553703], 'total_power': 697.2103275980762, 'total_power_no_units': -0.06972103275980762, 'comfort_penalty': -2.8752707894151683, 'abs_comfort': 2.8752707894151683, 'temperatures': [20.12472921058483]}\n",
      "Reward:  -10343.998184182996 {'timestep': 23328, 'time_elapsed': 20995200, 'year': 1991, 'month': 9, 'day': 1, 'hour': 0, 'action': [21.662157, 27.507599, 0.93150544], 'total_power': 684.6697597628286, 'total_power_no_units': -0.06846697597628286, 'comfort_penalty': -1.3248581251439404, 'abs_comfort': 1.3248581251439404, 'temperatures': [21.67514187485606]}\n",
      "Reward:  -12237.019209920722 {'timestep': 26208, 'time_elapsed': 23587200, 'year': 1991, 'month': 10, 'day': 1, 'hour': 0, 'action': [16.351902, 27.181551, 0.48064095], 'total_power': 473.2032270919159, 'total_power_no_units': -0.04732032270919159, 'comfort_penalty': -0.5222419743496403, 'abs_comfort': 0.5222419743496403, 'temperatures': [19.47775802565036]}\n",
      "Reward:  -13069.99679905446 {'timestep': 29184, 'time_elapsed': 26265600, 'year': 1991, 'month': 11, 'day': 1, 'hour': 0, 'action': [18.231323, 24.530094, 0.7219142], 'total_power': 441.5292668362657, 'total_power_no_units': -0.044152926683626574, 'comfort_penalty': -0.4993623031804013, 'abs_comfort': 0.4993623031804013, 'temperatures': [19.5006376968196]}\n",
      "Reward:  -14003.21498085445 {'timestep': 32064, 'time_elapsed': 28857600, 'year': 1991, 'month': 12, 'day': 1, 'hour': 0, 'action': [18.48401, 26.047281, 0.6802347], 'total_power': 120.4056020773604, 'total_power_no_units': -0.01204056020773604, 'comfort_penalty': -0.07314090112306104, 'abs_comfort': 0.07314090112306104, 'temperatures': [19.92685909887694]}\n",
      "Reward:  -15358.466454604144 {'timestep': 35040, 'time_elapsed': 31536000, 'year': 1992, 'month': 1, 'day': 1, 'hour': 0, 'action': [18.825996, 28.284712, 0.21843678], 'total_power': 4599.272751902536, 'total_power_no_units': -0.4599272751902536, 'comfort_penalty': -1.0169386743400288, 'abs_comfort': 1.0169386743400288, 'temperatures': [18.98306132565997]}\n",
      "Episode  0 Mean reward:  -0.4383123988186277 Cumulative reward:  -15358.466454604144\n",
      "[2023-02-09 11:18:19,711] EPLUS_ENV_5Zone-cool-continuous-stochastic-v1_MainThread_ROOT INFO:EnergyPlus simulation closed successfully. \n"
     ]
    }
   ],
   "source": [
    "import gymnasium as gym\n",
    "import numpy as np\n",
    "\n",
    "new_action_variables=[\n",
    "'Heating_Setpoint_RL',\n",
    "'Cooling_Setpoint_RL',\n",
    "'light_control'\n",
    "]\n",
    "\n",
    "new_action_space=gym.spaces.Box(\n",
    "    low=np.array([15.0, 22.5, 0.0], dtype=np.float32),\n",
    "    high=np.array([22.5, 30.0, 1.0], dtype=np.float32),\n",
    "    shape=(3,),\n",
    "    dtype=np.float32\n",
    ")\n",
    "\n",
    "new_action_definition={\n",
    "    'Htg-SetP-Sch': {'name': 'Heating_Setpoint_RL', 'initial_value': 21},\n",
    "    'Clg-SetP-Sch': {'name': 'Cooling_Setpoint_RL', 'initial_value': 25},\n",
    "    'LIGHTS-1':{'name':'light_control','initial_value':0.2}\n",
    "\n",
    "}\n",
    "\n",
    "env = gym.make('Eplus-5Zone-cool-continuous-stochastic-v1',\n",
    "                action_variables=new_action_variables,\n",
    "                action_space=new_action_space,\n",
    "                action_definition=new_action_definition\n",
    "                )\n",
    "\n",
    "for i in range(1):\n",
    "    obs, info = env.reset()\n",
    "    rewards = []\n",
    "    terminated = False\n",
    "    current_month = 0\n",
    "    while not terminated:\n",
    "        a = env.action_space.sample()\n",
    "        obs, reward, terminated, truncated, info = env.step(a)\n",
    "        rewards.append(reward)\n",
    "        if info['month'] != current_month:  # display results every month\n",
    "            current_month = info['month']\n",
    "            print('Reward: ', sum(rewards), info)\n",
    "    print(\n",
    "        'Episode ',\n",
    "        i,\n",
    "        'Mean reward: ',\n",
    "        np.mean(rewards),\n",
    "        'Cumulative reward: ',\n",
    "        sum(rewards))\n",
    "env.close()"
   ]
  },
  {
   "cell_type": "markdown",
   "metadata": {},
   "source": [
    "Previously, it is recommended to know what controllers are available in the specific building model, see the previous example of this notebook. For more information about the format of the action definition dictionaries, visit the section called [action definition](https://ugr-sail.github.io/sinergym/compilation/html/pages/environments.html#action-definition)."
   ]
  },
  {
   "cell_type": "markdown",
   "metadata": {},
   "source": [
    "## Adding more extra configuration"
   ]
  },
  {
   "cell_type": "markdown",
   "metadata": {},
   "source": [
    "You can even add a dictionary with extra parameters that update IDF with some new context concerned with simulation directly.\n",
    "\n",
    "This new IDF version, which also adapts to the new weather you put in, is saved in the Sinergym output folder, leaving the original intact:"
   ]
  },
  {
   "cell_type": "code",
   "execution_count": 9,
   "metadata": {},
   "outputs": [
    {
     "name": "stdout",
     "output_type": "stream",
     "text": [
      "[2023-02-09 11:18:24,297] EPLUS_ENV_datacenter-cool-continuous-stochastic-v1_MainThread_ROOT INFO:Updating idf ExternalInterface object if it is not present...\n",
      "[2023-02-09 11:18:24,297] EPLUS_ENV_datacenter-cool-continuous-stochastic-v1_MainThread_ROOT INFO:Updating idf Site:Location and SizingPeriod:DesignDay(s) to weather and ddy file...\n",
      "[2023-02-09 11:18:24,298] EPLUS_ENV_datacenter-cool-continuous-stochastic-v1_MainThread_ROOT INFO:Updating idf OutPut:Variable and variables XML tree model for BVCTB connection.\n",
      "[2023-02-09 11:18:24,300] EPLUS_ENV_datacenter-cool-continuous-stochastic-v1_MainThread_ROOT INFO:Setting up extra configuration in building model if exists...\n",
      "[2023-02-09 11:18:24,300] EPLUS_ENV_datacenter-cool-continuous-stochastic-v1_MainThread_ROOT INFO:Setting up action definition in building model if exists...\n"
     ]
    }
   ],
   "source": [
    "extra_conf={\n",
    "    'timesteps_per_hour':6,\n",
    "    'runperiod':(1,1,1991,2,1,1992),\n",
    "}\n",
    "\n",
    "env = gym.make('Eplus-datacenter-cool-continuous-stochastic-v1', \n",
    "                config_params=extra_conf\n",
    "                )"
   ]
  },
  {
   "cell_type": "markdown",
   "metadata": {},
   "source": [
    "For more information about extra configuration parameters, see our [Extra configuration documentation](https://ugr-sail.github.io/sinergym/compilation/html/pages/extra-configuration.html)"
   ]
  }
 ],
 "metadata": {
  "kernelspec": {
   "display_name": "Python 3.10.4 64-bit",
   "language": "python",
   "name": "python3"
  },
  "language_info": {
   "codemirror_mode": {
    "name": "ipython",
    "version": 3
   },
   "file_extension": ".py",
   "mimetype": "text/x-python",
   "name": "python",
   "nbconvert_exporter": "python",
   "pygments_lexer": "ipython3",
   "version": "3.10.4"
  },
  "vscode": {
   "interpreter": {
    "hash": "e7370f93d1d0cde622a1f8e1c04877d8463912d04d973331ad4851f04de6915a"
   }
  }
 },
 "nbformat": 4,
 "nbformat_minor": 0
}
