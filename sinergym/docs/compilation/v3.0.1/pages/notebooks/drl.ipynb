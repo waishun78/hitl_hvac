{
 "cells": [
  {
   "attachments": {},
   "cell_type": "markdown",
   "metadata": {
    "collapsed": false
   },
   "source": [
    "# DRL usage example"
   ]
  },
  {
   "attachments": {},
   "cell_type": "markdown",
   "metadata": {},
   "source": [
    "In this notebook example, Stable Baselines 3 has been used to train and to load an agent. However, Sinergym is completely agnostic to any DRL algorithm (although there are custom callbacks for SB3 specifically) and can be used with any DRL library that works with gymnasium interface."
   ]
  },
  {
   "attachments": {},
   "cell_type": "markdown",
   "metadata": {},
   "source": [
    "## Training a model"
   ]
  },
  {
   "attachments": {},
   "cell_type": "markdown",
   "metadata": {
    "collapsed": false
   },
   "source": [
    "We are going to rely on the script available in the repository root called `train_agent.py`. This script applies all the possibilities that Sinergym has to work with deep reinforcement learning algorithms and set parameters to everything so that we can define the training options from the execution of the script easily by a JSON file.\n",
    "\n",
    "For more information about how run `train_agent.py`, please, see [Train a model](https://ugr-sail.github.io/sinergym/compilation/main/pages/deep-reinforcement-learning.html#train-a-model)."
   ]
  },
  {
   "cell_type": "code",
   "execution_count": 1,
   "metadata": {
    "collapsed": true,
    "pycharm": {
     "name": "#%%\n"
    }
   },
   "outputs": [],
   "source": [
    "import sys\n",
    "from datetime import datetime\n",
    "\n",
    "import gymnasium as gym\n",
    "import numpy as np\n",
    "import wandb\n",
    "from stable_baselines3 import *\n",
    "from stable_baselines3.common.callbacks import CallbackList\n",
    "from stable_baselines3.common.logger import HumanOutputFormat\n",
    "from stable_baselines3.common.logger import Logger as SB3Logger\n",
    "from stable_baselines3.common.monitor import Monitor\n",
    "\n",
    "import sinergym\n",
    "import sinergym.utils.gcloud as gcloud\n",
    "from sinergym.utils.callbacks import *\n",
    "from sinergym.utils.constants import *\n",
    "from sinergym.utils.logger import CSVLogger, WandBOutputFormat\n",
    "from sinergym.utils.rewards import *\n",
    "from sinergym.utils.wrappers import *"
   ]
  },
  {
   "attachments": {},
   "cell_type": "markdown",
   "metadata": {
    "collapsed": false
   },
   "source": [
    "First let's define some variables for the execution."
   ]
  },
  {
   "cell_type": "code",
   "execution_count": 2,
   "metadata": {
    "collapsed": false,
    "pycharm": {
     "name": "#%%\n"
    }
   },
   "outputs": [],
   "source": [
    "# Environment ID\n",
    "environment = \"Eplus-5zone-mixed-discrete-stochastic-v1\"\n",
    "# Training episodes\n",
    "episodes = 5\n",
    "#Name of the experiment\n",
    "experiment_date = datetime.today().strftime('%Y-%m-%d_%H:%M')\n",
    "experiment_name = 'SB3_DQN-' + environment + \\\n",
    "    '-episodes-' + str(episodes)\n",
    "experiment_name += '_' + experiment_date"
   ]
  },
  {
   "attachments": {},
   "cell_type": "markdown",
   "metadata": {},
   "source": [
    "We can combine this experiment executions with [Weights&Biases](https://ugr-sail.github.io/sinergym/compilation/main/pages/deep-reinforcement-learning.html#weights-and-biases-structure) in order to host all information extracted. With *wandb*, it’s possible to track and visualize all DRL training process in real time, register hyperparameters and details of each experiment, save artifacts such as models and *sinergym* output, and compare between different executions."
   ]
  },
  {
   "cell_type": "code",
   "execution_count": 3,
   "metadata": {},
   "outputs": [
    {
     "name": "stderr",
     "output_type": "stream",
     "text": [
      "Failed to detect the name of this notebook, you can set it manually with the WANDB_NOTEBOOK_NAME environment variable to enable code saving.\n"
     ]
    },
    {
     "name": "stderr",
     "output_type": "stream",
     "text": [
      "\u001b[34m\u001b[1mwandb\u001b[0m: Currently logged in as: \u001b[33malex_ugr\u001b[0m. Use \u001b[1m`wandb login --relogin`\u001b[0m to force relogin\n"
     ]
    },
    {
     "data": {
      "text/html": [
       "wandb version 0.15.8 is available!  To upgrade, please run:\n",
       " $ pip install wandb --upgrade"
      ],
      "text/plain": [
       "<IPython.core.display.HTML object>"
      ]
     },
     "metadata": {},
     "output_type": "display_data"
    },
    {
     "data": {
      "text/html": [
       "Tracking run with wandb version 0.15.5"
      ],
      "text/plain": [
       "<IPython.core.display.HTML object>"
      ]
     },
     "metadata": {},
     "output_type": "display_data"
    },
    {
     "data": {
      "text/html": [
       "Run data is saved locally in <code>/workspaces/sinergym/examples/wandb/run-20230803_133346-bvwtjd74</code>"
      ],
      "text/plain": [
       "<IPython.core.display.HTML object>"
      ]
     },
     "metadata": {},
     "output_type": "display_data"
    },
    {
     "data": {
      "text/html": [
       "Syncing run <strong><a href='https://wandb.ai/alex_ugr/sinergym/runs/bvwtjd74' target=\"_blank\">SB3_DQN-Eplus-5zone-mixed-discrete-stochastic-v1-episodes-5_2023-08-03_13:33_ud7kza7m</a></strong> to <a href='https://wandb.ai/alex_ugr/sinergym' target=\"_blank\">Weights & Biases</a> (<a href='https://wandb.me/run' target=\"_blank\">docs</a>)<br/>"
      ],
      "text/plain": [
       "<IPython.core.display.HTML object>"
      ]
     },
     "metadata": {},
     "output_type": "display_data"
    },
    {
     "data": {
      "text/html": [
       " View project at <a href='https://wandb.ai/alex_ugr/sinergym' target=\"_blank\">https://wandb.ai/alex_ugr/sinergym</a>"
      ],
      "text/plain": [
       "<IPython.core.display.HTML object>"
      ]
     },
     "metadata": {},
     "output_type": "display_data"
    },
    {
     "data": {
      "text/html": [
       " View run at <a href='https://wandb.ai/alex_ugr/sinergym/runs/bvwtjd74' target=\"_blank\">https://wandb.ai/alex_ugr/sinergym/runs/bvwtjd74</a>"
      ],
      "text/plain": [
       "<IPython.core.display.HTML object>"
      ]
     },
     "metadata": {},
     "output_type": "display_data"
    }
   ],
   "source": [
    "# Create wandb.config object in order to log all experiment params\n",
    "experiment_params = {\n",
    "    'sinergym-version': sinergym.__version__,\n",
    "    'python-version': sys.version\n",
    "}\n",
    "experiment_params.update({'environment':environment,\n",
    "                          'episodes':episodes,\n",
    "                          'algorithm':'SB3_DQN'})\n",
    "\n",
    "# Get wandb init params (you have to specify your own project and entity)\n",
    "wandb_params = {\"project\": 'sinergym',\n",
    "                \"entity\": 'alex_ugr'}\n",
    "# Init wandb entry\n",
    "run = wandb.init(\n",
    "    name=experiment_name + '_' + wandb.util.generate_id(),\n",
    "    config=experiment_params,\n",
    "    ** wandb_params\n",
    ")"
   ]
  },
  {
   "attachments": {},
   "cell_type": "markdown",
   "metadata": {
    "collapsed": false
   },
   "source": [
    "Now we are ready to create the Gymnasium Environment. Here we use the environment name defined, remember that you can [change default environment configuration](https://ugr-sail.github.io/sinergym/compilation/main/pages/notebooks/change_environment.html#Changing-an-environment-registered-in-Sinergym). We will create a eval_env too in order to interact in the evaluation episodes. We can overwrite the env name with experiment name if we want."
   ]
  },
  {
   "cell_type": "code",
   "execution_count": 4,
   "metadata": {
    "collapsed": false,
    "pycharm": {
     "name": "#%%\n"
    }
   },
   "outputs": [
    {
     "name": "stdout",
     "output_type": "stream",
     "text": [
      "#==============================================================================================#\n",
      "\u001b[38;20m[ENVIRONMENT] (INFO) : Creating Gymnasium environment... [SB3_DQN-Eplus-5zone-mixed-discrete-stochastic-v1-episodes-5_2023-08-03_13:33]\u001b[0m\n",
      "#==============================================================================================#\n",
      "\u001b[38;20m[MODELING] (INFO) : Experiment working directory created [/workspaces/sinergym/examples/Eplus-env-SB3_DQN-Eplus-5zone-mixed-discrete-stochastic-v1-episodes-5_2023-08-03_13:33-res1]\u001b[0m\n",
      "\u001b[38;20m[MODELING] (INFO) : runperiod established: {'start_day': 1, 'start_month': 1, 'start_year': 1991, 'end_day': 31, 'end_month': 12, 'end_year': 1991, 'start_weekday': 1, 'n_steps_per_hour': 4}\u001b[0m\n",
      "\u001b[38;20m[MODELING] (INFO) : Episode length (seconds): 31536000.0\u001b[0m\n",
      "\u001b[38;20m[MODELING] (INFO) : timestep size (seconds): 900.0\u001b[0m\n",
      "\u001b[38;20m[MODELING] (INFO) : timesteps per episode: 35040\u001b[0m\n",
      "\u001b[38;20m[MODELING] (INFO) : Model Config is correct.\u001b[0m\n",
      "\u001b[38;20m[ENVIRONMENT] (INFO) : Environment SB3_DQN-Eplus-5zone-mixed-discrete-stochastic-v1-episodes-5_2023-08-03_13:33 created successfully.\u001b[0m\n",
      "#==============================================================================================#\n",
      "\u001b[38;20m[ENVIRONMENT] (INFO) : Creating Gymnasium environment... [SB3_DQN-Eplus-5zone-mixed-discrete-stochastic-v1-episodes-5_2023-08-03_13:33_EVALUATION]\u001b[0m\n",
      "#==============================================================================================#\n",
      "\u001b[38;20m[MODELING] (INFO) : Experiment working directory created [/workspaces/sinergym/examples/Eplus-env-SB3_DQN-Eplus-5zone-mixed-discrete-stochastic-v1-episodes-5_2023-08-03_13:33_EVALUATION-res1]\u001b[0m\n",
      "\u001b[38;20m[MODELING] (INFO) : runperiod established: {'start_day': 1, 'start_month': 1, 'start_year': 1991, 'end_day': 31, 'end_month': 12, 'end_year': 1991, 'start_weekday': 1, 'n_steps_per_hour': 4}\u001b[0m\n",
      "\u001b[38;20m[MODELING] (INFO) : Episode length (seconds): 31536000.0\u001b[0m\n",
      "\u001b[38;20m[MODELING] (INFO) : timestep size (seconds): 900.0\u001b[0m\n",
      "\u001b[38;20m[MODELING] (INFO) : timesteps per episode: 35040\u001b[0m\n",
      "\u001b[38;20m[MODELING] (INFO) : Model Config is correct.\u001b[0m\n",
      "\u001b[38;20m[ENVIRONMENT] (INFO) : Environment SB3_DQN-Eplus-5zone-mixed-discrete-stochastic-v1-episodes-5_2023-08-03_13:33_EVALUATION created successfully.\u001b[0m\n"
     ]
    }
   ],
   "source": [
    "env = gym.make(environment, env_name=experiment_name)\n",
    "eval_env = gym.make(environment, env_name=experiment_name+'_EVALUATION')"
   ]
  },
  {
   "attachments": {},
   "cell_type": "markdown",
   "metadata": {
    "collapsed": false
   },
   "source": [
    "We can also add a Wrapper to the environment, we are going to use a Logger (extension of `gym.Wrapper`) this is used to monitor and log the interactions with the environment and save the data into a CSV. Files generated will be stored as artifact in *wandb* too."
   ]
  },
  {
   "cell_type": "code",
   "execution_count": 5,
   "metadata": {
    "collapsed": false,
    "pycharm": {
     "name": "#%%\n"
    }
   },
   "outputs": [
    {
     "name": "stdout",
     "output_type": "stream",
     "text": [
      "\u001b[38;20m[WRAPPER LoggerWrapper] (INFO) : Wrapper initialized.\u001b[0m\n",
      "\u001b[38;20m[WRAPPER LoggerWrapper] (INFO) : Wrapper initialized.\u001b[0m\n"
     ]
    }
   ],
   "source": [
    "env = LoggerWrapper(env)\n",
    "eval_env = LoggerWrapper(eval_env)"
   ]
  },
  {
   "attachments": {},
   "cell_type": "markdown",
   "metadata": {
    "collapsed": false
   },
   "source": [
    "At this point, we have the environment set up and ready to be used. We are going to create our learning model (Stable Baselines 3 DQN), but we can use any other algorithm."
   ]
  },
  {
   "cell_type": "code",
   "execution_count": 6,
   "metadata": {
    "collapsed": false,
    "pycharm": {
     "name": "#%%\n"
    }
   },
   "outputs": [
    {
     "name": "stdout",
     "output_type": "stream",
     "text": [
      "Using cpu device\n",
      "Wrapping the env with a `Monitor` wrapper\n",
      "Wrapping the env in a DummyVecEnv.\n"
     ]
    }
   ],
   "source": [
    "model = DQN('MlpPolicy', env, verbose=1)"
   ]
  },
  {
   "attachments": {},
   "cell_type": "markdown",
   "metadata": {
    "collapsed": false
   },
   "source": [
    "Evaluation will execute the current model during a number of episodes determined to decide if it is the best current version of the model at that point of the training. Output generated will be stored in *wandb* server too.\n",
    "We are going to use the LoggerEval callback to print and save the best model evaluated during training."
   ]
  },
  {
   "cell_type": "code",
   "execution_count": 7,
   "metadata": {
    "collapsed": false,
    "pycharm": {
     "name": "#%%\n"
    }
   },
   "outputs": [],
   "source": [
    "callbacks = []\n",
    "\n",
    "# Set up Evaluation and saving best model\n",
    "eval_callback = LoggerEvalCallback(\n",
    "    eval_env,\n",
    "    best_model_save_path=eval_env.experiment_path +\n",
    "    '/best_model/',\n",
    "    log_path=eval_env.experiment_path +\n",
    "    '/best_model/',\n",
    "    eval_freq=(eval_env.timestep_per_episode - 1) * 2 - 1,\n",
    "    deterministic=True,\n",
    "    render=False,\n",
    "    n_eval_episodes=1)\n",
    "callbacks.append(eval_callback)\n"
   ]
  },
  {
   "attachments": {},
   "cell_type": "markdown",
   "metadata": {},
   "source": [
    "In order to track all the training process in *wandb*, it is necessary to create a callback with a compatible wandb output format (which call *wandb* log method in the learning algorithm process)."
   ]
  },
  {
   "cell_type": "code",
   "execution_count": 8,
   "metadata": {},
   "outputs": [],
   "source": [
    "# wandb logger and setting in SB3\n",
    "logger = SB3Logger(\n",
    "    folder=None,\n",
    "    output_formats=[\n",
    "        HumanOutputFormat(\n",
    "            sys.stdout,\n",
    "            max_length=120),\n",
    "        WandBOutputFormat()])\n",
    "model.set_logger(logger)\n",
    "# Append callback\n",
    "log_callback = LoggerCallback()\n",
    "callbacks.append(log_callback)\n",
    "\n",
    "\n",
    "callback = CallbackList(callbacks)"
   ]
  },
  {
   "attachments": {},
   "cell_type": "markdown",
   "metadata": {
    "collapsed": false
   },
   "source": [
    "This is the number of total time steps for the training."
   ]
  },
  {
   "cell_type": "code",
   "execution_count": 9,
   "metadata": {
    "collapsed": false,
    "pycharm": {
     "name": "#%%\n"
    }
   },
   "outputs": [],
   "source": [
    "timesteps = episodes * (env.timestep_per_episode - 1)"
   ]
  },
  {
   "attachments": {},
   "cell_type": "markdown",
   "metadata": {
    "collapsed": false
   },
   "source": [
    "Now, is time to train the model with the callbacks defined earlier. This may take a few minutes, depending on your computer."
   ]
  },
  {
   "cell_type": "code",
   "execution_count": 10,
   "metadata": {
    "collapsed": false,
    "pycharm": {
     "name": "#%%\n"
    }
   },
   "outputs": [
    {
     "name": "stdout",
     "output_type": "stream",
     "text": [
      "#----------------------------------------------------------------------------------------------#\n",
      "\u001b[38;20m[ENVIRONMENT] (INFO) : Starting a new episode... [SB3_DQN-Eplus-5zone-mixed-discrete-stochastic-v1-episodes-5_2023-08-03_13:33] [Episode 1]\u001b[0m\n",
      "#----------------------------------------------------------------------------------------------#\n",
      "\u001b[38;20m[MODELING] (INFO) : Episode directory created [/workspaces/sinergym/examples/Eplus-env-SB3_DQN-Eplus-5zone-mixed-discrete-stochastic-v1-episodes-5_2023-08-03_13:33-res1/Eplus-env-sub_run1]\u001b[0m\n",
      "\u001b[38;20m[MODELING] (INFO) : Weather file USA_NY_New.York-J.F.Kennedy.Intl.AP.744860_TMY3.epw used.\u001b[0m\n",
      "\u001b[38;20m[MODELING] (INFO) : Updated building model with whole Output:Variable available names\u001b[0m\n",
      "\u001b[38;20m[MODELING] (INFO) : Updated building model with whole Output:Meter available names\u001b[0m\n",
      "\u001b[38;20m[MODELING] (INFO) : Adapting weather to building model. [USA_NY_New.York-J.F.Kennedy.Intl.AP.744860_TMY3.epw]\u001b[0m\n",
      "\u001b[38;20m[ENVIRONMENT] (INFO) : Saving episode output path... [/workspaces/sinergym/examples/Eplus-env-SB3_DQN-Eplus-5zone-mixed-discrete-stochastic-v1-episodes-5_2023-08-03_13:33-res1/Eplus-env-sub_run1/output]\u001b[0m\n"
     ]
    },
    {
     "name": "stderr",
     "output_type": "stream",
     "text": [
      "/usr/local/lib/python3.10/dist-packages/opyplus/weather_data/weather_data.py:493: FutureWarning: the 'line_terminator'' keyword is deprecated, use 'lineterminator' instead.\n",
      "  epw_content = self._headers_to_epw(use_datetimes=use_datetimes) + df.to_csv(\n"
     ]
    },
    {
     "name": "stdout",
     "output_type": "stream",
     "text": [
      "\u001b[38;20m[SIMULATOR] (INFO) : Running EnergyPlus with args: ['-w', '/workspaces/sinergym/examples/Eplus-env-SB3_DQN-Eplus-5zone-mixed-discrete-stochastic-v1-episodes-5_2023-08-03_13:33-res1/Eplus-env-sub_run1/USA_NY_New.York-J.F.Kennedy.Intl.AP.744860_TMY3_Random_1.0_0.0_0.001.epw', '-d', '/workspaces/sinergym/examples/Eplus-env-SB3_DQN-Eplus-5zone-mixed-discrete-stochastic-v1-episodes-5_2023-08-03_13:33-res1/Eplus-env-sub_run1/output', '/workspaces/sinergym/examples/Eplus-env-SB3_DQN-Eplus-5zone-mixed-discrete-stochastic-v1-episodes-5_2023-08-03_13:33-res1/Eplus-env-sub_run1/5ZoneAutoDXVAV.epJSON']\u001b[0m\n",
      "\u001b[38;20m[ENVIRONMENT] (INFO) : Episode 1 started.\u001b[0m\n",
      "\u001b[38;20m[SIMULATOR] (INFO) : Handles initialized.\u001b[0m\n",
      "\u001b[38;20m[SIMULATOR] (INFO) : Handles are ready.\u001b[0m\n",
      "\u001b[38;20m[SIMULATOR] (INFO) : System is ready.\u001b[0m\n",
      "\u001b[38;20m[WRAPPER LoggerWrapper] (INFO) : Creating monitor.csv for current episode (episode 1) if logger is active\u001b[0m\n",
      "Progress: |**-------------------------------------------------------------------------------------------------| 2%\r"
     ]
    },
    {
     "name": "stderr",
     "output_type": "stream",
     "text": [
      "/workspaces/sinergym/sinergym/utils/callbacks.py:259: UserWarning: Training and eval env are not of the same type<stable_baselines3.common.vec_env.dummy_vec_env.DummyVecEnv object at 0x7fd60bb56b60> != <LoggerWrapper<OrderEnforcing<PassiveEnvChecker<EplusEnv<Eplus-5zone-mixed-discrete-stochastic-v1>>>>>\n",
      "  warnings.warn(\n"
     ]
    },
    {
     "name": "stdout",
     "output_type": "stream",
     "text": [
      "Progress: |***************************************************************************************************| 99%\n",
      "\u001b[38;20m[WRAPPER LoggerWrapper] (INFO) : End of episode detected, recording summary (progress.csv) if logger is active\u001b[0m\n",
      "#----------------------------------------------------------------------------------------------#\n",
      "\u001b[38;20m[ENVIRONMENT] (INFO) : Starting a new episode... [SB3_DQN-Eplus-5zone-mixed-discrete-stochastic-v1-episodes-5_2023-08-03_13:33] [Episode 2]\u001b[0m\n",
      "#----------------------------------------------------------------------------------------------#\n",
      "\u001b[38;20m[MODELING] (INFO) : Episode directory created [/workspaces/sinergym/examples/Eplus-env-SB3_DQN-Eplus-5zone-mixed-discrete-stochastic-v1-episodes-5_2023-08-03_13:33-res1/Eplus-env-sub_run2]\u001b[0m\n",
      "\u001b[38;20m[MODELING] (INFO) : Weather file USA_NY_New.York-J.F.Kennedy.Intl.AP.744860_TMY3.epw used.\u001b[0m\n",
      "\u001b[38;20m[MODELING] (INFO) : Updated building model with whole Output:Variable available names\u001b[0m\n",
      "\u001b[38;20m[MODELING] (INFO) : Updated building model with whole Output:Meter available names\u001b[0m\n",
      "\u001b[38;20m[MODELING] (INFO) : Adapting weather to building model. [USA_NY_New.York-J.F.Kennedy.Intl.AP.744860_TMY3.epw]\u001b[0m\n",
      "\u001b[38;20m[ENVIRONMENT] (INFO) : Saving episode output path... [/workspaces/sinergym/examples/Eplus-env-SB3_DQN-Eplus-5zone-mixed-discrete-stochastic-v1-episodes-5_2023-08-03_13:33-res1/Eplus-env-sub_run2/output]\u001b[0m\n",
      "\u001b[38;20m[SIMULATOR] (INFO) : Running EnergyPlus with args: ['-w', '/workspaces/sinergym/examples/Eplus-env-SB3_DQN-Eplus-5zone-mixed-discrete-stochastic-v1-episodes-5_2023-08-03_13:33-res1/Eplus-env-sub_run2/USA_NY_New.York-J.F.Kennedy.Intl.AP.744860_TMY3_Random_1.0_0.0_0.001.epw', '-d', '/workspaces/sinergym/examples/Eplus-env-SB3_DQN-Eplus-5zone-mixed-discrete-stochastic-v1-episodes-5_2023-08-03_13:33-res1/Eplus-env-sub_run2/output', '/workspaces/sinergym/examples/Eplus-env-SB3_DQN-Eplus-5zone-mixed-discrete-stochastic-v1-episodes-5_2023-08-03_13:33-res1/Eplus-env-sub_run2/5ZoneAutoDXVAV.epJSON']\u001b[0m\n",
      "\u001b[38;20m[ENVIRONMENT] (INFO) : Episode 2 started.\u001b[0m\n"
     ]
    },
    {
     "name": "stderr",
     "output_type": "stream",
     "text": [
      "/usr/local/lib/python3.10/dist-packages/opyplus/weather_data/weather_data.py:493: FutureWarning: the 'line_terminator'' keyword is deprecated, use 'lineterminator' instead.\n",
      "  epw_content = self._headers_to_epw(use_datetimes=use_datetimes) + df.to_csv(\n"
     ]
    },
    {
     "name": "stdout",
     "output_type": "stream",
     "text": [
      "\u001b[38;20m[SIMULATOR] (INFO) : Handles are ready.\u001b[0m\n",
      "\u001b[38;20m[SIMULATOR] (INFO) : System is ready.\u001b[0m\n",
      "\u001b[38;20m[WRAPPER LoggerWrapper] (INFO) : Creating monitor.csv for current episode (episode 2) if logger is active\u001b[0m\n",
      "-------------------------------------------------\n",
      "| action/                         |             |\n",
      "|    Cooling_Setpoint_RL          | 25.5        |\n",
      "|    Heating_Setpoint_RL          | 19.1        |\n",
      "| action_simulation/              |             |\n",
      "|    Cooling_Setpoint_RL          | 25.5        |\n",
      "|    Heating_Setpoint_RL          | 19.1        |\n",
      "| episode/                        |             |\n",
      "|    comfort_violation_time(%)    | 51.1        |\n",
      "|    cumulative_comfort_penalty   | -3.28e+04   |\n",
      "|    cumulative_power             | 3.61e+07    |\n",
      "|    cumulative_power_penalty     | -3.61e+03   |\n",
      "|    cumulative_reward            | -18227.932  |\n",
      "|    ep_length                    | 35040       |\n",
      "|    mean_comfort_penalty         | -0.937      |\n",
      "|    mean_power                   | 1.03e+03    |\n",
      "|    mean_power_penalty           | -0.103      |\n",
      "|    mean_reward                  | -0.52020353 |\n",
      "| observation/                    |             |\n",
      "|    HVAC_electricity_demand_rate | 1.03e+03    |\n",
      "|    air_humidity                 | 48.2        |\n",
      "|    air_temperature              | 22.8        |\n",
      "|    clg_setpoint                 | 25.5        |\n",
      "|    co2_emission                 | 0           |\n",
      "|    day_of_month                 | 15.7        |\n",
      "|    diffuse_solar_radiation      | 73.5        |\n",
      "|    direct_solar_radiation       | 153         |\n",
      "|    hour                         | 11.5        |\n",
      "|    htg_setpoint                 | 19.1        |\n",
      "|    month                        | 6.53        |\n",
      "|    outdoor_humidity             | 68.5        |\n",
      "|    outdoor_temperature          | 12.6        |\n",
      "|    people_occupant              | 3.18        |\n",
      "|    total_electricity_HVAC       | 9.29e+05    |\n",
      "|    wind_direction               | 183         |\n",
      "|    wind_speed                   | 4.91        |\n",
      "| rollout/                        |             |\n",
      "|    ep_len_mean                  | 3.5e+04     |\n",
      "|    ep_rew_mean                  | -1.82e+04   |\n",
      "|    exploration_rate             | 0.05        |\n",
      "| time/                           |             |\n",
      "|    episodes                     | 1           |\n",
      "|    fps                          | 2489        |\n",
      "|    time_elapsed                 | 14          |\n",
      "|    total_timesteps              | 35040       |\n",
      "-------------------------------------------------\n",
      "\u001b[38;20m[WRAPPER LoggerWrapper] (INFO) : End of episode, recording summary (progress.csv) if logger is active\u001b[0m9%\n",
      "\n",
      "\u001b[38;20m[ENVIRONMENT] (INFO) : Environment closed. [SB3_DQN-Eplus-5zone-mixed-discrete-stochastic-v1-episodes-5_2023-08-03_13:33]\u001b[0m\n",
      "#----------------------------------------------------------------------------------------------#\n",
      "\u001b[38;20m[ENVIRONMENT] (INFO) : Starting a new episode... [SB3_DQN-Eplus-5zone-mixed-discrete-stochastic-v1-episodes-5_2023-08-03_13:33_EVALUATION] [Episode 1]\u001b[0m\n",
      "#----------------------------------------------------------------------------------------------#\n",
      "\u001b[38;20m[MODELING] (INFO) : Episode directory created [/workspaces/sinergym/examples/Eplus-env-SB3_DQN-Eplus-5zone-mixed-discrete-stochastic-v1-episodes-5_2023-08-03_13:33_EVALUATION-res1/Eplus-env-sub_run1]\u001b[0m\n",
      "\u001b[38;20m[MODELING] (INFO) : Weather file USA_NY_New.York-J.F.Kennedy.Intl.AP.744860_TMY3.epw used.\u001b[0m\n",
      "\u001b[38;20m[MODELING] (INFO) : Updated building model with whole Output:Variable available names\u001b[0m\n",
      "\u001b[38;20m[MODELING] (INFO) : Updated building model with whole Output:Meter available names\u001b[0m\n",
      "\u001b[38;20m[MODELING] (INFO) : Adapting weather to building model. [USA_NY_New.York-J.F.Kennedy.Intl.AP.744860_TMY3.epw]\u001b[0m\n",
      "\u001b[38;20m[ENVIRONMENT] (INFO) : Saving episode output path... [/workspaces/sinergym/examples/Eplus-env-SB3_DQN-Eplus-5zone-mixed-discrete-stochastic-v1-episodes-5_2023-08-03_13:33_EVALUATION-res1/Eplus-env-sub_run1/output]\u001b[0m\n",
      "\u001b[38;20m[SIMULATOR] (INFO) : Running EnergyPlus with args: ['-w', '/workspaces/sinergym/examples/Eplus-env-SB3_DQN-Eplus-5zone-mixed-discrete-stochastic-v1-episodes-5_2023-08-03_13:33_EVALUATION-res1/Eplus-env-sub_run1/USA_NY_New.York-J.F.Kennedy.Intl.AP.744860_TMY3_Random_1.0_0.0_0.001.epw', '-d', '/workspaces/sinergym/examples/Eplus-env-SB3_DQN-Eplus-5zone-mixed-discrete-stochastic-v1-episodes-5_2023-08-03_13:33_EVALUATION-res1/Eplus-env-sub_run1/output', '/workspaces/sinergym/examples/Eplus-env-SB3_DQN-Eplus-5zone-mixed-discrete-stochastic-v1-episodes-5_2023-08-03_13:33_EVALUATION-res1/Eplus-env-sub_run1/5ZoneAutoDXVAV.epJSON']\u001b[0m\n",
      "\u001b[38;20m[ENVIRONMENT] (INFO) : Episode 1 started.\u001b[0m\n"
     ]
    },
    {
     "name": "stderr",
     "output_type": "stream",
     "text": [
      "/usr/local/lib/python3.10/dist-packages/opyplus/weather_data/weather_data.py:493: FutureWarning: the 'line_terminator'' keyword is deprecated, use 'lineterminator' instead.\n",
      "  epw_content = self._headers_to_epw(use_datetimes=use_datetimes) + df.to_csv(\n"
     ]
    },
    {
     "name": "stdout",
     "output_type": "stream",
     "text": [
      "\u001b[38;20m[SIMULATOR] (INFO) : Handles initialized.\u001b[0m\n",
      "\u001b[38;20m[SIMULATOR] (INFO) : Handles are ready.\u001b[0m\n",
      "\u001b[38;20m[SIMULATOR] (INFO) : System is ready.\u001b[0m\n",
      "\u001b[38;20m[WRAPPER LoggerWrapper] (INFO) : Creating monitor.csv for current episode (episode 1) if logger is active\u001b[0m\n",
      "Progress: |***************************************************************************************************| 99%\n",
      "\u001b[38;20m[WRAPPER LoggerWrapper] (INFO) : End of episode, recording summary (progress.csv) if logger is active\u001b[0m\n",
      "\u001b[38;20m[ENVIRONMENT] (INFO) : Environment closed. [SB3_DQN-Eplus-5zone-mixed-discrete-stochastic-v1-episodes-5_2023-08-03_13:33_EVALUATION]\u001b[0m\n",
      "#----------------------------------------------------------------------------------------------#\n",
      "\u001b[38;20m[ENVIRONMENT] (INFO) : Starting a new episode... [SB3_DQN-Eplus-5zone-mixed-discrete-stochastic-v1-episodes-5_2023-08-03_13:33] [Episode 3]\u001b[0m\n",
      "#----------------------------------------------------------------------------------------------#\n",
      "\u001b[38;20m[MODELING] (INFO) : Episode directory created [/workspaces/sinergym/examples/Eplus-env-SB3_DQN-Eplus-5zone-mixed-discrete-stochastic-v1-episodes-5_2023-08-03_13:33-res1/Eplus-env-sub_run3]\u001b[0m\n",
      "\u001b[38;20m[MODELING] (INFO) : Weather file USA_NY_New.York-J.F.Kennedy.Intl.AP.744860_TMY3.epw used.\u001b[0m\n",
      "\u001b[38;20m[MODELING] (INFO) : Updated building model with whole Output:Variable available names\u001b[0m\n",
      "\u001b[38;20m[MODELING] (INFO) : Updated building model with whole Output:Meter available names\u001b[0m\n",
      "\u001b[38;20m[MODELING] (INFO) : Adapting weather to building model. [USA_NY_New.York-J.F.Kennedy.Intl.AP.744860_TMY3.epw]\u001b[0m\n",
      "\u001b[38;20m[ENVIRONMENT] (INFO) : Saving episode output path... [/workspaces/sinergym/examples/Eplus-env-SB3_DQN-Eplus-5zone-mixed-discrete-stochastic-v1-episodes-5_2023-08-03_13:33-res1/Eplus-env-sub_run3/output]\u001b[0m\n",
      "\u001b[38;20m[SIMULATOR] (INFO) : Running EnergyPlus with args: ['-w', '/workspaces/sinergym/examples/Eplus-env-SB3_DQN-Eplus-5zone-mixed-discrete-stochastic-v1-episodes-5_2023-08-03_13:33-res1/Eplus-env-sub_run3/USA_NY_New.York-J.F.Kennedy.Intl.AP.744860_TMY3_Random_1.0_0.0_0.001.epw', '-d', '/workspaces/sinergym/examples/Eplus-env-SB3_DQN-Eplus-5zone-mixed-discrete-stochastic-v1-episodes-5_2023-08-03_13:33-res1/Eplus-env-sub_run3/output', '/workspaces/sinergym/examples/Eplus-env-SB3_DQN-Eplus-5zone-mixed-discrete-stochastic-v1-episodes-5_2023-08-03_13:33-res1/Eplus-env-sub_run3/5ZoneAutoDXVAV.epJSON']\u001b[0m\n",
      "\u001b[38;20m[ENVIRONMENT] (INFO) : Episode 3 started.\u001b[0m\n",
      "\u001b[38;20m[WRAPPER LoggerWrapper] (INFO) : Creating monitor.csv for current episode (episode 3) if logger is active\u001b[0m\n",
      "Eval num_timesteps=70077, episode_reward=-14548.76 +/- 0.00\n",
      "Episode length: 35040.00 +/- 0.00\n",
      "-------------------------------------------------\n",
      "| action/                         |             |\n",
      "|    Cooling_Setpoint_RL          | 25.3        |\n",
      "|    Heating_Setpoint_RL          | 19.3        |\n",
      "| action_simulation/              |             |\n",
      "|    Cooling_Setpoint_RL          | 25.3        |\n",
      "|    Heating_Setpoint_RL          | 19.3        |\n",
      "| episode/                        |             |\n",
      "|    comfort_violation_time(%)    | 51.1        |\n",
      "|    cumulative_comfort_penalty   | -3.28e+04   |\n",
      "|    cumulative_power             | 3.61e+07    |\n",
      "|    cumulative_power_penalty     | -3.61e+03   |\n",
      "|    cumulative_reward            | -18227.932  |\n",
      "|    ep_length                    | 35040       |\n",
      "|    mean_comfort_penalty         | -0.937      |\n",
      "|    mean_power                   | 1.03e+03    |\n",
      "|    mean_power_penalty           | -0.103      |\n",
      "|    mean_reward                  | -0.52020353 |\n",
      "| eval/                           |             |\n",
      "|    comfort_penalty              | -2.53e+04   |\n",
      "|    comfort_violation(%)         | 35.9        |\n",
      "|    mean_cumulative_reward       | -1.45e+04   |\n",
      "|    mean_ep_length               | 3.5e+04     |\n",
      "|    mean_power_consumption       | 3.77e+07    |\n",
      "|    mean_reward                  | -0.415      |\n",
      "|    power_penalty                | -3.77e+03   |\n",
      "|    std_cumulative_reward        | 0           |\n",
      "|    std_reward                   | 0           |\n",
      "| observation/                    |             |\n",
      "|    HVAC_electricity_demand_rate | 1.02e+03    |\n",
      "|    air_humidity                 | 48.3        |\n",
      "|    air_temperature              | 22.8        |\n",
      "|    clg_setpoint                 | 25.3        |\n",
      "|    co2_emission                 | 0           |\n",
      "|    day_of_month                 | 15.7        |\n",
      "|    diffuse_solar_radiation      | 73.5        |\n",
      "|    direct_solar_radiation       | 153         |\n",
      "|    hour                         | 11.5        |\n",
      "|    htg_setpoint                 | 19.3        |\n",
      "|    month                        | 6.53        |\n",
      "|    outdoor_humidity             | 68.5        |\n",
      "|    outdoor_temperature          | 12.6        |\n",
      "|    people_occupant              | 3.18        |\n",
      "|    total_electricity_HVAC       | 9.15e+05    |\n",
      "|    wind_direction               | 183         |\n",
      "|    wind_speed                   | 4.91        |\n",
      "| rollout/                        |             |\n",
      "|    exploration_rate             | 0.05        |\n",
      "| time/                           |             |\n",
      "|    total_timesteps              | 70077       |\n",
      "| train/                          |             |\n",
      "|    learning_rate                | 0.0001      |\n",
      "|    loss                         | 2.9e+03     |\n",
      "|    n_updates                    | 5019        |\n",
      "-------------------------------------------------\n"
     ]
    },
    {
     "name": "stderr",
     "output_type": "stream",
     "text": [
      "/usr/local/lib/python3.10/dist-packages/opyplus/weather_data/weather_data.py:493: FutureWarning: the 'line_terminator'' keyword is deprecated, use 'lineterminator' instead.\n",
      "  epw_content = self._headers_to_epw(use_datetimes=use_datetimes) + df.to_csv(\n"
     ]
    },
    {
     "name": "stdout",
     "output_type": "stream",
     "text": [
      "New best mean reward!\n",
      "\u001b[38;20m[SIMULATOR] (INFO) : Handles are ready.\u001b[0m\n",
      "\u001b[38;20m[SIMULATOR] (INFO) : System is ready.\u001b[0m\n",
      "Progress: |***************************************************************************************************| 99%\n",
      "\u001b[38;20m[WRAPPER LoggerWrapper] (INFO) : End of episode detected, recording summary (progress.csv) if logger is active\u001b[0m\n",
      "#----------------------------------------------------------------------------------------------#\n",
      "\u001b[38;20m[ENVIRONMENT] (INFO) : Starting a new episode... [SB3_DQN-Eplus-5zone-mixed-discrete-stochastic-v1-episodes-5_2023-08-03_13:33] [Episode 4]\u001b[0m\n",
      "#----------------------------------------------------------------------------------------------#\n",
      "\u001b[38;20m[MODELING] (INFO) : Episode directory created [/workspaces/sinergym/examples/Eplus-env-SB3_DQN-Eplus-5zone-mixed-discrete-stochastic-v1-episodes-5_2023-08-03_13:33-res1/Eplus-env-sub_run4]\u001b[0m\n",
      "\u001b[38;20m[MODELING] (INFO) : Weather file USA_NY_New.York-J.F.Kennedy.Intl.AP.744860_TMY3.epw used.\u001b[0m\n",
      "\u001b[38;20m[MODELING] (INFO) : Updated building model with whole Output:Variable available names\u001b[0m\n",
      "\u001b[38;20m[MODELING] (INFO) : Updated building model with whole Output:Meter available names\u001b[0m\n",
      "\u001b[38;20m[MODELING] (INFO) : Adapting weather to building model. [USA_NY_New.York-J.F.Kennedy.Intl.AP.744860_TMY3.epw]\u001b[0m\n",
      "\u001b[38;20m[ENVIRONMENT] (INFO) : Saving episode output path... [/workspaces/sinergym/examples/Eplus-env-SB3_DQN-Eplus-5zone-mixed-discrete-stochastic-v1-episodes-5_2023-08-03_13:33-res1/Eplus-env-sub_run4/output]\u001b[0m\n",
      "\u001b[38;20m[SIMULATOR] (INFO) : Running EnergyPlus with args: ['-w', '/workspaces/sinergym/examples/Eplus-env-SB3_DQN-Eplus-5zone-mixed-discrete-stochastic-v1-episodes-5_2023-08-03_13:33-res1/Eplus-env-sub_run4/USA_NY_New.York-J.F.Kennedy.Intl.AP.744860_TMY3_Random_1.0_0.0_0.001.epw', '-d', '/workspaces/sinergym/examples/Eplus-env-SB3_DQN-Eplus-5zone-mixed-discrete-stochastic-v1-episodes-5_2023-08-03_13:33-res1/Eplus-env-sub_run4/output', '/workspaces/sinergym/examples/Eplus-env-SB3_DQN-Eplus-5zone-mixed-discrete-stochastic-v1-episodes-5_2023-08-03_13:33-res1/Eplus-env-sub_run4/5ZoneAutoDXVAV.epJSON']\u001b[0m\n",
      "\u001b[38;20m[ENVIRONMENT] (INFO) : Episode 4 started.\u001b[0m\n"
     ]
    },
    {
     "name": "stderr",
     "output_type": "stream",
     "text": [
      "/usr/local/lib/python3.10/dist-packages/opyplus/weather_data/weather_data.py:493: FutureWarning: the 'line_terminator'' keyword is deprecated, use 'lineterminator' instead.\n",
      "  epw_content = self._headers_to_epw(use_datetimes=use_datetimes) + df.to_csv(\n"
     ]
    },
    {
     "name": "stdout",
     "output_type": "stream",
     "text": [
      "\u001b[38;20m[SIMULATOR] (INFO) : Handles are ready.\u001b[0m\n",
      "\u001b[38;20m[SIMULATOR] (INFO) : System is ready.\u001b[0m\n",
      "\u001b[38;20m[WRAPPER LoggerWrapper] (INFO) : Creating monitor.csv for current episode (episode 4) if logger is active\u001b[0m\n",
      "------------------------------------------------\n",
      "| action/                         |            |\n",
      "|    Cooling_Setpoint_RL          | 25.3       |\n",
      "|    Heating_Setpoint_RL          | 19.3       |\n",
      "| action_simulation/              |            |\n",
      "|    Cooling_Setpoint_RL          | 25.3       |\n",
      "|    Heating_Setpoint_RL          | 19.3       |\n",
      "| episode/                        |            |\n",
      "|    comfort_violation_time(%)    | 51.5       |\n",
      "|    cumulative_comfort_penalty   | -6.91e+04  |\n",
      "|    cumulative_power             | 7.14e+07   |\n",
      "|    cumulative_power_penalty     | -7.14e+03  |\n",
      "|    cumulative_reward            | -38127.066 |\n",
      "|    ep_length                    | 70077      |\n",
      "|    mean_comfort_penalty         | -0.986     |\n",
      "|    mean_power                   | 1.02e+03   |\n",
      "|    mean_power_penalty           | -0.102     |\n",
      "|    mean_reward                  | -0.5440739 |\n",
      "| observation/                    |            |\n",
      "|    HVAC_electricity_demand_rate | 1.02e+03   |\n",
      "|    air_humidity                 | 48.2       |\n",
      "|    air_temperature              | 22.8       |\n",
      "|    clg_setpoint                 | 25.3       |\n",
      "|    co2_emission                 | 0          |\n",
      "|    day_of_month                 | 15.7       |\n",
      "|    diffuse_solar_radiation      | 73.5       |\n",
      "|    direct_solar_radiation       | 153        |\n",
      "|    hour                         | 11.5       |\n",
      "|    htg_setpoint                 | 19.3       |\n",
      "|    month                        | 6.53       |\n",
      "|    outdoor_humidity             | 68.5       |\n",
      "|    outdoor_temperature          | 12.5       |\n",
      "|    people_occupant              | 3.18       |\n",
      "|    total_electricity_HVAC       | 9.21e+05   |\n",
      "|    wind_direction               | 183        |\n",
      "|    wind_speed                   | 4.91       |\n",
      "| rollout/                        |            |\n",
      "|    ep_len_mean                  | 3.5e+04    |\n",
      "|    ep_rew_mean                  | -1.87e+04  |\n",
      "|    exploration_rate             | 0.05       |\n",
      "| time/                           |            |\n",
      "|    episodes                     | 2          |\n",
      "|    fps                          | 1322       |\n",
      "|    time_elapsed                 | 79         |\n",
      "|    total_timesteps              | 105117     |\n",
      "| train/                          |            |\n",
      "|    learning_rate                | 0.0001     |\n",
      "|    loss                         | 1.49e+03   |\n",
      "|    n_updates                    | 13779      |\n",
      "------------------------------------------------\n",
      "\u001b[38;20m[WRAPPER LoggerWrapper] (INFO) : End of episode, recording summary (progress.csv) if logger is active\u001b[0m9%\n",
      "\n",
      "\u001b[38;20m[ENVIRONMENT] (INFO) : Environment closed. [SB3_DQN-Eplus-5zone-mixed-discrete-stochastic-v1-episodes-5_2023-08-03_13:33]\u001b[0m\n",
      "#----------------------------------------------------------------------------------------------#\n",
      "\u001b[38;20m[ENVIRONMENT] (INFO) : Starting a new episode... [SB3_DQN-Eplus-5zone-mixed-discrete-stochastic-v1-episodes-5_2023-08-03_13:33_EVALUATION] [Episode 2]\u001b[0m\n",
      "#----------------------------------------------------------------------------------------------#\n",
      "\u001b[38;20m[MODELING] (INFO) : Episode directory created [/workspaces/sinergym/examples/Eplus-env-SB3_DQN-Eplus-5zone-mixed-discrete-stochastic-v1-episodes-5_2023-08-03_13:33_EVALUATION-res1/Eplus-env-sub_run2]\u001b[0m\n",
      "\u001b[38;20m[MODELING] (INFO) : Weather file USA_NY_New.York-J.F.Kennedy.Intl.AP.744860_TMY3.epw used.\u001b[0m\n",
      "\u001b[38;20m[MODELING] (INFO) : Updated building model with whole Output:Variable available names\u001b[0m\n",
      "\u001b[38;20m[MODELING] (INFO) : Updated building model with whole Output:Meter available names\u001b[0m\n",
      "\u001b[38;20m[MODELING] (INFO) : Adapting weather to building model. [USA_NY_New.York-J.F.Kennedy.Intl.AP.744860_TMY3.epw]\u001b[0m\n",
      "\u001b[38;20m[ENVIRONMENT] (INFO) : Saving episode output path... [/workspaces/sinergym/examples/Eplus-env-SB3_DQN-Eplus-5zone-mixed-discrete-stochastic-v1-episodes-5_2023-08-03_13:33_EVALUATION-res1/Eplus-env-sub_run2/output]\u001b[0m\n",
      "\u001b[38;20m[SIMULATOR] (INFO) : Running EnergyPlus with args: ['-w', '/workspaces/sinergym/examples/Eplus-env-SB3_DQN-Eplus-5zone-mixed-discrete-stochastic-v1-episodes-5_2023-08-03_13:33_EVALUATION-res1/Eplus-env-sub_run2/USA_NY_New.York-J.F.Kennedy.Intl.AP.744860_TMY3_Random_1.0_0.0_0.001.epw', '-d', '/workspaces/sinergym/examples/Eplus-env-SB3_DQN-Eplus-5zone-mixed-discrete-stochastic-v1-episodes-5_2023-08-03_13:33_EVALUATION-res1/Eplus-env-sub_run2/output', '/workspaces/sinergym/examples/Eplus-env-SB3_DQN-Eplus-5zone-mixed-discrete-stochastic-v1-episodes-5_2023-08-03_13:33_EVALUATION-res1/Eplus-env-sub_run2/5ZoneAutoDXVAV.epJSON']\u001b[0m\n",
      "\u001b[38;20m[ENVIRONMENT] (INFO) : Episode 2 started.\u001b[0m\n"
     ]
    },
    {
     "name": "stderr",
     "output_type": "stream",
     "text": [
      "/usr/local/lib/python3.10/dist-packages/opyplus/weather_data/weather_data.py:493: FutureWarning: the 'line_terminator'' keyword is deprecated, use 'lineterminator' instead.\n",
      "  epw_content = self._headers_to_epw(use_datetimes=use_datetimes) + df.to_csv(\n"
     ]
    },
    {
     "name": "stdout",
     "output_type": "stream",
     "text": [
      "\u001b[38;20m[SIMULATOR] (INFO) : Handles are ready.\u001b[0m\n",
      "\u001b[38;20m[SIMULATOR] (INFO) : System is ready.\u001b[0m\n",
      "\u001b[38;20m[WRAPPER LoggerWrapper] (INFO) : Creating monitor.csv for current episode (episode 2) if logger is active\u001b[0m\n",
      "Progress: |***************************************************************************************************| 99%\n",
      "\u001b[38;20m[WRAPPER LoggerWrapper] (INFO) : End of episode, recording summary (progress.csv) if logger is active\u001b[0m\n",
      "\u001b[38;20m[ENVIRONMENT] (INFO) : Environment closed. [SB3_DQN-Eplus-5zone-mixed-discrete-stochastic-v1-episodes-5_2023-08-03_13:33_EVALUATION]\u001b[0m\n",
      "#----------------------------------------------------------------------------------------------#\n",
      "\u001b[38;20m[ENVIRONMENT] (INFO) : Starting a new episode... [SB3_DQN-Eplus-5zone-mixed-discrete-stochastic-v1-episodes-5_2023-08-03_13:33] [Episode 5]\u001b[0m\n",
      "#----------------------------------------------------------------------------------------------#\n",
      "\u001b[38;20m[MODELING] (INFO) : Episode directory created [/workspaces/sinergym/examples/Eplus-env-SB3_DQN-Eplus-5zone-mixed-discrete-stochastic-v1-episodes-5_2023-08-03_13:33-res1/Eplus-env-sub_run5]\u001b[0m\n",
      "\u001b[38;20m[MODELING] (INFO) : Weather file USA_NY_New.York-J.F.Kennedy.Intl.AP.744860_TMY3.epw used.\u001b[0m\n",
      "\u001b[38;20m[MODELING] (INFO) : Updated building model with whole Output:Variable available names\u001b[0m\n",
      "\u001b[38;20m[MODELING] (INFO) : Updated building model with whole Output:Meter available names\u001b[0m\n",
      "\u001b[38;20m[MODELING] (INFO) : Adapting weather to building model. [USA_NY_New.York-J.F.Kennedy.Intl.AP.744860_TMY3.epw]\u001b[0m\n",
      "\u001b[38;20m[ENVIRONMENT] (INFO) : Saving episode output path... [/workspaces/sinergym/examples/Eplus-env-SB3_DQN-Eplus-5zone-mixed-discrete-stochastic-v1-episodes-5_2023-08-03_13:33-res1/Eplus-env-sub_run5/output]\u001b[0m\n",
      "\u001b[38;20m[SIMULATOR] (INFO) : Running EnergyPlus with args: ['-w', '/workspaces/sinergym/examples/Eplus-env-SB3_DQN-Eplus-5zone-mixed-discrete-stochastic-v1-episodes-5_2023-08-03_13:33-res1/Eplus-env-sub_run5/USA_NY_New.York-J.F.Kennedy.Intl.AP.744860_TMY3_Random_1.0_0.0_0.001.epw', '-d', '/workspaces/sinergym/examples/Eplus-env-SB3_DQN-Eplus-5zone-mixed-discrete-stochastic-v1-episodes-5_2023-08-03_13:33-res1/Eplus-env-sub_run5/output', '/workspaces/sinergym/examples/Eplus-env-SB3_DQN-Eplus-5zone-mixed-discrete-stochastic-v1-episodes-5_2023-08-03_13:33-res1/Eplus-env-sub_run5/5ZoneAutoDXVAV.epJSON']\u001b[0m\n",
      "\u001b[38;20m[ENVIRONMENT] (INFO) : Episode 5 started.\u001b[0m\n"
     ]
    },
    {
     "name": "stderr",
     "output_type": "stream",
     "text": [
      "/usr/local/lib/python3.10/dist-packages/opyplus/weather_data/weather_data.py:493: FutureWarning: the 'line_terminator'' keyword is deprecated, use 'lineterminator' instead.\n",
      "  epw_content = self._headers_to_epw(use_datetimes=use_datetimes) + df.to_csv(\n"
     ]
    },
    {
     "name": "stdout",
     "output_type": "stream",
     "text": [
      "\u001b[38;20m[WRAPPER LoggerWrapper] (INFO) : Creating monitor.csv for current episode (episode 5) if logger is active\u001b[0m\n",
      "Eval num_timesteps=140154, episode_reward=-30746.63 +/- 0.00\n",
      "Episode length: 35040.00 +/- 0.00\n",
      "------------------------------------------------\n",
      "| action/                         |            |\n",
      "|    Cooling_Setpoint_RL          | 25.3       |\n",
      "|    Heating_Setpoint_RL          | 19.3       |\n",
      "| action_simulation/              |            |\n",
      "|    Cooling_Setpoint_RL          | 25.3       |\n",
      "|    Heating_Setpoint_RL          | 19.3       |\n",
      "| episode/                        |            |\n",
      "|    comfort_violation_time(%)    | 51.5       |\n",
      "|    cumulative_comfort_penalty   | -6.91e+04  |\n",
      "|    cumulative_power             | 7.14e+07   |\n",
      "|    cumulative_power_penalty     | -7.14e+03  |\n",
      "|    cumulative_reward            | -38127.066 |\n",
      "|    ep_length                    | 70077      |\n",
      "|    mean_comfort_penalty         | -0.986     |\n",
      "|    mean_power                   | 1.02e+03   |\n",
      "|    mean_power_penalty           | -0.102     |\n",
      "|    mean_reward                  | -0.5440739 |\n",
      "| eval/                           |            |\n",
      "|    comfort_penalty              | -5.8e+04   |\n",
      "|    comfort_violation(%)         | 67.5       |\n",
      "|    mean_cumulative_reward       | -3.07e+04  |\n",
      "|    mean_ep_length               | 3.5e+04    |\n",
      "|    mean_power_consumption       | 3.49e+07   |\n",
      "|    mean_reward                  | -0.877     |\n",
      "|    power_penalty                | -3.49e+03  |\n",
      "|    std_cumulative_reward        | 0          |\n",
      "|    std_reward                   | 0          |\n",
      "| observation/                    |            |\n",
      "|    HVAC_electricity_demand_rate | 1.03e+03   |\n",
      "|    air_humidity                 | 48.3       |\n",
      "|    air_temperature              | 22.8       |\n",
      "|    clg_setpoint                 | 25.3       |\n",
      "|    co2_emission                 | 0          |\n",
      "|    day_of_month                 | 15.7       |\n",
      "|    diffuse_solar_radiation      | 73.5       |\n",
      "|    direct_solar_radiation       | 153        |\n",
      "|    hour                         | 11.5       |\n",
      "|    htg_setpoint                 | 19.3       |\n",
      "|    month                        | 6.53       |\n",
      "|    outdoor_humidity             | 68.5       |\n",
      "|    outdoor_temperature          | 12.6       |\n",
      "|    people_occupant              | 3.18       |\n",
      "|    total_electricity_HVAC       | 9.26e+05   |\n",
      "|    wind_direction               | 183        |\n",
      "|    wind_speed                   | 4.91       |\n",
      "| rollout/                        |            |\n",
      "|    exploration_rate             | 0.05       |\n",
      "| time/                           |            |\n",
      "|    total_timesteps              | 140154     |\n",
      "| train/                          |            |\n",
      "|    learning_rate                | 0.0001     |\n",
      "|    loss                         | 3.31e+03   |\n",
      "|    n_updates                    | 22538      |\n",
      "------------------------------------------------\n",
      "\u001b[38;20m[SIMULATOR] (INFO) : Handles are ready.\u001b[0m\n",
      "\u001b[38;20m[SIMULATOR] (INFO) : System is ready.\u001b[0m\n",
      "Progress: |***************************************************************************************************| 99%\n",
      "\u001b[38;20m[WRAPPER LoggerWrapper] (INFO) : End of episode detected, recording summary (progress.csv) if logger is active\u001b[0m\n",
      "#----------------------------------------------------------------------------------------------#\n",
      "\u001b[38;20m[ENVIRONMENT] (INFO) : Starting a new episode... [SB3_DQN-Eplus-5zone-mixed-discrete-stochastic-v1-episodes-5_2023-08-03_13:33] [Episode 6]\u001b[0m\n",
      "#----------------------------------------------------------------------------------------------#\n",
      "\u001b[38;20m[MODELING] (INFO) : Episode directory created [/workspaces/sinergym/examples/Eplus-env-SB3_DQN-Eplus-5zone-mixed-discrete-stochastic-v1-episodes-5_2023-08-03_13:33-res1/Eplus-env-sub_run6]\u001b[0m\n",
      "\u001b[38;20m[MODELING] (INFO) : Weather file USA_NY_New.York-J.F.Kennedy.Intl.AP.744860_TMY3.epw used.\u001b[0m\n",
      "\u001b[38;20m[MODELING] (INFO) : Updated building model with whole Output:Variable available names\u001b[0m\n",
      "\u001b[38;20m[MODELING] (INFO) : Updated building model with whole Output:Meter available names\u001b[0m\n",
      "\u001b[38;20m[MODELING] (INFO) : Adapting weather to building model. [USA_NY_New.York-J.F.Kennedy.Intl.AP.744860_TMY3.epw]\u001b[0m\n",
      "\u001b[38;20m[ENVIRONMENT] (INFO) : Saving episode output path... [/workspaces/sinergym/examples/Eplus-env-SB3_DQN-Eplus-5zone-mixed-discrete-stochastic-v1-episodes-5_2023-08-03_13:33-res1/Eplus-env-sub_run6/output]\u001b[0m\n",
      "\u001b[38;20m[SIMULATOR] (INFO) : Running EnergyPlus with args: ['-w', '/workspaces/sinergym/examples/Eplus-env-SB3_DQN-Eplus-5zone-mixed-discrete-stochastic-v1-episodes-5_2023-08-03_13:33-res1/Eplus-env-sub_run6/USA_NY_New.York-J.F.Kennedy.Intl.AP.744860_TMY3_Random_1.0_0.0_0.001.epw', '-d', '/workspaces/sinergym/examples/Eplus-env-SB3_DQN-Eplus-5zone-mixed-discrete-stochastic-v1-episodes-5_2023-08-03_13:33-res1/Eplus-env-sub_run6/output', '/workspaces/sinergym/examples/Eplus-env-SB3_DQN-Eplus-5zone-mixed-discrete-stochastic-v1-episodes-5_2023-08-03_13:33-res1/Eplus-env-sub_run6/5ZoneAutoDXVAV.epJSON']\u001b[0m\n",
      "\u001b[38;20m[ENVIRONMENT] (INFO) : Episode 6 started.\u001b[0m\n"
     ]
    },
    {
     "name": "stderr",
     "output_type": "stream",
     "text": [
      "/usr/local/lib/python3.10/dist-packages/opyplus/weather_data/weather_data.py:493: FutureWarning: the 'line_terminator'' keyword is deprecated, use 'lineterminator' instead.\n",
      "  epw_content = self._headers_to_epw(use_datetimes=use_datetimes) + df.to_csv(\n"
     ]
    },
    {
     "name": "stdout",
     "output_type": "stream",
     "text": [
      "\u001b[38;20m[SIMULATOR] (INFO) : Handles are ready.\u001b[0m\n",
      "\u001b[38;20m[SIMULATOR] (INFO) : System is ready.\u001b[0m\n",
      "\u001b[38;20m[WRAPPER LoggerWrapper] (INFO) : Creating monitor.csv for current episode (episode 6) if logger is active\u001b[0m\n",
      "-------------------------------------------------\n",
      "| action/                         |             |\n",
      "|    Cooling_Setpoint_RL          | 25.2        |\n",
      "|    Heating_Setpoint_RL          | 19.4        |\n",
      "| action_simulation/              |             |\n",
      "|    Cooling_Setpoint_RL          | 25.2        |\n",
      "|    Heating_Setpoint_RL          | 19.4        |\n",
      "| episode/                        |             |\n",
      "|    comfort_violation_time(%)    | 51.5        |\n",
      "|    cumulative_comfort_penalty   | -7.05e+04   |\n",
      "|    cumulative_power             | 7.21e+07    |\n",
      "|    cumulative_power_penalty     | -7.21e+03   |\n",
      "|    cumulative_reward            | -38866.49   |\n",
      "|    ep_length                    | 70077       |\n",
      "|    mean_comfort_penalty         | -1.01       |\n",
      "|    mean_power                   | 1.03e+03    |\n",
      "|    mean_power_penalty           | -0.103      |\n",
      "|    mean_reward                  | -0.55462545 |\n",
      "| observation/                    |             |\n",
      "|    HVAC_electricity_demand_rate | 1.03e+03    |\n",
      "|    air_humidity                 | 48.2        |\n",
      "|    air_temperature              | 22.8        |\n",
      "|    clg_setpoint                 | 25.2        |\n",
      "|    co2_emission                 | 0           |\n",
      "|    day_of_month                 | 15.7        |\n",
      "|    diffuse_solar_radiation      | 73.5        |\n",
      "|    direct_solar_radiation       | 153         |\n",
      "|    hour                         | 11.5        |\n",
      "|    htg_setpoint                 | 19.4        |\n",
      "|    month                        | 6.53        |\n",
      "|    outdoor_humidity             | 68.5        |\n",
      "|    outdoor_temperature          | 12.5        |\n",
      "|    people_occupant              | 3.18        |\n",
      "|    total_electricity_HVAC       | 9.27e+05    |\n",
      "|    wind_direction               | 183         |\n",
      "|    wind_speed                   | 4.91        |\n",
      "| rollout/                        |             |\n",
      "|    ep_len_mean                  | 3.5e+04     |\n",
      "|    ep_rew_mean                  | -1.89e+04   |\n",
      "|    exploration_rate             | 0.05        |\n",
      "| time/                           |             |\n",
      "|    episodes                     | 3           |\n",
      "|    fps                          | 1119        |\n",
      "|    time_elapsed                 | 156         |\n",
      "|    total_timesteps              | 175194      |\n",
      "| train/                          |             |\n",
      "|    learning_rate                | 0.0001      |\n",
      "|    loss                         | 4.59e+03    |\n",
      "|    n_updates                    | 31298       |\n",
      "-------------------------------------------------\n"
     ]
    },
    {
     "data": {
      "text/plain": [
       "<stable_baselines3.dqn.dqn.DQN at 0x7fd60bb3f3a0>"
      ]
     },
     "execution_count": 10,
     "metadata": {},
     "output_type": "execute_result"
    }
   ],
   "source": [
    "model.learn(\n",
    "    total_timesteps=timesteps,\n",
    "    callback=callback,\n",
    "    log_interval=1)"
   ]
  },
  {
   "attachments": {},
   "cell_type": "markdown",
   "metadata": {
    "collapsed": false
   },
   "source": [
    "Now, we save the current model (model version when training has finished)."
   ]
  },
  {
   "cell_type": "code",
   "execution_count": 11,
   "metadata": {
    "collapsed": false,
    "pycharm": {
     "name": "#%%\n"
    }
   },
   "outputs": [],
   "source": [
    "model.save(env.experiment_path+ '/' + experiment_name)"
   ]
  },
  {
   "attachments": {},
   "cell_type": "markdown",
   "metadata": {
    "collapsed": false
   },
   "source": [
    "And as always, remember to close the environment."
   ]
  },
  {
   "cell_type": "code",
   "execution_count": 12,
   "metadata": {
    "collapsed": false,
    "pycharm": {
     "name": "#%%\n"
    }
   },
   "outputs": [
    {
     "name": "stdout",
     "output_type": "stream",
     "text": [
      "\u001b[38;20m[WRAPPER LoggerWrapper] (INFO) : End of episode, recording summary (progress.csv) if logger is active\u001b[0m\n",
      "Progress: |***************************************************************************************************| 99%\n",
      "\u001b[38;20m[ENVIRONMENT] (INFO) : Environment closed. [SB3_DQN-Eplus-5zone-mixed-discrete-stochastic-v1-episodes-5_2023-08-03_13:33]\u001b[0m\n"
     ]
    }
   ],
   "source": [
    "env.close()"
   ]
  },
  {
   "attachments": {},
   "cell_type": "markdown",
   "metadata": {},
   "source": [
    "We have to upload all Sinergym output as *wandb* artifact. This output include all sinergym_output (and LoggerWrapper CSV files) and models generated in training and evaluation episodes."
   ]
  },
  {
   "cell_type": "code",
   "execution_count": 13,
   "metadata": {},
   "outputs": [
    {
     "name": "stderr",
     "output_type": "stream",
     "text": [
      "\u001b[34m\u001b[1mwandb\u001b[0m: Adding directory to artifact (/workspaces/sinergym/examples/Eplus-env-SB3_DQN-Eplus-5zone-mixed-discrete-stochastic-v1-episodes-5_2023-08-03_13:33-res1)... Done. 0.1s\n",
      "\u001b[34m\u001b[1mwandb\u001b[0m: Adding directory to artifact (/workspaces/sinergym/examples/Eplus-env-SB3_DQN-Eplus-5zone-mixed-discrete-stochastic-v1-episodes-5_2023-08-03_13:33_EVALUATION-res1)... Done. 0.0s\n"
     ]
    },
    {
     "data": {
      "text/html": [
       "Waiting for W&B process to finish... <strong style=\"color:green\">(success).</strong>"
      ],
      "text/plain": [
       "<IPython.core.display.HTML object>"
      ]
     },
     "metadata": {},
     "output_type": "display_data"
    },
    {
     "data": {
      "text/html": [
       "<style>\n",
       "    table.wandb td:nth-child(1) { padding: 0 10px; text-align: left ; width: auto;} td:nth-child(2) {text-align: left ; width: 100%}\n",
       "    .wandb-row { display: flex; flex-direction: row; flex-wrap: wrap; justify-content: flex-start; width: 100% }\n",
       "    .wandb-col { display: flex; flex-direction: column; flex-basis: 100%; flex: 1; padding: 10px; }\n",
       "    </style>\n",
       "<div class=\"wandb-row\"><div class=\"wandb-col\"><h3>Run history:</h3><br/><table class=\"wandb\"><tr><td>action/Cooling_Setpoint_RL</td><td>█▃▃▃▁</td></tr><tr><td>action/Heating_Setpoint_RL</td><td>▁▅▆▆█</td></tr><tr><td>action_simulation/Cooling_Setpoint_RL</td><td>█▃▃▃▁</td></tr><tr><td>action_simulation/Heating_Setpoint_RL</td><td>▁▅▆▆█</td></tr><tr><td>episode/comfort_violation_time(%)</td><td>▁▁██▇</td></tr><tr><td>episode/cumulative_comfort_penalty</td><td>██▁▁▁</td></tr><tr><td>episode/cumulative_power</td><td>▁▁███</td></tr><tr><td>episode/cumulative_power_penalty</td><td>██▁▁▁</td></tr><tr><td>episode/cumulative_reward</td><td>██▁▁▁</td></tr><tr><td>episode/ep_length</td><td>▁▁███</td></tr><tr><td>episode/mean_comfort_penalty</td><td>██▃▃▁</td></tr><tr><td>episode/mean_power</td><td>██▁▁▆</td></tr><tr><td>episode/mean_power_penalty</td><td>▁▁██▃</td></tr><tr><td>episode/mean_reward</td><td>██▃▃▁</td></tr><tr><td>eval/comfort_penalty</td><td>█▁</td></tr><tr><td>eval/comfort_violation(%)</td><td>▁█</td></tr><tr><td>eval/mean_cumulative_reward</td><td>█▁</td></tr><tr><td>eval/mean_ep_length</td><td>▁▁</td></tr><tr><td>eval/mean_power_consumption</td><td>█▁</td></tr><tr><td>eval/mean_reward</td><td>█▁</td></tr><tr><td>eval/power_penalty</td><td>▁█</td></tr><tr><td>eval/std_cumulative_reward</td><td>▁▁</td></tr><tr><td>eval/std_reward</td><td>▁▁</td></tr><tr><td>observation/HVAC_electricity_demand_rate</td><td>█▁▄▇▇</td></tr><tr><td>observation/air_humidity</td><td>▄▆▁█▁</td></tr><tr><td>observation/air_temperature</td><td>█▅▇▃▁</td></tr><tr><td>observation/clg_setpoint</td><td>█▄▃▃▁</td></tr><tr><td>observation/co2_emission</td><td>▁▁▁▁▁</td></tr><tr><td>observation/day_of_month</td><td>█▁▅▁▅</td></tr><tr><td>observation/diffuse_solar_radiation</td><td>▂█▁█▁</td></tr><tr><td>observation/direct_solar_radiation</td><td>▂█▁█▁</td></tr><tr><td>observation/hour</td><td>█▁▅▁▅</td></tr><tr><td>observation/htg_setpoint</td><td>▁▅▅▆█</td></tr><tr><td>observation/month</td><td>█▁▄▁▄</td></tr><tr><td>observation/outdoor_humidity</td><td>▂█▁█▁</td></tr><tr><td>observation/outdoor_temperature</td><td>█▇▁█▁</td></tr><tr><td>observation/people_occupant</td><td>▂█▁█▁</td></tr><tr><td>observation/total_electricity_HVAC</td><td>█▁▄▆▇</td></tr><tr><td>observation/wind_direction</td><td>▇▁█▁█</td></tr><tr><td>observation/wind_speed</td><td>▇▁█▁█</td></tr><tr><td>rollout/ep_len_mean</td><td>▁▁▁</td></tr><tr><td>rollout/ep_rew_mean</td><td>█▃▁</td></tr><tr><td>rollout/exploration_rate</td><td>▁▁▁▁▁</td></tr><tr><td>time/episodes</td><td>▁▅█</td></tr><tr><td>time/fps</td><td>█▂▁</td></tr><tr><td>time/time_elapsed</td><td>▁▄█</td></tr><tr><td>time/total_timesteps</td><td>▁▃▅▆█</td></tr><tr><td>train/learning_rate</td><td>▁▁▁▁</td></tr><tr><td>train/loss</td><td>▄▁▅█</td></tr><tr><td>train/n_updates</td><td>▁▃▆█</td></tr></table><br/></div><div class=\"wandb-col\"><h3>Run summary:</h3><br/><table class=\"wandb\"><tr><td>action/Cooling_Setpoint_RL</td><td>25.16472</td></tr><tr><td>action/Heating_Setpoint_RL</td><td>19.41009</td></tr><tr><td>action_simulation/Cooling_Setpoint_RL</td><td>25.16472</td></tr><tr><td>action_simulation/Heating_Setpoint_RL</td><td>19.41009</td></tr><tr><td>episode/comfort_violation_time(%)</td><td>51.4534</td></tr><tr><td>episode/cumulative_comfort_penalty</td><td>-70523.31224</td></tr><tr><td>episode/cumulative_power</td><td>72096653.57696</td></tr><tr><td>episode/cumulative_power_penalty</td><td>-7209.66536</td></tr><tr><td>episode/cumulative_reward</td><td>-38866.48828</td></tr><tr><td>episode/ep_length</td><td>70077</td></tr><tr><td>episode/mean_comfort_penalty</td><td>-1.00637</td></tr><tr><td>episode/mean_power</td><td>1028.82049</td></tr><tr><td>episode/mean_power_penalty</td><td>-0.10288</td></tr><tr><td>episode/mean_reward</td><td>-0.55463</td></tr><tr><td>eval/comfort_penalty</td><td>-58007.70886</td></tr><tr><td>eval/comfort_violation(%)</td><td>67.52854</td></tr><tr><td>eval/mean_cumulative_reward</td><td>-30746.62654</td></tr><tr><td>eval/mean_ep_length</td><td>35040.0</td></tr><tr><td>eval/mean_power_consumption</td><td>34855442.18523</td></tr><tr><td>eval/mean_reward</td><td>-0.87747</td></tr><tr><td>eval/power_penalty</td><td>-3485.54422</td></tr><tr><td>eval/std_cumulative_reward</td><td>0.0</td></tr><tr><td>eval/std_reward</td><td>0.0</td></tr><tr><td>observation/HVAC_electricity_demand_rate</td><td>1029.30906</td></tr><tr><td>observation/air_humidity</td><td>48.15646</td></tr><tr><td>observation/air_temperature</td><td>22.75465</td></tr><tr><td>observation/clg_setpoint</td><td>25.16298</td></tr><tr><td>observation/co2_emission</td><td>0.0</td></tr><tr><td>observation/day_of_month</td><td>15.72013</td></tr><tr><td>observation/diffuse_solar_radiation</td><td>73.4808</td></tr><tr><td>observation/direct_solar_radiation</td><td>153.05748</td></tr><tr><td>observation/hour</td><td>11.49967</td></tr><tr><td>observation/htg_setpoint</td><td>19.41225</td></tr><tr><td>observation/month</td><td>6.52587</td></tr><tr><td>observation/outdoor_humidity</td><td>68.5428</td></tr><tr><td>observation/outdoor_temperature</td><td>12.50143</td></tr><tr><td>observation/people_occupant</td><td>3.17898</td></tr><tr><td>observation/total_electricity_HVAC</td><td>926553.11462</td></tr><tr><td>observation/wind_direction</td><td>182.56271</td></tr><tr><td>observation/wind_speed</td><td>4.90658</td></tr><tr><td>rollout/ep_len_mean</td><td>35040.0</td></tr><tr><td>rollout/ep_rew_mean</td><td>-18926.33507</td></tr><tr><td>rollout/exploration_rate</td><td>0.05</td></tr><tr><td>time/episodes</td><td>3</td></tr><tr><td>time/fps</td><td>1119</td></tr><tr><td>time/time_elapsed</td><td>156</td></tr><tr><td>time/total_timesteps</td><td>175194</td></tr><tr><td>train/learning_rate</td><td>0.0001</td></tr><tr><td>train/loss</td><td>4591.75195</td></tr><tr><td>train/n_updates</td><td>31298</td></tr></table><br/></div></div>"
      ],
      "text/plain": [
       "<IPython.core.display.HTML object>"
      ]
     },
     "metadata": {},
     "output_type": "display_data"
    },
    {
     "data": {
      "text/html": [
       " View run <strong style=\"color:#cdcd00\">SB3_DQN-Eplus-5zone-mixed-discrete-stochastic-v1-episodes-5_2023-08-03_13:33_ud7kza7m</strong> at: <a href='https://wandb.ai/alex_ugr/sinergym/runs/bvwtjd74' target=\"_blank\">https://wandb.ai/alex_ugr/sinergym/runs/bvwtjd74</a><br/>Synced 5 W&B file(s), 0 media file(s), 151 artifact file(s) and 0 other file(s)"
      ],
      "text/plain": [
       "<IPython.core.display.HTML object>"
      ]
     },
     "metadata": {},
     "output_type": "display_data"
    },
    {
     "data": {
      "text/html": [
       "Find logs at: <code>./wandb/run-20230803_133346-bvwtjd74/logs</code>"
      ],
      "text/plain": [
       "<IPython.core.display.HTML object>"
      ]
     },
     "metadata": {},
     "output_type": "display_data"
    }
   ],
   "source": [
    "artifact = wandb.Artifact(\n",
    "        name=\"experiment1\",\n",
    "        type=\"training\")\n",
    "artifact.add_dir(\n",
    "        env.experiment_path,\n",
    "        name='training_output/')\n",
    "artifact.add_dir(\n",
    "    eval_env.experiment_path,\n",
    "    name='evaluation_output/')\n",
    "run.log_artifact(artifact)\n",
    "\n",
    "# wandb has finished\n",
    "run.finish()"
   ]
  },
  {
   "attachments": {},
   "cell_type": "markdown",
   "metadata": {},
   "source": [
    "We have all the experiments results in our local computer, but we can see the execution in *wandb* too:\n",
    "\n",
    "\n",
    "- If we check our projects, we can see the execution allocated:\n",
    "\n",
    "![wandb_projects1](https://github.com/ugr-sail/sinergym/blob/main/images/wandb_projects1.png?raw=true)\n",
    "\n",
    "\n",
    "- Hyperparameters tracked in the training experiment:\n",
    "\n",
    "![wandb_training_hyperparameters](https://github.com/ugr-sail/sinergym/blob/main/images/wandb_training_hyperparameters.png?raw=true)\n",
    "\n",
    "\n",
    "\n",
    "- Artifacts registered (if evaluation is enabled, best model is registered too):\n",
    "  \n",
    "![wandb_training_artifact](https://github.com/ugr-sail/sinergym/blob/main/images/wandb_training_artifact.png?raw=true)\n",
    "\n",
    "\n",
    "\n",
    "- Visualization of metrics in real time:\n",
    "  \n",
    "![wandb_training_charts](https://github.com/ugr-sail/sinergym/blob/main/images/wandb_training_charts.png?raw=true)"
   ]
  },
  {
   "attachments": {},
   "cell_type": "markdown",
   "metadata": {},
   "source": [
    "## Loading a model"
   ]
  },
  {
   "attachments": {},
   "cell_type": "markdown",
   "metadata": {},
   "source": [
    "We are going to rely on the script available in the repository root called `load_agent.py`. This script applies all the possibilities that Sinergym has to work with deep reinforcement learning models loaded and set parameters to everything, so that we can define the load options from the execution of the script easily by a JSON file.\n",
    "\n",
    "For more information about how run `load_agent.py`, please, see [Load a trained model](https://ugr-sail.github.io/sinergym/compilation/main/pages/deep-reinforcement-learning.html#load-a-trained-model)."
   ]
  },
  {
   "attachments": {},
   "cell_type": "markdown",
   "metadata": {},
   "source": [
    "First, we define the Sinergym environment ID where we want to check the loaded agent and the name of the evaluation experiment."
   ]
  },
  {
   "cell_type": "code",
   "execution_count": 14,
   "metadata": {},
   "outputs": [],
   "source": [
    "# Environment ID\n",
    "environment = \"Eplus-5zone-mixed-discrete-stochastic-v1\"\n",
    "# Episodes\n",
    "episodes=5\n",
    "# Evaluation name\n",
    "evaluation_date = datetime.today().strftime('%Y-%m-%d_%H:%M')\n",
    "evaluation_name = 'SB3_DQN-EVAL-' + environment + \\\n",
    "    '-episodes-' + str(episodes)\n",
    "evaluation_name += '_' + evaluation_date"
   ]
  },
  {
   "attachments": {},
   "cell_type": "markdown",
   "metadata": {},
   "source": [
    "We can also use *wandb* here. We can allocate this evaluation of a loaded model in other project in order to not merge experiments. "
   ]
  },
  {
   "cell_type": "code",
   "execution_count": 15,
   "metadata": {},
   "outputs": [
    {
     "data": {
      "text/html": [
       "wandb version 0.15.8 is available!  To upgrade, please run:\n",
       " $ pip install wandb --upgrade"
      ],
      "text/plain": [
       "<IPython.core.display.HTML object>"
      ]
     },
     "metadata": {},
     "output_type": "display_data"
    },
    {
     "data": {
      "text/html": [
       "Tracking run with wandb version 0.15.5"
      ],
      "text/plain": [
       "<IPython.core.display.HTML object>"
      ]
     },
     "metadata": {},
     "output_type": "display_data"
    },
    {
     "data": {
      "text/html": [
       "Run data is saved locally in <code>/workspaces/sinergym/examples/wandb/run-20230803_133654-empzk2on</code>"
      ],
      "text/plain": [
       "<IPython.core.display.HTML object>"
      ]
     },
     "metadata": {},
     "output_type": "display_data"
    },
    {
     "data": {
      "text/html": [
       "Syncing run <strong><a href='https://wandb.ai/alex_ugr/sinergym_evaluations/runs/empzk2on' target=\"_blank\">SB3_DQN-Eplus-5zone-mixed-discrete-stochastic-v1-episodes-5_2023-08-03_13:33_hu200t1q</a></strong> to <a href='https://wandb.ai/alex_ugr/sinergym_evaluations' target=\"_blank\">Weights & Biases</a> (<a href='https://wandb.me/run' target=\"_blank\">docs</a>)<br/>"
      ],
      "text/plain": [
       "<IPython.core.display.HTML object>"
      ]
     },
     "metadata": {},
     "output_type": "display_data"
    },
    {
     "data": {
      "text/html": [
       " View project at <a href='https://wandb.ai/alex_ugr/sinergym_evaluations' target=\"_blank\">https://wandb.ai/alex_ugr/sinergym_evaluations</a>"
      ],
      "text/plain": [
       "<IPython.core.display.HTML object>"
      ]
     },
     "metadata": {},
     "output_type": "display_data"
    },
    {
     "data": {
      "text/html": [
       " View run at <a href='https://wandb.ai/alex_ugr/sinergym_evaluations/runs/empzk2on' target=\"_blank\">https://wandb.ai/alex_ugr/sinergym_evaluations/runs/empzk2on</a>"
      ],
      "text/plain": [
       "<IPython.core.display.HTML object>"
      ]
     },
     "metadata": {},
     "output_type": "display_data"
    }
   ],
   "source": [
    "\n",
    "# Create wandb.config object in order to log all experiment params\n",
    "experiment_params = {\n",
    "    'sinergym-version': sinergym.__version__,\n",
    "    'python-version': sys.version\n",
    "}\n",
    "experiment_params.update({'environment':environment,\n",
    "                          'episodes':episodes,\n",
    "                          'algorithm':'SB3_DQN'})\n",
    "\n",
    "# Get wandb init params (you have to specify your own project and entity)\n",
    "wandb_params = {\"project\": 'sinergym_evaluations',\n",
    "                \"entity\": 'alex_ugr'}\n",
    "# Init wandb entry\n",
    "run = wandb.init(\n",
    "    name=experiment_name + '_' + wandb.util.generate_id(),\n",
    "    config=experiment_params,\n",
    "    ** wandb_params\n",
    ")"
   ]
  },
  {
   "attachments": {},
   "cell_type": "markdown",
   "metadata": {},
   "source": [
    "We make the gymnasium environment and wrap with LoggerWrapper. We can use the evaluation experiment name to rename the environment."
   ]
  },
  {
   "cell_type": "code",
   "execution_count": 16,
   "metadata": {},
   "outputs": [
    {
     "name": "stdout",
     "output_type": "stream",
     "text": [
      "#==============================================================================================#\n",
      "\u001b[38;20m[ENVIRONMENT] (INFO) : Creating Gymnasium environment... [SB3_DQN-EVAL-Eplus-5zone-mixed-discrete-stochastic-v1-episodes-5_2023-08-03_13:36]\u001b[0m\n",
      "#==============================================================================================#\n",
      "\u001b[38;20m[MODELING] (INFO) : Experiment working directory created [/workspaces/sinergym/examples/Eplus-env-SB3_DQN-EVAL-Eplus-5zone-mixed-discrete-stochastic-v1-episodes-5_2023-08-03_13:36-res1]\u001b[0m\n",
      "\u001b[38;20m[MODELING] (INFO) : runperiod established: {'start_day': 1, 'start_month': 1, 'start_year': 1991, 'end_day': 31, 'end_month': 12, 'end_year': 1991, 'start_weekday': 1, 'n_steps_per_hour': 4}\u001b[0m\n",
      "\u001b[38;20m[MODELING] (INFO) : Episode length (seconds): 31536000.0\u001b[0m\n",
      "\u001b[38;20m[MODELING] (INFO) : timestep size (seconds): 900.0\u001b[0m\n",
      "\u001b[38;20m[MODELING] (INFO) : timesteps per episode: 35040\u001b[0m\n",
      "\u001b[38;20m[MODELING] (INFO) : Model Config is correct.\u001b[0m\n",
      "\u001b[38;20m[ENVIRONMENT] (INFO) : Environment SB3_DQN-EVAL-Eplus-5zone-mixed-discrete-stochastic-v1-episodes-5_2023-08-03_13:36 created successfully.\u001b[0m\n",
      "\u001b[38;20m[WRAPPER LoggerWrapper] (INFO) : Wrapper initialized.\u001b[0m\n"
     ]
    }
   ],
   "source": [
    "env=gym.make(environment, env_name=evaluation_name)\n",
    "env=LoggerWrapper(env)"
   ]
  },
  {
   "attachments": {},
   "cell_type": "markdown",
   "metadata": {},
   "source": [
    "We load the Stable Baselines 3 DQN model using the model allocated in our local computer, although we can use a remote model allocated in *wandb* from other training experiment."
   ]
  },
  {
   "cell_type": "code",
   "execution_count": 17,
   "metadata": {},
   "outputs": [],
   "source": [
    "# get wandb artifact path (to load model)\n",
    "load_artifact_entity = 'alex_ugr'\n",
    "load_artifact_project = 'sinergym'\n",
    "load_artifact_name = 'experiment1'\n",
    "load_artifact_tag = 'latest'\n",
    "load_artifact_model_path = 'evaluation_output/best_model/model.zip'\n",
    "wandb_path = load_artifact_entity + '/' + load_artifact_project + \\\n",
    "    '/' + load_artifact_name + ':' + load_artifact_tag\n",
    "# Download artifact\n",
    "artifact = run.use_artifact(wandb_path)\n",
    "artifact.get_path(load_artifact_model_path).download('.')\n",
    "# Set model path to local wandb file downloaded\n",
    "model_path = './' + load_artifact_model_path\n",
    "model = DQN.load(model_path)"
   ]
  },
  {
   "attachments": {},
   "cell_type": "markdown",
   "metadata": {},
   "source": [
    "As we can see, The *wandb* model we want to load can come from an artifact of an different entity or project from the one we are using to register the evaluation of the loaded model, as long as it is accessible.\n",
    "The next step is use the model to predict actions and interact with the environment in order to collect data to evaluate the model."
   ]
  },
  {
   "cell_type": "code",
   "execution_count": 18,
   "metadata": {},
   "outputs": [
    {
     "name": "stdout",
     "output_type": "stream",
     "text": [
      "#----------------------------------------------------------------------------------------------#\n",
      "\u001b[38;20m[ENVIRONMENT] (INFO) : Starting a new episode... [SB3_DQN-EVAL-Eplus-5zone-mixed-discrete-stochastic-v1-episodes-5_2023-08-03_13:36] [Episode 1]\u001b[0m\n",
      "#----------------------------------------------------------------------------------------------#\n",
      "\u001b[38;20m[MODELING] (INFO) : Episode directory created [/workspaces/sinergym/examples/Eplus-env-SB3_DQN-EVAL-Eplus-5zone-mixed-discrete-stochastic-v1-episodes-5_2023-08-03_13:36-res1/Eplus-env-sub_run1]\u001b[0m\n",
      "\u001b[38;20m[MODELING] (INFO) : Weather file USA_NY_New.York-J.F.Kennedy.Intl.AP.744860_TMY3.epw used.\u001b[0m\n",
      "\u001b[38;20m[MODELING] (INFO) : Updated building model with whole Output:Variable available names\u001b[0m\n",
      "\u001b[38;20m[MODELING] (INFO) : Updated building model with whole Output:Meter available names\u001b[0m\n",
      "\u001b[38;20m[MODELING] (INFO) : Adapting weather to building model. [USA_NY_New.York-J.F.Kennedy.Intl.AP.744860_TMY3.epw]\u001b[0m\n",
      "\u001b[38;20m[ENVIRONMENT] (INFO) : Saving episode output path... [/workspaces/sinergym/examples/Eplus-env-SB3_DQN-EVAL-Eplus-5zone-mixed-discrete-stochastic-v1-episodes-5_2023-08-03_13:36-res1/Eplus-env-sub_run1/output]\u001b[0m\n",
      "\u001b[38;20m[SIMULATOR] (INFO) : Running EnergyPlus with args: ['-w', '/workspaces/sinergym/examples/Eplus-env-SB3_DQN-EVAL-Eplus-5zone-mixed-discrete-stochastic-v1-episodes-5_2023-08-03_13:36-res1/Eplus-env-sub_run1/USA_NY_New.York-J.F.Kennedy.Intl.AP.744860_TMY3_Random_1.0_0.0_0.001.epw', '-d', '/workspaces/sinergym/examples/Eplus-env-SB3_DQN-EVAL-Eplus-5zone-mixed-discrete-stochastic-v1-episodes-5_2023-08-03_13:36-res1/Eplus-env-sub_run1/output', '/workspaces/sinergym/examples/Eplus-env-SB3_DQN-EVAL-Eplus-5zone-mixed-discrete-stochastic-v1-episodes-5_2023-08-03_13:36-res1/Eplus-env-sub_run1/5ZoneAutoDXVAV.epJSON']\u001b[0m\n",
      "\u001b[38;20m[ENVIRONMENT] (INFO) : Episode 1 started.\u001b[0m\n"
     ]
    },
    {
     "name": "stderr",
     "output_type": "stream",
     "text": [
      "/usr/local/lib/python3.10/dist-packages/opyplus/weather_data/weather_data.py:493: FutureWarning: the 'line_terminator'' keyword is deprecated, use 'lineterminator' instead.\n",
      "  epw_content = self._headers_to_epw(use_datetimes=use_datetimes) + df.to_csv(\n"
     ]
    },
    {
     "name": "stdout",
     "output_type": "stream",
     "text": [
      "\u001b[38;20m[SIMULATOR] (INFO) : Handles initialized.\u001b[0m\n",
      "\u001b[38;20m[SIMULATOR] (INFO) : Handles are ready.\u001b[0m\n",
      "\u001b[38;20m[SIMULATOR] (INFO) : System is ready.\u001b[0m\n",
      "\u001b[38;20m[WRAPPER LoggerWrapper] (INFO) : Creating monitor.csv for current episode (episode 1) if logger is active\u001b[0m\n",
      "1 -2.923534945260318\n",
      "2 -545.9675551477944------------------------------------------------------------------------------------------| 9%\n",
      "3 -1053.746855897233*******-----------------------------------------------------------------------------------| 16%\n",
      "4 -1538.6951964648028***************--------------------------------------------------------------------------| 25%\n",
      "5 -3263.7965536177353***********************------------------------------------------------------------------| 33%\n",
      "6 -4591.484569761892********************************----------------------------------------------------------| 41%\n",
      "7 -6091.750547652644*****************************************-------------------------------------------------| 50%\n",
      "8 -7675.242465461302************************************************------------------------------------------| 58%\n",
      "9 -9644.855276527725*********************************************************---------------------------------| 66%\n",
      "10 -11367.84622925184*****************************************************************------------------------| 75%\n",
      "11 -13645.675820447477************************************************************************----------------| 83%\n",
      "12 -14107.348329344835********************************************************************************--------| 91%\n",
      "Progress: |***************************************************************************************************| 99%\n",
      "Episode  0 Mean reward:  -0.41950243794317843 Cumulative reward:  -14699.365425527394\n",
      "\u001b[38;20m[WRAPPER LoggerWrapper] (INFO) : End of episode detected, recording summary (progress.csv) if logger is active\u001b[0m\n",
      "#----------------------------------------------------------------------------------------------#\n",
      "\u001b[38;20m[ENVIRONMENT] (INFO) : Starting a new episode... [SB3_DQN-EVAL-Eplus-5zone-mixed-discrete-stochastic-v1-episodes-5_2023-08-03_13:36] [Episode 2]\u001b[0m\n",
      "#----------------------------------------------------------------------------------------------#\n",
      "\u001b[38;20m[MODELING] (INFO) : Episode directory created [/workspaces/sinergym/examples/Eplus-env-SB3_DQN-EVAL-Eplus-5zone-mixed-discrete-stochastic-v1-episodes-5_2023-08-03_13:36-res1/Eplus-env-sub_run2]\u001b[0m\n",
      "\u001b[38;20m[MODELING] (INFO) : Weather file USA_NY_New.York-J.F.Kennedy.Intl.AP.744860_TMY3.epw used.\u001b[0m\n",
      "\u001b[38;20m[MODELING] (INFO) : Updated building model with whole Output:Variable available names\u001b[0m\n",
      "\u001b[38;20m[MODELING] (INFO) : Updated building model with whole Output:Meter available names\u001b[0m\n",
      "\u001b[38;20m[MODELING] (INFO) : Adapting weather to building model. [USA_NY_New.York-J.F.Kennedy.Intl.AP.744860_TMY3.epw]\u001b[0m\n",
      "\u001b[38;20m[ENVIRONMENT] (INFO) : Saving episode output path... [/workspaces/sinergym/examples/Eplus-env-SB3_DQN-EVAL-Eplus-5zone-mixed-discrete-stochastic-v1-episodes-5_2023-08-03_13:36-res1/Eplus-env-sub_run2/output]\u001b[0m\n",
      "\u001b[38;20m[SIMULATOR] (INFO) : Running EnergyPlus with args: ['-w', '/workspaces/sinergym/examples/Eplus-env-SB3_DQN-EVAL-Eplus-5zone-mixed-discrete-stochastic-v1-episodes-5_2023-08-03_13:36-res1/Eplus-env-sub_run2/USA_NY_New.York-J.F.Kennedy.Intl.AP.744860_TMY3_Random_1.0_0.0_0.001.epw', '-d', '/workspaces/sinergym/examples/Eplus-env-SB3_DQN-EVAL-Eplus-5zone-mixed-discrete-stochastic-v1-episodes-5_2023-08-03_13:36-res1/Eplus-env-sub_run2/output', '/workspaces/sinergym/examples/Eplus-env-SB3_DQN-EVAL-Eplus-5zone-mixed-discrete-stochastic-v1-episodes-5_2023-08-03_13:36-res1/Eplus-env-sub_run2/5ZoneAutoDXVAV.epJSON']\u001b[0m\n",
      "\u001b[38;20m[ENVIRONMENT] (INFO) : Episode 2 started.\u001b[0m\n"
     ]
    },
    {
     "name": "stderr",
     "output_type": "stream",
     "text": [
      "/usr/local/lib/python3.10/dist-packages/opyplus/weather_data/weather_data.py:493: FutureWarning: the 'line_terminator'' keyword is deprecated, use 'lineterminator' instead.\n",
      "  epw_content = self._headers_to_epw(use_datetimes=use_datetimes) + df.to_csv(\n"
     ]
    },
    {
     "name": "stdout",
     "output_type": "stream",
     "text": [
      "\u001b[38;20m[SIMULATOR] (INFO) : Handles are ready.\u001b[0m\n",
      "\u001b[38;20m[SIMULATOR] (INFO) : System is ready.\u001b[0m\n",
      "\u001b[38;20m[WRAPPER LoggerWrapper] (INFO) : Creating monitor.csv for current episode (episode 2) if logger is active\u001b[0m\n",
      "1 -2.925224776062733\n",
      "2 -548.262830920861*------------------------------------------------------------------------------------------| 9%\n",
      "3 -1058.5062791381658******-----------------------------------------------------------------------------------| 16%\n",
      "4 -1575.8530805786577***************--------------------------------------------------------------------------| 25%\n",
      "5 -3306.2620501266692***********************------------------------------------------------------------------| 33%\n",
      "6 -4704.056431691431********************************----------------------------------------------------------| 41%\n",
      "7 -6217.987133024803*****************************************-------------------------------------------------| 50%\n",
      "8 -7784.173975985413************************************************------------------------------------------| 58%\n",
      "9 -9686.581886177888*********************************************************---------------------------------| 66%\n",
      "10 -11367.316001700072****************************************************************------------------------| 75%\n",
      "11 -13621.745435351058************************************************************************----------------| 83%\n",
      "12 -14094.360668740097********************************************************************************--------| 91%\n",
      "Progress: |***************************************************************************************************| 99%\n",
      "Episode  1 Mean reward:  -0.41894717522846364 Cumulative reward:  -14679.90902000385\n",
      "\u001b[38;20m[WRAPPER LoggerWrapper] (INFO) : End of episode detected, recording summary (progress.csv) if logger is active\u001b[0m\n",
      "#----------------------------------------------------------------------------------------------#\n",
      "\u001b[38;20m[ENVIRONMENT] (INFO) : Starting a new episode... [SB3_DQN-EVAL-Eplus-5zone-mixed-discrete-stochastic-v1-episodes-5_2023-08-03_13:36] [Episode 3]\u001b[0m\n",
      "#----------------------------------------------------------------------------------------------#\n",
      "\u001b[38;20m[MODELING] (INFO) : Episode directory created [/workspaces/sinergym/examples/Eplus-env-SB3_DQN-EVAL-Eplus-5zone-mixed-discrete-stochastic-v1-episodes-5_2023-08-03_13:36-res1/Eplus-env-sub_run3]\u001b[0m\n",
      "\u001b[38;20m[MODELING] (INFO) : Weather file USA_NY_New.York-J.F.Kennedy.Intl.AP.744860_TMY3.epw used.\u001b[0m\n",
      "\u001b[38;20m[MODELING] (INFO) : Updated building model with whole Output:Variable available names\u001b[0m\n",
      "\u001b[38;20m[MODELING] (INFO) : Updated building model with whole Output:Meter available names\u001b[0m\n",
      "\u001b[38;20m[MODELING] (INFO) : Adapting weather to building model. [USA_NY_New.York-J.F.Kennedy.Intl.AP.744860_TMY3.epw]\u001b[0m\n",
      "\u001b[38;20m[ENVIRONMENT] (INFO) : Saving episode output path... [/workspaces/sinergym/examples/Eplus-env-SB3_DQN-EVAL-Eplus-5zone-mixed-discrete-stochastic-v1-episodes-5_2023-08-03_13:36-res1/Eplus-env-sub_run3/output]\u001b[0m\n",
      "\u001b[38;20m[SIMULATOR] (INFO) : Running EnergyPlus with args: ['-w', '/workspaces/sinergym/examples/Eplus-env-SB3_DQN-EVAL-Eplus-5zone-mixed-discrete-stochastic-v1-episodes-5_2023-08-03_13:36-res1/Eplus-env-sub_run3/USA_NY_New.York-J.F.Kennedy.Intl.AP.744860_TMY3_Random_1.0_0.0_0.001.epw', '-d', '/workspaces/sinergym/examples/Eplus-env-SB3_DQN-EVAL-Eplus-5zone-mixed-discrete-stochastic-v1-episodes-5_2023-08-03_13:36-res1/Eplus-env-sub_run3/output', '/workspaces/sinergym/examples/Eplus-env-SB3_DQN-EVAL-Eplus-5zone-mixed-discrete-stochastic-v1-episodes-5_2023-08-03_13:36-res1/Eplus-env-sub_run3/5ZoneAutoDXVAV.epJSON']\u001b[0m\n",
      "\u001b[38;20m[ENVIRONMENT] (INFO) : Episode 3 started.\u001b[0m\n"
     ]
    },
    {
     "name": "stderr",
     "output_type": "stream",
     "text": [
      "/usr/local/lib/python3.10/dist-packages/opyplus/weather_data/weather_data.py:493: FutureWarning: the 'line_terminator'' keyword is deprecated, use 'lineterminator' instead.\n",
      "  epw_content = self._headers_to_epw(use_datetimes=use_datetimes) + df.to_csv(\n"
     ]
    },
    {
     "name": "stdout",
     "output_type": "stream",
     "text": [
      "\u001b[38;20m[SIMULATOR] (INFO) : Handles are ready.\u001b[0m\n",
      "\u001b[38;20m[SIMULATOR] (INFO) : System is ready.\u001b[0m\n",
      "\u001b[38;20m[WRAPPER LoggerWrapper] (INFO) : Creating monitor.csv for current episode (episode 3) if logger is active\u001b[0m\n",
      "1 -2.7919005989982817\n",
      "2 -553.9519593861705------------------------------------------------------------------------------------------| 9%\n",
      "3 -1066.098112779678*******-----------------------------------------------------------------------------------| 16%\n",
      "4 -1560.9201826366045***************--------------------------------------------------------------------------| 25%\n",
      "5 -3286.9211366941868***********************------------------------------------------------------------------| 33%\n",
      "6 -4660.212425594923********************************----------------------------------------------------------| 41%\n",
      "7 -6147.960543074123*****************************************-------------------------------------------------| 50%\n",
      "8 -7743.014540574517************************************************------------------------------------------| 58%\n",
      "9 -9648.436575176998*********************************************************---------------------------------| 66%\n",
      "10 -11327.20309820599*****************************************************************------------------------| 75%\n",
      "11 -13603.34240336748*************************************************************************----------------| 83%\n",
      "12 -14089.751097336599********************************************************************************--------| 91%\n",
      "Progress: |***************************************************************************************************| 99%\n",
      "Episode  2 Mean reward:  -0.41898931985658516 Cumulative reward:  -14681.38576777339\n",
      "\u001b[38;20m[WRAPPER LoggerWrapper] (INFO) : End of episode detected, recording summary (progress.csv) if logger is active\u001b[0m\n",
      "#----------------------------------------------------------------------------------------------#\n",
      "\u001b[38;20m[ENVIRONMENT] (INFO) : Starting a new episode... [SB3_DQN-EVAL-Eplus-5zone-mixed-discrete-stochastic-v1-episodes-5_2023-08-03_13:36] [Episode 4]\u001b[0m\n",
      "#----------------------------------------------------------------------------------------------#\n",
      "\u001b[38;20m[MODELING] (INFO) : Episode directory created [/workspaces/sinergym/examples/Eplus-env-SB3_DQN-EVAL-Eplus-5zone-mixed-discrete-stochastic-v1-episodes-5_2023-08-03_13:36-res1/Eplus-env-sub_run4]\u001b[0m\n",
      "\u001b[38;20m[MODELING] (INFO) : Weather file USA_NY_New.York-J.F.Kennedy.Intl.AP.744860_TMY3.epw used.\u001b[0m\n",
      "\u001b[38;20m[MODELING] (INFO) : Updated building model with whole Output:Variable available names\u001b[0m\n",
      "\u001b[38;20m[MODELING] (INFO) : Updated building model with whole Output:Meter available names\u001b[0m\n",
      "\u001b[38;20m[MODELING] (INFO) : Adapting weather to building model. [USA_NY_New.York-J.F.Kennedy.Intl.AP.744860_TMY3.epw]\u001b[0m\n",
      "\u001b[38;20m[ENVIRONMENT] (INFO) : Saving episode output path... [/workspaces/sinergym/examples/Eplus-env-SB3_DQN-EVAL-Eplus-5zone-mixed-discrete-stochastic-v1-episodes-5_2023-08-03_13:36-res1/Eplus-env-sub_run4/output]\u001b[0m\n",
      "\u001b[38;20m[SIMULATOR] (INFO) : Running EnergyPlus with args: ['-w', '/workspaces/sinergym/examples/Eplus-env-SB3_DQN-EVAL-Eplus-5zone-mixed-discrete-stochastic-v1-episodes-5_2023-08-03_13:36-res1/Eplus-env-sub_run4/USA_NY_New.York-J.F.Kennedy.Intl.AP.744860_TMY3_Random_1.0_0.0_0.001.epw', '-d', '/workspaces/sinergym/examples/Eplus-env-SB3_DQN-EVAL-Eplus-5zone-mixed-discrete-stochastic-v1-episodes-5_2023-08-03_13:36-res1/Eplus-env-sub_run4/output', '/workspaces/sinergym/examples/Eplus-env-SB3_DQN-EVAL-Eplus-5zone-mixed-discrete-stochastic-v1-episodes-5_2023-08-03_13:36-res1/Eplus-env-sub_run4/5ZoneAutoDXVAV.epJSON']\u001b[0m\n",
      "\u001b[38;20m[ENVIRONMENT] (INFO) : Episode 4 started.\u001b[0m\n"
     ]
    },
    {
     "name": "stderr",
     "output_type": "stream",
     "text": [
      "/usr/local/lib/python3.10/dist-packages/opyplus/weather_data/weather_data.py:493: FutureWarning: the 'line_terminator'' keyword is deprecated, use 'lineterminator' instead.\n",
      "  epw_content = self._headers_to_epw(use_datetimes=use_datetimes) + df.to_csv(\n"
     ]
    },
    {
     "name": "stdout",
     "output_type": "stream",
     "text": [
      "\u001b[38;20m[SIMULATOR] (INFO) : Handles are ready.\u001b[0m\n",
      "\u001b[38;20m[SIMULATOR] (INFO) : System is ready.\u001b[0m\n",
      "\u001b[38;20m[WRAPPER LoggerWrapper] (INFO) : Creating monitor.csv for current episode (episode 4) if logger is active\u001b[0m\n",
      "1 -2.78824095830562\n",
      "2 -557.1094170940659------------------------------------------------------------------------------------------| 9%\n",
      "3 -1067.8894261383139******-----------------------------------------------------------------------------------| 16%\n",
      "4 -1532.3300955107861***************--------------------------------------------------------------------------| 25%\n",
      "5 -3273.1273063036533***********************------------------------------------------------------------------| 33%\n",
      "6 -4682.13989435092*********************************----------------------------------------------------------| 41%\n",
      "7 -6188.620556285447*****************************************-------------------------------------------------| 50%\n",
      "8 -7778.9295888679**************************************************------------------------------------------| 58%\n",
      "9 -9733.548610368716*********************************************************---------------------------------| 66%\n",
      "10 -11396.738321102088****************************************************************------------------------| 75%\n",
      "11 -13636.896527096984************************************************************************----------------| 83%\n",
      "12 -14108.25626219889*********************************************************************************--------| 91%\n",
      "Progress: |***************************************************************************************************| 99%\n",
      "Episode  3 Mean reward:  -0.4194283789134086 Cumulative reward:  -14696.770397124146\n",
      "\u001b[38;20m[WRAPPER LoggerWrapper] (INFO) : End of episode detected, recording summary (progress.csv) if logger is active\u001b[0m\n",
      "#----------------------------------------------------------------------------------------------#\n",
      "\u001b[38;20m[ENVIRONMENT] (INFO) : Starting a new episode... [SB3_DQN-EVAL-Eplus-5zone-mixed-discrete-stochastic-v1-episodes-5_2023-08-03_13:36] [Episode 5]\u001b[0m\n",
      "#----------------------------------------------------------------------------------------------#\n",
      "\u001b[38;20m[MODELING] (INFO) : Episode directory created [/workspaces/sinergym/examples/Eplus-env-SB3_DQN-EVAL-Eplus-5zone-mixed-discrete-stochastic-v1-episodes-5_2023-08-03_13:36-res1/Eplus-env-sub_run5]\u001b[0m\n",
      "\u001b[38;20m[MODELING] (INFO) : Weather file USA_NY_New.York-J.F.Kennedy.Intl.AP.744860_TMY3.epw used.\u001b[0m\n",
      "\u001b[38;20m[MODELING] (INFO) : Updated building model with whole Output:Variable available names\u001b[0m\n",
      "\u001b[38;20m[MODELING] (INFO) : Updated building model with whole Output:Meter available names\u001b[0m\n",
      "\u001b[38;20m[MODELING] (INFO) : Adapting weather to building model. [USA_NY_New.York-J.F.Kennedy.Intl.AP.744860_TMY3.epw]\u001b[0m\n",
      "\u001b[38;20m[ENVIRONMENT] (INFO) : Saving episode output path... [/workspaces/sinergym/examples/Eplus-env-SB3_DQN-EVAL-Eplus-5zone-mixed-discrete-stochastic-v1-episodes-5_2023-08-03_13:36-res1/Eplus-env-sub_run5/output]\u001b[0m\n",
      "\u001b[38;20m[SIMULATOR] (INFO) : Running EnergyPlus with args: ['-w', '/workspaces/sinergym/examples/Eplus-env-SB3_DQN-EVAL-Eplus-5zone-mixed-discrete-stochastic-v1-episodes-5_2023-08-03_13:36-res1/Eplus-env-sub_run5/USA_NY_New.York-J.F.Kennedy.Intl.AP.744860_TMY3_Random_1.0_0.0_0.001.epw', '-d', '/workspaces/sinergym/examples/Eplus-env-SB3_DQN-EVAL-Eplus-5zone-mixed-discrete-stochastic-v1-episodes-5_2023-08-03_13:36-res1/Eplus-env-sub_run5/output', '/workspaces/sinergym/examples/Eplus-env-SB3_DQN-EVAL-Eplus-5zone-mixed-discrete-stochastic-v1-episodes-5_2023-08-03_13:36-res1/Eplus-env-sub_run5/5ZoneAutoDXVAV.epJSON']\u001b[0m\n",
      "\u001b[38;20m[ENVIRONMENT] (INFO) : Episode 5 started.\u001b[0m\n"
     ]
    },
    {
     "name": "stderr",
     "output_type": "stream",
     "text": [
      "/usr/local/lib/python3.10/dist-packages/opyplus/weather_data/weather_data.py:493: FutureWarning: the 'line_terminator'' keyword is deprecated, use 'lineterminator' instead.\n",
      "  epw_content = self._headers_to_epw(use_datetimes=use_datetimes) + df.to_csv(\n"
     ]
    },
    {
     "name": "stdout",
     "output_type": "stream",
     "text": [
      "\u001b[38;20m[SIMULATOR] (INFO) : Handles are ready.\u001b[0m\n",
      "\u001b[38;20m[SIMULATOR] (INFO) : System is ready.\u001b[0m\n",
      "\u001b[38;20m[WRAPPER LoggerWrapper] (INFO) : Creating monitor.csv for current episode (episode 5) if logger is active\u001b[0m\n",
      "1 -2.84397461513269\n",
      "2 -552.3501239139867------------------------------------------------------------------------------------------| 9%\n",
      "3 -1063.132403854795*******-----------------------------------------------------------------------------------| 16%\n",
      "4 -1538.677885306011****************--------------------------------------------------------------------------| 25%\n",
      "5 -3241.4892282191527***********************------------------------------------------------------------------| 33%\n",
      "6 -4578.837169499202********************************----------------------------------------------------------| 41%\n",
      "7 -6014.590520477295*****************************************-------------------------------------------------| 50%\n",
      "8 -7598.554487446062************************************************------------------------------------------| 58%\n",
      "9 -9556.89837322453**********************************************************---------------------------------| 66%\n",
      "10 -11216.899244286305****************************************************************------------------------| 75%\n",
      "11 -13359.969324879577************************************************************************----------------| 83%\n",
      "12 -13833.20644698031*********************************************************************************--------| 91%\n",
      "Progress: |***************************************************************************************************| 99%\n",
      "Episode  4 Mean reward:  -0.41174758683638085 Cumulative reward:  -14427.635442745244\n",
      "\u001b[38;20m[WRAPPER LoggerWrapper] (INFO) : End of episode, recording summary (progress.csv) if logger is active\u001b[0m\n",
      "\u001b[38;20m[ENVIRONMENT] (INFO) : Environment closed. [SB3_DQN-EVAL-Eplus-5zone-mixed-discrete-stochastic-v1-episodes-5_2023-08-03_13:36]\u001b[0m\n"
     ]
    }
   ],
   "source": [
    "for i in range(episodes):\n",
    "    obs, info = env.reset()\n",
    "    rewards = []\n",
    "    terminated = False\n",
    "    current_month = 0\n",
    "    while not terminated:\n",
    "        a, _ = model.predict(obs)\n",
    "        obs, reward, terminated, truncated, info = env.step(a)\n",
    "        rewards.append(reward)\n",
    "        if info['month'] != current_month:\n",
    "            current_month = info['month']\n",
    "            print(info['month'], sum(rewards))\n",
    "    print(\n",
    "        'Episode ',\n",
    "        i,\n",
    "        'Mean reward: ',\n",
    "        np.mean(rewards),\n",
    "        'Cumulative reward: ',\n",
    "        sum(rewards))\n",
    "env.close()"
   ]
  },
  {
   "attachments": {},
   "cell_type": "markdown",
   "metadata": {},
   "source": [
    "Finally, we register the evaluation data in wandb as an artifact to save it."
   ]
  },
  {
   "cell_type": "code",
   "execution_count": 19,
   "metadata": {},
   "outputs": [
    {
     "name": "stderr",
     "output_type": "stream",
     "text": [
      "\u001b[34m\u001b[1mwandb\u001b[0m: Adding directory to artifact (/workspaces/sinergym/examples/Eplus-env-SB3_DQN-EVAL-Eplus-5zone-mixed-discrete-stochastic-v1-episodes-5_2023-08-03_13:36-res1)... Done. 0.1s\n"
     ]
    },
    {
     "data": {
      "text/html": [
       "Waiting for W&B process to finish... <strong style=\"color:green\">(success).</strong>"
      ],
      "text/plain": [
       "<IPython.core.display.HTML object>"
      ]
     },
     "metadata": {},
     "output_type": "display_data"
    },
    {
     "data": {
      "text/html": [
       " View run <strong style=\"color:#cdcd00\">SB3_DQN-Eplus-5zone-mixed-discrete-stochastic-v1-episodes-5_2023-08-03_13:33_hu200t1q</strong> at: <a href='https://wandb.ai/alex_ugr/sinergym_evaluations/runs/empzk2on' target=\"_blank\">https://wandb.ai/alex_ugr/sinergym_evaluations/runs/empzk2on</a><br/>Synced 5 W&B file(s), 0 media file(s), 92 artifact file(s) and 0 other file(s)"
      ],
      "text/plain": [
       "<IPython.core.display.HTML object>"
      ]
     },
     "metadata": {},
     "output_type": "display_data"
    },
    {
     "data": {
      "text/html": [
       "Find logs at: <code>./wandb/run-20230803_133654-empzk2on/logs</code>"
      ],
      "text/plain": [
       "<IPython.core.display.HTML object>"
      ]
     },
     "metadata": {},
     "output_type": "display_data"
    }
   ],
   "source": [
    "artifact = wandb.Artifact(\n",
    "    name=\"evaluation1\",\n",
    "    type=\"evaluating\")\n",
    "artifact.add_dir(\n",
    "    env.experiment_path,\n",
    "    name='evaluation_output/')\n",
    "\n",
    "run.log_artifact(artifact)\n",
    "\n",
    "# wandb has finished\n",
    "run.finish()"
   ]
  },
  {
   "attachments": {},
   "cell_type": "markdown",
   "metadata": {},
   "source": [
    "We have the loaded model results in our local computer, but we can see the execution in *wandb* too:\n",
    "\n",
    "- If we check the wandb project list, we can see that sinergym_evaluations project has a new run:\n",
    "\n",
    "![wandb_project2](https://github.com/ugr-sail/sinergym/blob/main/images/wandb_project2.png?raw=true)\n",
    "\n",
    "\n",
    "- Hyperparameters tracked in the evaluation experiment and we can see the previous training artifact used to load the model:\n",
    "\n",
    "![wandb_evaluating_hyperparameters](https://github.com/ugr-sail/sinergym/blob/main/images/wandb_evaluating_hyperparameters.png?raw=true)\n",
    "\n",
    "\n",
    "\n",
    "- Artifact registered with Sinergym Output (and CSV files generated with the Logger Wrapper):\n",
    "  \n",
    "![wandb_evaluating_artifact](https://github.com/ugr-sail/sinergym/blob/main/images/wandb_evaluating_artifact.png?raw=true)"
   ]
  }
 ],
 "metadata": {
  "kernelspec": {
   "display_name": "Python 3",
   "language": "python",
   "name": "python3"
  },
  "language_info": {
   "codemirror_mode": {
    "name": "ipython",
    "version": 3
   },
   "file_extension": ".py",
   "mimetype": "text/x-python",
   "name": "python",
   "nbconvert_exporter": "python",
   "pygments_lexer": "ipython3",
   "version": "3.10.6"
  },
  "vscode": {
   "interpreter": {
    "hash": "916dbcbb3f70747c44a77c7bcd40155683ae19c65e1c03b4aa3499c5328201f1"
   }
  }
 },
 "nbformat": 4,
 "nbformat_minor": 0
}
