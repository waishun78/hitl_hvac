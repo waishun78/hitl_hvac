{
 "cells": [
  {
   "cell_type": "markdown",
   "metadata": {
    "collapsed": false
   },
   "source": [
    "# Changing an environment registered in Sinergym"
   ]
  },
  {
   "cell_type": "markdown",
   "metadata": {
    "collapsed": true,
    "pycharm": {
     "name": "#%% md\n"
    }
   },
   "source": [
    "As discussed above, Sinergym has a list of available environments that we can call with `gym.make(<environment_id>)` as long as the sinergym package is imported into the python script."
   ]
  },
  {
   "cell_type": "code",
   "execution_count": 1,
   "metadata": {
    "collapsed": false,
    "pycharm": {
     "is_executing": true,
     "name": "#%%\n"
    }
   },
   "outputs": [
    {
     "name": "stderr",
     "output_type": "stream",
     "text": [
      "/usr/local/lib/python3.10/dist-packages/gym/spaces/box.py:73: UserWarning: \u001b[33mWARN: Box bound precision lowered by casting to float32\u001b[0m\n",
      "  logger.warn(\n"
     ]
    },
    {
     "name": "stdout",
     "output_type": "stream",
     "text": [
      "[2022-10-07 09:00:55,460] EPLUS_ENV_5Zone-hot-continuous-stochastic-v1_MainThread_ROOT INFO:Updating idf ExternalInterface object if it is not present...\n",
      "[2022-10-07 09:00:55,462] EPLUS_ENV_5Zone-hot-continuous-stochastic-v1_MainThread_ROOT INFO:Updating idf Site:Location and SizingPeriod:DesignDay(s) to weather and ddy file...\n",
      "[2022-10-07 09:00:55,465] EPLUS_ENV_5Zone-hot-continuous-stochastic-v1_MainThread_ROOT INFO:Updating idf OutPut:Variable and variables XML tree model for BVCTB connection.\n",
      "[2022-10-07 09:00:55,467] EPLUS_ENV_5Zone-hot-continuous-stochastic-v1_MainThread_ROOT INFO:Setting up extra configuration in building model if exists...\n",
      "[2022-10-07 09:00:55,469] EPLUS_ENV_5Zone-hot-continuous-stochastic-v1_MainThread_ROOT INFO:Setting up action definition in building model if exists...\n"
     ]
    },
    {
     "name": "stderr",
     "output_type": "stream",
     "text": [
      "/usr/local/lib/python3.10/dist-packages/gym/spaces/box.py:73: UserWarning: \u001b[33mWARN: Box bound precision lowered by casting to float32\u001b[0m\n",
      "  logger.warn(\n"
     ]
    }
   ],
   "source": [
    "import gym\n",
    "import numpy as np\n",
    "\n",
    "import sinergym\n",
    "env = gym.make('Eplus-5Zone-hot-continuous-stochastic-v1')"
   ]
  },
  {
   "cell_type": "markdown",
   "metadata": {},
   "source": [
    "These environment IDs have a number of components defined, not only the building design (*IDF*), but also the reward function, the action and observation spaces, the defining variables, etc.\n",
    "\n",
    "If you want a new environment, you can define it from scratch in our [environment list](https://github.com/ugr-sail/sinergym/blob/main/sinergym/__init__.py) and run it locally.\n",
    "\n",
    "Another option (recommended) is to start from one of our environments and change the components you want. You can combine components you want to change obviously.\n",
    "\n",
    "The way to do that is to add in the `gym.make(<environment_id>)` those parameters of the constructor of the *Sinergym* environment we want to change. Let's see what things we can change starting from any environment:"
   ]
  },
  {
   "cell_type": "markdown",
   "metadata": {},
   "source": [
    "## Adding a new reward"
   ]
  },
  {
   "cell_type": "markdown",
   "metadata": {},
   "source": [
    "As mentioned above, simply add the appropriate parameters to `gym.make()` after specifying the environment ID."
   ]
  },
  {
   "cell_type": "code",
   "execution_count": 2,
   "metadata": {
    "collapsed": false,
    "pycharm": {
     "is_executing": true,
     "name": "#%%\n"
    }
   },
   "outputs": [
    {
     "name": "stdout",
     "output_type": "stream",
     "text": [
      "[2022-10-07 09:00:56,991] EPLUS_ENV_5Zone-hot-continuous-v1_MainThread_ROOT INFO:Updating idf ExternalInterface object if it is not present...\n",
      "[2022-10-07 09:00:56,991] EPLUS_ENV_5Zone-hot-continuous-v1_MainThread_ROOT INFO:Updating idf Site:Location and SizingPeriod:DesignDay(s) to weather and ddy file...\n",
      "[2022-10-07 09:00:56,993] EPLUS_ENV_5Zone-hot-continuous-v1_MainThread_ROOT INFO:Updating idf OutPut:Variable and variables XML tree model for BVCTB connection.\n",
      "[2022-10-07 09:00:56,994] EPLUS_ENV_5Zone-hot-continuous-v1_MainThread_ROOT INFO:Setting up extra configuration in building model if exists...\n",
      "[2022-10-07 09:00:56,994] EPLUS_ENV_5Zone-hot-continuous-v1_MainThread_ROOT INFO:Setting up action definition in building model if exists...\n"
     ]
    },
    {
     "name": "stderr",
     "output_type": "stream",
     "text": [
      "/usr/local/lib/python3.10/dist-packages/gym/spaces/box.py:73: UserWarning: \u001b[33mWARN: Box bound precision lowered by casting to float32\u001b[0m\n",
      "  logger.warn(\n"
     ]
    }
   ],
   "source": [
    "from sinergym.utils.rewards import LinearReward, ExpReward\n",
    "\n",
    "env = gym.make('Eplus-5Zone-hot-continuous-v1', reward=ExpReward, reward_kwargs={\n",
    "                                                                    'temperature_variable': 'Zone Air Temperature (SPACE1-1)',\n",
    "                                                                    'energy_variable': 'Facility Total HVAC Electricity Demand Rate (Whole Building)',\n",
    "                                                                    'range_comfort_winter': (20.0, 23.5),\n",
    "                                                                    'range_comfort_summer': (23.0, 26.0),\n",
    "                                                                    'energy_weight': 0.1})"
   ]
  },
  {
   "cell_type": "markdown",
   "metadata": {},
   "source": [
    "You have to specify the **reward** class you are going to use in the environment. A reward function class has several parameters that can be specified by user like temperature variables, weights, etc. Depending on the reward function you are using. In order to be able to define it, we have **reward_kwargs** parameter. See [reward documentation](https://ugr-sail.github.io/sinergym/compilation/html/pages/rewards.html) for more information about reward classes and how to create a new one. "
   ]
  },
  {
   "cell_type": "markdown",
   "metadata": {},
   "source": [
    "## Adding other new components to the environment"
   ]
  },
  {
   "cell_type": "markdown",
   "metadata": {},
   "source": [
    "In the same way that we can change the default reward function, as we have done in the second example, \n",
    "it is possible to substitute other default values of the environment ID. \n",
    "\n",
    "You can change the weather file, the number of timesteps an action repeats (default 1), \n",
    "the last n episodes you want to be stored in the Sinergym output folder (default 10), \n",
    "the name of the environment or the variability in stochastic environments:"
   ]
  },
  {
   "cell_type": "code",
   "execution_count": 3,
   "metadata": {},
   "outputs": [
    {
     "name": "stdout",
     "output_type": "stream",
     "text": [
      "[2022-10-07 09:00:58,155] EPLUS_ENV_new_env_name_MainThread_ROOT INFO:Updating idf ExternalInterface object if it is not present...\n",
      "[2022-10-07 09:00:58,156] EPLUS_ENV_new_env_name_MainThread_ROOT INFO:Updating idf Site:Location and SizingPeriod:DesignDay(s) to weather and ddy file...\n",
      "[2022-10-07 09:00:58,157] EPLUS_ENV_new_env_name_MainThread_ROOT INFO:Updating idf OutPut:Variable and variables XML tree model for BVCTB connection.\n",
      "[2022-10-07 09:00:58,158] EPLUS_ENV_new_env_name_MainThread_ROOT INFO:Setting up extra configuration in building model if exists...\n",
      "[2022-10-07 09:00:58,159] EPLUS_ENV_new_env_name_MainThread_ROOT INFO:Setting up action definition in building model if exists...\n"
     ]
    },
    {
     "name": "stderr",
     "output_type": "stream",
     "text": [
      "/usr/local/lib/python3.10/dist-packages/gym/spaces/box.py:73: UserWarning: \u001b[33mWARN: Box bound precision lowered by casting to float32\u001b[0m\n",
      "  logger.warn(\n"
     ]
    }
   ],
   "source": [
    "env = gym.make('Eplus-5Zone-cool-continuous-stochastic-v1', \n",
    "                weather_file='ESP_Granada.084190_SWEC.epw',\n",
    "                weather_variability=(1.0,0.0,0.001),\n",
    "                env_name='new_env_name',\n",
    "                act_repeat=4,\n",
    "                max_ep_data_store_num = 20)"
   ]
  },
  {
   "cell_type": "markdown",
   "metadata": {},
   "source": [
    "## Changing observation and action spaces"
   ]
  },
  {
   "cell_type": "markdown",
   "metadata": {},
   "source": [
    "By default, the IDs of the predefined environments in *Sinergym* already have a space of actions and observations set.\n",
    "\n",
    "However, it can be overwritten by a new definition of them. On the one hand, we will have to define the name of the \n",
    "**variables**, and on the other hand, the definition of the **spaces** (and an **action mapping** if it is a discrete environment)."
   ]
  },
  {
   "cell_type": "code",
   "execution_count": 4,
   "metadata": {},
   "outputs": [
    {
     "name": "stdout",
     "output_type": "stream",
     "text": [
      "[2022-10-07 09:00:59,474] EPLUS_ENV_datacenter-cool-discrete-stochastic-v1_MainThread_ROOT INFO:Updating idf ExternalInterface object if it is not present...\n",
      "[2022-10-07 09:00:59,475] EPLUS_ENV_datacenter-cool-discrete-stochastic-v1_MainThread_ROOT INFO:Updating idf Site:Location and SizingPeriod:DesignDay(s) to weather and ddy file...\n",
      "[2022-10-07 09:00:59,477] EPLUS_ENV_datacenter-cool-discrete-stochastic-v1_MainThread_ROOT INFO:Updating idf OutPut:Variable and variables XML tree model for BVCTB connection.\n",
      "[2022-10-07 09:00:59,478] EPLUS_ENV_datacenter-cool-discrete-stochastic-v1_MainThread_ROOT INFO:Setting up extra configuration in building model if exists...\n",
      "[2022-10-07 09:00:59,479] EPLUS_ENV_datacenter-cool-discrete-stochastic-v1_MainThread_ROOT INFO:Setting up action definition in building model if exists...\n",
      "[2022-10-07 09:00:59,480] EPLUS_ENV_datacenter-cool-discrete-stochastic-v1_MainThread_ROOT INFO:Creating new EnergyPlus simulation episode...\n",
      "[2022-10-07 09:00:59,608] EPLUS_ENV_datacenter-cool-discrete-stochastic-v1_MainThread_ROOT INFO:EnergyPlus working directory is in /workspaces/sinergym/examples/Eplus-env-datacenter-cool-discrete-stochastic-v1-res1/Eplus-env-sub_run1\n",
      "Reward:  -0.26775410632883273 {'timestep': 1, 'time_elapsed': 900, 'year': 1991, 'month': 1, 'day': 1, 'hour': 0, 'total_power': 5355.082126576654, 'total_power_no_units': -0.5355082126576655, 'comfort_penalty': -0.0, 'abs_comfort': 0.0, 'temperatures': [], 'out_temperature': 1.186377523616978, 'action_': [21, 21]}\n",
      "Reward:  -669.4534184979221 {'timestep': 2976, 'time_elapsed': 2678400, 'year': 1991, 'month': 2, 'day': 1, 'hour': 0, 'total_power': 4208.635870777072, 'total_power_no_units': -0.42086358707770727, 'comfort_penalty': -0.0, 'abs_comfort': 0.0, 'temperatures': [], 'out_temperature': 6.228479196022084, 'action_': [22, 23]}\n",
      "Reward:  -1247.5537459734599 {'timestep': 5664, 'time_elapsed': 5097600, 'year': 1991, 'month': 3, 'day': 1, 'hour': 0, 'total_power': 4421.637300732844, 'total_power_no_units': -0.4421637300732844, 'comfort_penalty': -0.0, 'abs_comfort': 0.0, 'temperatures': [], 'out_temperature': 3.705059073313615, 'action_': [21, 24]}\n",
      "Reward:  -1855.7928063319255 {'timestep': 8640, 'time_elapsed': 7776000, 'year': 1991, 'month': 4, 'day': 1, 'hour': 0, 'total_power': 4987.415191462993, 'total_power_no_units': -0.49874151914629933, 'comfort_penalty': -0.0, 'abs_comfort': 0.0, 'temperatures': [], 'out_temperature': 3.024777159060027, 'action_': [18, 27]}\n",
      "Reward:  -2636.641656051256 {'timestep': 11520, 'time_elapsed': 10368000, 'year': 1991, 'month': 5, 'day': 1, 'hour': 0, 'total_power': 2188.620052530483, 'total_power_no_units': -0.2188620052530483, 'comfort_penalty': -0.0, 'abs_comfort': 0.0, 'temperatures': [], 'out_temperature': 9.963985853561047, 'action_': [16, 29]}\n",
      "Reward:  -3518.6464879098053 {'timestep': 14496, 'time_elapsed': 13046400, 'year': 1991, 'month': 6, 'day': 1, 'hour': 0, 'total_power': 4345.217932332002, 'total_power_no_units': -0.4345217932332003, 'comfort_penalty': -0.0, 'abs_comfort': 0.0, 'temperatures': [], 'out_temperature': 9.61357774788482, 'action_': [21, 24]}\n",
      "Reward:  -5047.521248481572 {'timestep': 17376, 'time_elapsed': 15638400, 'year': 1991, 'month': 7, 'day': 1, 'hour': 0, 'total_power': 6249.758355257713, 'total_power_no_units': -0.6249758355257714, 'comfort_penalty': -0.0, 'abs_comfort': 0.0, 'temperatures': [], 'out_temperature': 12.04954794846631, 'action_': [22, 23]}\n",
      "Reward:  -7116.313388281761 {'timestep': 20352, 'time_elapsed': 18316800, 'year': 1991, 'month': 8, 'day': 1, 'hour': 0, 'total_power': 2107.732366810708, 'total_power_no_units': -0.21077323668107079, 'comfort_penalty': -0.0, 'abs_comfort': 0.0, 'temperatures': [], 'out_temperature': 11.53376534972051, 'action_': [15, 30]}\n",
      "Reward:  -9326.224323881572 {'timestep': 23328, 'time_elapsed': 20995200, 'year': 1991, 'month': 9, 'day': 1, 'hour': 0, 'total_power': 5939.453811738773, 'total_power_no_units': -0.5939453811738773, 'comfort_penalty': -0.0, 'abs_comfort': 0.0, 'temperatures': [], 'out_temperature': 13.38570883464585, 'action_': [17, 28]}\n",
      "Reward:  -10853.890187701882 {'timestep': 26208, 'time_elapsed': 23587200, 'year': 1991, 'month': 10, 'day': 1, 'hour': 0, 'total_power': 2170.898935982922, 'total_power_no_units': -0.2170898935982922, 'comfort_penalty': -0.0, 'abs_comfort': 0.0, 'temperatures': [], 'out_temperature': 7.302507096687205, 'action_': [17, 28]}\n",
      "Reward:  -11587.916685717913 {'timestep': 29184, 'time_elapsed': 26265600, 'year': 1991, 'month': 11, 'day': 1, 'hour': 0, 'total_power': 4190.456055889271, 'total_power_no_units': -0.4190456055889271, 'comfort_penalty': -0.0, 'abs_comfort': 0.0, 'temperatures': [], 'out_temperature': 7.099445145523461, 'action_': [18, 27]}\n",
      "Reward:  -12180.885947073011 {'timestep': 32064, 'time_elapsed': 28857600, 'year': 1991, 'month': 12, 'day': 1, 'hour': 0, 'total_power': 4527.071835065274, 'total_power_no_units': -0.45270718350652744, 'comfort_penalty': -0.0, 'abs_comfort': 0.0, 'temperatures': [], 'out_temperature': 3.246417930160787, 'action_': [22, 22]}\n",
      "Reward:  -12816.011905214418 {'timestep': 35040, 'time_elapsed': 31536000, 'year': 1992, 'month': 1, 'day': 1, 'hour': 0, 'total_power': 5262.280448896257, 'total_power_no_units': -0.5262280448896258, 'comfort_penalty': -0.0, 'abs_comfort': 0.0, 'temperatures': [], 'out_temperature': 1.612621010536379, 'action_': [21, 21]}\n",
      "Episode  0 Mean reward:  -0.3657537644182542 Cumulative reward:  -12816.011905214418\n",
      "[2022-10-07 09:01:29,248] EPLUS_ENV_datacenter-cool-discrete-stochastic-v1_MainThread_ROOT INFO:EnergyPlus simulation closed successfully. \n"
     ]
    }
   ],
   "source": [
    "import gym\n",
    "import numpy as np\n",
    "\n",
    "import sinergym\n",
    "\n",
    "new_observation_variables=[\n",
    "    'Site Outdoor Air Drybulb Temperature(Environment)',\n",
    "    'Site Outdoor Air Relative Humidity(Environment)',\n",
    "    'Site Wind Speed(Environment)',\n",
    "    'Zone Thermal Comfort Fanger Model PPD(East Zone PEOPLE)',\n",
    "    'Zone People Occupant Count(East Zone)',\n",
    "    'People Air Temperature(East Zone PEOPLE)',\n",
    "    'Facility Total HVAC Electricity Demand Rate(Whole Building)'\n",
    "]\n",
    "\n",
    "new_action_variables = [\n",
    "    'Heating_Setpoint_RL',\n",
    "    'Cooling_Setpoint_RL',\n",
    "]\n",
    "\n",
    "new_observation_space = gym.spaces.Box(\n",
    "    low=-5e6,\n",
    "    high=5e6,\n",
    "    shape=(len(new_observation_variables) + 4,),\n",
    "    dtype=np.float32)\n",
    "\n",
    "new_action_mapping = {\n",
    "    0: (15, 30),\n",
    "    1: (16, 29),\n",
    "    2: (17, 28),\n",
    "    3: (18, 27),\n",
    "    4: (19, 26),\n",
    "    5: (20, 25),\n",
    "    6: (21, 24),\n",
    "    7: (22, 23),\n",
    "    8: (22, 22),\n",
    "    9: (21, 21)\n",
    "}\n",
    "\n",
    "new_action_space = gym.spaces.Discrete(10)\n",
    "\n",
    "env = gym.make('Eplus-datacenter-cool-discrete-stochastic-v1', \n",
    "                observation_variables=new_observation_variables,\n",
    "                observation_space=new_observation_space,\n",
    "                action_variables=new_action_variables,\n",
    "                action_mapping=new_action_mapping,\n",
    "                action_space=new_action_space\n",
    "            )\n",
    "\n",
    "\n",
    "for i in range(1):\n",
    "    obs = env.reset()\n",
    "    rewards = []\n",
    "    done = False\n",
    "    current_month = 0\n",
    "    while not done:\n",
    "        a = env.action_space.sample()\n",
    "        obs, reward, done, info = env.step(a)\n",
    "        rewards.append(reward)\n",
    "        if info['month'] != current_month:  # display results every month\n",
    "            current_month = info['month']\n",
    "            print('Reward: ', sum(rewards), info)\n",
    "    print(\n",
    "        'Episode ',\n",
    "        i,\n",
    "        'Mean reward: ',\n",
    "        np.mean(rewards),\n",
    "        'Cumulative reward: ',\n",
    "        sum(rewards))\n",
    "env.close()"
   ]
  },
  {
   "cell_type": "markdown",
   "metadata": {},
   "source": [
    "In case the definition has some inconsistency, such as the *IDF* has not been \n",
    "adapted to the new actions, the spaces do not fit with the variables, the \n",
    "observation variables do not exist, etc. *Sinergym* will display an error.\n",
    "\n",
    "**Action variables** defined must exists in IDF model like external interface.\n",
    "Then, you have two possibilities: \n",
    "\n",
    "- First, you can modify IDF file directly, but it is necessary to update several \n",
    "  components depending in order to connect them to the external interface \n",
    "  (requires knowledge of the building and EnergyPlus).\n",
    "- Second, you can use the **action definition** functionality of *Sinergym* (recommended).\n",
    "  This functionality will modify the IDF file before starting the simulation automatically \n",
    "  based on a simple definition of the components to be replaced by an external control.\n",
    "  See \"updating action definition\" example to learn how to use it.\n"
   ]
  },
  {
   "cell_type": "markdown",
   "metadata": {},
   "source": [
    "## Getting information about building model with Sinergym"
   ]
  },
  {
   "cell_type": "markdown",
   "metadata": {
    "collapsed": true,
    "pycharm": {
     "name": "#%% md\n"
    }
   },
   "source": [
    "Sinergym can get the schedulers information automatically, in a Python dictionary and/or exporting that information in a excel file.\n",
    "This information lets you know what things can be controlled by an external interface in the building.\n",
    "The way to do it is very simple, just load the environment and call a method:"
   ]
  },
  {
   "cell_type": "code",
   "execution_count": 5,
   "metadata": {
    "collapsed": false,
    "pycharm": {
     "is_executing": true,
     "name": "#%%\n"
    }
   },
   "outputs": [
    {
     "name": "stdout",
     "output_type": "stream",
     "text": [
      "[2022-10-07 09:01:30,579] EPLUS_ENV_demo-v1_MainThread_ROOT INFO:Updating idf ExternalInterface object if it is not present...\n",
      "[2022-10-07 09:01:30,580] EPLUS_ENV_demo-v1_MainThread_ROOT INFO:Updating idf Site:Location and SizingPeriod:DesignDay(s) to weather and ddy file...\n",
      "[2022-10-07 09:01:30,583] EPLUS_ENV_demo-v1_MainThread_ROOT INFO:Updating idf OutPut:Variable and variables XML tree model for BVCTB connection.\n",
      "[2022-10-07 09:01:30,586] EPLUS_ENV_demo-v1_MainThread_ROOT INFO:Setting up extra configuration in building model if exists...\n",
      "[2022-10-07 09:01:30,587] EPLUS_ENV_demo-v1_MainThread_ROOT INFO:Setting up action definition in building model if exists...\n",
      "{'activitysch': {'Type': 'any number'},\n",
      " 'actschd': {'Object1': {'object_field_name': 'activity_level_schedule_name',\n",
      "                         'object_name': 'space1-1 people 1',\n",
      "                         'object_type': 'People'},\n",
      "             'Object2': {'object_field_name': 'activity_level_schedule_name',\n",
      "                         'object_name': 'space2-1 people 1',\n",
      "                         'object_type': 'People'},\n",
      "             'Object3': {'object_field_name': 'activity_level_schedule_name',\n",
      "                         'object_name': 'space3-1 people 1',\n",
      "                         'object_type': 'People'},\n",
      "             'Object4': {'object_field_name': 'activity_level_schedule_name',\n",
      "                         'object_name': 'space4-1 people 1',\n",
      "                         'object_type': 'People'},\n",
      "             'Object5': {'object_field_name': 'activity_level_schedule_name',\n",
      "                         'object_name': 'space5-1 people 1',\n",
      "                         'object_type': 'People'},\n",
      "             'Type': 'any number'},\n",
      " 'airvelocitysch': {'Object1': {'object_field_name': 'air_velocity_schedule_name',\n",
      "                                'object_name': 'space1-1 people 1',\n",
      "                                'object_type': 'People'},\n",
      "                    'Object2': {'object_field_name': 'air_velocity_schedule_name',\n",
      "                                'object_name': 'space2-1 people 1',\n",
      "                                'object_type': 'People'},\n",
      "                    'Object3': {'object_field_name': 'air_velocity_schedule_name',\n",
      "                                'object_name': 'space3-1 people 1',\n",
      "                                'object_type': 'People'},\n",
      "                    'Object4': {'object_field_name': 'air_velocity_schedule_name',\n",
      "                                'object_name': 'space4-1 people 1',\n",
      "                                'object_type': 'People'},\n",
      "                    'Object5': {'object_field_name': 'air_velocity_schedule_name',\n",
      "                                'object_name': 'space5-1 people 1',\n",
      "                                'object_type': 'People'},\n",
      "                    'Type': 'any number'},\n",
      " 'basinheatersched': {'Object1': {'object_field_name': 'basin_heater_operating_schedule_name',\n",
      "                                  'object_name': 'main cooling coil 1',\n",
      "                                  'object_type': 'Coil:Cooling:DX:TwoSpeed'},\n",
      "                      'Type': 'on/off'},\n",
      " 'clg-setp-sch': {'Object1': {'object_field_name': 'cooling_setpoint_temperature_schedule_name',\n",
      "                              'object_name': 'dualsetpoint',\n",
      "                              'object_type': 'ThermostatSetpoint:DualSetpoint'},\n",
      "                  'Object2': {'object_field_name': 'setpoint_temperature_schedule_name',\n",
      "                              'object_name': 'coolingsetpoint',\n",
      "                              'object_type': 'ThermostatSetpoint:SingleCooling'},\n",
      "                  'Type': 'temperature'},\n",
      " 'clothingsch': {'Type': 'any number'},\n",
      " 'coolingcoilavailsched': {'Object1': {'object_field_name': 'availability_schedule_name',\n",
      "                                       'object_name': 'main cooling coil 1',\n",
      "                                       'object_type': 'Coil:Cooling:DX:TwoSpeed'},\n",
      "                           'Object2': {'object_field_name': 'availability_schedule_name',\n",
      "                                       'object_name': 'dx cooling coil system '\n",
      "                                                      '1',\n",
      "                                       'object_type': 'CoilSystem:Cooling:DX'},\n",
      "                           'Type': 'fraction'},\n",
      " 'equip-1': {'Object1': {'object_field_name': 'schedule_name',\n",
      "                         'object_name': 'space1-1 eleceq 1',\n",
      "                         'object_type': 'ElectricEquipment'},\n",
      "             'Object2': {'object_field_name': 'schedule_name',\n",
      "                         'object_name': 'space2-1 eleceq 1',\n",
      "                         'object_type': 'ElectricEquipment'},\n",
      "             'Object3': {'object_field_name': 'schedule_name',\n",
      "                         'object_name': 'space3-1 eleceq 1',\n",
      "                         'object_type': 'ElectricEquipment'},\n",
      "             'Object4': {'object_field_name': 'schedule_name',\n",
      "                         'object_name': 'space4-1 eleceq 1',\n",
      "                         'object_type': 'ElectricEquipment'},\n",
      "             'Object5': {'object_field_name': 'schedule_name',\n",
      "                         'object_name': 'space5-1 eleceq 1',\n",
      "                         'object_type': 'ElectricEquipment'},\n",
      "             'Type': 'fraction'},\n",
      " 'fanavailsched': {'Object1': {'object_field_name': 'schedule_name',\n",
      "                               'object_name': 'vav sys 1 avail',\n",
      "                               'object_type': 'AvailabilityManager:Scheduled'},\n",
      "                   'Object2': {'object_field_name': 'availability_schedule_name',\n",
      "                               'object_name': 'supply fan 1',\n",
      "                               'object_type': 'Fan:VariableVolume'},\n",
      "                   'Type': 'fraction'},\n",
      " 'htg-setp-sch': {'Object1': {'object_field_name': 'heating_setpoint_temperature_schedule_name',\n",
      "                              'object_name': 'dualsetpoint',\n",
      "                              'object_type': 'ThermostatSetpoint:DualSetpoint'},\n",
      "                  'Object2': {'object_field_name': 'setpoint_temperature_schedule_name',\n",
      "                              'object_name': 'heatingsetpoint',\n",
      "                              'object_type': 'ThermostatSetpoint:SingleHeating'},\n",
      "                  'Type': 'temperature'},\n",
      " 'infil-sch': {'Object1': {'object_field_name': 'schedule_name',\n",
      "                           'object_name': 'space1-1 infil 1',\n",
      "                           'object_type': 'ZoneInfiltration:DesignFlowRate'},\n",
      "               'Object2': {'object_field_name': 'schedule_name',\n",
      "                           'object_name': 'space2-1 infil 1',\n",
      "                           'object_type': 'ZoneInfiltration:DesignFlowRate'},\n",
      "               'Object3': {'object_field_name': 'schedule_name',\n",
      "                           'object_name': 'space3-1 infil 1',\n",
      "                           'object_type': 'ZoneInfiltration:DesignFlowRate'},\n",
      "               'Object4': {'object_field_name': 'schedule_name',\n",
      "                           'object_name': 'space4-1 infil 1',\n",
      "                           'object_type': 'ZoneInfiltration:DesignFlowRate'},\n",
      "               'Object5': {'object_field_name': 'schedule_name',\n",
      "                           'object_name': 'space5-1 infil 1',\n",
      "                           'object_type': 'ZoneInfiltration:DesignFlowRate'},\n",
      "               'Type': 'fraction'},\n",
      " 'lights-1': {'Object1': {'object_field_name': 'schedule_name',\n",
      "                          'object_name': 'space1-1 lights 1',\n",
      "                          'object_type': 'Lights'},\n",
      "              'Object2': {'object_field_name': 'schedule_name',\n",
      "                          'object_name': 'space2-1 lights 1',\n",
      "                          'object_type': 'Lights'},\n",
      "              'Object3': {'object_field_name': 'schedule_name',\n",
      "                          'object_name': 'space3-1 lights 1',\n",
      "                          'object_type': 'Lights'},\n",
      "              'Object4': {'object_field_name': 'schedule_name',\n",
      "                          'object_name': 'space4-1 lights 1',\n",
      "                          'object_type': 'Lights'},\n",
      "              'Object5': {'object_field_name': 'schedule_name',\n",
      "                          'object_name': 'space5-1 lights 1',\n",
      "                          'object_type': 'Lights'},\n",
      "              'Type': 'fraction'},\n",
      " 'min oa sched': {'Object1': {'object_field_name': 'minimum_outdoor_air_schedule_name',\n",
      "                              'object_name': 'oa controller 1',\n",
      "                              'object_type': 'Controller:OutdoorAir'},\n",
      "                  'Type': 'fraction'},\n",
      " 'min oarequirements sched': {'Object1': {'object_field_name': 'outdoor_air_schedule_name',\n",
      "                                          'object_name': 'zoneminoarequirements',\n",
      "                                          'object_type': 'DesignSpecification:OutdoorAir'},\n",
      "                              'Type': 'any number'},\n",
      " 'occupy-1': {'Object1': {'object_field_name': 'number_of_people_schedule_name',\n",
      "                          'object_name': 'space1-1 people 1',\n",
      "                          'object_type': 'People'},\n",
      "              'Object2': {'object_field_name': 'number_of_people_schedule_name',\n",
      "                          'object_name': 'space2-1 people 1',\n",
      "                          'object_type': 'People'},\n",
      "              'Object3': {'object_field_name': 'number_of_people_schedule_name',\n",
      "                          'object_name': 'space3-1 people 1',\n",
      "                          'object_type': 'People'},\n",
      "              'Object4': {'object_field_name': 'number_of_people_schedule_name',\n",
      "                          'object_name': 'space4-1 people 1',\n",
      "                          'object_type': 'People'},\n",
      "              'Object5': {'object_field_name': 'number_of_people_schedule_name',\n",
      "                          'object_name': 'space5-1 people 1',\n",
      "                          'object_type': 'People'},\n",
      "              'Type': 'fraction'},\n",
      " 'plenumclg-setp-sch': {'Object1': {'object_field_name': 'setpoint_temperature_schedule_name',\n",
      "                                    'object_name': 'plenumcoolingsetpoint',\n",
      "                                    'object_type': 'ThermostatSetpoint:SingleCooling'},\n",
      "                        'Type': 'temperature'},\n",
      " 'plenumhtg-setp-sch': {'Object1': {'object_field_name': 'setpoint_temperature_schedule_name',\n",
      "                                    'object_name': 'plenumheatingsetpoint',\n",
      "                                    'object_type': 'ThermostatSetpoint:SingleHeating'},\n",
      "                        'Type': 'temperature'},\n",
      " 'reheatcoilavailsched': {'Object1': {'object_field_name': 'availability_schedule_name',\n",
      "                                      'object_name': 'space1-1 vav reheat',\n",
      "                                      'object_type': 'AirTerminal:SingleDuct:VAV:Reheat'},\n",
      "                          'Object10': {'object_field_name': 'availability_schedule_name',\n",
      "                                       'object_name': 'space5-1 zone coil',\n",
      "                                       'object_type': 'Coil:Heating:Electric'},\n",
      "                          'Object11': {'object_field_name': 'availability_schedule_name',\n",
      "                                       'object_name': 'main heating coil 1',\n",
      "                                       'object_type': 'Coil:Heating:Electric'},\n",
      "                          'Object2': {'object_field_name': 'availability_schedule_name',\n",
      "                                      'object_name': 'space2-1 vav reheat',\n",
      "                                      'object_type': 'AirTerminal:SingleDuct:VAV:Reheat'},\n",
      "                          'Object3': {'object_field_name': 'availability_schedule_name',\n",
      "                                      'object_name': 'space3-1 vav reheat',\n",
      "                                      'object_type': 'AirTerminal:SingleDuct:VAV:Reheat'},\n",
      "                          'Object4': {'object_field_name': 'availability_schedule_name',\n",
      "                                      'object_name': 'space4-1 vav reheat',\n",
      "                                      'object_type': 'AirTerminal:SingleDuct:VAV:Reheat'},\n",
      "                          'Object5': {'object_field_name': 'availability_schedule_name',\n",
      "                                      'object_name': 'space5-1 vav reheat',\n",
      "                                      'object_type': 'AirTerminal:SingleDuct:VAV:Reheat'},\n",
      "                          'Object6': {'object_field_name': 'availability_schedule_name',\n",
      "                                      'object_name': 'space1-1 zone coil',\n",
      "                                      'object_type': 'Coil:Heating:Electric'},\n",
      "                          'Object7': {'object_field_name': 'availability_schedule_name',\n",
      "                                      'object_name': 'space2-1 zone coil',\n",
      "                                      'object_type': 'Coil:Heating:Electric'},\n",
      "                          'Object8': {'object_field_name': 'availability_schedule_name',\n",
      "                                      'object_name': 'space3-1 zone coil',\n",
      "                                      'object_type': 'Coil:Heating:Electric'},\n",
      "                          'Object9': {'object_field_name': 'availability_schedule_name',\n",
      "                                      'object_name': 'space4-1 zone coil',\n",
      "                                      'object_type': 'Coil:Heating:Electric'},\n",
      "                          'Type': 'fraction'},\n",
      " 'seasonal reset supply air temp sch': {'Type': 'temperature'},\n",
      " 'shadetranssch': {'Object1': {'object_field_name': 'transmittance_schedule_name',\n",
      "                               'object_name': 'main south overhang',\n",
      "                               'object_type': 'Shading:Zone:Detailed'},\n",
      "                   'Object2': {'object_field_name': 'transmittance_schedule_name',\n",
      "                               'object_name': 'south door overhang',\n",
      "                               'object_type': 'Shading:Zone:Detailed'},\n",
      "                   'Type': 'fraction'},\n",
      " 'workeffsch': {'Object1': {'object_field_name': 'work_efficiency_schedule_name',\n",
      "                            'object_name': 'space1-1 people 1',\n",
      "                            'object_type': 'People'},\n",
      "                'Object2': {'object_field_name': 'work_efficiency_schedule_name',\n",
      "                            'object_name': 'space2-1 people 1',\n",
      "                            'object_type': 'People'},\n",
      "                'Object3': {'object_field_name': 'work_efficiency_schedule_name',\n",
      "                            'object_name': 'space3-1 people 1',\n",
      "                            'object_type': 'People'},\n",
      "                'Object4': {'object_field_name': 'work_efficiency_schedule_name',\n",
      "                            'object_name': 'space4-1 people 1',\n",
      "                            'object_type': 'People'},\n",
      "                'Object5': {'object_field_name': 'work_efficiency_schedule_name',\n",
      "                            'object_name': 'space5-1 people 1',\n",
      "                            'object_type': 'People'},\n",
      "                'Type': 'fraction'},\n",
      " 'zone control type sched': {'Object1': {'object_field_name': 'control_type_schedule_name',\n",
      "                                         'object_name': 'space1-1 control',\n",
      "                                         'object_type': 'ZoneControl:Thermostat'},\n",
      "                             'Object2': {'object_field_name': 'control_type_schedule_name',\n",
      "                                         'object_name': 'space2-1 control',\n",
      "                                         'object_type': 'ZoneControl:Thermostat'},\n",
      "                             'Object3': {'object_field_name': 'control_type_schedule_name',\n",
      "                                         'object_name': 'space3-1 control',\n",
      "                                         'object_type': 'ZoneControl:Thermostat'},\n",
      "                             'Object4': {'object_field_name': 'control_type_schedule_name',\n",
      "                                         'object_name': 'space4-1 control',\n",
      "                                         'object_type': 'ZoneControl:Thermostat'},\n",
      "                             'Object5': {'object_field_name': 'control_type_schedule_name',\n",
      "                                         'object_name': 'space5-1 control',\n",
      "                                         'object_type': 'ZoneControl:Thermostat'},\n",
      "                             'Type': 'control type'}}\n"
     ]
    }
   ],
   "source": [
    "import gym\n",
    "import sinergym\n",
    "\n",
    "from pprint import pprint\n",
    "\n",
    "env = gym.make('Eplus-demo-v1')\n",
    "schedulers=env.get_schedulers()\n",
    "pprint(schedulers)"
   ]
  },
  {
   "cell_type": "markdown",
   "metadata": {
    "collapsed": false,
    "pycharm": {
     "name": "#%% md\n"
    }
   },
   "source": [
    "The way to export an excel file with such organized information is by specifying a path to the method:"
   ]
  },
  {
   "cell_type": "code",
   "execution_count": 6,
   "metadata": {
    "collapsed": false,
    "pycharm": {
     "is_executing": true,
     "name": "#%%\n"
    }
   },
   "outputs": [],
   "source": [
    "actuators=env.get_schedulers(path='./example.xlsx')"
   ]
  },
  {
   "cell_type": "markdown",
   "metadata": {},
   "source": [
    "It is possible to know the zones available in the environment too. You only have to do the next:"
   ]
  },
  {
   "cell_type": "code",
   "execution_count": 7,
   "metadata": {},
   "outputs": [
    {
     "name": "stdout",
     "output_type": "stream",
     "text": [
      "['plenum-1', 'space1-1', 'space2-1', 'space3-1', 'space4-1', 'space5-1']\n"
     ]
    }
   ],
   "source": [
    "print(env.get_zones())"
   ]
  },
  {
   "cell_type": "markdown",
   "metadata": {},
   "source": [
    "## Updating the action definition of the environment"
   ]
  },
  {
   "cell_type": "markdown",
   "metadata": {},
   "source": [
    "As we have explained in the action and observation space example, one of the problems that can arise when \n",
    "modifying the space of actions and observations is that the *IDF* is not adapted to the \n",
    "new space of actions established.\n",
    "\n",
    "For this purpose, the *Sinergym* **action definition** is available. With a dictionary we can \n",
    "build a definition of what scheduler we want to be replaced in the building by the external control.\n",
    "\n",
    "For this example, we are going to add lights control to the external interface for the agent.\n",
    "Then, is not only necessary to update that **action definition**, the list of the action\n",
    "variables and space is necessary to be updated too."
   ]
  },
  {
   "cell_type": "code",
   "execution_count": 8,
   "metadata": {},
   "outputs": [
    {
     "name": "stderr",
     "output_type": "stream",
     "text": [
      "/usr/local/lib/python3.10/dist-packages/gym/spaces/box.py:73: UserWarning: \u001b[33mWARN: Box bound precision lowered by casting to float32\u001b[0m\n",
      "  logger.warn(\n"
     ]
    },
    {
     "name": "stdout",
     "output_type": "stream",
     "text": [
      "[2022-10-07 09:01:32,174] EPLUS_ENV_5Zone-cool-continuous-stochastic-v1_MainThread_ROOT INFO:Updating idf ExternalInterface object if it is not present...\n",
      "[2022-10-07 09:01:32,175] EPLUS_ENV_5Zone-cool-continuous-stochastic-v1_MainThread_ROOT INFO:Updating idf Site:Location and SizingPeriod:DesignDay(s) to weather and ddy file...\n",
      "[2022-10-07 09:01:32,176] EPLUS_ENV_5Zone-cool-continuous-stochastic-v1_MainThread_ROOT INFO:Updating idf OutPut:Variable and variables XML tree model for BVCTB connection.\n",
      "[2022-10-07 09:01:32,177] EPLUS_ENV_5Zone-cool-continuous-stochastic-v1_MainThread_ROOT INFO:Setting up extra configuration in building model if exists...\n",
      "[2022-10-07 09:01:32,177] EPLUS_ENV_5Zone-cool-continuous-stochastic-v1_MainThread_ROOT INFO:Setting up action definition in building model if exists...\n",
      "[2022-10-07 09:01:32,179] EPLUS_ENV_5Zone-cool-continuous-stochastic-v1_MainThread_ROOT INFO:Creating new EnergyPlus simulation episode...\n",
      "[2022-10-07 09:01:32,305] EPLUS_ENV_5Zone-cool-continuous-stochastic-v1_MainThread_ROOT INFO:EnergyPlus working directory is in /workspaces/sinergym/examples/Eplus-env-5Zone-cool-continuous-stochastic-v1-res1/Eplus-env-sub_run1\n"
     ]
    },
    {
     "name": "stderr",
     "output_type": "stream",
     "text": [
      "/usr/local/lib/python3.10/dist-packages/gym/spaces/box.py:73: UserWarning: \u001b[33mWARN: Box bound precision lowered by casting to float32\u001b[0m\n",
      "  logger.warn(\n"
     ]
    },
    {
     "name": "stdout",
     "output_type": "stream",
     "text": [
      "Reward:  -0.5111010314528696 {'timestep': 1, 'time_elapsed': 900, 'year': 1991, 'month': 1, 'day': 1, 'hour': 0, 'total_power': 2835.011953773881, 'total_power_no_units': -0.2835011953773881, 'comfort_penalty': -0.7387008675283511, 'abs_comfort': 0.7387008675283511, 'temperatures': [19.26129913247165], 'out_temperature': 1.421014390196424, 'action_': [16.317654, 26.96494, 0.31237173]}\n",
      "Reward:  -1374.28410120219 {'timestep': 2976, 'time_elapsed': 2678400, 'year': 1991, 'month': 2, 'day': 1, 'hour': 0, 'total_power': 6065.825052347422, 'total_power_no_units': -0.6065825052347422, 'comfort_penalty': -0.0, 'abs_comfort': 0.0, 'temperatures': [21.74254870657726], 'out_temperature': 8.360682108922676, 'action_': [21.686012, 24.844059, 0.31142563]}\n",
      "Reward:  -2715.7611117082783 {'timestep': 5664, 'time_elapsed': 5097600, 'year': 1991, 'month': 3, 'day': 1, 'hour': 0, 'total_power': 3379.077746701543, 'total_power_no_units': -0.3379077746701543, 'comfort_penalty': -0.0, 'abs_comfort': 0.0, 'temperatures': [20.08146212423063], 'out_temperature': 5.317330025625665, 'action_': [20.016264, 28.09283, 0.21295846]}\n",
      "Reward:  -3660.007455360811 {'timestep': 8640, 'time_elapsed': 7776000, 'year': 1991, 'month': 4, 'day': 1, 'hour': 0, 'total_power': 5457.280335251083, 'total_power_no_units': -0.5457280335251083, 'comfort_penalty': -0.0, 'abs_comfort': 0.0, 'temperatures': [20.99796649838974], 'out_temperature': 4.966775407980537, 'action_': [21.124304, 22.553516, 0.9582741]}\n",
      "Reward:  -4564.380860934114 {'timestep': 11520, 'time_elapsed': 10368000, 'year': 1991, 'month': 5, 'day': 1, 'hour': 0, 'total_power': 6603.432140993574, 'total_power_no_units': -0.6603432140993574, 'comfort_penalty': -0.0, 'abs_comfort': 0.0, 'temperatures': [21.99301384406026], 'out_temperature': 11.3890808542817, 'action_': [22.063656, 29.984705, 0.5942085]}\n",
      "Reward:  -5302.692402629544 {'timestep': 14496, 'time_elapsed': 13046400, 'year': 1991, 'month': 6, 'day': 1, 'hour': 0, 'total_power': 191.2911582802689, 'total_power_no_units': -0.01912911582802689, 'comfort_penalty': -2.4613144918713914, 'abs_comfort': 2.4613144918713914, 'temperatures': [20.53868550812861], 'out_temperature': 9.9969193980086, 'action_': [17.306587, 23.402065, 0.7618722]}\n",
      "Reward:  -7016.025434187163 {'timestep': 17376, 'time_elapsed': 15638400, 'year': 1991, 'month': 7, 'day': 1, 'hour': 0, 'total_power': 120.4056020773604, 'total_power_no_units': -0.01204056020773604, 'comfort_penalty': -1.8821997117836595, 'abs_comfort': 1.8821997117836595, 'temperatures': [21.11780028821634], 'out_temperature': 11.27473828933916, 'action_': [20.830227, 26.474812, 0.73397]}\n",
      "Reward:  -8777.25161267316 {'timestep': 20352, 'time_elapsed': 18316800, 'year': 1991, 'month': 8, 'day': 1, 'hour': 0, 'total_power': 178.4267301020354, 'total_power_no_units': -0.017842673010203543, 'comfort_penalty': -2.5277853133220205, 'abs_comfort': 2.5277853133220205, 'temperatures': [20.47221468667798], 'out_temperature': 10.60363543147483, 'action_': [17.934364, 26.353241, 0.6373596]}\n",
      "Reward:  -10438.464921588717 {'timestep': 23328, 'time_elapsed': 20995200, 'year': 1991, 'month': 9, 'day': 1, 'hour': 0, 'total_power': 120.4056020773604, 'total_power_no_units': -0.01204056020773604, 'comfort_penalty': -1.1929073594710715, 'abs_comfort': 1.1929073594710715, 'temperatures': [21.80709264052893], 'out_temperature': 12.1932378723401, 'action_': [15.998844, 24.359282, 0.98427457]}\n",
      "Reward:  -12367.057910085747 {'timestep': 26208, 'time_elapsed': 23587200, 'year': 1991, 'month': 10, 'day': 1, 'hour': 0, 'total_power': 428.6780367305225, 'total_power_no_units': -0.04286780367305225, 'comfort_penalty': -0.6108147937607988, 'abs_comfort': 0.6108147937607988, 'temperatures': [19.3891852062392], 'out_temperature': 7.843863403107411, 'action_': [16.794724, 25.592144, 0.3683012]}\n",
      "Reward:  -13218.089719275868 {'timestep': 29184, 'time_elapsed': 26265600, 'year': 1991, 'month': 11, 'day': 1, 'hour': 0, 'total_power': 439.8288126081056, 'total_power_no_units': -0.04398288126081056, 'comfort_penalty': -0.16923377015886132, 'abs_comfort': 0.16923377015886132, 'temperatures': [19.83076622984114], 'out_temperature': 7.710713063269523, 'action_': [16.533552, 27.096302, 0.40426022]}\n",
      "Reward:  -14225.5891712317 {'timestep': 32064, 'time_elapsed': 28857600, 'year': 1991, 'month': 12, 'day': 1, 'hour': 0, 'total_power': 120.4056020773604, 'total_power_no_units': -0.01204056020773604, 'comfort_penalty': -0.0, 'abs_comfort': 0.0, 'temperatures': [20.38023912699316], 'out_temperature': 4.988834083817571, 'action_': [18.86006, 26.556025, 0.027832627]}\n",
      "Reward:  -15616.602179397853 {'timestep': 35040, 'time_elapsed': 31536000, 'year': 1992, 'month': 1, 'day': 1, 'hour': 0, 'total_power': 2767.822204079172, 'total_power_no_units': -0.2767822204079172, 'comfort_penalty': -1.3667378090425686, 'abs_comfort': 1.3667378090425686, 'temperatures': [18.63326219095743], 'out_temperature': 0.2879179385394967, 'action_': [17.618801, 29.638168, 0.5123796]}\n",
      "Episode  0 Mean reward:  -0.4456792859417381 Cumulative reward:  -15616.602179397853\n",
      "[2022-10-07 09:01:43,252] EPLUS_ENV_5Zone-cool-continuous-stochastic-v1_MainThread_ROOT INFO:EnergyPlus simulation closed successfully. \n"
     ]
    }
   ],
   "source": [
    "import gym\n",
    "import numpy as np\n",
    "\n",
    "new_action_variables=[\n",
    "'Heating_Setpoint_RL',\n",
    "'Cooling_Setpoint_RL',\n",
    "'light_control'\n",
    "]\n",
    "\n",
    "new_action_space=gym.spaces.Box(\n",
    "    low=np.array([15.0, 22.5, 0.0]),\n",
    "    high=np.array([22.5, 30.0, 1.0]),\n",
    "    shape=(3,),\n",
    "    dtype=np.float32\n",
    ")\n",
    "\n",
    "new_action_definition={\n",
    "    'Htg-SetP-Sch': {'name': 'Heating_Setpoint_RL', 'initial_value': 21},\n",
    "    'Clg-SetP-Sch': {'name': 'Cooling_Setpoint_RL', 'initial_value': 25},\n",
    "    'LIGHTS-1':{'name':'light_control','initial_value':0.2}\n",
    "\n",
    "}\n",
    "\n",
    "env = gym.make('Eplus-5Zone-cool-continuous-stochastic-v1',\n",
    "                action_variables=new_action_variables,\n",
    "                action_space=new_action_space,\n",
    "                action_definition=new_action_definition\n",
    "                )\n",
    "\n",
    "for i in range(1):\n",
    "    obs = env.reset()\n",
    "    rewards = []\n",
    "    done = False\n",
    "    current_month = 0\n",
    "    while not done:\n",
    "        a = env.action_space.sample()\n",
    "        obs, reward, done, info = env.step(a)\n",
    "        rewards.append(reward)\n",
    "        if info['month'] != current_month:  # display results every month\n",
    "            current_month = info['month']\n",
    "            print('Reward: ', sum(rewards), info)\n",
    "    print(\n",
    "        'Episode ',\n",
    "        i,\n",
    "        'Mean reward: ',\n",
    "        np.mean(rewards),\n",
    "        'Cumulative reward: ',\n",
    "        sum(rewards))\n",
    "env.close()"
   ]
  },
  {
   "cell_type": "markdown",
   "metadata": {},
   "source": [
    "Previously, it is recommended to know what controllers are available in the specific building model, see the previous example of this notebook. For more information about the format of the action definition dictionaries, visit the section called [action definition](https://ugr-sail.github.io/sinergym/compilation/html/pages/environments.html#action-definition)."
   ]
  },
  {
   "cell_type": "markdown",
   "metadata": {},
   "source": [
    "## Adding more extra configuration"
   ]
  },
  {
   "cell_type": "markdown",
   "metadata": {},
   "source": [
    "You can even add a dictionary with extra parameters that update IDF with some new context concerned with simulation directly.\n",
    "\n",
    "This new IDF version, which also adapts to the new weather you put in, is saved in the Sinergym output folder, leaving the original intact:"
   ]
  },
  {
   "cell_type": "code",
   "execution_count": 9,
   "metadata": {},
   "outputs": [
    {
     "name": "stdout",
     "output_type": "stream",
     "text": [
      "[2022-10-07 09:01:44,485] EPLUS_ENV_datacenter-cool-continuous-stochastic-v1_MainThread_ROOT INFO:Updating idf ExternalInterface object if it is not present...\n",
      "[2022-10-07 09:01:44,487] EPLUS_ENV_datacenter-cool-continuous-stochastic-v1_MainThread_ROOT INFO:Updating idf Site:Location and SizingPeriod:DesignDay(s) to weather and ddy file...\n",
      "[2022-10-07 09:01:44,490] EPLUS_ENV_datacenter-cool-continuous-stochastic-v1_MainThread_ROOT INFO:Updating idf OutPut:Variable and variables XML tree model for BVCTB connection.\n",
      "[2022-10-07 09:01:44,494] EPLUS_ENV_datacenter-cool-continuous-stochastic-v1_MainThread_ROOT INFO:Setting up extra configuration in building model if exists...\n",
      "[2022-10-07 09:01:44,496] EPLUS_ENV_datacenter-cool-continuous-stochastic-v1_MainThread_ROOT INFO:Setting up action definition in building model if exists...\n"
     ]
    },
    {
     "name": "stderr",
     "output_type": "stream",
     "text": [
      "/usr/local/lib/python3.10/dist-packages/gym/spaces/box.py:73: UserWarning: \u001b[33mWARN: Box bound precision lowered by casting to float32\u001b[0m\n",
      "  logger.warn(\n"
     ]
    }
   ],
   "source": [
    "extra_conf={\n",
    "    'timesteps_per_hour':6,\n",
    "    'runperiod':(1,1,1991,2,1,1992),\n",
    "}\n",
    "\n",
    "env = gym.make('Eplus-datacenter-cool-continuous-stochastic-v1', \n",
    "                config_params=extra_conf\n",
    "                )"
   ]
  },
  {
   "cell_type": "markdown",
   "metadata": {},
   "source": [
    "For more information about extra configuration parameters, see our [Extra configuration documentation](https://ugr-sail.github.io/sinergym/compilation/html/pages/extra-configuration.html)"
   ]
  }
 ],
 "metadata": {
  "kernelspec": {
   "display_name": "Python 3.10.4 64-bit",
   "language": "python",
   "name": "python3"
  },
  "language_info": {
   "codemirror_mode": {
    "name": "ipython",
    "version": 3
   },
   "file_extension": ".py",
   "mimetype": "text/x-python",
   "name": "python",
   "nbconvert_exporter": "python",
   "pygments_lexer": "ipython3",
   "version": "3.10.4"
  },
  "vscode": {
   "interpreter": {
    "hash": "e7370f93d1d0cde622a1f8e1c04877d8463912d04d973331ad4851f04de6915a"
   }
  }
 },
 "nbformat": 4,
 "nbformat_minor": 0
}
