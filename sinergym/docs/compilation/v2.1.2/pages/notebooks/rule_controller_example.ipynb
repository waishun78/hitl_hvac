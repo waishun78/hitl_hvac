{
 "cells": [
  {
   "cell_type": "markdown",
   "metadata": {
    "collapsed": false
   },
   "source": [
    "# Rule Controller example"
   ]
  },
  {
   "cell_type": "markdown",
   "metadata": {
    "collapsed": false
   },
   "source": [
    "First we import all the used libraries, remember to always import `sinergym` even if it says is not used, because that is needed to define the environments"
   ]
  },
  {
   "cell_type": "code",
   "execution_count": 1,
   "metadata": {
    "collapsed": true
   },
   "outputs": [
    {
     "name": "stderr",
     "output_type": "stream",
     "text": [
      "/usr/local/lib/python3.10/dist-packages/gym/spaces/box.py:73: UserWarning: \u001b[33mWARN: Box bound precision lowered by casting to float32\u001b[0m\n",
      "  logger.warn(\n"
     ]
    }
   ],
   "source": [
    "from typing import List, Any, Sequence\n",
    "from sinergym.utils.common import get_season_comfort_range\n",
    "from datetime import datetime\n",
    "import gym\n",
    "import numpy as np\n",
    "import sinergym"
   ]
  },
  {
   "cell_type": "markdown",
   "metadata": {
    "collapsed": false
   },
   "source": [
    "Now we can define the environment we want to use, in our case we are using the Eplus demo."
   ]
  },
  {
   "cell_type": "code",
   "execution_count": 2,
   "metadata": {
    "collapsed": false,
    "pycharm": {
     "name": "#%%\n"
    }
   },
   "outputs": [
    {
     "name": "stdout",
     "output_type": "stream",
     "text": [
      "[2022-10-07 09:09:36,752] EPLUS_ENV_demo-v1_MainThread_ROOT INFO:Updating idf ExternalInterface object if it is not present...\n",
      "[2022-10-07 09:09:36,753] EPLUS_ENV_demo-v1_MainThread_ROOT INFO:Updating idf Site:Location and SizingPeriod:DesignDay(s) to weather and ddy file...\n",
      "[2022-10-07 09:09:36,756] EPLUS_ENV_demo-v1_MainThread_ROOT INFO:Updating idf OutPut:Variable and variables XML tree model for BVCTB connection.\n",
      "[2022-10-07 09:09:36,761] EPLUS_ENV_demo-v1_MainThread_ROOT INFO:Setting up extra configuration in building model if exists...\n",
      "[2022-10-07 09:09:36,763] EPLUS_ENV_demo-v1_MainThread_ROOT INFO:Setting up action definition in building model if exists...\n"
     ]
    }
   ],
   "source": [
    "env = gym.make('Eplus-demo-v1')"
   ]
  },
  {
   "cell_type": "markdown",
   "metadata": {
    "collapsed": false
   },
   "source": [
    "For the Rule-base controller have a look at the already defined controllers, there is one for each building, since the demo is based on the 5Zone building we are extending that controller and defining the action function we desire, feel free to play with the function to define your own action."
   ]
  },
  {
   "cell_type": "code",
   "execution_count": 3,
   "metadata": {
    "collapsed": false,
    "pycharm": {
     "name": "#%%\n"
    }
   },
   "outputs": [],
   "source": [
    "from sinergym.utils.controllers import RBC5Zone\n",
    "\n",
    "class MyRuleBasedController(RBC5Zone):\n",
    "\n",
    "    def act(self, observation: List[Any]) -> Sequence[Any]:\n",
    "        \"\"\"Select action based on outdoor air drybulb temperature and daytime.\n",
    "\n",
    "        Args:\n",
    "            observation (List[Any]): Perceived observation.\n",
    "\n",
    "        Returns:\n",
    "            Sequence[Any]: Action chosen.\n",
    "        \"\"\"\n",
    "        obs_dict = dict(zip(self.variables['observation'], observation))\n",
    "\n",
    "        out_temp = obs_dict['Site Outdoor Air Drybulb Temperature(Environment)']\n",
    "\n",
    "        day = int(obs_dict['day'])\n",
    "        month = int(obs_dict['month'])\n",
    "        hour = int(obs_dict['hour'])\n",
    "        year = int(obs_dict['year'])\n",
    "\n",
    "        summer_start_date = datetime(year, 6, 1)\n",
    "        summer_final_date = datetime(year, 9, 30)\n",
    "\n",
    "        current_dt = datetime(year, month, day)\n",
    "\n",
    "        # Get season comfort range\n",
    "        if current_dt >= summer_start_date and current_dt <= summer_final_date:\n",
    "            season_comfort_range = self.setpoints_summer\n",
    "        else:\n",
    "            season_comfort_range = self.setpoints_summer\n",
    "        season_comfort_range = get_season_comfort_range(1991,month, day)\n",
    "        # Update setpoints\n",
    "        in_temp = obs_dict['Zone Air Temperature(SPACE1-1)']\n",
    "\n",
    "        current_heat_setpoint = obs_dict[\n",
    "            'Zone Thermostat Heating Setpoint Temperature(SPACE1-1)']\n",
    "        current_cool_setpoint = obs_dict[\n",
    "            'Zone Thermostat Cooling Setpoint Temperature(SPACE1-1)']\n",
    "\n",
    "        new_heat_setpoint = current_heat_setpoint\n",
    "        new_cool_setpoint = current_cool_setpoint\n",
    "\n",
    "        if in_temp < season_comfort_range[0]:\n",
    "            new_heat_setpoint = current_heat_setpoint + 1\n",
    "            new_cool_setpoint = current_cool_setpoint + 1\n",
    "        elif in_temp > season_comfort_range[1]:\n",
    "            new_cool_setpoint = current_cool_setpoint - 1\n",
    "            new_heat_setpoint = current_heat_setpoint - 1\n",
    "\n",
    "        action = (new_heat_setpoint, new_cool_setpoint)\n",
    "        if current_dt.weekday() > 5 or hour in range(22, 6):\n",
    "            #weekend or night\n",
    "            action = (18.33, 23.33)\n",
    "\n",
    "        return action"
   ]
  },
  {
   "cell_type": "markdown",
   "metadata": {
    "collapsed": false,
    "pycharm": {
     "name": "#%% md\n"
    }
   },
   "source": [
    "Now that we have our controller ready we can use it:"
   ]
  },
  {
   "cell_type": "code",
   "execution_count": 4,
   "metadata": {
    "collapsed": false,
    "pycharm": {
     "name": "#%%\n"
    }
   },
   "outputs": [
    {
     "name": "stdout",
     "output_type": "stream",
     "text": [
      "[2022-10-07 09:09:37,293] EPLUS_ENV_demo-v1_MainThread_ROOT INFO:Creating new EnergyPlus simulation episode...\n",
      "[2022-10-07 09:09:37,309] EPLUS_ENV_demo-v1_MainThread_ROOT INFO:EnergyPlus working directory is in /workspaces/sinergym/examples/Eplus-env-demo-v1-res6/Eplus-env-sub_run1\n",
      "Reward:  -0.9027267231826451 {'timestep': 1, 'time_elapsed': 900, 'year': 1991, 'month': 1, 'day': 1, 'hour': 0, 'total_power': 18054.5344636529, 'total_power_no_units': -1.8054534463652903, 'comfort_penalty': -0.0, 'abs_comfort': 0.0, 'temperatures': [20.99998833869494], 'out_temperature': 1.8, 'action_': [21.0, 25.0]}\n",
      "Reward:  -1764.4480209727506 {'timestep': 2976, 'time_elapsed': 2678400, 'year': 1991, 'month': 2, 'day': 1, 'hour': 0, 'total_power': 18190.11301727289, 'total_power_no_units': -1.8190113017272893, 'comfort_penalty': -0.0, 'abs_comfort': 0.0, 'temperatures': [20.32998609178986], 'out_temperature': -7.0, 'action_': [20.33, 25.33]}\n",
      "Reward:  -3319.0240158271495 {'timestep': 5664, 'time_elapsed': 5097600, 'year': 1991, 'month': 3, 'day': 1, 'hour': 0, 'total_power': 6499.498986238363, 'total_power_no_units': -0.6499498986238363, 'comfort_penalty': -0.0, 'abs_comfort': 0.0, 'temperatures': [20.32985628557421], 'out_temperature': 8.1, 'action_': [20.33, 25.33]}\n",
      "Reward:  -4331.530660717744 {'timestep': 8640, 'time_elapsed': 7776000, 'year': 1991, 'month': 4, 'day': 1, 'hour': 0, 'total_power': 152.4868953414246, 'total_power_no_units': -0.01524868953414246, 'comfort_penalty': -1.2698020216335806, 'abs_comfort': 1.2698020216335806, 'temperatures': [18.73019797836642], 'out_temperature': 7.7, 'action_': [18.33, 23.33]}\n",
      "Reward:  -5030.34341168003 {'timestep': 11520, 'time_elapsed': 10368000, 'year': 1991, 'month': 5, 'day': 1, 'hour': 0, 'total_power': 2756.596244185509, 'total_power_no_units': -0.2756596244185509, 'comfort_penalty': -0.0, 'abs_comfort': 0.0, 'temperatures': [20.33021642625628], 'out_temperature': 13.0, 'action_': [20.33, 25.33]}\n",
      "Reward:  -5624.205479307242 {'timestep': 14496, 'time_elapsed': 13046400, 'year': 1991, 'month': 6, 'day': 1, 'hour': 0, 'total_power': 871.8985175509725, 'total_power_no_units': -0.08718985175509726, 'comfort_penalty': -2.6700868290835906, 'abs_comfort': 2.6700868290835906, 'temperatures': [20.32991317091641], 'out_temperature': 18.4, 'action_': [20.33, 25.33]}\n",
      "Reward:  -7188.94373222068 {'timestep': 17376, 'time_elapsed': 15638400, 'year': 1991, 'month': 7, 'day': 1, 'hour': 0, 'total_power': 175.7796758221068, 'total_power_no_units': -0.017577967582210682, 'comfort_penalty': -2.710258038781241, 'abs_comfort': 2.710258038781241, 'temperatures': [20.28974196121876], 'out_temperature': 17.7, 'action_': [18.33, 23.33]}\n",
      "Reward:  -9056.39052356895 {'timestep': 20352, 'time_elapsed': 18316800, 'year': 1991, 'month': 8, 'day': 1, 'hour': 0, 'total_power': 20410.91452531903, 'total_power_no_units': -2.041091452531903, 'comfort_penalty': -0.0, 'abs_comfort': 0.0, 'temperatures': [23.33010209424337], 'out_temperature': 20.6, 'action_': [23.33, 28.33]}\n",
      "Reward:  -10854.090922968613 {'timestep': 23328, 'time_elapsed': 20995200, 'year': 1991, 'month': 9, 'day': 1, 'hour': 0, 'total_power': 3438.778066876331, 'total_power_no_units': -0.3438778066876331, 'comfort_penalty': -0.0, 'abs_comfort': 0.0, 'temperatures': [23.32982109298299], 'out_temperature': 18.8, 'action_': [23.33, 28.33]}\n",
      "Reward:  -12308.980146004908 {'timestep': 26208, 'time_elapsed': 23587200, 'year': 1991, 'month': 10, 'day': 1, 'hour': 0, 'total_power': 6368.219126588838, 'total_power_no_units': -0.6368219126588838, 'comfort_penalty': -0.0, 'abs_comfort': 0.0, 'temperatures': [23.33031589389634], 'out_temperature': 13.3, 'action_': [23.33, 28.33]}\n",
      "Reward:  -12900.560641948945 {'timestep': 29184, 'time_elapsed': 26265600, 'year': 1991, 'month': 11, 'day': 1, 'hour': 0, 'total_power': 2705.336525778672, 'total_power_no_units': -0.2705336525778672, 'comfort_penalty': -0.0, 'abs_comfort': 0.0, 'temperatures': [20.33017846907974], 'out_temperature': 13.0, 'action_': [20.33, 25.33]}\n",
      "Reward:  -13780.798440045137 {'timestep': 32064, 'time_elapsed': 28857600, 'year': 1991, 'month': 12, 'day': 1, 'hour': 0, 'total_power': 5352.233991403948, 'total_power_no_units': -0.5352233991403947, 'comfort_penalty': -0.0, 'abs_comfort': 0.0, 'temperatures': [20.32992237675168], 'out_temperature': 5.1, 'action_': [20.33, 25.33]}\n",
      "Reward:  -15499.608669456482 {'timestep': 35040, 'time_elapsed': 31536000, 'year': 1992, 'month': 1, 'day': 1, 'hour': 0, 'total_power': 19332.86497279549, 'total_power_no_units': -1.9332864972795492, 'comfort_penalty': -0.0, 'abs_comfort': 0.0, 'temperatures': [20.33000068783789], 'out_temperature': -12.0, 'action_': [20.33, 25.33]}\n",
      "Episode  0 Mean reward:  -0.4423404300643832 Cumulative reward:  -15499.608669456482\n"
     ]
    }
   ],
   "source": [
    "\n",
    "# create rule-based controller\n",
    "agent = MyRuleBasedController(env)\n",
    "\n",
    "for i in range(1):\n",
    "    obs = env.reset()\n",
    "    rewards = []\n",
    "    done = False\n",
    "    current_month = 0\n",
    "while not done:\n",
    "    action = agent.act(obs)\n",
    "    obs, reward, done, info = env.step(action)\n",
    "    rewards.append(reward)\n",
    "    if info['month'] != current_month:  # display results every month\n",
    "        current_month = info['month']\n",
    "        print('Reward: ', sum(rewards), info)\n",
    "print(\n",
    "    'Episode ',\n",
    "    i,\n",
    "    'Mean reward: ',\n",
    "    np.mean(rewards),\n",
    "    'Cumulative reward: ',\n",
    "    sum(rewards))"
   ]
  },
  {
   "cell_type": "markdown",
   "metadata": {
    "collapsed": false
   },
   "source": [
    "Always remember to close the environment:"
   ]
  },
  {
   "cell_type": "code",
   "execution_count": 5,
   "metadata": {
    "collapsed": false,
    "pycharm": {
     "name": "#%%\n"
    }
   },
   "outputs": [
    {
     "name": "stdout",
     "output_type": "stream",
     "text": [
      "[2022-10-07 09:09:46,026] EPLUS_ENV_demo-v1_MainThread_ROOT INFO:EnergyPlus simulation closed successfully. \n"
     ]
    }
   ],
   "source": [
    "env.close()"
   ]
  },
  {
   "cell_type": "markdown",
   "metadata": {},
   "source": [
    ".. note:: For more information about our defines controllers and how create a new one, please, visit our [Controller Documentation](https://ugr-sail.github.io/sinergym/compilation/html/pages/controllers.html)"
   ]
  }
 ],
 "metadata": {
  "kernelspec": {
   "display_name": "Python 3.10.4 64-bit",
   "language": "python",
   "name": "python3"
  },
  "language_info": {
   "codemirror_mode": {
    "name": "ipython",
    "version": 3
   },
   "file_extension": ".py",
   "mimetype": "text/x-python",
   "name": "python",
   "nbconvert_exporter": "python",
   "pygments_lexer": "ipython3",
   "version": "3.10.4"
  },
  "vscode": {
   "interpreter": {
    "hash": "e7370f93d1d0cde622a1f8e1c04877d8463912d04d973331ad4851f04de6915a"
   }
  }
 },
 "nbformat": 4,
 "nbformat_minor": 0
}
