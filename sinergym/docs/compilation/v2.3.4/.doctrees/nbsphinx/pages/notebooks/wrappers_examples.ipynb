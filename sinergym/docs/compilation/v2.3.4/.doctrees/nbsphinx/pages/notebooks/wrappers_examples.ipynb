{
 "cells": [
  {
   "cell_type": "markdown",
   "metadata": {
    "collapsed": false
   },
   "source": [
    "# Wrappers example"
   ]
  },
  {
   "attachments": {},
   "cell_type": "markdown",
   "metadata": {
    "collapsed": false
   },
   "source": [
    "We will see on this notebook what are the wrappers defined by Sinergym and how to use them. You can also implement your own wrappers inheriting from *gym.Wrapper* or some of its variants."
   ]
  },
  {
   "cell_type": "code",
   "execution_count": 1,
   "metadata": {
    "collapsed": true,
    "pycharm": {
     "is_executing": true
    }
   },
   "outputs": [],
   "source": [
    "import gymnasium as gym\n",
    "import numpy as np\n",
    "import sinergym\n",
    "from sinergym.utils.wrappers import *\n",
    "from sinergym.utils.constants import RANGES_5ZONE"
   ]
  },
  {
   "cell_type": "markdown",
   "metadata": {},
   "source": [
    "## Multi-Objective Wrapper"
   ]
  },
  {
   "cell_type": "markdown",
   "metadata": {},
   "source": [
    "[MO-Gymnasium](https://github.com/Farama-Foundation/MO-Gymnasium) is an open source Python library for developing and comparing multi-objective reinforcement learning algorithms. These environments return a reward vector instead of a scalar value; one for each objective.\n",
    "\n",
    "In order to be more general as possible, it could be interesting that Sinergym would give that reward vector too. In this way, Sinergym would have compatibility with both; multi-objective algorithms and algorithms that work with a traditional reward value.\n",
    "\n",
    "We can transform reward returned in a vector using the next wrapper:"
   ]
  },
  {
   "cell_type": "code",
   "execution_count": 2,
   "metadata": {},
   "outputs": [
    {
     "name": "stdout",
     "output_type": "stream",
     "text": [
      "[2023-04-13 10:15:42,317] EPLUS_ENV_5Zone-hot-discrete-v1_MainThread_ROOT INFO:Updating idf ExternalInterface object if it is not present...\n",
      "[2023-04-13 10:15:42,318] EPLUS_ENV_5Zone-hot-discrete-v1_MainThread_ROOT INFO:Updating idf Site:Location and SizingPeriod:DesignDay(s) to weather and ddy file...\n",
      "[2023-04-13 10:15:42,319] EPLUS_ENV_5Zone-hot-discrete-v1_MainThread_ROOT INFO:Updating idf OutPut:Variable and variables XML tree model for BVCTB connection.\n",
      "[2023-04-13 10:15:42,321] EPLUS_ENV_5Zone-hot-discrete-v1_MainThread_ROOT INFO:Setting up extra configuration in building model if exists...\n",
      "[2023-04-13 10:15:42,321] EPLUS_ENV_5Zone-hot-discrete-v1_MainThread_ROOT INFO:Setting up action definition in building model if exists...\n"
     ]
    }
   ],
   "source": [
    "env=gym.make('Eplus-5Zone-hot-discrete-v1')\n",
    "env=MultiObjectiveReward(env,reward_terms=['reward_energy','reward_comfort'])"
   ]
  },
  {
   "cell_type": "markdown",
   "metadata": {},
   "source": [
    "You have to ensure that `reward_terms` are available in `info` dict returned in step method of the environment. Otherwise, we will encounter an execution error.\n",
    "By default, Sinergym environments return in `info` dict all reward terms specified in reward class used, so if the objective exists in reward term you shouldn't have any problem."
   ]
  },
  {
   "cell_type": "code",
   "execution_count": 3,
   "metadata": {},
   "outputs": [
    {
     "name": "stdout",
     "output_type": "stream",
     "text": [
      "[2023-04-13 10:15:42,358] EPLUS_ENV_5Zone-hot-discrete-v1_MainThread_ROOT INFO:Creating new EnergyPlus simulation episode...\n",
      "[2023-04-13 10:15:42,499] EPLUS_ENV_5Zone-hot-discrete-v1_MainThread_ROOT INFO:EnergyPlus working directory is in /workspaces/sinergym/examples/Eplus-env-5Zone-hot-discrete-v1-res1/Eplus-env-sub_run1\n"
     ]
    },
    {
     "name": "stderr",
     "output_type": "stream",
     "text": [
      "/usr/local/lib/python3.10/dist-packages/opyplus/weather_data/weather_data.py:493: FutureWarning: the 'line_terminator'' keyword is deprecated, use 'lineterminator' instead.\n",
      "  epw_content = self._headers_to_epw(use_datetimes=use_datetimes) + df.to_csv(\n"
     ]
    },
    {
     "name": "stdout",
     "output_type": "stream",
     "text": [
      "[2023-04-13 10:15:48,223] EPLUS_ENV_5Zone-hot-discrete-v1_MainThread_ROOT INFO:EnergyPlus simulation closed successfully. \n",
      "[-0.059453113841696555, -0.35551957460636885]\n"
     ]
    }
   ],
   "source": [
    "env.reset()\n",
    "action = env.action_space.sample()\n",
    "obs, reward, terminated, truncated, info = env.step(action)\n",
    "env.close()\n",
    "print(reward)"
   ]
  },
  {
   "attachments": {},
   "cell_type": "markdown",
   "metadata": {},
   "source": [
    "## Previous Observations Wrappers"
   ]
  },
  {
   "attachments": {},
   "cell_type": "markdown",
   "metadata": {},
   "source": [
    "This Wrapper will add observation values from previous timestep to current environment observation.\n",
    "It is possible to select the variables you want to track its previous observation values. \n",
    "Observation space will be updated with the new dimension."
   ]
  },
  {
   "cell_type": "code",
   "execution_count": 4,
   "metadata": {},
   "outputs": [
    {
     "name": "stdout",
     "output_type": "stream",
     "text": [
      "[2023-04-13 10:15:49,018] EPLUS_ENV_5Zone-hot-discrete-v1_MainThread_ROOT INFO:Updating idf ExternalInterface object if it is not present...\n",
      "[2023-04-13 10:15:49,018] EPLUS_ENV_5Zone-hot-discrete-v1_MainThread_ROOT INFO:Updating idf ExternalInterface object if it is not present...\n",
      "[2023-04-13 10:15:49,019] EPLUS_ENV_5Zone-hot-discrete-v1_MainThread_ROOT INFO:Updating idf Site:Location and SizingPeriod:DesignDay(s) to weather and ddy file...\n",
      "[2023-04-13 10:15:49,019] EPLUS_ENV_5Zone-hot-discrete-v1_MainThread_ROOT INFO:Updating idf Site:Location and SizingPeriod:DesignDay(s) to weather and ddy file...\n",
      "[2023-04-13 10:15:49,021] EPLUS_ENV_5Zone-hot-discrete-v1_MainThread_ROOT INFO:Updating idf OutPut:Variable and variables XML tree model for BVCTB connection.\n",
      "[2023-04-13 10:15:49,021] EPLUS_ENV_5Zone-hot-discrete-v1_MainThread_ROOT INFO:Updating idf OutPut:Variable and variables XML tree model for BVCTB connection.\n",
      "[2023-04-13 10:15:49,022] EPLUS_ENV_5Zone-hot-discrete-v1_MainThread_ROOT INFO:Setting up extra configuration in building model if exists...\n",
      "[2023-04-13 10:15:49,022] EPLUS_ENV_5Zone-hot-discrete-v1_MainThread_ROOT INFO:Setting up extra configuration in building model if exists...\n",
      "[2023-04-13 10:15:49,023] EPLUS_ENV_5Zone-hot-discrete-v1_MainThread_ROOT INFO:Setting up action definition in building model if exists...\n",
      "[2023-04-13 10:15:49,023] EPLUS_ENV_5Zone-hot-discrete-v1_MainThread_ROOT INFO:Setting up action definition in building model if exists...\n"
     ]
    }
   ],
   "source": [
    "env=gym.make('Eplus-5Zone-hot-discrete-v1')\n",
    "env = PreviousObservationWrapper(env, previous_variables=[\n",
    "        'Zone Thermostat Heating Setpoint Temperature(SPACE1-1)',\n",
    "        'Zone Thermostat Cooling Setpoint Temperature(SPACE1-1)',\n",
    "        'Zone Air Temperature(SPACE1-1)'])"
   ]
  },
  {
   "attachments": {},
   "cell_type": "markdown",
   "metadata": {},
   "source": [
    "We can see the observation values has been updated:"
   ]
  },
  {
   "cell_type": "code",
   "execution_count": 5,
   "metadata": {},
   "outputs": [
    {
     "name": "stdout",
     "output_type": "stream",
     "text": [
      "[2023-04-13 10:15:49,131] EPLUS_ENV_5Zone-hot-discrete-v1_MainThread_ROOT INFO:Creating new EnergyPlus simulation episode...\n",
      "[2023-04-13 10:15:49,131] EPLUS_ENV_5Zone-hot-discrete-v1_MainThread_ROOT INFO:Creating new EnergyPlus simulation episode...\n",
      "[2023-04-13 10:15:49,263] EPLUS_ENV_5Zone-hot-discrete-v1_MainThread_ROOT INFO:EnergyPlus working directory is in /workspaces/sinergym/examples/Eplus-env-5Zone-hot-discrete-v1-res2/Eplus-env-sub_run1\n",
      "[2023-04-13 10:15:49,263] EPLUS_ENV_5Zone-hot-discrete-v1_MainThread_ROOT INFO:EnergyPlus working directory is in /workspaces/sinergym/examples/Eplus-env-5Zone-hot-discrete-v1-res2/Eplus-env-sub_run1\n"
     ]
    },
    {
     "name": "stderr",
     "output_type": "stream",
     "text": [
      "/usr/local/lib/python3.10/dist-packages/opyplus/weather_data/weather_data.py:493: FutureWarning: the 'line_terminator'' keyword is deprecated, use 'lineterminator' instead.\n",
      "  epw_content = self._headers_to_epw(use_datetimes=use_datetimes) + df.to_csv(\n"
     ]
    },
    {
     "name": "stdout",
     "output_type": "stream",
     "text": [
      "[2023-04-13 10:15:54,588] EPLUS_ENV_5Zone-hot-discrete-v1_MainThread_ROOT INFO:EnergyPlus simulation closed successfully. \n",
      "[2023-04-13 10:15:54,588] EPLUS_ENV_5Zone-hot-discrete-v1_MainThread_ROOT INFO:EnergyPlus simulation closed successfully. \n",
      "NEW OBSERVATION:  {'year': 1991.0, 'month': 1.0, 'day': 1.0, 'hour': 0.0, 'Site Outdoor Air Drybulb Temperature(Environment)': 4.4, 'Site Outdoor Air Relative Humidity(Environment)': 65.0, 'Site Wind Speed(Environment)': 3.875, 'Site Wind Direction(Environment)': 145.0, 'Site Diffuse Solar Radiation Rate per Area(Environment)': 0.0, 'Site Direct Solar Radiation Rate per Area(Environment)': 0.0, 'Zone Thermostat Heating Setpoint Temperature(SPACE1-1)': 20.0, 'Zone Thermostat Cooling Setpoint Temperature(SPACE1-1)': 25.0, 'Zone Air Temperature(SPACE1-1)': 20.086689, 'Zone Thermal Comfort Mean Radiant Temperature(SPACE1-1 PEOPLE 1)': 19.676394, 'Zone Air Relative Humidity(SPACE1-1)': 24.532095, 'Zone Thermal Comfort Clothing Value(SPACE1-1 PEOPLE 1)': 0.75, 'Zone Thermal Comfort Fanger Model PPD(SPACE1-1 PEOPLE 1)': 38.68046, 'Zone People Occupant Count(SPACE1-1)': 0.0, 'People Air Temperature(SPACE1-1 PEOPLE 1)': 20.086689, 'Facility Total HVAC Electricity Demand Rate(Whole Building)': 3270.513, 'Zone Thermostat Heating Setpoint Temperature(SPACE1-1)_previous': 21.0, 'Zone Thermostat Cooling Setpoint Temperature(SPACE1-1)_previous': 25.0, 'Zone Air Temperature(SPACE1-1)_previous': 21.00003}\n"
     ]
    }
   ],
   "source": [
    "env.reset()\n",
    "obs,_,_,_,_=env.step(env.action_space.sample())\n",
    "obs_dict=dict(zip(env.variables['observation'],obs))\n",
    "env.close()\n",
    "print('NEW OBSERVATION: ',obs_dict)"
   ]
  },
  {
   "attachments": {},
   "cell_type": "markdown",
   "metadata": {},
   "source": [
    "## Datetime Wrapper"
   ]
  },
  {
   "attachments": {},
   "cell_type": "markdown",
   "metadata": {},
   "source": [
    "This wrapper will substitute `day` value by `is_weekend` flag, and `hour` and `month` by sin and cos values. \n",
    "Observation space is also updated automatically."
   ]
  },
  {
   "cell_type": "code",
   "execution_count": 6,
   "metadata": {},
   "outputs": [
    {
     "name": "stdout",
     "output_type": "stream",
     "text": [
      "[2023-04-13 10:15:55,426] EPLUS_ENV_5Zone-hot-discrete-v1_MainThread_ROOT INFO:Updating idf ExternalInterface object if it is not present...\n",
      "[2023-04-13 10:15:55,426] EPLUS_ENV_5Zone-hot-discrete-v1_MainThread_ROOT INFO:Updating idf ExternalInterface object if it is not present...\n",
      "[2023-04-13 10:15:55,426] EPLUS_ENV_5Zone-hot-discrete-v1_MainThread_ROOT INFO:Updating idf ExternalInterface object if it is not present...\n",
      "[2023-04-13 10:15:55,427] EPLUS_ENV_5Zone-hot-discrete-v1_MainThread_ROOT INFO:Updating idf Site:Location and SizingPeriod:DesignDay(s) to weather and ddy file...\n",
      "[2023-04-13 10:15:55,427] EPLUS_ENV_5Zone-hot-discrete-v1_MainThread_ROOT INFO:Updating idf Site:Location and SizingPeriod:DesignDay(s) to weather and ddy file...\n",
      "[2023-04-13 10:15:55,427] EPLUS_ENV_5Zone-hot-discrete-v1_MainThread_ROOT INFO:Updating idf Site:Location and SizingPeriod:DesignDay(s) to weather and ddy file...\n",
      "[2023-04-13 10:15:55,429] EPLUS_ENV_5Zone-hot-discrete-v1_MainThread_ROOT INFO:Updating idf OutPut:Variable and variables XML tree model for BVCTB connection.\n",
      "[2023-04-13 10:15:55,429] EPLUS_ENV_5Zone-hot-discrete-v1_MainThread_ROOT INFO:Updating idf OutPut:Variable and variables XML tree model for BVCTB connection.\n",
      "[2023-04-13 10:15:55,429] EPLUS_ENV_5Zone-hot-discrete-v1_MainThread_ROOT INFO:Updating idf OutPut:Variable and variables XML tree model for BVCTB connection.\n",
      "[2023-04-13 10:15:55,431] EPLUS_ENV_5Zone-hot-discrete-v1_MainThread_ROOT INFO:Setting up extra configuration in building model if exists...\n",
      "[2023-04-13 10:15:55,431] EPLUS_ENV_5Zone-hot-discrete-v1_MainThread_ROOT INFO:Setting up extra configuration in building model if exists...\n",
      "[2023-04-13 10:15:55,431] EPLUS_ENV_5Zone-hot-discrete-v1_MainThread_ROOT INFO:Setting up extra configuration in building model if exists...\n",
      "[2023-04-13 10:15:55,431] EPLUS_ENV_5Zone-hot-discrete-v1_MainThread_ROOT INFO:Setting up action definition in building model if exists...\n",
      "[2023-04-13 10:15:55,431] EPLUS_ENV_5Zone-hot-discrete-v1_MainThread_ROOT INFO:Setting up action definition in building model if exists...\n",
      "[2023-04-13 10:15:55,431] EPLUS_ENV_5Zone-hot-discrete-v1_MainThread_ROOT INFO:Setting up action definition in building model if exists...\n"
     ]
    }
   ],
   "source": [
    "env=gym.make('Eplus-5Zone-hot-discrete-v1')\n",
    "env = DatetimeWrapper(env)"
   ]
  },
  {
   "attachments": {},
   "cell_type": "markdown",
   "metadata": {},
   "source": [
    "Concretely, this wrapper deletes the observation variables `month`, `day` and `hour`, and adds `month_sin`, `month_cos`, `is_weekend`, `hour_sin` and `hour_cos` instead:"
   ]
  },
  {
   "cell_type": "code",
   "execution_count": 7,
   "metadata": {},
   "outputs": [
    {
     "name": "stdout",
     "output_type": "stream",
     "text": [
      "[2023-04-13 10:15:55,483] EPLUS_ENV_5Zone-hot-discrete-v1_MainThread_ROOT INFO:Creating new EnergyPlus simulation episode...\n",
      "[2023-04-13 10:15:55,483] EPLUS_ENV_5Zone-hot-discrete-v1_MainThread_ROOT INFO:Creating new EnergyPlus simulation episode...\n",
      "[2023-04-13 10:15:55,483] EPLUS_ENV_5Zone-hot-discrete-v1_MainThread_ROOT INFO:Creating new EnergyPlus simulation episode...\n",
      "[2023-04-13 10:15:55,588] EPLUS_ENV_5Zone-hot-discrete-v1_MainThread_ROOT INFO:EnergyPlus working directory is in /workspaces/sinergym/examples/Eplus-env-5Zone-hot-discrete-v1-res3/Eplus-env-sub_run1\n",
      "[2023-04-13 10:15:55,588] EPLUS_ENV_5Zone-hot-discrete-v1_MainThread_ROOT INFO:EnergyPlus working directory is in /workspaces/sinergym/examples/Eplus-env-5Zone-hot-discrete-v1-res3/Eplus-env-sub_run1\n",
      "[2023-04-13 10:15:55,588] EPLUS_ENV_5Zone-hot-discrete-v1_MainThread_ROOT INFO:EnergyPlus working directory is in /workspaces/sinergym/examples/Eplus-env-5Zone-hot-discrete-v1-res3/Eplus-env-sub_run1\n"
     ]
    },
    {
     "name": "stderr",
     "output_type": "stream",
     "text": [
      "/usr/local/lib/python3.10/dist-packages/opyplus/weather_data/weather_data.py:493: FutureWarning: the 'line_terminator'' keyword is deprecated, use 'lineterminator' instead.\n",
      "  epw_content = self._headers_to_epw(use_datetimes=use_datetimes) + df.to_csv(\n"
     ]
    },
    {
     "name": "stdout",
     "output_type": "stream",
     "text": [
      "[2023-04-13 10:16:00,877] EPLUS_ENV_5Zone-hot-discrete-v1_MainThread_ROOT INFO:EnergyPlus simulation closed successfully. \n",
      "[2023-04-13 10:16:00,877] EPLUS_ENV_5Zone-hot-discrete-v1_MainThread_ROOT INFO:EnergyPlus simulation closed successfully. \n",
      "[2023-04-13 10:16:00,877] EPLUS_ENV_5Zone-hot-discrete-v1_MainThread_ROOT INFO:EnergyPlus simulation closed successfully. \n",
      "NEW OBSERVATION:  {'year': 1991.0, 'month_cos': 0.5403022766113281, 'month_sin': 0.8414710164070129, 'is_weekend': 0.0, 'hour_cos': 1.0, 'hour_sin': 0.0, 'Site Outdoor Air Drybulb Temperature(Environment)': 4.400000095367432, 'Site Outdoor Air Relative Humidity(Environment)': 65.0, 'Site Wind Speed(Environment)': 3.875, 'Site Wind Direction(Environment)': 145.0, 'Site Diffuse Solar Radiation Rate per Area(Environment)': 0.0, 'Site Direct Solar Radiation Rate per Area(Environment)': 0.0, 'Zone Thermostat Heating Setpoint Temperature(SPACE1-1)': 20.0, 'Zone Thermostat Cooling Setpoint Temperature(SPACE1-1)': 25.0, 'Zone Air Temperature(SPACE1-1)': 20.086688995361328, 'Zone Thermal Comfort Mean Radiant Temperature(SPACE1-1 PEOPLE 1)': 19.676393508911133, 'Zone Air Relative Humidity(SPACE1-1)': 24.532094955444336, 'Zone Thermal Comfort Clothing Value(SPACE1-1 PEOPLE 1)': 0.75, 'Zone Thermal Comfort Fanger Model PPD(SPACE1-1 PEOPLE 1)': 38.68046188354492, 'Zone People Occupant Count(SPACE1-1)': 0.0, 'People Air Temperature(SPACE1-1 PEOPLE 1)': 20.086688995361328, 'Facility Total HVAC Electricity Demand Rate(Whole Building)': 3270.512939453125}\n"
     ]
    }
   ],
   "source": [
    "env.reset()\n",
    "obs,_,_,_,_=env.step(env.action_space.sample())\n",
    "obs_dict=dict(zip(env.variables['observation'],obs))\n",
    "env.close()\n",
    "print('NEW OBSERVATION: ',obs_dict)"
   ]
  },
  {
   "attachments": {},
   "cell_type": "markdown",
   "metadata": {},
   "source": [
    "## Discrete Incremental Wrapper"
   ]
  },
  {
   "attachments": {},
   "cell_type": "markdown",
   "metadata": {},
   "source": [
    "A wrapper for an incremental discrete setpoint action space environment. This wrapper\n",
    "will update environment action mapping and action space depending on the step and delta specified. The action will be sum\n",
    "with current setpoint values instead of overwrite the latest action.\n",
    "A discrete environment with only temperature setpoints control must be used with this wrapper."
   ]
  },
  {
   "cell_type": "code",
   "execution_count": 8,
   "metadata": {},
   "outputs": [
    {
     "name": "stdout",
     "output_type": "stream",
     "text": [
      "[2023-04-13 10:16:01,676] EPLUS_ENV_5Zone-hot-discrete-v1_MainThread_ROOT INFO:Updating idf ExternalInterface object if it is not present...\n",
      "[2023-04-13 10:16:01,676] EPLUS_ENV_5Zone-hot-discrete-v1_MainThread_ROOT INFO:Updating idf ExternalInterface object if it is not present...\n",
      "[2023-04-13 10:16:01,676] EPLUS_ENV_5Zone-hot-discrete-v1_MainThread_ROOT INFO:Updating idf ExternalInterface object if it is not present...\n",
      "[2023-04-13 10:16:01,676] EPLUS_ENV_5Zone-hot-discrete-v1_MainThread_ROOT INFO:Updating idf ExternalInterface object if it is not present...\n",
      "[2023-04-13 10:16:01,678] EPLUS_ENV_5Zone-hot-discrete-v1_MainThread_ROOT INFO:Updating idf Site:Location and SizingPeriod:DesignDay(s) to weather and ddy file...\n",
      "[2023-04-13 10:16:01,678] EPLUS_ENV_5Zone-hot-discrete-v1_MainThread_ROOT INFO:Updating idf Site:Location and SizingPeriod:DesignDay(s) to weather and ddy file...\n",
      "[2023-04-13 10:16:01,678] EPLUS_ENV_5Zone-hot-discrete-v1_MainThread_ROOT INFO:Updating idf Site:Location and SizingPeriod:DesignDay(s) to weather and ddy file...\n",
      "[2023-04-13 10:16:01,678] EPLUS_ENV_5Zone-hot-discrete-v1_MainThread_ROOT INFO:Updating idf Site:Location and SizingPeriod:DesignDay(s) to weather and ddy file...\n",
      "[2023-04-13 10:16:01,680] EPLUS_ENV_5Zone-hot-discrete-v1_MainThread_ROOT INFO:Updating idf OutPut:Variable and variables XML tree model for BVCTB connection.\n",
      "[2023-04-13 10:16:01,680] EPLUS_ENV_5Zone-hot-discrete-v1_MainThread_ROOT INFO:Updating idf OutPut:Variable and variables XML tree model for BVCTB connection.\n",
      "[2023-04-13 10:16:01,680] EPLUS_ENV_5Zone-hot-discrete-v1_MainThread_ROOT INFO:Updating idf OutPut:Variable and variables XML tree model for BVCTB connection.\n",
      "[2023-04-13 10:16:01,680] EPLUS_ENV_5Zone-hot-discrete-v1_MainThread_ROOT INFO:Updating idf OutPut:Variable and variables XML tree model for BVCTB connection.\n",
      "[2023-04-13 10:16:01,681] EPLUS_ENV_5Zone-hot-discrete-v1_MainThread_ROOT INFO:Setting up extra configuration in building model if exists...\n",
      "[2023-04-13 10:16:01,681] EPLUS_ENV_5Zone-hot-discrete-v1_MainThread_ROOT INFO:Setting up extra configuration in building model if exists...\n",
      "[2023-04-13 10:16:01,681] EPLUS_ENV_5Zone-hot-discrete-v1_MainThread_ROOT INFO:Setting up extra configuration in building model if exists...\n",
      "[2023-04-13 10:16:01,681] EPLUS_ENV_5Zone-hot-discrete-v1_MainThread_ROOT INFO:Setting up extra configuration in building model if exists...\n",
      "[2023-04-13 10:16:01,682] EPLUS_ENV_5Zone-hot-discrete-v1_MainThread_ROOT INFO:Setting up action definition in building model if exists...\n",
      "[2023-04-13 10:16:01,682] EPLUS_ENV_5Zone-hot-discrete-v1_MainThread_ROOT INFO:Setting up action definition in building model if exists...\n",
      "[2023-04-13 10:16:01,682] EPLUS_ENV_5Zone-hot-discrete-v1_MainThread_ROOT INFO:Setting up action definition in building model if exists...\n",
      "[2023-04-13 10:16:01,682] EPLUS_ENV_5Zone-hot-discrete-v1_MainThread_ROOT INFO:Setting up action definition in building model if exists...\n",
      "ORIGINAL ACTION SPACE:  Discrete(10)\n",
      "ORIGINAL ACTION MAPPING:  {0: (15, 30), 1: (16, 29), 2: (17, 28), 3: (18, 27), 4: (19, 26), 5: (20, 25), 6: (21, 24), 7: (22, 23), 8: (22, 22), 9: (21, 21)}\n",
      "New incremental action mapping: 17\n",
      "{0: [0.0, 0.0], 1: [0.5, 0.0], 2: [1.0, 0.0], 3: [1.5, 0.0], 4: [2.0, 0.0], 5: [-0.5, 0.0], 6: [-1.0, 0.0], 7: [-1.5, 0.0], 8: [-2.0, 0.0], 9: [0.0, 0.5], 10: [0.0, 1.0], 11: [0.0, 1.5], 12: [0.0, 2.0], 13: [0.0, -0.5], 14: [0.0, -1.0], 15: [0.0, -1.5], 16: [0.0, -2.0]}\n",
      "WRAPPED ACTION SPACE:  Discrete(17)\n",
      "WRAPPED ACTION MAPPING:  {0: [0.0, 0.0], 1: [0.5, 0.0], 2: [1.0, 0.0], 3: [1.5, 0.0], 4: [2.0, 0.0], 5: [-0.5, 0.0], 6: [-1.0, 0.0], 7: [-1.5, 0.0], 8: [-2.0, 0.0], 9: [0.0, 0.5], 10: [0.0, 1.0], 11: [0.0, 1.5], 12: [0.0, 2.0], 13: [0.0, -0.5], 14: [0.0, -1.0], 15: [0.0, -1.5], 16: [0.0, -2.0]}\n"
     ]
    }
   ],
   "source": [
    "env=gym.make('Eplus-5Zone-hot-discrete-v1')\n",
    "print('ORIGINAL ACTION SPACE: ',env.action_space)\n",
    "print('ORIGINAL ACTION MAPPING: ',env.action_mapping)\n",
    "env = DiscreteIncrementalWrapper(\n",
    "        env, max_values=[\n",
    "            22.5, 30.0], min_values=[\n",
    "            15.0, 22.5], delta_temp=2, step_temp=0.5)\n",
    "print('WRAPPED ACTION SPACE: ',env.action_space)\n",
    "print('WRAPPED ACTION MAPPING: ',env.action_mapping)"
   ]
  },
  {
   "attachments": {},
   "cell_type": "markdown",
   "metadata": {},
   "source": [
    "maximum and minimum values are specified so that the setpoint increments and decrements do not go outside the agreed limits.\n",
    "The delta and step values are used to determine how the discrete space of these increments and decrements will be constructed.\n",
    "An example of how it works is shown below:"
   ]
  },
  {
   "cell_type": "code",
   "execution_count": 9,
   "metadata": {},
   "outputs": [
    {
     "name": "stdout",
     "output_type": "stream",
     "text": [
      "[2023-04-13 10:16:01,733] EPLUS_ENV_5Zone-hot-discrete-v1_MainThread_ROOT INFO:Creating new EnergyPlus simulation episode...\n",
      "[2023-04-13 10:16:01,733] EPLUS_ENV_5Zone-hot-discrete-v1_MainThread_ROOT INFO:Creating new EnergyPlus simulation episode...\n",
      "[2023-04-13 10:16:01,733] EPLUS_ENV_5Zone-hot-discrete-v1_MainThread_ROOT INFO:Creating new EnergyPlus simulation episode...\n",
      "[2023-04-13 10:16:01,733] EPLUS_ENV_5Zone-hot-discrete-v1_MainThread_ROOT INFO:Creating new EnergyPlus simulation episode...\n",
      "[2023-04-13 10:16:01,857] EPLUS_ENV_5Zone-hot-discrete-v1_MainThread_ROOT INFO:EnergyPlus working directory is in /workspaces/sinergym/examples/Eplus-env-5Zone-hot-discrete-v1-res4/Eplus-env-sub_run1\n",
      "[2023-04-13 10:16:01,857] EPLUS_ENV_5Zone-hot-discrete-v1_MainThread_ROOT INFO:EnergyPlus working directory is in /workspaces/sinergym/examples/Eplus-env-5Zone-hot-discrete-v1-res4/Eplus-env-sub_run1\n",
      "[2023-04-13 10:16:01,857] EPLUS_ENV_5Zone-hot-discrete-v1_MainThread_ROOT INFO:EnergyPlus working directory is in /workspaces/sinergym/examples/Eplus-env-5Zone-hot-discrete-v1-res4/Eplus-env-sub_run1\n",
      "[2023-04-13 10:16:01,857] EPLUS_ENV_5Zone-hot-discrete-v1_MainThread_ROOT INFO:EnergyPlus working directory is in /workspaces/sinergym/examples/Eplus-env-5Zone-hot-discrete-v1-res4/Eplus-env-sub_run1\n"
     ]
    },
    {
     "name": "stderr",
     "output_type": "stream",
     "text": [
      "/usr/local/lib/python3.10/dist-packages/opyplus/weather_data/weather_data.py:493: FutureWarning: the 'line_terminator'' keyword is deprecated, use 'lineterminator' instead.\n",
      "  epw_content = self._headers_to_epw(use_datetimes=use_datetimes) + df.to_csv(\n"
     ]
    },
    {
     "name": "stdout",
     "output_type": "stream",
     "text": [
      "CURRENT SETPOINTS VALUES:  [21.0, 25.0]\n",
      "Action number  0 :  [-0.5, 0.0]\n",
      "Setpoints update:  [20.5, 25.0]\n",
      "Action number  1 :  [0.0, 0.0]\n",
      "Setpoints update:  [20.5, 25.0]\n",
      "Action number  2 :  [0.0, 0.5]\n",
      "Setpoints update:  [20.5, 25.5]\n",
      "Action number  3 :  [-2.0, 0.0]\n",
      "Setpoints update:  [18.5, 25.5]\n",
      "Action number  4 :  [1.0, 0.0]\n",
      "Setpoints update:  [19.5, 25.5]\n",
      "[2023-04-13 10:16:07,182] EPLUS_ENV_5Zone-hot-discrete-v1_MainThread_ROOT INFO:EnergyPlus simulation closed successfully. \n",
      "[2023-04-13 10:16:07,182] EPLUS_ENV_5Zone-hot-discrete-v1_MainThread_ROOT INFO:EnergyPlus simulation closed successfully. \n",
      "[2023-04-13 10:16:07,182] EPLUS_ENV_5Zone-hot-discrete-v1_MainThread_ROOT INFO:EnergyPlus simulation closed successfully. \n",
      "[2023-04-13 10:16:07,182] EPLUS_ENV_5Zone-hot-discrete-v1_MainThread_ROOT INFO:EnergyPlus simulation closed successfully. \n"
     ]
    }
   ],
   "source": [
    "env.reset()\n",
    "print('CURRENT SETPOINTS VALUES: ', env.current_setpoints)\n",
    "for i in range(5):\n",
    "    action=env.action_space.sample()\n",
    "    _,_,_,_,info=env.step(action)\n",
    "    print('Action number ',i,': ',env.action_mapping[action])\n",
    "    print('Setpoints update: ', info['action'])\n",
    "env.close()"
   ]
  },
  {
   "cell_type": "markdown",
   "metadata": {},
   "source": [
    "## Normalization Wrapper"
   ]
  },
  {
   "attachments": {},
   "cell_type": "markdown",
   "metadata": {},
   "source": [
    "This wrapper is used to transform observation received from simulator in values between 0 and 1.\n",
    "It is possible to define a list of variables you want to normalize, if you don't define this list, all environment\n",
    "variables will be included. \n",
    "\n",
    "In order to normalize values, it is necessary a dictionary in order to store max and min values. \n",
    "Then, if a environment variable is not included in the dictionary specified in wrapper constructor, then the normalization \n",
    "for that variable will be skipped."
   ]
  },
  {
   "cell_type": "code",
   "execution_count": 10,
   "metadata": {
    "collapsed": false,
    "pycharm": {
     "name": "#%%\n"
    }
   },
   "outputs": [
    {
     "name": "stdout",
     "output_type": "stream",
     "text": [
      "[2023-04-13 10:16:08,150] EPLUS_ENV_5Zone-hot-discrete-v1_MainThread_ROOT INFO:Updating idf ExternalInterface object if it is not present...\n",
      "[2023-04-13 10:16:08,150] EPLUS_ENV_5Zone-hot-discrete-v1_MainThread_ROOT INFO:Updating idf ExternalInterface object if it is not present...\n",
      "[2023-04-13 10:16:08,150] EPLUS_ENV_5Zone-hot-discrete-v1_MainThread_ROOT INFO:Updating idf ExternalInterface object if it is not present...\n",
      "[2023-04-13 10:16:08,150] EPLUS_ENV_5Zone-hot-discrete-v1_MainThread_ROOT INFO:Updating idf ExternalInterface object if it is not present...\n",
      "[2023-04-13 10:16:08,150] EPLUS_ENV_5Zone-hot-discrete-v1_MainThread_ROOT INFO:Updating idf ExternalInterface object if it is not present...\n",
      "[2023-04-13 10:16:08,152] EPLUS_ENV_5Zone-hot-discrete-v1_MainThread_ROOT INFO:Updating idf Site:Location and SizingPeriod:DesignDay(s) to weather and ddy file...\n",
      "[2023-04-13 10:16:08,152] EPLUS_ENV_5Zone-hot-discrete-v1_MainThread_ROOT INFO:Updating idf Site:Location and SizingPeriod:DesignDay(s) to weather and ddy file...\n",
      "[2023-04-13 10:16:08,152] EPLUS_ENV_5Zone-hot-discrete-v1_MainThread_ROOT INFO:Updating idf Site:Location and SizingPeriod:DesignDay(s) to weather and ddy file...\n",
      "[2023-04-13 10:16:08,152] EPLUS_ENV_5Zone-hot-discrete-v1_MainThread_ROOT INFO:Updating idf Site:Location and SizingPeriod:DesignDay(s) to weather and ddy file...\n",
      "[2023-04-13 10:16:08,152] EPLUS_ENV_5Zone-hot-discrete-v1_MainThread_ROOT INFO:Updating idf Site:Location and SizingPeriod:DesignDay(s) to weather and ddy file...\n",
      "[2023-04-13 10:16:08,154] EPLUS_ENV_5Zone-hot-discrete-v1_MainThread_ROOT INFO:Updating idf OutPut:Variable and variables XML tree model for BVCTB connection.\n",
      "[2023-04-13 10:16:08,154] EPLUS_ENV_5Zone-hot-discrete-v1_MainThread_ROOT INFO:Updating idf OutPut:Variable and variables XML tree model for BVCTB connection.\n",
      "[2023-04-13 10:16:08,154] EPLUS_ENV_5Zone-hot-discrete-v1_MainThread_ROOT INFO:Updating idf OutPut:Variable and variables XML tree model for BVCTB connection.\n",
      "[2023-04-13 10:16:08,154] EPLUS_ENV_5Zone-hot-discrete-v1_MainThread_ROOT INFO:Updating idf OutPut:Variable and variables XML tree model for BVCTB connection.\n",
      "[2023-04-13 10:16:08,154] EPLUS_ENV_5Zone-hot-discrete-v1_MainThread_ROOT INFO:Updating idf OutPut:Variable and variables XML tree model for BVCTB connection.\n",
      "[2023-04-13 10:16:08,156] EPLUS_ENV_5Zone-hot-discrete-v1_MainThread_ROOT INFO:Setting up extra configuration in building model if exists...\n",
      "[2023-04-13 10:16:08,156] EPLUS_ENV_5Zone-hot-discrete-v1_MainThread_ROOT INFO:Setting up extra configuration in building model if exists...\n",
      "[2023-04-13 10:16:08,156] EPLUS_ENV_5Zone-hot-discrete-v1_MainThread_ROOT INFO:Setting up extra configuration in building model if exists...\n",
      "[2023-04-13 10:16:08,156] EPLUS_ENV_5Zone-hot-discrete-v1_MainThread_ROOT INFO:Setting up extra configuration in building model if exists...\n",
      "[2023-04-13 10:16:08,156] EPLUS_ENV_5Zone-hot-discrete-v1_MainThread_ROOT INFO:Setting up extra configuration in building model if exists...\n",
      "[2023-04-13 10:16:08,157] EPLUS_ENV_5Zone-hot-discrete-v1_MainThread_ROOT INFO:Setting up action definition in building model if exists...\n",
      "[2023-04-13 10:16:08,157] EPLUS_ENV_5Zone-hot-discrete-v1_MainThread_ROOT INFO:Setting up action definition in building model if exists...\n",
      "[2023-04-13 10:16:08,157] EPLUS_ENV_5Zone-hot-discrete-v1_MainThread_ROOT INFO:Setting up action definition in building model if exists...\n",
      "[2023-04-13 10:16:08,157] EPLUS_ENV_5Zone-hot-discrete-v1_MainThread_ROOT INFO:Setting up action definition in building model if exists...\n",
      "[2023-04-13 10:16:08,157] EPLUS_ENV_5Zone-hot-discrete-v1_MainThread_ROOT INFO:Setting up action definition in building model if exists...\n"
     ]
    }
   ],
   "source": [
    "#Original env\n",
    "env=gym.make('Eplus-5Zone-hot-discrete-v1')\n",
    "env = NormalizeObservation(\n",
    "        env=env,\n",
    "        ranges=RANGES_5ZONE,\n",
    "        variables=[\n",
    "            'Zone Thermostat Heating Setpoint Temperature(SPACE1-1)',\n",
    "            'Zone Thermostat Cooling Setpoint Temperature(SPACE1-1)',\n",
    "            'Zone Air Temperature(SPACE1-1)'])"
   ]
  },
  {
   "attachments": {},
   "cell_type": "markdown",
   "metadata": {},
   "source": [
    "We can see in the next code how the variables specified have been normalized correctly:"
   ]
  },
  {
   "cell_type": "code",
   "execution_count": 11,
   "metadata": {},
   "outputs": [
    {
     "name": "stdout",
     "output_type": "stream",
     "text": [
      "[2023-04-13 10:16:08,197] EPLUS_ENV_5Zone-hot-discrete-v1_MainThread_ROOT INFO:Creating new EnergyPlus simulation episode...\n",
      "[2023-04-13 10:16:08,197] EPLUS_ENV_5Zone-hot-discrete-v1_MainThread_ROOT INFO:Creating new EnergyPlus simulation episode...\n",
      "[2023-04-13 10:16:08,197] EPLUS_ENV_5Zone-hot-discrete-v1_MainThread_ROOT INFO:Creating new EnergyPlus simulation episode...\n",
      "[2023-04-13 10:16:08,197] EPLUS_ENV_5Zone-hot-discrete-v1_MainThread_ROOT INFO:Creating new EnergyPlus simulation episode...\n",
      "[2023-04-13 10:16:08,197] EPLUS_ENV_5Zone-hot-discrete-v1_MainThread_ROOT INFO:Creating new EnergyPlus simulation episode...\n",
      "[2023-04-13 10:16:08,307] EPLUS_ENV_5Zone-hot-discrete-v1_MainThread_ROOT INFO:EnergyPlus working directory is in /workspaces/sinergym/examples/Eplus-env-5Zone-hot-discrete-v1-res5/Eplus-env-sub_run1\n",
      "[2023-04-13 10:16:08,307] EPLUS_ENV_5Zone-hot-discrete-v1_MainThread_ROOT INFO:EnergyPlus working directory is in /workspaces/sinergym/examples/Eplus-env-5Zone-hot-discrete-v1-res5/Eplus-env-sub_run1\n",
      "[2023-04-13 10:16:08,307] EPLUS_ENV_5Zone-hot-discrete-v1_MainThread_ROOT INFO:EnergyPlus working directory is in /workspaces/sinergym/examples/Eplus-env-5Zone-hot-discrete-v1-res5/Eplus-env-sub_run1\n",
      "[2023-04-13 10:16:08,307] EPLUS_ENV_5Zone-hot-discrete-v1_MainThread_ROOT INFO:EnergyPlus working directory is in /workspaces/sinergym/examples/Eplus-env-5Zone-hot-discrete-v1-res5/Eplus-env-sub_run1\n",
      "[2023-04-13 10:16:08,307] EPLUS_ENV_5Zone-hot-discrete-v1_MainThread_ROOT INFO:EnergyPlus working directory is in /workspaces/sinergym/examples/Eplus-env-5Zone-hot-discrete-v1-res5/Eplus-env-sub_run1\n"
     ]
    },
    {
     "name": "stderr",
     "output_type": "stream",
     "text": [
      "/usr/local/lib/python3.10/dist-packages/opyplus/weather_data/weather_data.py:493: FutureWarning: the 'line_terminator'' keyword is deprecated, use 'lineterminator' instead.\n",
      "  epw_content = self._headers_to_epw(use_datetimes=use_datetimes) + df.to_csv(\n"
     ]
    },
    {
     "name": "stdout",
     "output_type": "stream",
     "text": [
      "[2023-04-13 10:16:13,330] EPLUS_ENV_5Zone-hot-discrete-v1_MainThread_ROOT INFO:EnergyPlus simulation closed successfully. \n",
      "[2023-04-13 10:16:13,330] EPLUS_ENV_5Zone-hot-discrete-v1_MainThread_ROOT INFO:EnergyPlus simulation closed successfully. \n",
      "[2023-04-13 10:16:13,330] EPLUS_ENV_5Zone-hot-discrete-v1_MainThread_ROOT INFO:EnergyPlus simulation closed successfully. \n",
      "[2023-04-13 10:16:13,330] EPLUS_ENV_5Zone-hot-discrete-v1_MainThread_ROOT INFO:EnergyPlus simulation closed successfully. \n",
      "[2023-04-13 10:16:13,330] EPLUS_ENV_5Zone-hot-discrete-v1_MainThread_ROOT INFO:EnergyPlus simulation closed successfully. \n",
      "OBSERVATION WITH NORMALIZATION IN VARIABLES SELECTED:  {'year': 1991.0, 'month': 1.0, 'day': 1.0, 'hour': 0.0, 'Site Outdoor Air Drybulb Temperature(Environment)': 4.4, 'Site Outdoor Air Relative Humidity(Environment)': 65.0, 'Site Wind Speed(Environment)': 3.875, 'Site Wind Direction(Environment)': 145.0, 'Site Diffuse Solar Radiation Rate per Area(Environment)': 0.0, 'Site Direct Solar Radiation Rate per Area(Environment)': 0.0, 'Zone Thermostat Heating Setpoint Temperature(SPACE1-1)': 0.9333345, 'Zone Thermostat Cooling Setpoint Temperature(SPACE1-1)': 0.22222222, 'Zone Air Temperature(SPACE1-1)': 0.41318318, 'Zone Thermal Comfort Mean Radiant Temperature(SPACE1-1 PEOPLE 1)': 19.676394, 'Zone Air Relative Humidity(SPACE1-1)': 22.724823, 'Zone Thermal Comfort Clothing Value(SPACE1-1 PEOPLE 1)': 0.75, 'Zone Thermal Comfort Fanger Model PPD(SPACE1-1 PEOPLE 1)': 30.32209, 'Zone People Occupant Count(SPACE1-1)': 0.0, 'People Air Temperature(SPACE1-1 PEOPLE 1)': 21.33358, 'Facility Total HVAC Electricity Demand Rate(Whole Building)': 9866.765}\n"
     ]
    }
   ],
   "source": [
    "env.reset()\n",
    "obs,_,_,_,_=env.step(env.action_space.sample())\n",
    "obs_dict=dict(zip(env.variables['observation'],obs))\n",
    "env.close()\n",
    "print('OBSERVATION WITH NORMALIZATION IN VARIABLES SELECTED: ',obs_dict)"
   ]
  },
  {
   "cell_type": "markdown",
   "metadata": {},
   "source": [
    "## Logger Wrapper"
   ]
  },
  {
   "attachments": {},
   "cell_type": "markdown",
   "metadata": {},
   "source": [
    "Wrapper for logging all interactions between agent and environment. Logger class can be selected\n",
    "in the constructor if other type of logging is required. For more information about *Sinergym* Logger visit [Logger](https://ugr-sail.github.io/sinergym/compilation/main/pages/output.html#logger)"
   ]
  },
  {
   "cell_type": "code",
   "execution_count": 12,
   "metadata": {},
   "outputs": [
    {
     "name": "stdout",
     "output_type": "stream",
     "text": [
      "[2023-04-13 10:16:14,199] EPLUS_ENV_5Zone-hot-discrete-v1_MainThread_ROOT INFO:Updating idf ExternalInterface object if it is not present...\n",
      "[2023-04-13 10:16:14,199] EPLUS_ENV_5Zone-hot-discrete-v1_MainThread_ROOT INFO:Updating idf ExternalInterface object if it is not present...\n",
      "[2023-04-13 10:16:14,199] EPLUS_ENV_5Zone-hot-discrete-v1_MainThread_ROOT INFO:Updating idf ExternalInterface object if it is not present...\n",
      "[2023-04-13 10:16:14,199] EPLUS_ENV_5Zone-hot-discrete-v1_MainThread_ROOT INFO:Updating idf ExternalInterface object if it is not present...\n",
      "[2023-04-13 10:16:14,199] EPLUS_ENV_5Zone-hot-discrete-v1_MainThread_ROOT INFO:Updating idf ExternalInterface object if it is not present...\n",
      "[2023-04-13 10:16:14,199] EPLUS_ENV_5Zone-hot-discrete-v1_MainThread_ROOT INFO:Updating idf ExternalInterface object if it is not present...\n",
      "[2023-04-13 10:16:14,201] EPLUS_ENV_5Zone-hot-discrete-v1_MainThread_ROOT INFO:Updating idf Site:Location and SizingPeriod:DesignDay(s) to weather and ddy file...\n",
      "[2023-04-13 10:16:14,201] EPLUS_ENV_5Zone-hot-discrete-v1_MainThread_ROOT INFO:Updating idf Site:Location and SizingPeriod:DesignDay(s) to weather and ddy file...\n",
      "[2023-04-13 10:16:14,201] EPLUS_ENV_5Zone-hot-discrete-v1_MainThread_ROOT INFO:Updating idf Site:Location and SizingPeriod:DesignDay(s) to weather and ddy file...\n",
      "[2023-04-13 10:16:14,201] EPLUS_ENV_5Zone-hot-discrete-v1_MainThread_ROOT INFO:Updating idf Site:Location and SizingPeriod:DesignDay(s) to weather and ddy file...\n",
      "[2023-04-13 10:16:14,201] EPLUS_ENV_5Zone-hot-discrete-v1_MainThread_ROOT INFO:Updating idf Site:Location and SizingPeriod:DesignDay(s) to weather and ddy file...\n",
      "[2023-04-13 10:16:14,201] EPLUS_ENV_5Zone-hot-discrete-v1_MainThread_ROOT INFO:Updating idf Site:Location and SizingPeriod:DesignDay(s) to weather and ddy file...\n",
      "[2023-04-13 10:16:14,204] EPLUS_ENV_5Zone-hot-discrete-v1_MainThread_ROOT INFO:Updating idf OutPut:Variable and variables XML tree model for BVCTB connection.\n",
      "[2023-04-13 10:16:14,204] EPLUS_ENV_5Zone-hot-discrete-v1_MainThread_ROOT INFO:Updating idf OutPut:Variable and variables XML tree model for BVCTB connection.\n",
      "[2023-04-13 10:16:14,204] EPLUS_ENV_5Zone-hot-discrete-v1_MainThread_ROOT INFO:Updating idf OutPut:Variable and variables XML tree model for BVCTB connection.\n",
      "[2023-04-13 10:16:14,204] EPLUS_ENV_5Zone-hot-discrete-v1_MainThread_ROOT INFO:Updating idf OutPut:Variable and variables XML tree model for BVCTB connection.\n",
      "[2023-04-13 10:16:14,204] EPLUS_ENV_5Zone-hot-discrete-v1_MainThread_ROOT INFO:Updating idf OutPut:Variable and variables XML tree model for BVCTB connection.\n",
      "[2023-04-13 10:16:14,204] EPLUS_ENV_5Zone-hot-discrete-v1_MainThread_ROOT INFO:Updating idf OutPut:Variable and variables XML tree model for BVCTB connection.\n",
      "[2023-04-13 10:16:14,206] EPLUS_ENV_5Zone-hot-discrete-v1_MainThread_ROOT INFO:Setting up extra configuration in building model if exists...\n",
      "[2023-04-13 10:16:14,206] EPLUS_ENV_5Zone-hot-discrete-v1_MainThread_ROOT INFO:Setting up extra configuration in building model if exists...\n",
      "[2023-04-13 10:16:14,206] EPLUS_ENV_5Zone-hot-discrete-v1_MainThread_ROOT INFO:Setting up extra configuration in building model if exists...\n",
      "[2023-04-13 10:16:14,206] EPLUS_ENV_5Zone-hot-discrete-v1_MainThread_ROOT INFO:Setting up extra configuration in building model if exists...\n",
      "[2023-04-13 10:16:14,206] EPLUS_ENV_5Zone-hot-discrete-v1_MainThread_ROOT INFO:Setting up extra configuration in building model if exists...\n",
      "[2023-04-13 10:16:14,206] EPLUS_ENV_5Zone-hot-discrete-v1_MainThread_ROOT INFO:Setting up extra configuration in building model if exists...\n",
      "[2023-04-13 10:16:14,207] EPLUS_ENV_5Zone-hot-discrete-v1_MainThread_ROOT INFO:Setting up action definition in building model if exists...\n",
      "[2023-04-13 10:16:14,207] EPLUS_ENV_5Zone-hot-discrete-v1_MainThread_ROOT INFO:Setting up action definition in building model if exists...\n",
      "[2023-04-13 10:16:14,207] EPLUS_ENV_5Zone-hot-discrete-v1_MainThread_ROOT INFO:Setting up action definition in building model if exists...\n",
      "[2023-04-13 10:16:14,207] EPLUS_ENV_5Zone-hot-discrete-v1_MainThread_ROOT INFO:Setting up action definition in building model if exists...\n",
      "[2023-04-13 10:16:14,207] EPLUS_ENV_5Zone-hot-discrete-v1_MainThread_ROOT INFO:Setting up action definition in building model if exists...\n",
      "[2023-04-13 10:16:14,207] EPLUS_ENV_5Zone-hot-discrete-v1_MainThread_ROOT INFO:Setting up action definition in building model if exists...\n",
      "[2023-04-13 10:16:14,210] EPLUS_ENV_5Zone-hot-discrete-v1_MainThread_ROOT INFO:Creating new EnergyPlus simulation episode...\n",
      "[2023-04-13 10:16:14,210] EPLUS_ENV_5Zone-hot-discrete-v1_MainThread_ROOT INFO:Creating new EnergyPlus simulation episode...\n",
      "[2023-04-13 10:16:14,210] EPLUS_ENV_5Zone-hot-discrete-v1_MainThread_ROOT INFO:Creating new EnergyPlus simulation episode...\n",
      "[2023-04-13 10:16:14,210] EPLUS_ENV_5Zone-hot-discrete-v1_MainThread_ROOT INFO:Creating new EnergyPlus simulation episode...\n",
      "[2023-04-13 10:16:14,210] EPLUS_ENV_5Zone-hot-discrete-v1_MainThread_ROOT INFO:Creating new EnergyPlus simulation episode...\n",
      "[2023-04-13 10:16:14,210] EPLUS_ENV_5Zone-hot-discrete-v1_MainThread_ROOT INFO:Creating new EnergyPlus simulation episode...\n",
      "[2023-04-13 10:16:14,322] EPLUS_ENV_5Zone-hot-discrete-v1_MainThread_ROOT INFO:EnergyPlus working directory is in /workspaces/sinergym/examples/Eplus-env-5Zone-hot-discrete-v1-res6/Eplus-env-sub_run1\n",
      "[2023-04-13 10:16:14,322] EPLUS_ENV_5Zone-hot-discrete-v1_MainThread_ROOT INFO:EnergyPlus working directory is in /workspaces/sinergym/examples/Eplus-env-5Zone-hot-discrete-v1-res6/Eplus-env-sub_run1\n",
      "[2023-04-13 10:16:14,322] EPLUS_ENV_5Zone-hot-discrete-v1_MainThread_ROOT INFO:EnergyPlus working directory is in /workspaces/sinergym/examples/Eplus-env-5Zone-hot-discrete-v1-res6/Eplus-env-sub_run1\n",
      "[2023-04-13 10:16:14,322] EPLUS_ENV_5Zone-hot-discrete-v1_MainThread_ROOT INFO:EnergyPlus working directory is in /workspaces/sinergym/examples/Eplus-env-5Zone-hot-discrete-v1-res6/Eplus-env-sub_run1\n",
      "[2023-04-13 10:16:14,322] EPLUS_ENV_5Zone-hot-discrete-v1_MainThread_ROOT INFO:EnergyPlus working directory is in /workspaces/sinergym/examples/Eplus-env-5Zone-hot-discrete-v1-res6/Eplus-env-sub_run1\n",
      "[2023-04-13 10:16:14,322] EPLUS_ENV_5Zone-hot-discrete-v1_MainThread_ROOT INFO:EnergyPlus working directory is in /workspaces/sinergym/examples/Eplus-env-5Zone-hot-discrete-v1-res6/Eplus-env-sub_run1\n"
     ]
    },
    {
     "name": "stderr",
     "output_type": "stream",
     "text": [
      "/usr/local/lib/python3.10/dist-packages/opyplus/weather_data/weather_data.py:493: FutureWarning: the 'line_terminator'' keyword is deprecated, use 'lineterminator' instead.\n",
      "  epw_content = self._headers_to_epw(use_datetimes=use_datetimes) + df.to_csv(\n"
     ]
    },
    {
     "name": "stdout",
     "output_type": "stream",
     "text": [
      "[2023-04-13 10:16:26,679] EPLUS_ENV_5Zone-hot-discrete-v1_MainThread_ROOT INFO:EnergyPlus simulation closed successfully. \n",
      "[2023-04-13 10:16:26,679] EPLUS_ENV_5Zone-hot-discrete-v1_MainThread_ROOT INFO:EnergyPlus simulation closed successfully. \n",
      "[2023-04-13 10:16:26,679] EPLUS_ENV_5Zone-hot-discrete-v1_MainThread_ROOT INFO:EnergyPlus simulation closed successfully. \n",
      "[2023-04-13 10:16:26,679] EPLUS_ENV_5Zone-hot-discrete-v1_MainThread_ROOT INFO:EnergyPlus simulation closed successfully. \n",
      "[2023-04-13 10:16:26,679] EPLUS_ENV_5Zone-hot-discrete-v1_MainThread_ROOT INFO:EnergyPlus simulation closed successfully. \n",
      "[2023-04-13 10:16:26,679] EPLUS_ENV_5Zone-hot-discrete-v1_MainThread_ROOT INFO:EnergyPlus simulation closed successfully. \n"
     ]
    }
   ],
   "source": [
    "env=gym.make('Eplus-5Zone-hot-discrete-v1')\n",
    "env=LoggerWrapper(env)\n",
    "\n",
    "\n",
    "env.reset()    \n",
    "terminated = False\n",
    "current_month = 0\n",
    "while not terminated:\n",
    "    a = env.action_space.sample()\n",
    "    _,_,terminated,_,_=env.step(a)\n",
    "env.close()"
   ]
  },
  {
   "cell_type": "markdown",
   "metadata": {},
   "source": [
    "Now, you can see in Sinergym output folder that you will have available `progress.csv` file and `monitor.csv` files in each episode."
   ]
  },
  {
   "cell_type": "markdown",
   "metadata": {},
   "source": [
    "## Multi Observation Wrapper"
   ]
  },
  {
   "attachments": {},
   "cell_type": "markdown",
   "metadata": {},
   "source": [
    "This wrapper will stack observation received in a history queue (size can be customized)."
   ]
  },
  {
   "cell_type": "code",
   "execution_count": 13,
   "metadata": {
    "collapsed": false,
    "pycharm": {
     "name": "#%%\n"
    }
   },
   "outputs": [
    {
     "name": "stdout",
     "output_type": "stream",
     "text": [
      "[2023-04-13 10:16:27,540] EPLUS_ENV_5Zone-hot-discrete-v1_MainThread_ROOT INFO:Updating idf ExternalInterface object if it is not present...\n",
      "[2023-04-13 10:16:27,540] EPLUS_ENV_5Zone-hot-discrete-v1_MainThread_ROOT INFO:Updating idf ExternalInterface object if it is not present...\n",
      "[2023-04-13 10:16:27,540] EPLUS_ENV_5Zone-hot-discrete-v1_MainThread_ROOT INFO:Updating idf ExternalInterface object if it is not present...\n",
      "[2023-04-13 10:16:27,540] EPLUS_ENV_5Zone-hot-discrete-v1_MainThread_ROOT INFO:Updating idf ExternalInterface object if it is not present...\n",
      "[2023-04-13 10:16:27,540] EPLUS_ENV_5Zone-hot-discrete-v1_MainThread_ROOT INFO:Updating idf ExternalInterface object if it is not present...\n",
      "[2023-04-13 10:16:27,540] EPLUS_ENV_5Zone-hot-discrete-v1_MainThread_ROOT INFO:Updating idf ExternalInterface object if it is not present...\n",
      "[2023-04-13 10:16:27,540] EPLUS_ENV_5Zone-hot-discrete-v1_MainThread_ROOT INFO:Updating idf ExternalInterface object if it is not present...\n",
      "[2023-04-13 10:16:27,542] EPLUS_ENV_5Zone-hot-discrete-v1_MainThread_ROOT INFO:Updating idf Site:Location and SizingPeriod:DesignDay(s) to weather and ddy file...\n",
      "[2023-04-13 10:16:27,542] EPLUS_ENV_5Zone-hot-discrete-v1_MainThread_ROOT INFO:Updating idf Site:Location and SizingPeriod:DesignDay(s) to weather and ddy file...\n",
      "[2023-04-13 10:16:27,542] EPLUS_ENV_5Zone-hot-discrete-v1_MainThread_ROOT INFO:Updating idf Site:Location and SizingPeriod:DesignDay(s) to weather and ddy file...\n",
      "[2023-04-13 10:16:27,542] EPLUS_ENV_5Zone-hot-discrete-v1_MainThread_ROOT INFO:Updating idf Site:Location and SizingPeriod:DesignDay(s) to weather and ddy file...\n",
      "[2023-04-13 10:16:27,542] EPLUS_ENV_5Zone-hot-discrete-v1_MainThread_ROOT INFO:Updating idf Site:Location and SizingPeriod:DesignDay(s) to weather and ddy file...\n",
      "[2023-04-13 10:16:27,542] EPLUS_ENV_5Zone-hot-discrete-v1_MainThread_ROOT INFO:Updating idf Site:Location and SizingPeriod:DesignDay(s) to weather and ddy file...\n",
      "[2023-04-13 10:16:27,542] EPLUS_ENV_5Zone-hot-discrete-v1_MainThread_ROOT INFO:Updating idf Site:Location and SizingPeriod:DesignDay(s) to weather and ddy file...\n",
      "[2023-04-13 10:16:27,545] EPLUS_ENV_5Zone-hot-discrete-v1_MainThread_ROOT INFO:Updating idf OutPut:Variable and variables XML tree model for BVCTB connection.\n",
      "[2023-04-13 10:16:27,545] EPLUS_ENV_5Zone-hot-discrete-v1_MainThread_ROOT INFO:Updating idf OutPut:Variable and variables XML tree model for BVCTB connection.\n",
      "[2023-04-13 10:16:27,545] EPLUS_ENV_5Zone-hot-discrete-v1_MainThread_ROOT INFO:Updating idf OutPut:Variable and variables XML tree model for BVCTB connection.\n",
      "[2023-04-13 10:16:27,545] EPLUS_ENV_5Zone-hot-discrete-v1_MainThread_ROOT INFO:Updating idf OutPut:Variable and variables XML tree model for BVCTB connection.\n",
      "[2023-04-13 10:16:27,545] EPLUS_ENV_5Zone-hot-discrete-v1_MainThread_ROOT INFO:Updating idf OutPut:Variable and variables XML tree model for BVCTB connection.\n",
      "[2023-04-13 10:16:27,545] EPLUS_ENV_5Zone-hot-discrete-v1_MainThread_ROOT INFO:Updating idf OutPut:Variable and variables XML tree model for BVCTB connection.\n",
      "[2023-04-13 10:16:27,545] EPLUS_ENV_5Zone-hot-discrete-v1_MainThread_ROOT INFO:Updating idf OutPut:Variable and variables XML tree model for BVCTB connection.\n",
      "[2023-04-13 10:16:27,547] EPLUS_ENV_5Zone-hot-discrete-v1_MainThread_ROOT INFO:Setting up extra configuration in building model if exists...\n",
      "[2023-04-13 10:16:27,547] EPLUS_ENV_5Zone-hot-discrete-v1_MainThread_ROOT INFO:Setting up extra configuration in building model if exists...\n",
      "[2023-04-13 10:16:27,547] EPLUS_ENV_5Zone-hot-discrete-v1_MainThread_ROOT INFO:Setting up extra configuration in building model if exists...\n",
      "[2023-04-13 10:16:27,547] EPLUS_ENV_5Zone-hot-discrete-v1_MainThread_ROOT INFO:Setting up extra configuration in building model if exists...\n",
      "[2023-04-13 10:16:27,547] EPLUS_ENV_5Zone-hot-discrete-v1_MainThread_ROOT INFO:Setting up extra configuration in building model if exists...\n",
      "[2023-04-13 10:16:27,547] EPLUS_ENV_5Zone-hot-discrete-v1_MainThread_ROOT INFO:Setting up extra configuration in building model if exists...\n",
      "[2023-04-13 10:16:27,547] EPLUS_ENV_5Zone-hot-discrete-v1_MainThread_ROOT INFO:Setting up extra configuration in building model if exists...\n",
      "[2023-04-13 10:16:27,548] EPLUS_ENV_5Zone-hot-discrete-v1_MainThread_ROOT INFO:Setting up action definition in building model if exists...\n",
      "[2023-04-13 10:16:27,548] EPLUS_ENV_5Zone-hot-discrete-v1_MainThread_ROOT INFO:Setting up action definition in building model if exists...\n",
      "[2023-04-13 10:16:27,548] EPLUS_ENV_5Zone-hot-discrete-v1_MainThread_ROOT INFO:Setting up action definition in building model if exists...\n",
      "[2023-04-13 10:16:27,548] EPLUS_ENV_5Zone-hot-discrete-v1_MainThread_ROOT INFO:Setting up action definition in building model if exists...\n",
      "[2023-04-13 10:16:27,548] EPLUS_ENV_5Zone-hot-discrete-v1_MainThread_ROOT INFO:Setting up action definition in building model if exists...\n",
      "[2023-04-13 10:16:27,548] EPLUS_ENV_5Zone-hot-discrete-v1_MainThread_ROOT INFO:Setting up action definition in building model if exists...\n",
      "[2023-04-13 10:16:27,548] EPLUS_ENV_5Zone-hot-discrete-v1_MainThread_ROOT INFO:Setting up action definition in building model if exists...\n",
      "[2023-04-13 10:16:27,552] EPLUS_ENV_5Zone-hot-discrete-v1_MainThread_ROOT INFO:Creating new EnergyPlus simulation episode...\n",
      "[2023-04-13 10:16:27,552] EPLUS_ENV_5Zone-hot-discrete-v1_MainThread_ROOT INFO:Creating new EnergyPlus simulation episode...\n",
      "[2023-04-13 10:16:27,552] EPLUS_ENV_5Zone-hot-discrete-v1_MainThread_ROOT INFO:Creating new EnergyPlus simulation episode...\n",
      "[2023-04-13 10:16:27,552] EPLUS_ENV_5Zone-hot-discrete-v1_MainThread_ROOT INFO:Creating new EnergyPlus simulation episode...\n",
      "[2023-04-13 10:16:27,552] EPLUS_ENV_5Zone-hot-discrete-v1_MainThread_ROOT INFO:Creating new EnergyPlus simulation episode...\n",
      "[2023-04-13 10:16:27,552] EPLUS_ENV_5Zone-hot-discrete-v1_MainThread_ROOT INFO:Creating new EnergyPlus simulation episode...\n",
      "[2023-04-13 10:16:27,552] EPLUS_ENV_5Zone-hot-discrete-v1_MainThread_ROOT INFO:Creating new EnergyPlus simulation episode...\n",
      "[2023-04-13 10:16:27,672] EPLUS_ENV_5Zone-hot-discrete-v1_MainThread_ROOT INFO:EnergyPlus working directory is in /workspaces/sinergym/examples/Eplus-env-5Zone-hot-discrete-v1-res7/Eplus-env-sub_run1\n",
      "[2023-04-13 10:16:27,672] EPLUS_ENV_5Zone-hot-discrete-v1_MainThread_ROOT INFO:EnergyPlus working directory is in /workspaces/sinergym/examples/Eplus-env-5Zone-hot-discrete-v1-res7/Eplus-env-sub_run1\n",
      "[2023-04-13 10:16:27,672] EPLUS_ENV_5Zone-hot-discrete-v1_MainThread_ROOT INFO:EnergyPlus working directory is in /workspaces/sinergym/examples/Eplus-env-5Zone-hot-discrete-v1-res7/Eplus-env-sub_run1\n",
      "[2023-04-13 10:16:27,672] EPLUS_ENV_5Zone-hot-discrete-v1_MainThread_ROOT INFO:EnergyPlus working directory is in /workspaces/sinergym/examples/Eplus-env-5Zone-hot-discrete-v1-res7/Eplus-env-sub_run1\n",
      "[2023-04-13 10:16:27,672] EPLUS_ENV_5Zone-hot-discrete-v1_MainThread_ROOT INFO:EnergyPlus working directory is in /workspaces/sinergym/examples/Eplus-env-5Zone-hot-discrete-v1-res7/Eplus-env-sub_run1\n",
      "[2023-04-13 10:16:27,672] EPLUS_ENV_5Zone-hot-discrete-v1_MainThread_ROOT INFO:EnergyPlus working directory is in /workspaces/sinergym/examples/Eplus-env-5Zone-hot-discrete-v1-res7/Eplus-env-sub_run1\n",
      "[2023-04-13 10:16:27,672] EPLUS_ENV_5Zone-hot-discrete-v1_MainThread_ROOT INFO:EnergyPlus working directory is in /workspaces/sinergym/examples/Eplus-env-5Zone-hot-discrete-v1-res7/Eplus-env-sub_run1\n"
     ]
    },
    {
     "name": "stderr",
     "output_type": "stream",
     "text": [
      "/usr/local/lib/python3.10/dist-packages/opyplus/weather_data/weather_data.py:493: FutureWarning: the 'line_terminator'' keyword is deprecated, use 'lineterminator' instead.\n",
      "  epw_content = self._headers_to_epw(use_datetimes=use_datetimes) + df.to_csv(\n"
     ]
    },
    {
     "name": "stdout",
     "output_type": "stream",
     "text": [
      "BEFORE MULTI OBSERVATION:  [1.991000e+03 1.000000e+00 1.000000e+00 0.000000e+00 4.000000e+00\n",
      " 6.900000e+01 3.100000e+00 1.300000e+02 0.000000e+00 0.000000e+00\n",
      " 2.100000e+01 2.500000e+01 2.100003e+01 0.000000e+00 2.329465e+01\n",
      " 0.000000e+00 0.000000e+00 0.000000e+00 0.000000e+00 8.107487e+03]\n",
      "[2023-04-13 10:16:33,043] EPLUS_ENV_5Zone-hot-discrete-v1_MainThread_ROOT INFO:EnergyPlus episode completed successfully. \n",
      "[2023-04-13 10:16:33,043] EPLUS_ENV_5Zone-hot-discrete-v1_MainThread_ROOT INFO:EnergyPlus episode completed successfully. \n",
      "[2023-04-13 10:16:33,043] EPLUS_ENV_5Zone-hot-discrete-v1_MainThread_ROOT INFO:EnergyPlus episode completed successfully. \n",
      "[2023-04-13 10:16:33,043] EPLUS_ENV_5Zone-hot-discrete-v1_MainThread_ROOT INFO:EnergyPlus episode completed successfully. \n",
      "[2023-04-13 10:16:33,043] EPLUS_ENV_5Zone-hot-discrete-v1_MainThread_ROOT INFO:EnergyPlus episode completed successfully. \n",
      "[2023-04-13 10:16:33,043] EPLUS_ENV_5Zone-hot-discrete-v1_MainThread_ROOT INFO:EnergyPlus episode completed successfully. \n",
      "[2023-04-13 10:16:33,043] EPLUS_ENV_5Zone-hot-discrete-v1_MainThread_ROOT INFO:EnergyPlus episode completed successfully. \n",
      "[2023-04-13 10:16:33,046] EPLUS_ENV_5Zone-hot-discrete-v1_MainThread_ROOT INFO:Creating new EnergyPlus simulation episode...\n",
      "[2023-04-13 10:16:33,046] EPLUS_ENV_5Zone-hot-discrete-v1_MainThread_ROOT INFO:Creating new EnergyPlus simulation episode...\n",
      "[2023-04-13 10:16:33,046] EPLUS_ENV_5Zone-hot-discrete-v1_MainThread_ROOT INFO:Creating new EnergyPlus simulation episode...\n",
      "[2023-04-13 10:16:33,046] EPLUS_ENV_5Zone-hot-discrete-v1_MainThread_ROOT INFO:Creating new EnergyPlus simulation episode...\n",
      "[2023-04-13 10:16:33,046] EPLUS_ENV_5Zone-hot-discrete-v1_MainThread_ROOT INFO:Creating new EnergyPlus simulation episode...\n",
      "[2023-04-13 10:16:33,046] EPLUS_ENV_5Zone-hot-discrete-v1_MainThread_ROOT INFO:Creating new EnergyPlus simulation episode...\n",
      "[2023-04-13 10:16:33,046] EPLUS_ENV_5Zone-hot-discrete-v1_MainThread_ROOT INFO:Creating new EnergyPlus simulation episode...\n",
      "[2023-04-13 10:16:33,161] EPLUS_ENV_5Zone-hot-discrete-v1_MainThread_ROOT INFO:EnergyPlus working directory is in /workspaces/sinergym/examples/Eplus-env-5Zone-hot-discrete-v1-res7/Eplus-env-sub_run2\n",
      "[2023-04-13 10:16:33,161] EPLUS_ENV_5Zone-hot-discrete-v1_MainThread_ROOT INFO:EnergyPlus working directory is in /workspaces/sinergym/examples/Eplus-env-5Zone-hot-discrete-v1-res7/Eplus-env-sub_run2\n",
      "[2023-04-13 10:16:33,161] EPLUS_ENV_5Zone-hot-discrete-v1_MainThread_ROOT INFO:EnergyPlus working directory is in /workspaces/sinergym/examples/Eplus-env-5Zone-hot-discrete-v1-res7/Eplus-env-sub_run2\n",
      "[2023-04-13 10:16:33,161] EPLUS_ENV_5Zone-hot-discrete-v1_MainThread_ROOT INFO:EnergyPlus working directory is in /workspaces/sinergym/examples/Eplus-env-5Zone-hot-discrete-v1-res7/Eplus-env-sub_run2\n",
      "[2023-04-13 10:16:33,161] EPLUS_ENV_5Zone-hot-discrete-v1_MainThread_ROOT INFO:EnergyPlus working directory is in /workspaces/sinergym/examples/Eplus-env-5Zone-hot-discrete-v1-res7/Eplus-env-sub_run2\n",
      "[2023-04-13 10:16:33,161] EPLUS_ENV_5Zone-hot-discrete-v1_MainThread_ROOT INFO:EnergyPlus working directory is in /workspaces/sinergym/examples/Eplus-env-5Zone-hot-discrete-v1-res7/Eplus-env-sub_run2\n",
      "[2023-04-13 10:16:33,161] EPLUS_ENV_5Zone-hot-discrete-v1_MainThread_ROOT INFO:EnergyPlus working directory is in /workspaces/sinergym/examples/Eplus-env-5Zone-hot-discrete-v1-res7/Eplus-env-sub_run2\n"
     ]
    }
   ],
   "source": [
    "#Original environment\n",
    "env=gym.make('Eplus-5Zone-hot-discrete-v1')\n",
    "obs, info=env.reset()\n",
    "print('BEFORE MULTI OBSERVATION: ',obs)\n",
    "\n",
    "#Multi Observation environment\n",
    "env=MultiObsWrapper(env, n=5, flatten=True)\n",
    "obs, info=env.reset()"
   ]
  },
  {
   "cell_type": "code",
   "execution_count": 14,
   "metadata": {},
   "outputs": [
    {
     "name": "stdout",
     "output_type": "stream",
     "text": [
      "AFTER MULTI OBSERVATION:  [1.991000e+03 1.000000e+00 1.000000e+00 0.000000e+00 4.000000e+00\n",
      " 6.900000e+01 3.100000e+00 1.300000e+02 0.000000e+00 0.000000e+00\n",
      " 2.100000e+01 2.500000e+01 2.100003e+01 0.000000e+00 2.329465e+01\n",
      " 0.000000e+00 0.000000e+00 0.000000e+00 0.000000e+00 8.107487e+03\n",
      " 1.991000e+03 1.000000e+00 1.000000e+00 0.000000e+00 4.000000e+00\n",
      " 6.900000e+01 3.100000e+00 1.300000e+02 0.000000e+00 0.000000e+00\n",
      " 2.100000e+01 2.500000e+01 2.100003e+01 0.000000e+00 2.329465e+01\n",
      " 0.000000e+00 0.000000e+00 0.000000e+00 0.000000e+00 8.107487e+03\n",
      " 1.991000e+03 1.000000e+00 1.000000e+00 0.000000e+00 4.000000e+00\n",
      " 6.900000e+01 3.100000e+00 1.300000e+02 0.000000e+00 0.000000e+00\n",
      " 2.100000e+01 2.500000e+01 2.100003e+01 0.000000e+00 2.329465e+01\n",
      " 0.000000e+00 0.000000e+00 0.000000e+00 0.000000e+00 8.107487e+03\n",
      " 1.991000e+03 1.000000e+00 1.000000e+00 0.000000e+00 4.000000e+00\n",
      " 6.900000e+01 3.100000e+00 1.300000e+02 0.000000e+00 0.000000e+00\n",
      " 2.100000e+01 2.500000e+01 2.100003e+01 0.000000e+00 2.329465e+01\n",
      " 0.000000e+00 0.000000e+00 0.000000e+00 0.000000e+00 8.107487e+03\n",
      " 1.991000e+03 1.000000e+00 1.000000e+00 0.000000e+00 4.000000e+00\n",
      " 6.900000e+01 3.100000e+00 1.300000e+02 0.000000e+00 0.000000e+00\n",
      " 2.100000e+01 2.500000e+01 2.100003e+01 0.000000e+00 2.329465e+01\n",
      " 0.000000e+00 0.000000e+00 0.000000e+00 0.000000e+00 8.107487e+03]\n",
      "[2023-04-13 10:16:38,423] EPLUS_ENV_5Zone-hot-discrete-v1_MainThread_ROOT INFO:EnergyPlus simulation closed successfully. \n",
      "[2023-04-13 10:16:38,423] EPLUS_ENV_5Zone-hot-discrete-v1_MainThread_ROOT INFO:EnergyPlus simulation closed successfully. \n",
      "[2023-04-13 10:16:38,423] EPLUS_ENV_5Zone-hot-discrete-v1_MainThread_ROOT INFO:EnergyPlus simulation closed successfully. \n",
      "[2023-04-13 10:16:38,423] EPLUS_ENV_5Zone-hot-discrete-v1_MainThread_ROOT INFO:EnergyPlus simulation closed successfully. \n",
      "[2023-04-13 10:16:38,423] EPLUS_ENV_5Zone-hot-discrete-v1_MainThread_ROOT INFO:EnergyPlus simulation closed successfully. \n",
      "[2023-04-13 10:16:38,423] EPLUS_ENV_5Zone-hot-discrete-v1_MainThread_ROOT INFO:EnergyPlus simulation closed successfully. \n",
      "[2023-04-13 10:16:38,423] EPLUS_ENV_5Zone-hot-discrete-v1_MainThread_ROOT INFO:EnergyPlus simulation closed successfully. \n"
     ]
    }
   ],
   "source": [
    "print('AFTER MULTI OBSERVATION: ',obs)\n",
    "env.close()"
   ]
  },
  {
   "attachments": {},
   "cell_type": "markdown",
   "metadata": {},
   "source": [
    "## Nesting wrappers"
   ]
  },
  {
   "attachments": {},
   "cell_type": "markdown",
   "metadata": {},
   "source": [
    "All the wrappers listed in this notebook can be nested in order to combine functionalities added. However, **the order** in which these wrappers are nested is critical to their proper functionality. We strongly recommend that it be in the same order in which they appear here or in the documentation. In case you want to nest a subset of the total, it is not a problem as long as you continue respecting this order.\n",
    "We see and example:"
   ]
  },
  {
   "cell_type": "code",
   "execution_count": 15,
   "metadata": {},
   "outputs": [
    {
     "name": "stdout",
     "output_type": "stream",
     "text": [
      "[2023-04-13 10:16:39,264] EPLUS_ENV_5Zone-hot-discrete-v1_MainThread_ROOT INFO:Updating idf ExternalInterface object if it is not present...\n",
      "[2023-04-13 10:16:39,264] EPLUS_ENV_5Zone-hot-discrete-v1_MainThread_ROOT INFO:Updating idf ExternalInterface object if it is not present...\n",
      "[2023-04-13 10:16:39,264] EPLUS_ENV_5Zone-hot-discrete-v1_MainThread_ROOT INFO:Updating idf ExternalInterface object if it is not present...\n",
      "[2023-04-13 10:16:39,264] EPLUS_ENV_5Zone-hot-discrete-v1_MainThread_ROOT INFO:Updating idf ExternalInterface object if it is not present...\n",
      "[2023-04-13 10:16:39,264] EPLUS_ENV_5Zone-hot-discrete-v1_MainThread_ROOT INFO:Updating idf ExternalInterface object if it is not present...\n",
      "[2023-04-13 10:16:39,264] EPLUS_ENV_5Zone-hot-discrete-v1_MainThread_ROOT INFO:Updating idf ExternalInterface object if it is not present...\n",
      "[2023-04-13 10:16:39,264] EPLUS_ENV_5Zone-hot-discrete-v1_MainThread_ROOT INFO:Updating idf ExternalInterface object if it is not present...\n",
      "[2023-04-13 10:16:39,264] EPLUS_ENV_5Zone-hot-discrete-v1_MainThread_ROOT INFO:Updating idf ExternalInterface object if it is not present...\n",
      "[2023-04-13 10:16:39,267] EPLUS_ENV_5Zone-hot-discrete-v1_MainThread_ROOT INFO:Updating idf Site:Location and SizingPeriod:DesignDay(s) to weather and ddy file...\n",
      "[2023-04-13 10:16:39,267] EPLUS_ENV_5Zone-hot-discrete-v1_MainThread_ROOT INFO:Updating idf Site:Location and SizingPeriod:DesignDay(s) to weather and ddy file...\n",
      "[2023-04-13 10:16:39,267] EPLUS_ENV_5Zone-hot-discrete-v1_MainThread_ROOT INFO:Updating idf Site:Location and SizingPeriod:DesignDay(s) to weather and ddy file...\n",
      "[2023-04-13 10:16:39,267] EPLUS_ENV_5Zone-hot-discrete-v1_MainThread_ROOT INFO:Updating idf Site:Location and SizingPeriod:DesignDay(s) to weather and ddy file...\n",
      "[2023-04-13 10:16:39,267] EPLUS_ENV_5Zone-hot-discrete-v1_MainThread_ROOT INFO:Updating idf Site:Location and SizingPeriod:DesignDay(s) to weather and ddy file...\n",
      "[2023-04-13 10:16:39,267] EPLUS_ENV_5Zone-hot-discrete-v1_MainThread_ROOT INFO:Updating idf Site:Location and SizingPeriod:DesignDay(s) to weather and ddy file...\n",
      "[2023-04-13 10:16:39,267] EPLUS_ENV_5Zone-hot-discrete-v1_MainThread_ROOT INFO:Updating idf Site:Location and SizingPeriod:DesignDay(s) to weather and ddy file...\n",
      "[2023-04-13 10:16:39,267] EPLUS_ENV_5Zone-hot-discrete-v1_MainThread_ROOT INFO:Updating idf Site:Location and SizingPeriod:DesignDay(s) to weather and ddy file...\n",
      "[2023-04-13 10:16:39,269] EPLUS_ENV_5Zone-hot-discrete-v1_MainThread_ROOT INFO:Updating idf OutPut:Variable and variables XML tree model for BVCTB connection.\n",
      "[2023-04-13 10:16:39,269] EPLUS_ENV_5Zone-hot-discrete-v1_MainThread_ROOT INFO:Updating idf OutPut:Variable and variables XML tree model for BVCTB connection.\n",
      "[2023-04-13 10:16:39,269] EPLUS_ENV_5Zone-hot-discrete-v1_MainThread_ROOT INFO:Updating idf OutPut:Variable and variables XML tree model for BVCTB connection.\n",
      "[2023-04-13 10:16:39,269] EPLUS_ENV_5Zone-hot-discrete-v1_MainThread_ROOT INFO:Updating idf OutPut:Variable and variables XML tree model for BVCTB connection.\n",
      "[2023-04-13 10:16:39,269] EPLUS_ENV_5Zone-hot-discrete-v1_MainThread_ROOT INFO:Updating idf OutPut:Variable and variables XML tree model for BVCTB connection.\n",
      "[2023-04-13 10:16:39,269] EPLUS_ENV_5Zone-hot-discrete-v1_MainThread_ROOT INFO:Updating idf OutPut:Variable and variables XML tree model for BVCTB connection.\n",
      "[2023-04-13 10:16:39,269] EPLUS_ENV_5Zone-hot-discrete-v1_MainThread_ROOT INFO:Updating idf OutPut:Variable and variables XML tree model for BVCTB connection.\n",
      "[2023-04-13 10:16:39,269] EPLUS_ENV_5Zone-hot-discrete-v1_MainThread_ROOT INFO:Updating idf OutPut:Variable and variables XML tree model for BVCTB connection.\n",
      "[2023-04-13 10:16:39,272] EPLUS_ENV_5Zone-hot-discrete-v1_MainThread_ROOT INFO:Setting up extra configuration in building model if exists...\n",
      "[2023-04-13 10:16:39,272] EPLUS_ENV_5Zone-hot-discrete-v1_MainThread_ROOT INFO:Setting up extra configuration in building model if exists...\n",
      "[2023-04-13 10:16:39,272] EPLUS_ENV_5Zone-hot-discrete-v1_MainThread_ROOT INFO:Setting up extra configuration in building model if exists...\n",
      "[2023-04-13 10:16:39,272] EPLUS_ENV_5Zone-hot-discrete-v1_MainThread_ROOT INFO:Setting up extra configuration in building model if exists...\n",
      "[2023-04-13 10:16:39,272] EPLUS_ENV_5Zone-hot-discrete-v1_MainThread_ROOT INFO:Setting up extra configuration in building model if exists...\n",
      "[2023-04-13 10:16:39,272] EPLUS_ENV_5Zone-hot-discrete-v1_MainThread_ROOT INFO:Setting up extra configuration in building model if exists...\n",
      "[2023-04-13 10:16:39,272] EPLUS_ENV_5Zone-hot-discrete-v1_MainThread_ROOT INFO:Setting up extra configuration in building model if exists...\n",
      "[2023-04-13 10:16:39,272] EPLUS_ENV_5Zone-hot-discrete-v1_MainThread_ROOT INFO:Setting up extra configuration in building model if exists...\n",
      "[2023-04-13 10:16:39,273] EPLUS_ENV_5Zone-hot-discrete-v1_MainThread_ROOT INFO:Setting up action definition in building model if exists...\n",
      "[2023-04-13 10:16:39,273] EPLUS_ENV_5Zone-hot-discrete-v1_MainThread_ROOT INFO:Setting up action definition in building model if exists...\n",
      "[2023-04-13 10:16:39,273] EPLUS_ENV_5Zone-hot-discrete-v1_MainThread_ROOT INFO:Setting up action definition in building model if exists...\n",
      "[2023-04-13 10:16:39,273] EPLUS_ENV_5Zone-hot-discrete-v1_MainThread_ROOT INFO:Setting up action definition in building model if exists...\n",
      "[2023-04-13 10:16:39,273] EPLUS_ENV_5Zone-hot-discrete-v1_MainThread_ROOT INFO:Setting up action definition in building model if exists...\n",
      "[2023-04-13 10:16:39,273] EPLUS_ENV_5Zone-hot-discrete-v1_MainThread_ROOT INFO:Setting up action definition in building model if exists...\n",
      "[2023-04-13 10:16:39,273] EPLUS_ENV_5Zone-hot-discrete-v1_MainThread_ROOT INFO:Setting up action definition in building model if exists...\n",
      "[2023-04-13 10:16:39,273] EPLUS_ENV_5Zone-hot-discrete-v1_MainThread_ROOT INFO:Setting up action definition in building model if exists...\n",
      "New incremental action mapping: 17\n",
      "{0: [0.0, 0.0], 1: [0.5, 0.0], 2: [1.0, 0.0], 3: [1.5, 0.0], 4: [2.0, 0.0], 5: [-0.5, 0.0], 6: [-1.0, 0.0], 7: [-1.5, 0.0], 8: [-2.0, 0.0], 9: [0.0, 0.5], 10: [0.0, 1.0], 11: [0.0, 1.5], 12: [0.0, 2.0], 13: [0.0, -0.5], 14: [0.0, -1.0], 15: [0.0, -1.5], 16: [0.0, -2.0]}\n"
     ]
    }
   ],
   "source": [
    "env = gym.make('Eplus-5Zone-hot-discrete-v1')\n",
    "env = MultiObjectiveReward(\n",
    "    env=env,\n",
    "    reward_terms=[\n",
    "        'reward_energy',\n",
    "        'reward_comfort'])\n",
    "env = PreviousObservationWrapper(env, previous_variables=[\n",
    "    'Zone Thermostat Heating Setpoint Temperature(SPACE1-1)',\n",
    "    'Zone Thermostat Cooling Setpoint Temperature(SPACE1-1)',\n",
    "    'Zone Air Temperature(SPACE1-1)'])\n",
    "env = DatetimeWrapper(env)\n",
    "env = DiscreteIncrementalWrapper(\n",
    "    env, max_values=[\n",
    "        22.5, 30.0], min_values=[\n",
    "        15.0, 22.5], delta_temp=2, step_temp=0.5)\n",
    "env = NormalizeObservation(\n",
    "    env=env,\n",
    "    ranges=RANGES_5ZONE,\n",
    "    variables=[\n",
    "        'Zone Thermostat Heating Setpoint Temperature(SPACE1-1)',\n",
    "        'Zone Thermostat Cooling Setpoint Temperature(SPACE1-1)',\n",
    "        'Zone Air Temperature(SPACE1-1)',\n",
    "        'Zone Thermostat Heating Setpoint Temperature(SPACE1-1)_previous',\n",
    "        'Zone Thermostat Cooling Setpoint Temperature(SPACE1-1)_previous',\n",
    "        'Zone Air Temperature(SPACE1-1)_previous'])\n",
    "env = LoggerWrapper(env=env, flag=True)\n",
    "env = MultiObsWrapper(env=env, n=5, flatten=True)"
   ]
  },
  {
   "cell_type": "markdown",
   "metadata": {
    "collapsed": false
   },
   "source": [
    "Now we just simply use the environment with the wrappers, for example:"
   ]
  },
  {
   "cell_type": "code",
   "execution_count": 16,
   "metadata": {
    "collapsed": false,
    "pycharm": {
     "name": "#%%\n"
    }
   },
   "outputs": [
    {
     "name": "stdout",
     "output_type": "stream",
     "text": [
      "[2023-04-13 10:16:39,319] EPLUS_ENV_5Zone-hot-discrete-v1_MainThread_ROOT INFO:Creating new EnergyPlus simulation episode...\n",
      "[2023-04-13 10:16:39,319] EPLUS_ENV_5Zone-hot-discrete-v1_MainThread_ROOT INFO:Creating new EnergyPlus simulation episode...\n",
      "[2023-04-13 10:16:39,319] EPLUS_ENV_5Zone-hot-discrete-v1_MainThread_ROOT INFO:Creating new EnergyPlus simulation episode...\n",
      "[2023-04-13 10:16:39,319] EPLUS_ENV_5Zone-hot-discrete-v1_MainThread_ROOT INFO:Creating new EnergyPlus simulation episode...\n",
      "[2023-04-13 10:16:39,319] EPLUS_ENV_5Zone-hot-discrete-v1_MainThread_ROOT INFO:Creating new EnergyPlus simulation episode...\n",
      "[2023-04-13 10:16:39,319] EPLUS_ENV_5Zone-hot-discrete-v1_MainThread_ROOT INFO:Creating new EnergyPlus simulation episode...\n",
      "[2023-04-13 10:16:39,319] EPLUS_ENV_5Zone-hot-discrete-v1_MainThread_ROOT INFO:Creating new EnergyPlus simulation episode...\n",
      "[2023-04-13 10:16:39,319] EPLUS_ENV_5Zone-hot-discrete-v1_MainThread_ROOT INFO:Creating new EnergyPlus simulation episode...\n",
      "[2023-04-13 10:16:39,448] EPLUS_ENV_5Zone-hot-discrete-v1_MainThread_ROOT INFO:EnergyPlus working directory is in /workspaces/sinergym/examples/Eplus-env-5Zone-hot-discrete-v1-res8/Eplus-env-sub_run1\n",
      "[2023-04-13 10:16:39,448] EPLUS_ENV_5Zone-hot-discrete-v1_MainThread_ROOT INFO:EnergyPlus working directory is in /workspaces/sinergym/examples/Eplus-env-5Zone-hot-discrete-v1-res8/Eplus-env-sub_run1\n",
      "[2023-04-13 10:16:39,448] EPLUS_ENV_5Zone-hot-discrete-v1_MainThread_ROOT INFO:EnergyPlus working directory is in /workspaces/sinergym/examples/Eplus-env-5Zone-hot-discrete-v1-res8/Eplus-env-sub_run1\n",
      "[2023-04-13 10:16:39,448] EPLUS_ENV_5Zone-hot-discrete-v1_MainThread_ROOT INFO:EnergyPlus working directory is in /workspaces/sinergym/examples/Eplus-env-5Zone-hot-discrete-v1-res8/Eplus-env-sub_run1\n",
      "[2023-04-13 10:16:39,448] EPLUS_ENV_5Zone-hot-discrete-v1_MainThread_ROOT INFO:EnergyPlus working directory is in /workspaces/sinergym/examples/Eplus-env-5Zone-hot-discrete-v1-res8/Eplus-env-sub_run1\n",
      "[2023-04-13 10:16:39,448] EPLUS_ENV_5Zone-hot-discrete-v1_MainThread_ROOT INFO:EnergyPlus working directory is in /workspaces/sinergym/examples/Eplus-env-5Zone-hot-discrete-v1-res8/Eplus-env-sub_run1\n",
      "[2023-04-13 10:16:39,448] EPLUS_ENV_5Zone-hot-discrete-v1_MainThread_ROOT INFO:EnergyPlus working directory is in /workspaces/sinergym/examples/Eplus-env-5Zone-hot-discrete-v1-res8/Eplus-env-sub_run1\n",
      "[2023-04-13 10:16:39,448] EPLUS_ENV_5Zone-hot-discrete-v1_MainThread_ROOT INFO:EnergyPlus working directory is in /workspaces/sinergym/examples/Eplus-env-5Zone-hot-discrete-v1-res8/Eplus-env-sub_run1\n"
     ]
    },
    {
     "name": "stderr",
     "output_type": "stream",
     "text": [
      "/usr/local/lib/python3.10/dist-packages/opyplus/weather_data/weather_data.py:493: FutureWarning: the 'line_terminator'' keyword is deprecated, use 'lineterminator' instead.\n",
      "  epw_content = self._headers_to_epw(use_datetimes=use_datetimes) + df.to_csv(\n"
     ]
    },
    {
     "name": "stdout",
     "output_type": "stream",
     "text": [
      "Reward:  [-0.8209325438116365, -0.0] {'timestep': 1, 'time_elapsed': 900, 'year': 1991, 'month': 1, 'day': 1, 'hour': 0, 'action': [21.0, 25.0], 'reward': -0.41046627190581825, 'reward_energy': -0.8209325438116365, 'reward_comfort': -0.0, 'total_energy': 8209.325438116364, 'abs_comfort': 0.0, 'temperatures': [21.00006684120256]}\n",
      "Reward:  [-0.6848468558238691, -0.0] {'timestep': 2976, 'time_elapsed': 2678400, 'year': 1991, 'month': 2, 'day': 1, 'hour': 0, 'action': [22.5, 22.5], 'reward': -0.34242342791193453, 'reward_energy': -0.6848468558238691, 'reward_comfort': -0.0, 'total_energy': 6848.46855823869, 'abs_comfort': 0.0, 'temperatures': [22.50057331250261]}\n",
      "Reward:  [-0.01813289248823428, -0.4984361428384716] {'timestep': 5664, 'time_elapsed': 5097600, 'year': 1991, 'month': 3, 'day': 1, 'hour': 0, 'action': [16.5, 25.5], 'reward': -0.2582845176633529, 'reward_energy': -0.01813289248823428, 'reward_comfort': -0.4984361428384716, 'total_energy': 181.3289248823428, 'abs_comfort': 0.4984361428384716, 'temperatures': [19.50156385716153]}\n",
      "Reward:  [-0.01813289248823428, -0.1040693769433787] {'timestep': 8640, 'time_elapsed': 7776000, 'year': 1991, 'month': 4, 'day': 1, 'hour': 0, 'action': [15.5, 28.5], 'reward': -0.06110113471580649, 'reward_energy': -0.01813289248823428, 'reward_comfort': -0.1040693769433787, 'total_energy': 181.3289248823428, 'abs_comfort': 0.1040693769433787, 'temperatures': [19.89593062305662]}\n",
      "Reward:  [-0.9583472284581178, -0.6007574643048912] {'timestep': 11520, 'time_elapsed': 10368000, 'year': 1991, 'month': 5, 'day': 1, 'hour': 0, 'action': [19.5, 30.0], 'reward': -0.7795523463815045, 'reward_energy': -0.9583472284581178, 'reward_comfort': -0.6007574643048912, 'total_energy': 9583.472284581178, 'abs_comfort': 0.6007574643048912, 'temperatures': [19.39924253569511]}\n",
      "Reward:  [-0.9964857748041758, -3.001291342069031] {'timestep': 14496, 'time_elapsed': 13046400, 'year': 1991, 'month': 6, 'day': 1, 'hour': 0, 'action': [20.0, 29.5], 'reward': -1.9988885584366034, 'reward_energy': -0.9964857748041758, 'reward_comfort': -3.001291342069031, 'total_energy': 9964.857748041757, 'abs_comfort': 3.001291342069031, 'temperatures': [19.99870865793097]}\n",
      "Reward:  [-0.4733491648705395, -3.34702238145465] {'timestep': 17376, 'time_elapsed': 15638400, 'year': 1991, 'month': 7, 'day': 1, 'hour': 0, 'action': [16.5, 23.5], 'reward': -1.9101857731625949, 'reward_energy': -0.4733491648705395, 'reward_comfort': -3.34702238145465, 'total_energy': 4733.491648705395, 'abs_comfort': 3.34702238145465, 'temperatures': [19.65297761854535]}\n",
      "Reward:  [-1.443602482396341, -1.2248294227629195] {'timestep': 20352, 'time_elapsed': 18316800, 'year': 1991, 'month': 8, 'day': 1, 'hour': 0, 'action': [22.5, 30.0], 'reward': -1.3342159525796302, 'reward_energy': -1.443602482396341, 'reward_comfort': -1.2248294227629195, 'total_energy': 14436.02482396341, 'abs_comfort': 1.2248294227629195, 'temperatures': [21.77517057723708]}\n",
      "Reward:  [-0.4343503063852525, -3.6114555971832694] {'timestep': 23328, 'time_elapsed': 20995200, 'year': 1991, 'month': 9, 'day': 1, 'hour': 0, 'action': [15.0, 26.0], 'reward': -2.022902951784261, 'reward_energy': -0.4343503063852525, 'reward_comfort': -3.6114555971832694, 'total_energy': 4343.503063852525, 'abs_comfort': 3.6114555971832694, 'temperatures': [19.38854440281673]}\n",
      "Reward:  [-1.1854108306246651, -0.0] {'timestep': 26208, 'time_elapsed': 23587200, 'year': 1991, 'month': 10, 'day': 1, 'hour': 0, 'action': [20.5, 26.0], 'reward': -0.5927054153123326, 'reward_energy': -1.1854108306246651, 'reward_comfort': -0.0, 'total_energy': 11854.10830624665, 'abs_comfort': 0.0, 'temperatures': [20.50497260472862]}\n",
      "Reward:  [-0.03608418399317549, -0.0] {'timestep': 29184, 'time_elapsed': 26265600, 'year': 1991, 'month': 11, 'day': 1, 'hour': 0, 'action': [21.0, 22.5], 'reward': -0.018042091996587746, 'reward_energy': -0.03608418399317549, 'reward_comfort': -0.0, 'total_energy': 360.8418399317549, 'abs_comfort': 0.0, 'temperatures': [21.1185105135585]}\n",
      "Reward:  [-0.01813289248823428, -1.2327552433090005] {'timestep': 32064, 'time_elapsed': 28857600, 'year': 1991, 'month': 12, 'day': 1, 'hour': 0, 'action': [15.0, 24.0], 'reward': -0.6254440678986174, 'reward_energy': -0.01813289248823428, 'reward_comfort': -1.2327552433090005, 'total_energy': 181.3289248823428, 'abs_comfort': 1.2327552433090005, 'temperatures': [18.767244756691]}\n",
      "Reward:  [-0.01813289248823428, -0.34362801565069034] {'timestep': 35040, 'time_elapsed': 31536000, 'year': 1992, 'month': 1, 'day': 1, 'hour': 0, 'action': [15.0, 29.5], 'reward': -0.18088045406946232, 'reward_energy': -0.01813289248823428, 'reward_comfort': -0.34362801565069034, 'total_energy': 181.3289248823428, 'abs_comfort': 0.34362801565069034, 'temperatures': [19.65637198434931]}\n",
      "[2023-04-13 10:16:52,882] EPLUS_ENV_5Zone-hot-discrete-v1_MainThread_ROOT INFO:EnergyPlus simulation closed successfully. \n",
      "[2023-04-13 10:16:52,882] EPLUS_ENV_5Zone-hot-discrete-v1_MainThread_ROOT INFO:EnergyPlus simulation closed successfully. \n",
      "[2023-04-13 10:16:52,882] EPLUS_ENV_5Zone-hot-discrete-v1_MainThread_ROOT INFO:EnergyPlus simulation closed successfully. \n",
      "[2023-04-13 10:16:52,882] EPLUS_ENV_5Zone-hot-discrete-v1_MainThread_ROOT INFO:EnergyPlus simulation closed successfully. \n",
      "[2023-04-13 10:16:52,882] EPLUS_ENV_5Zone-hot-discrete-v1_MainThread_ROOT INFO:EnergyPlus simulation closed successfully. \n",
      "[2023-04-13 10:16:52,882] EPLUS_ENV_5Zone-hot-discrete-v1_MainThread_ROOT INFO:EnergyPlus simulation closed successfully. \n",
      "[2023-04-13 10:16:52,882] EPLUS_ENV_5Zone-hot-discrete-v1_MainThread_ROOT INFO:EnergyPlus simulation closed successfully. \n",
      "[2023-04-13 10:16:52,882] EPLUS_ENV_5Zone-hot-discrete-v1_MainThread_ROOT INFO:EnergyPlus simulation closed successfully. \n"
     ]
    }
   ],
   "source": [
    "for i in range(1):\n",
    "    obs, info = env.reset()\n",
    "    terminated = False\n",
    "    current_month = 0\n",
    "    while not terminated:\n",
    "        a = env.action_space.sample()\n",
    "        obs, reward, terminated, truncated, info = env.step(a)\n",
    "        if info['month'] != current_month:  # display results every month\n",
    "            current_month = info['month']\n",
    "            print('Reward: ', reward, info)\n",
    "env.close()"
   ]
  }
 ],
 "metadata": {
  "kernelspec": {
   "display_name": "Python 3",
   "language": "python",
   "name": "python3"
  },
  "language_info": {
   "codemirror_mode": {
    "name": "ipython",
    "version": 3
   },
   "file_extension": ".py",
   "mimetype": "text/x-python",
   "name": "python",
   "nbconvert_exporter": "python",
   "pygments_lexer": "ipython3",
   "version": "3.10.6"
  },
  "vscode": {
   "interpreter": {
    "hash": "e7370f93d1d0cde622a1f8e1c04877d8463912d04d973331ad4851f04de6915a"
   }
  }
 },
 "nbformat": 4,
 "nbformat_minor": 0
}
