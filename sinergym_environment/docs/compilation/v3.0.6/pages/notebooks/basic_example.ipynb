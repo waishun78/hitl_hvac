{
 "cells": [
  {
   "attachments": {},
   "cell_type": "markdown",
   "metadata": {
    "collapsed": false
   },
   "source": [
    "# Basic example"
   ]
  },
  {
   "attachments": {},
   "cell_type": "markdown",
   "metadata": {
    "collapsed": true,
    "pycharm": {
     "name": "#%% md\n"
    }
   },
   "source": [
    "Sinergym uses the standard [Farama Gymnasium API](https://gymnasium.farama.org/index.html). Lets see how to create a basic loop.\n",
    "\n",
    "First, we need to include Sinergym and to create an environment, in our case using `Eplus-demo-v1`"
   ]
  },
  {
   "cell_type": "code",
   "execution_count": 1,
   "metadata": {
    "collapsed": false,
    "pycharm": {
     "is_executing": true,
     "name": "#%%\n"
    }
   },
   "outputs": [
    {
     "name": "stdout",
     "output_type": "stream",
     "text": [
      "#==============================================================================================#\n",
      "\u001b[38;20m[ENVIRONMENT] (INFO) : Creating Gymnasium environment... [demo-v1]\u001b[0m\n",
      "#==============================================================================================#\n",
      "\u001b[38;20m[MODELING] (INFO) : Experiment working directory created [/workspaces/sinergym/examples/Eplus-env-demo-v1-res1]\u001b[0m\n",
      "\u001b[38;20m[MODELING] (INFO) : runperiod established: {'start_day': 1, 'start_month': 1, 'start_year': 1991, 'end_day': 31, 'end_month': 12, 'end_year': 1991, 'start_weekday': 1, 'n_steps_per_hour': 4}\u001b[0m\n",
      "\u001b[38;20m[MODELING] (INFO) : Episode length (seconds): 31536000.0\u001b[0m\n",
      "\u001b[38;20m[MODELING] (INFO) : timestep size (seconds): 900.0\u001b[0m\n",
      "\u001b[38;20m[MODELING] (INFO) : timesteps per episode: 35040\u001b[0m\n",
      "\u001b[38;20m[MODELING] (INFO) : Model Config is correct.\u001b[0m\n",
      "\u001b[38;20m[ENVIRONMENT] (INFO) : Environment demo-v1 created successfully.\u001b[0m\n"
     ]
    }
   ],
   "source": [
    "import gymnasium as gym\n",
    "import numpy as np\n",
    "\n",
    "import sinergym\n",
    "env = gym.make('Eplus-demo-v1')"
   ]
  },
  {
   "attachments": {},
   "cell_type": "markdown",
   "metadata": {
    "collapsed": false,
    "pycharm": {
     "name": "#%% md\n"
    }
   },
   "source": [
    "At first glance, it may appear that Sinergym is only imported, but never used. Importing Sinergym, all its [Environments](https://ugr-sail.github.io/sinergym/compilation/html/pages/environments.html)\n",
    "are defined to be used. In this case, `Eplus-demo-v1` is available with all the features contained.\n",
    "\n",
    "After this simple definition, we are ready to loop the episodes. For this simple example, we are going to consider only 1 episode. In summary, the code which we need is something like this:"
   ]
  },
  {
   "cell_type": "code",
   "execution_count": 2,
   "metadata": {
    "collapsed": false,
    "pycharm": {
     "is_executing": true,
     "name": "#%%\n"
    }
   },
   "outputs": [
    {
     "name": "stdout",
     "output_type": "stream",
     "text": [
      "#----------------------------------------------------------------------------------------------#\n",
      "\u001b[38;20m[ENVIRONMENT] (INFO) : Starting a new episode... [demo-v1] [Episode 1]\u001b[0m\n",
      "#----------------------------------------------------------------------------------------------#\n",
      "\u001b[38;20m[MODELING] (INFO) : Episode directory created [/workspaces/sinergym/examples/Eplus-env-demo-v1-res1/Eplus-env-sub_run1]\u001b[0m\n",
      "\u001b[38;20m[MODELING] (INFO) : Weather file USA_PA_Pittsburgh-Allegheny.County.AP.725205_TMY3.epw used.\u001b[0m\n",
      "\u001b[38;20m[MODELING] (INFO) : Updated building model with whole Output:Variable available names\u001b[0m\n",
      "\u001b[38;20m[MODELING] (INFO) : Updated building model with whole Output:Meter available names\u001b[0m\n",
      "\u001b[38;20m[MODELING] (INFO) : Adapting weather to building model. [USA_PA_Pittsburgh-Allegheny.County.AP.725205_TMY3.epw]\u001b[0m\n",
      "\u001b[38;20m[ENVIRONMENT] (INFO) : Saving episode output path... [/workspaces/sinergym/examples/Eplus-env-demo-v1-res1/Eplus-env-sub_run1/output]\u001b[0m\n"
     ]
    },
    {
     "name": "stderr",
     "output_type": "stream",
     "text": [
      "/usr/local/lib/python3.10/dist-packages/opyplus/weather_data/weather_data.py:493: FutureWarning: the 'line_terminator'' keyword is deprecated, use 'lineterminator' instead.\n",
      "  epw_content = self._headers_to_epw(use_datetimes=use_datetimes) + df.to_csv(\n"
     ]
    },
    {
     "name": "stdout",
     "output_type": "stream",
     "text": [
      "\u001b[38;20m[SIMULATOR] (INFO) : Running EnergyPlus with args: ['-w', '/workspaces/sinergym/examples/Eplus-env-demo-v1-res1/Eplus-env-sub_run1/USA_PA_Pittsburgh-Allegheny.County.AP.725205_TMY3.epw', '-d', '/workspaces/sinergym/examples/Eplus-env-demo-v1-res1/Eplus-env-sub_run1/output', '/workspaces/sinergym/examples/Eplus-env-demo-v1-res1/Eplus-env-sub_run1/5ZoneAutoDXVAV.epJSON']\u001b[0m\n",
      "\u001b[38;20m[ENVIRONMENT] (INFO) : Episode 1 started.\u001b[0m\n",
      "\u001b[38;20m[SIMULATOR] (INFO) : handlers initialized.\u001b[0m\n",
      "\u001b[38;20m[SIMULATOR] (INFO) : handlers are ready.\u001b[0m\n",
      "\u001b[38;20m[SIMULATOR] (INFO) : System is ready.\u001b[0m\n",
      "Reward:  -1.4254385096063296 {'time_elapsed(hours)': 0.5, 'month': 1, 'day': 1, 'hour': 0, 'is_raining': False, 'action': [21.401648, 23.482113], 'timestep': 2, 'reward': -1.4254385096063296, 'energy_term': -0.04879983228543358, 'comfort_term': -1.376638677320896, 'reward_weight': 0.5, 'abs_energy': 975.9966457086716, 'abs_comfort': 2.753277354641792, 'energy_values': [975.9966457086716], 'temp_values': [17.246722645358208]}\n",
      "Reward:  -1377.2073334221175 {'time_elapsed(hours)': 744.3125, 'month': 2, 'day': 1, 'hour': 0, 'is_raining': False, 'action': [19.625746, 28.877842], 'timestep': 2977, 'reward': -1.1937197084769864, 'energy_term': -0.04879983228543358, 'comfort_term': -1.1449198761915529, 'reward_weight': 0.5, 'abs_energy': 975.9966457086716, 'abs_comfort': 2.2898397523831058, 'energy_values': [975.9966457086716], 'temp_values': [17.710160247616894]}\n",
      "Reward:  -3082.223465473194 {'time_elapsed(hours)': 1416.3125, 'month': 3, 'day': 1, 'hour': 0, 'is_raining': False, 'action': [20.140188, 25.617777], 'timestep': 5665, 'reward': -0.278734925515239, 'energy_term': -0.028162774435636785, 'comfort_term': -0.2505721510796022, 'reward_weight': 0.5, 'abs_energy': 563.2554887127357, 'abs_comfort': 0.5011443021592044, 'energy_values': [563.2554887127357], 'temp_values': [19.498855697840796]}\n",
      "Reward:  -4727.177113880452 {'time_elapsed(hours)': 2160.25, 'month': 4, 'day': 1, 'hour': 0, 'is_raining': False, 'action': [17.568594, 25.89138], 'timestep': 8641, 'reward': -0.25121608467407874, 'energy_term': -0.0, 'comfort_term': -0.25121608467407874, 'reward_weight': 0.5, 'abs_energy': 0.0, 'abs_comfort': 0.5024321693481575, 'energy_values': [0.0], 'temp_values': [19.497567830651843]}\n",
      "Reward:  -6751.923073834405 {'time_elapsed(hours)': 2880.25, 'month': 5, 'day': 1, 'hour': 0, 'is_raining': False, 'action': [15.390983, 27.641151], 'timestep': 11521, 'reward': -0.0, 'energy_term': -0.0, 'comfort_term': -0.0, 'reward_weight': 0.5, 'abs_energy': 0.0, 'abs_comfort': 0.0, 'energy_values': [0.0], 'temp_values': [21.84065027202759]}\n",
      "Reward:  -8800.890990537555 {'time_elapsed(hours)': 3624.25, 'month': 6, 'day': 1, 'hour': 0, 'is_raining': False, 'action': [21.786503, 25.879927], 'timestep': 14497, 'reward': -0.0, 'energy_term': -0.0, 'comfort_term': -0.0, 'reward_weight': 0.5, 'abs_energy': 0.0, 'abs_comfort': 0.0, 'energy_values': [0.0], 'temp_values': [23.34120792754896]}\n",
      "Reward:  -10523.403263312657 {'time_elapsed(hours)': 4344.25, 'month': 7, 'day': 1, 'hour': 0, 'is_raining': False, 'action': [17.288292, 23.438732], 'timestep': 17377, 'reward': -0.0102341357436746, 'energy_term': -0.0, 'comfort_term': -0.0102341357436746, 'reward_weight': 0.5, 'abs_energy': 0.0, 'abs_comfort': 0.0204682714873492, 'energy_values': [0.0], 'temp_values': [22.97953172851265]}\n",
      "Reward:  -12095.656188499746 {'time_elapsed(hours)': 5088.25, 'month': 8, 'day': 1, 'hour': 0, 'is_raining': False, 'action': [15.1888685, 27.578459], 'timestep': 20353, 'reward': -0.08725828624996801, 'energy_term': -0.0, 'comfort_term': -0.08725828624996801, 'reward_weight': 0.5, 'abs_energy': 0.0, 'abs_comfort': 0.17451657249993602, 'energy_values': [0.0], 'temp_values': [22.825483427500064]}\n",
      "Reward:  -13621.370235352582 {'time_elapsed(hours)': 5832.25, 'month': 9, 'day': 1, 'hour': 0, 'is_raining': False, 'action': [17.298662, 29.994596], 'timestep': 23329, 'reward': -0.34853135399000834, 'energy_term': -0.0, 'comfort_term': -0.34853135399000834, 'reward_weight': 0.5, 'abs_energy': 0.0, 'abs_comfort': 0.6970627079800167, 'energy_values': [0.0], 'temp_values': [22.302937292019983]}\n",
      "Reward:  -15600.182243645339 {'time_elapsed(hours)': 6552.333333333333, 'month': 10, 'day': 1, 'hour': 0, 'is_raining': False, 'action': [18.34115, 24.060514], 'timestep': 26209, 'reward': -0.005332687578824091, 'energy_term': -0.005332687578824091, 'comfort_term': -0.0, 'reward_weight': 0.5, 'abs_energy': 106.65375157648182, 'abs_comfort': 0.0, 'energy_values': [106.65375157648182], 'temp_values': [21.42438684235638]}\n",
      "Reward:  -17761.418349755506 {'time_elapsed(hours)': 7296.25, 'month': 11, 'day': 1, 'hour': 0, 'is_raining': False, 'action': [20.515974, 29.606424], 'timestep': 29185, 'reward': -0.0065355449147727, 'energy_term': -0.0065355449147727, 'comfort_term': -0.0, 'reward_weight': 0.5, 'abs_energy': 130.710898295454, 'abs_comfort': 0.0, 'energy_values': [130.710898295454], 'temp_values': [20.11454181322498]}\n",
      "Reward:  -18815.55741669231 {'time_elapsed(hours)': 8016.3125, 'month': 12, 'day': 1, 'hour': 0, 'is_raining': True, 'action': [17.70247, 22.621012], 'timestep': 32065, 'reward': -0.006844487029476482, 'energy_term': -0.006844487029476482, 'comfort_term': -0.0, 'reward_weight': 0.5, 'abs_energy': 136.88974058952962, 'abs_comfort': 0.0, 'energy_values': [136.88974058952962], 'temp_values': [20.609674786356226]}\n",
      "Progress: |***************************************************************************************************| 99%\n"
     ]
    }
   ],
   "source": [
    "for i in range(1):\n",
    "    obs, info = env.reset()\n",
    "    rewards = []\n",
    "    terminated = False\n",
    "    current_month = 0\n",
    "    while not terminated:\n",
    "        a = env.action_space.sample()\n",
    "        obs, reward, terminated, truncated, info = env.step(a)\n",
    "        rewards.append(reward)\n",
    "        if info['month'] != current_month:  # display results every month\n",
    "            current_month = info['month']\n",
    "            print('Reward: ', sum(rewards), info)"
   ]
  },
  {
   "attachments": {},
   "cell_type": "markdown",
   "metadata": {
    "collapsed": false,
    "pycharm": {
     "name": "#%% md\n"
    }
   },
   "source": [
    "And, as always, don't forget to close the environment when the interaction finishes:"
   ]
  },
  {
   "cell_type": "code",
   "execution_count": 3,
   "metadata": {
    "collapsed": false,
    "pycharm": {
     "name": "#%%\n"
    }
   },
   "outputs": [
    {
     "name": "stdout",
     "output_type": "stream",
     "text": [
      "\u001b[38;20m[ENVIRONMENT] (INFO) : Environment closed. [demo-v1]\u001b[0m\n"
     ]
    }
   ],
   "source": [
    "env.close()"
   ]
  },
  {
   "attachments": {},
   "cell_type": "markdown",
   "metadata": {
    "collapsed": false,
    "pycharm": {
     "name": "#%% md\n"
    }
   },
   "source": [
    "Now, we can see the final rewards:"
   ]
  },
  {
   "cell_type": "code",
   "execution_count": 4,
   "metadata": {
    "collapsed": false,
    "pycharm": {
     "name": "#%%\n"
    }
   },
   "outputs": [
    {
     "name": "stdout",
     "output_type": "stream",
     "text": [
      "Mean reward:  -0.5689803083303209 Cumulative reward:  -19937.070003895173\n"
     ]
    }
   ],
   "source": [
    "print(\n",
    "    'Mean reward: ',\n",
    "    np.mean(rewards),\n",
    "    'Cumulative reward: ',\n",
    "    sum(rewards))"
   ]
  },
  {
   "attachments": {},
   "cell_type": "markdown",
   "metadata": {},
   "source": [
    "The [list of environments](https://github.com/ugr-sail/sinergym/blob/main/sinergym/__init__.py) that we have registered in Sinergym is extensive and we use buildings files changing particularities. For example, continuous or discrete action spaces, different types of weathers, noise over weather, runperiod, timesteps, reward functions, etc. We will see it in the following notebooks."
   ]
  }
 ],
 "metadata": {
  "kernelspec": {
   "display_name": "Python 3.10.4 64-bit",
   "language": "python",
   "name": "python3"
  },
  "language_info": {
   "codemirror_mode": {
    "name": "ipython",
    "version": 3
   },
   "file_extension": ".py",
   "mimetype": "text/x-python",
   "name": "python",
   "nbconvert_exporter": "python",
   "pygments_lexer": "ipython3",
   "version": "3.10.6"
  },
  "vscode": {
   "interpreter": {
    "hash": "e7370f93d1d0cde622a1f8e1c04877d8463912d04d973331ad4851f04de6915a"
   }
  }
 },
 "nbformat": 4,
 "nbformat_minor": 0
}
