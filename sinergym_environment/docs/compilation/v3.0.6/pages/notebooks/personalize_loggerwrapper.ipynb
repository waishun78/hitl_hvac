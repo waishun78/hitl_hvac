{
 "cells": [
  {
   "attachments": {},
   "cell_type": "markdown",
   "metadata": {
    "collapsed": false
   },
   "source": [
    "# Logger Wrapper personalization/configuration"
   ]
  },
  {
   "attachments": {},
   "cell_type": "markdown",
   "metadata": {
    "collapsed": false
   },
   "source": [
    "We will see on this notebook how to personalize the logger wrapper defined by sinergym."
   ]
  },
  {
   "cell_type": "code",
   "execution_count": 1,
   "metadata": {
    "collapsed": true,
    "pycharm": {
     "is_executing": true
    }
   },
   "outputs": [
    {
     "ename": "ImportError",
     "evalue": "cannot import name 'RANGES_5ZONE' from 'sinergym.utils.constants' (/workspaces/sinergym/sinergym/utils/constants.py)",
     "output_type": "error",
     "traceback": [
      "\u001b[0;31m---------------------------------------------------------------------------\u001b[0m",
      "\u001b[0;31mImportError\u001b[0m                               Traceback (most recent call last)",
      "\u001b[1;32m/workspaces/sinergym/examples/personalize_loggerwrapper.ipynb Celda 3\u001b[0m line \u001b[0;36m6\n\u001b[1;32m      <a href='vscode-notebook-cell://dev-container%2B2f686f6d652f616c65782f4573637269746f72696f2f73696e657267796d/workspaces/sinergym/examples/personalize_loggerwrapper.ipynb#W2sdnNjb2RlLXJlbW90ZQ%3D%3D?line=2'>3</a>\u001b[0m \u001b[39mimport\u001b[39;00m \u001b[39msinergym\u001b[39;00m\n\u001b[1;32m      <a href='vscode-notebook-cell://dev-container%2B2f686f6d652f616c65782f4573637269746f72696f2f73696e657267796d/workspaces/sinergym/examples/personalize_loggerwrapper.ipynb#W2sdnNjb2RlLXJlbW90ZQ%3D%3D?line=3'>4</a>\u001b[0m \u001b[39mfrom\u001b[39;00m \u001b[39msinergym\u001b[39;00m\u001b[39m.\u001b[39;00m\u001b[39mutils\u001b[39;00m\u001b[39m.\u001b[39;00m\u001b[39mwrappers\u001b[39;00m \u001b[39mimport\u001b[39;00m (LoggerWrapper, MultiObsWrapper,\n\u001b[1;32m      <a href='vscode-notebook-cell://dev-container%2B2f686f6d652f616c65782f4573637269746f72696f2f73696e657267796d/workspaces/sinergym/examples/personalize_loggerwrapper.ipynb#W2sdnNjb2RlLXJlbW90ZQ%3D%3D?line=4'>5</a>\u001b[0m                                      NormalizeObservation)\n\u001b[0;32m----> <a href='vscode-notebook-cell://dev-container%2B2f686f6d652f616c65782f4573637269746f72696f2f73696e657267796d/workspaces/sinergym/examples/personalize_loggerwrapper.ipynb#W2sdnNjb2RlLXJlbW90ZQ%3D%3D?line=5'>6</a>\u001b[0m \u001b[39mfrom\u001b[39;00m \u001b[39msinergym\u001b[39;00m\u001b[39m.\u001b[39;00m\u001b[39mutils\u001b[39;00m\u001b[39m.\u001b[39;00m\u001b[39mconstants\u001b[39;00m \u001b[39mimport\u001b[39;00m RANGES_5ZONE\n",
      "\u001b[0;31mImportError\u001b[0m: cannot import name 'RANGES_5ZONE' from 'sinergym.utils.constants' (/workspaces/sinergym/sinergym/utils/constants.py)"
     ]
    }
   ],
   "source": [
    "import gymnasium as gym\n",
    "import numpy as np\n",
    "import sinergym\n",
    "from sinergym.utils.wrappers import (LoggerWrapper, MultiObsWrapper,\n",
    "                                     NormalizeObservation)\n",
    "from sinergym.utils.constants import RANGES_5ZONE"
   ]
  },
  {
   "attachments": {},
   "cell_type": "markdown",
   "metadata": {},
   "source": [
    "## Step 1 Inherit and modify the CSVloger"
   ]
  },
  {
   "attachments": {},
   "cell_type": "markdown",
   "metadata": {
    "collapsed": false
   },
   "source": [
    "First we need to change the CSV logger to modify the values written into the file on the function `create_row_contents`."
   ]
  },
  {
   "cell_type": "code",
   "execution_count": null,
   "metadata": {
    "collapsed": false,
    "pycharm": {
     "name": "#%%\n"
    }
   },
   "outputs": [],
   "source": [
    "\n",
    "from sinergym.utils.logger import CSVLogger\n",
    "from typing import Any, Dict, Optional, Sequence, Tuple, Union, List\n",
    "\n",
    "class CustomCSVLogger(CSVLogger):\n",
    "\n",
    "    def __init__(\n",
    "            self,\n",
    "            monitor_header: str,\n",
    "            progress_header: str,\n",
    "            log_progress_file: str,\n",
    "            log_file: Optional[str] = None,\n",
    "            flag: bool = True):\n",
    "        super(CustomCSVLogger, self).__init__(monitor_header,progress_header,log_progress_file,log_file,flag)\n",
    "        self.last_10_steps_reward = [0]*10\n",
    "\n",
    "    def _create_row_content(\n",
    "            self,\n",
    "            obs: List[Any],\n",
    "            action: Union[int, np.ndarray, List[Any]],\n",
    "            terminated: bool,\n",
    "            info: Optional[Dict[str, Any]]) -> List:\n",
    "            \n",
    "        if info.get('reward') is not None:\n",
    "            self.last_10_steps_reward.pop(0)\n",
    "            self.last_10_steps_reward.append(info['reward'])\n",
    "\n",
    "        \n",
    "        return [\n",
    "            info.get('timestep',0)] + list(obs) + list(action) + [\n",
    "            info.get('time_elapsed(hours)',0),\n",
    "            info.get('reward',None),\n",
    "            np.mean(self.last_10_steps_reward),\n",
    "            info.get('total_power_no_units'),\n",
    "            info.get('comfort_penalty'),\n",
    "            info.get('abs_comfort'),\n",
    "            terminated]\n",
    "\n",
    "    "
   ]
  },
  {
   "attachments": {},
   "cell_type": "markdown",
   "metadata": {
    "collapsed": false
   },
   "source": [
    "## Step 2 Instantiate the LoggerWrapper\n"
   ]
  },
  {
   "attachments": {},
   "cell_type": "markdown",
   "metadata": {
    "collapsed": false
   },
   "source": [
    "Now, we need to instantiate the `LoggerWrapper` and specify the new headers of our file and the `CSVLogger` class we want to use."
   ]
  },
  {
   "cell_type": "code",
   "execution_count": null,
   "metadata": {
    "collapsed": false,
    "pycharm": {
     "name": "#%%\n"
    }
   },
   "outputs": [
    {
     "name": "stdout",
     "output_type": "stream",
     "text": [
      "#==============================================================================================#\n",
      "\u001b[38;20m[ENVIRONMENT] (INFO) : Creating Gymnasium environment... [demo-v1]\u001b[0m\n",
      "#==============================================================================================#\n",
      "\u001b[38;20m[MODELING] (INFO) : Experiment working directory created [/workspaces/sinergym/examples/Eplus-env-demo-v1-res1]\u001b[0m\n",
      "\u001b[38;20m[MODELING] (INFO) : runperiod established: {'start_day': 1, 'start_month': 1, 'start_year': 1991, 'end_day': 31, 'end_month': 12, 'end_year': 1991, 'start_weekday': 1, 'n_steps_per_hour': 4}\u001b[0m\n",
      "\u001b[38;20m[MODELING] (INFO) : Episode length (seconds): 31536000.0\u001b[0m\n",
      "\u001b[38;20m[MODELING] (INFO) : timestep size (seconds): 900.0\u001b[0m\n",
      "\u001b[38;20m[MODELING] (INFO) : timesteps per episode: 35040\u001b[0m\n",
      "\u001b[38;20m[MODELING] (INFO) : Model Config is correct.\u001b[0m\n",
      "\u001b[38;20m[ENVIRONMENT] (INFO) : Environment demo-v1 created successfully.\u001b[0m\n",
      "\u001b[38;20m[WRAPPER LoggerWrapper] (INFO) : Wrapper initialized.\u001b[0m\n"
     ]
    }
   ],
   "source": [
    "env=gym.make('Eplus-demo-v1')\n",
    "env=LoggerWrapper(env,logger_class=CustomCSVLogger,monitor_header = ['timestep'] + env.get_wrapper_attr('observation_variables') +\n",
    "                env.get_wrapper_attr('action_variables') + ['time (hours)', 'reward', '10-mean-reward',\n",
    "                'power_penalty', 'comfort_penalty', 'done'])"
   ]
  },
  {
   "attachments": {},
   "cell_type": "markdown",
   "metadata": {},
   "source": [
    "Now, you can see in Sinergym output folder that you will have available `progress.csv` file and `monitor.csv` files in each episode."
   ]
  },
  {
   "cell_type": "code",
   "execution_count": null,
   "metadata": {
    "collapsed": false,
    "pycharm": {
     "name": "#%%\n"
    }
   },
   "outputs": [
    {
     "name": "stdout",
     "output_type": "stream",
     "text": [
      "#----------------------------------------------------------------------------------------------#\n",
      "\u001b[38;20m[ENVIRONMENT] (INFO) : Starting a new episode... [demo-v1] [Episode 1]\u001b[0m\n",
      "#----------------------------------------------------------------------------------------------#\n",
      "\u001b[38;20m[MODELING] (INFO) : Episode directory created [/workspaces/sinergym/examples/Eplus-env-demo-v1-res1/Eplus-env-sub_run1]\u001b[0m\n",
      "\u001b[38;20m[MODELING] (INFO) : Weather file USA_PA_Pittsburgh-Allegheny.County.AP.725205_TMY3.epw used.\u001b[0m\n",
      "\u001b[38;20m[MODELING] (INFO) : Updated building model with whole Output:Variable available names\u001b[0m\n",
      "\u001b[38;20m[MODELING] (INFO) : Updated building model with whole Output:Meter available names\u001b[0m\n",
      "\u001b[38;20m[MODELING] (INFO) : Adapting weather to building model. [USA_PA_Pittsburgh-Allegheny.County.AP.725205_TMY3.epw]\u001b[0m\n",
      "\u001b[38;20m[ENVIRONMENT] (INFO) : Saving episode output path... [/workspaces/sinergym/examples/Eplus-env-demo-v1-res1/Eplus-env-sub_run1/output]\u001b[0m\n"
     ]
    },
    {
     "name": "stderr",
     "output_type": "stream",
     "text": [
      "/usr/local/lib/python3.10/dist-packages/opyplus/weather_data/weather_data.py:493: FutureWarning: the 'line_terminator'' keyword is deprecated, use 'lineterminator' instead.\n",
      "  epw_content = self._headers_to_epw(use_datetimes=use_datetimes) + df.to_csv(\n"
     ]
    },
    {
     "name": "stdout",
     "output_type": "stream",
     "text": [
      "\u001b[38;20m[SIMULATOR] (INFO) : Running EnergyPlus with args: ['-w', '/workspaces/sinergym/examples/Eplus-env-demo-v1-res1/Eplus-env-sub_run1/USA_PA_Pittsburgh-Allegheny.County.AP.725205_TMY3.epw', '-d', '/workspaces/sinergym/examples/Eplus-env-demo-v1-res1/Eplus-env-sub_run1/output', '/workspaces/sinergym/examples/Eplus-env-demo-v1-res1/Eplus-env-sub_run1/5ZoneAutoDXVAV.epJSON']\u001b[0m\n",
      "\u001b[38;20m[ENVIRONMENT] (INFO) : Episode 1 started.\u001b[0m\n",
      "\u001b[38;20m[SIMULATOR] (INFO) : Handles initialized.\u001b[0m\n",
      "\u001b[38;20m[SIMULATOR] (INFO) : Handles are ready.\u001b[0m\n",
      "\u001b[38;20m[SIMULATOR] (INFO) : System is ready.\u001b[0m\n",
      "\u001b[38;20m[WRAPPER LoggerWrapper] (INFO) : Creating monitor.csv for current episode (episode 1) if logger is active\u001b[0m\n",
      "Reward:  -1.4254385096063296 {'time_elapsed(hours)': 0.5, 'month': 1, 'day': 1, 'hour': 0, 'is_raining': False, 'action': [16.7173, 25.51828], 'timestep': 2, 'reward': -1.4254385096063296, 'reward_energy': -0.09759966457086716, 'reward_comfort': -2.753277354641792, 'total_energy': 975.9966457086716, 'abs_comfort': 2.753277354641792, 'temperatures': [17.246722645358208]}\n",
      "Reward:  -1356.64076468415 {'time_elapsed(hours)': 744.3333333333334, 'month': 2, 'day': 1, 'hour': 0, 'is_raining': False, 'action': [19.984348, 29.691034], 'timestep': 2977, 'reward': -1.367269479029056, 'reward_energy': -0.09759966457086716, 'reward_comfort': -2.636939293487245, 'total_energy': 975.9966457086716, 'abs_comfort': 2.636939293487245, 'temperatures': [17.363060706512755]}\n",
      "Reward:  -3054.0220095941445 {'time_elapsed(hours)': 1416.375, 'month': 3, 'day': 1, 'hour': 0, 'is_raining': False, 'action': [20.9632, 25.817284], 'timestep': 5665, 'reward': -0.02408891647452545, 'reward_energy': -0.0481778329490509, 'reward_comfort': -0.0, 'total_energy': 481.77832949050895, 'abs_comfort': 0.0, 'temperatures': [20.188024759178024]}\n",
      "Reward:  -4736.571454268678 {'time_elapsed(hours)': 2160.375, 'month': 4, 'day': 1, 'hour': 0, 'is_raining': False, 'action': [18.74891, 24.531729], 'timestep': 8641, 'reward': -0.0, 'reward_energy': -0.0, 'reward_comfort': -0.0, 'total_energy': 0.0, 'abs_comfort': 0.0, 'temperatures': [20.221615023532745]}\n",
      "Reward:  -6785.093081776233 {'time_elapsed(hours)': 2880.25, 'month': 5, 'day': 1, 'hour': 0, 'is_raining': False, 'action': [22.275679, 29.25613], 'timestep': 11521, 'reward': -0.0, 'reward_energy': -0.0, 'reward_comfort': -0.0, 'total_energy': 0.0, 'abs_comfort': 0.0, 'temperatures': [21.85061459512608]}\n",
      "Reward:  -8829.943111164042 {'time_elapsed(hours)': 3624.25, 'month': 6, 'day': 1, 'hour': 0, 'is_raining': False, 'action': [18.098753, 25.570164], 'timestep': 14497, 'reward': -0.0, 'reward_energy': -0.0, 'reward_comfort': -0.0, 'total_energy': 0.0, 'abs_comfort': 0.0, 'temperatures': [23.339699740700098]}\n",
      "Reward:  -10546.937765974348 {'time_elapsed(hours)': 4344.25, 'month': 7, 'day': 1, 'hour': 0, 'is_raining': False, 'action': [15.805853, 29.79396], 'timestep': 17377, 'reward': -0.010235060377977945, 'reward_energy': -0.0, 'reward_comfort': -0.02047012075595589, 'total_energy': 0.0, 'abs_comfort': 0.02047012075595589, 'temperatures': [22.979529879244044]}\n",
      "Reward:  -12117.452740165845 {'time_elapsed(hours)': 5088.25, 'month': 8, 'day': 1, 'hour': 0, 'is_raining': False, 'action': [18.614649, 24.655542], 'timestep': 20353, 'reward': -0.08732701526938413, 'reward_energy': -0.0, 'reward_comfort': -0.17465403053876827, 'total_energy': 0.0, 'abs_comfort': 0.17465403053876827, 'temperatures': [22.82534596946123]}\n",
      "Reward:  -13646.256713538365 {'time_elapsed(hours)': 5832.25, 'month': 9, 'day': 1, 'hour': 0, 'is_raining': False, 'action': [19.055405, 28.45958], 'timestep': 23329, 'reward': -0.34864576248800994, 'reward_energy': -0.0, 'reward_comfort': -0.6972915249760199, 'total_energy': 0.0, 'abs_comfort': 0.6972915249760199, 'temperatures': [22.30270847502398]}\n",
      "Reward:  -15633.06135286244 {'time_elapsed(hours)': 6552.333333333333, 'month': 10, 'day': 1, 'hour': 0, 'is_raining': False, 'action': [16.270668, 23.874163], 'timestep': 26209, 'reward': -0.005346094724833048, 'reward_energy': -0.010692189449666096, 'reward_comfort': -0.0, 'total_energy': 106.92189449666095, 'abs_comfort': 0.0, 'temperatures': [21.411057878533825]}\n",
      "Reward:  -17869.168300652276 {'time_elapsed(hours)': 7296.25, 'month': 11, 'day': 1, 'hour': 0, 'is_raining': False, 'action': [20.142776, 25.004871], 'timestep': 29185, 'reward': -0.006635015584664937, 'reward_energy': -0.013270031169329875, 'reward_comfort': -0.0, 'total_energy': 132.70031169329874, 'abs_comfort': 0.0, 'temperatures': [20.10767561929156]}\n",
      "Reward:  -18917.38133695269 {'time_elapsed(hours)': 8016.333333333333, 'month': 12, 'day': 1, 'hour': 0, 'is_raining': True, 'action': [20.448978, 24.824717], 'timestep': 32065, 'reward': -0.005961230918705193, 'reward_energy': -0.011922461837410386, 'reward_comfort': -0.0, 'total_energy': 119.22461837410385, 'abs_comfort': 0.0, 'temperatures': [21.411502592832264]}\n",
      "Progress: |***************************************************************************************************| 99%\n",
      "Episode  0 Mean reward:  -0.5716922513376816 Cumulative reward:  -20032.096486873303\n",
      "\u001b[38;20m[WRAPPER LoggerWrapper] (INFO) : End of episode, recording summary (progress.csv) if logger is active\u001b[0m\n",
      "\u001b[38;20m[ENVIRONMENT] (INFO) : Environment closed. [demo-v1]\u001b[0m\n"
     ]
    }
   ],
   "source": [
    "for i in range(1):\n",
    "    obs, info = env.reset()\n",
    "    rewards = []\n",
    "    terminated = False\n",
    "    current_month = 0\n",
    "    while not terminated:\n",
    "        a = env.action_space.sample()\n",
    "        obs, reward, terminated, truncated, info = env.step(a)\n",
    "        rewards.append(reward)\n",
    "        if info['month'] != current_month:  # display results every month\n",
    "            current_month = info['month']\n",
    "            print('Reward: ', sum(rewards), info)\n",
    "    print('Episode ', i, 'Mean reward: ', np.mean(\n",
    "        rewards), 'Cumulative reward: ', sum(rewards))\n",
    "env.close()"
   ]
  }
 ],
 "metadata": {
  "kernelspec": {
   "display_name": "Python 3.10.4 64-bit",
   "language": "python",
   "name": "python3"
  },
  "language_info": {
   "codemirror_mode": {
    "name": "ipython",
    "version": 3
   },
   "file_extension": ".py",
   "mimetype": "text/x-python",
   "name": "python",
   "nbconvert_exporter": "python",
   "pygments_lexer": "ipython3",
   "version": "3.10.6"
  },
  "vscode": {
   "interpreter": {
    "hash": "e7370f93d1d0cde622a1f8e1c04877d8463912d04d973331ad4851f04de6915a"
   }
  }
 },
 "nbformat": 4,
 "nbformat_minor": 0
}
