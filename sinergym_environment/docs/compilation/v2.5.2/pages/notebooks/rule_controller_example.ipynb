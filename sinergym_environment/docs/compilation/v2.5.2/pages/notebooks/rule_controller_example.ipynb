{
 "cells": [
  {
   "attachments": {},
   "cell_type": "markdown",
   "metadata": {
    "collapsed": false
   },
   "source": [
    "# Rule Controller example"
   ]
  },
  {
   "attachments": {},
   "cell_type": "markdown",
   "metadata": {
    "collapsed": false
   },
   "source": [
    "First we import all the used libraries, remember to always import `sinergym` even if it says is not used, because that is needed to define the environments"
   ]
  },
  {
   "cell_type": "code",
   "execution_count": 1,
   "metadata": {
    "collapsed": true
   },
   "outputs": [],
   "source": [
    "from typing import List, Any, Sequence\n",
    "from sinergym.utils.common import get_season_comfort_range\n",
    "from datetime import datetime\n",
    "import gymnasium as gym\n",
    "import numpy as np\n",
    "import sinergym"
   ]
  },
  {
   "attachments": {},
   "cell_type": "markdown",
   "metadata": {
    "collapsed": false
   },
   "source": [
    "Now we can define the environment we want to use, in our case we are using the Eplus demo.\n",
    "Don't forget to deactivate the `flag_normalization`. It is important due to the fact that *MyRuleBasedController*\n",
    "works with real values, not `[-1,1]` space."
   ]
  },
  {
   "cell_type": "code",
   "execution_count": 3,
   "metadata": {
    "collapsed": false,
    "pycharm": {
     "name": "#%%\n"
    }
   },
   "outputs": [
    {
     "name": "stdout",
     "output_type": "stream",
     "text": [
      "[2023-06-28 08:54:00,262] EPLUS_ENV_5Zone-hot-continuous-v1_MainThread_ROOT INFO:Updating Building model ExternalInterface object if it is not present...\n",
      "[2023-06-28 08:54:00,263] EPLUS_ENV_5Zone-hot-continuous-v1_MainThread_ROOT INFO:Updating Building model Site:Location and SizingPeriod:DesignDay(s) to weather and ddy file...\n",
      "[2023-06-28 08:54:00,264] EPLUS_ENV_5Zone-hot-continuous-v1_MainThread_ROOT INFO:Updating building model OutPut:Variable and variables XML tree model for BVCTB connection.\n",
      "[2023-06-28 08:54:00,265] EPLUS_ENV_5Zone-hot-continuous-v1_MainThread_ROOT INFO:Setting up extra configuration in building model if exists...\n",
      "[2023-06-28 08:54:00,265] EPLUS_ENV_5Zone-hot-continuous-v1_MainThread_ROOT INFO:Setting up action definition in building model if exists...\n"
     ]
    }
   ],
   "source": [
    "env = gym.make('Eplus-5Zone-hot-continuous-v1', flag_normalization=False)"
   ]
  },
  {
   "attachments": {},
   "cell_type": "markdown",
   "metadata": {
    "collapsed": false
   },
   "source": [
    "For the Rule-base controller have a look at the already defined controllers, there is one for each building, since the demo is based on the 5Zone building we are extending that controller and defining the action function we desire, feel free to play with the function to define your own action."
   ]
  },
  {
   "cell_type": "code",
   "execution_count": 4,
   "metadata": {
    "collapsed": false,
    "pycharm": {
     "name": "#%%\n"
    }
   },
   "outputs": [],
   "source": [
    "from sinergym.utils.controllers import RBC5Zone\n",
    "\n",
    "class MyRuleBasedController(RBC5Zone):\n",
    "\n",
    "    def act(self, observation: List[Any]) -> Sequence[Any]:\n",
    "        \"\"\"Select action based on outdoor air drybulb temperature and daytime.\n",
    "\n",
    "        Args:\n",
    "            observation (List[Any]): Perceived observation.\n",
    "\n",
    "        Returns:\n",
    "            Sequence[Any]: Action chosen.\n",
    "        \"\"\"\n",
    "        obs_dict = dict(zip(self.variables['observation'], observation))\n",
    "\n",
    "        out_temp = obs_dict['Site Outdoor Air Drybulb Temperature(Environment)']\n",
    "\n",
    "        day = int(obs_dict['day'])\n",
    "        month = int(obs_dict['month'])\n",
    "        hour = int(obs_dict['hour'])\n",
    "        year = int(obs_dict['year'])\n",
    "\n",
    "        summer_start_date = datetime(year, 6, 1)\n",
    "        summer_final_date = datetime(year, 9, 30)\n",
    "\n",
    "        current_dt = datetime(year, month, day)\n",
    "\n",
    "        # Get season comfort range\n",
    "        if current_dt >= summer_start_date and current_dt <= summer_final_date:\n",
    "            season_comfort_range = self.setpoints_summer\n",
    "        else:\n",
    "            season_comfort_range = self.setpoints_summer\n",
    "        season_comfort_range = get_season_comfort_range(1991,month, day)\n",
    "        # Update setpoints\n",
    "        in_temp = obs_dict['Zone Air Temperature(SPACE1-1)']\n",
    "\n",
    "        current_heat_setpoint = obs_dict[\n",
    "            'Zone Thermostat Heating Setpoint Temperature(SPACE1-1)']\n",
    "        current_cool_setpoint = obs_dict[\n",
    "            'Zone Thermostat Cooling Setpoint Temperature(SPACE1-1)']\n",
    "\n",
    "        new_heat_setpoint = current_heat_setpoint\n",
    "        new_cool_setpoint = current_cool_setpoint\n",
    "\n",
    "        if in_temp < season_comfort_range[0]:\n",
    "            new_heat_setpoint = current_heat_setpoint + 1\n",
    "            new_cool_setpoint = current_cool_setpoint + 1\n",
    "        elif in_temp > season_comfort_range[1]:\n",
    "            new_cool_setpoint = current_cool_setpoint - 1\n",
    "            new_heat_setpoint = current_heat_setpoint - 1\n",
    "\n",
    "        #Clip setpoints to the action space\n",
    "        if new_heat_setpoint>self.env.action_space.high[0]:\n",
    "            new_heat_setpoint=self.env.action_space.high[0]\n",
    "        if new_heat_setpoint<self.env.action_space.low[0]:\n",
    "            new_heat_setpoint=self.env.action_space.low[0]\n",
    "        if new_cool_setpoint>self.env.action_space.high[1]:\n",
    "            new_cool_setpoint=self.env.action_space.high[1]\n",
    "        if new_cool_setpoint<self.env.action_space.low[1]:\n",
    "            new_cool_setpoint=self.env.action_space.low[1]\n",
    "\n",
    "        action = (new_heat_setpoint, new_cool_setpoint)\n",
    "        if current_dt.weekday() > 5 or hour in range(22, 6):\n",
    "            #weekend or night\n",
    "            action = (18.33, 23.33)\n",
    "\n",
    "        return action"
   ]
  },
  {
   "attachments": {},
   "cell_type": "markdown",
   "metadata": {
    "collapsed": false,
    "pycharm": {
     "name": "#%% md\n"
    }
   },
   "source": [
    "Now that we have our controller ready we can use it:"
   ]
  },
  {
   "cell_type": "code",
   "execution_count": 5,
   "metadata": {
    "collapsed": false,
    "pycharm": {
     "name": "#%%\n"
    }
   },
   "outputs": [
    {
     "name": "stdout",
     "output_type": "stream",
     "text": [
      "[2023-06-28 08:54:05,364] EPLUS_ENV_5Zone-hot-continuous-v1_MainThread_ROOT INFO:Creating new EnergyPlus simulation episode...\n",
      "[2023-06-28 08:54:05,528] EPLUS_ENV_5Zone-hot-continuous-v1_MainThread_ROOT INFO:EnergyPlus working directory is in /workspaces/sinergym/examples/Eplus-env-5Zone-hot-continuous-v1-res2/Eplus-env-sub_run1\n"
     ]
    },
    {
     "name": "stderr",
     "output_type": "stream",
     "text": [
      "/usr/local/lib/python3.10/dist-packages/opyplus/weather_data/weather_data.py:493: FutureWarning: the 'line_terminator'' keyword is deprecated, use 'lineterminator' instead.\n",
      "  epw_content = self._headers_to_epw(use_datetimes=use_datetimes) + df.to_csv(\n",
      "/usr/local/lib/python3.10/dist-packages/gymnasium/spaces/box.py:230: UserWarning: \u001b[33mWARN: Casting input x to numpy array.\u001b[0m\n",
      "  gym.logger.warn(\"Casting input x to numpy array.\")\n"
     ]
    },
    {
     "name": "stdout",
     "output_type": "stream",
     "text": [
      "Reward:  -0.029673378872410956 {'timestep': 1, 'time_elapsed': 900, 'year': 1991, 'month': 1, 'day': 1, 'hour': 0, 'action': (21.0, 25.0), 'reward': -0.029673378872410956, 'reward_energy': -0.05934675774482191, 'reward_comfort': -0.0, 'total_energy': 593.4675774482191, 'abs_comfort': 0.0, 'temperatures': [20.85245579021927]}\n",
      "Reward:  -4252.742575790403 {'timestep': 2976, 'time_elapsed': 2678400, 'year': 1991, 'month': 2, 'day': 1, 'hour': 0, 'action': (15.0, 22.5), 'reward': -0.00610792304119184, 'reward_energy': -0.01221584608238368, 'reward_comfort': -0.0, 'total_energy': 122.1584608238368, 'abs_comfort': 0.0, 'temperatures': [20.27698188359977]}\n",
      "Reward:  -5383.33275512995 {'timestep': 5664, 'time_elapsed': 5097600, 'year': 1991, 'month': 3, 'day': 1, 'hour': 0, 'action': (21.0, 28.5), 'reward': -0.009516267880754955, 'reward_energy': -0.01903253576150991, 'reward_comfort': -0.0, 'total_energy': 190.3253576150991, 'abs_comfort': 0.0, 'temperatures': [20.7657209636087]}\n",
      "Reward:  -8358.35109532286 {'timestep': 8640, 'time_elapsed': 7776000, 'year': 1991, 'month': 4, 'day': 1, 'hour': 0, 'action': (18.33, 23.33), 'reward': -0.00354445800991235, 'reward_energy': -0.0070889160198247, 'reward_comfort': -0.0, 'total_energy': 70.889160198247, 'abs_comfort': 0.0, 'temperatures': [21.07671896071751]}\n",
      "Reward:  -12113.16332819369 {'timestep': 11520, 'time_elapsed': 10368000, 'year': 1991, 'month': 5, 'day': 1, 'hour': 0, 'action': (15.0, 22.5), 'reward': -0.39174163196767964, 'reward_energy': -0.0, 'reward_comfort': -0.7834832639353593, 'total_energy': 0.0, 'abs_comfort': 0.7834832639353593, 'temperatures': [24.28348326393536]}\n",
      "Reward:  -16531.448075625474 {'timestep': 14496, 'time_elapsed': 13046400, 'year': 1991, 'month': 6, 'day': 1, 'hour': 0, 'action': (15.0, 22.5), 'reward': -0.1731284041999146, 'reward_energy': -0.0, 'reward_comfort': -0.3462568083998292, 'total_energy': 0.0, 'abs_comfort': 0.3462568083998292, 'temperatures': [26.34625680839983]}\n",
      "Reward:  -20157.446863381367 {'timestep': 17376, 'time_elapsed': 15638400, 'year': 1991, 'month': 7, 'day': 1, 'hour': 0, 'action': (18.33, 23.33), 'reward': -1.3408842854129404, 'reward_energy': -0.0, 'reward_comfort': -2.6817685708258807, 'total_energy': 0.0, 'abs_comfort': 2.6817685708258807, 'temperatures': [28.68176857082588]}\n",
      "Reward:  -22893.237602694 {'timestep': 20352, 'time_elapsed': 18316800, 'year': 1991, 'month': 8, 'day': 1, 'hour': 0, 'action': (15.0, 22.5), 'reward': -0.5826328704105048, 'reward_energy': -0.0, 'reward_comfort': -1.1652657408210096, 'total_energy': 0.0, 'abs_comfort': 1.1652657408210096, 'temperatures': [27.16526574082101]}\n",
      "Reward:  -25649.241615518513 {'timestep': 23328, 'time_elapsed': 20995200, 'year': 1991, 'month': 9, 'day': 1, 'hour': 0, 'action': (15.0, 22.5), 'reward': -0.0, 'reward_energy': -0.0, 'reward_comfort': -0.0, 'total_energy': 0.0, 'abs_comfort': 0.0, 'temperatures': [25.97217913447177]}\n",
      "Reward:  -27997.50886202155 {'timestep': 26208, 'time_elapsed': 23587200, 'year': 1991, 'month': 10, 'day': 1, 'hour': 0, 'action': (15.0, 22.5), 'reward': -0.8455302903157609, 'reward_energy': -0.0, 'reward_comfort': -1.6910605806315218, 'total_energy': 0.0, 'abs_comfort': 1.6910605806315218, 'temperatures': [25.19106058063152]}\n",
      "Reward:  -34821.22555261009 {'timestep': 29184, 'time_elapsed': 26265600, 'year': 1991, 'month': 11, 'day': 1, 'hour': 0, 'action': (15.0, 22.5), 'reward': -0.00354445800991235, 'reward_energy': -0.0070889160198247, 'reward_comfort': -0.0, 'total_energy': 70.889160198247, 'abs_comfort': 0.0, 'temperatures': [21.35515568826141]}\n",
      "Reward:  -38410.973757484644 {'timestep': 32064, 'time_elapsed': 28857600, 'year': 1991, 'month': 12, 'day': 1, 'hour': 0, 'action': (18.0, 25.5), 'reward': -0.22291041113216173, 'reward_energy': -0.0070889160198247, 'reward_comfort': -0.43873190624449876, 'total_energy': 70.889160198247, 'abs_comfort': 0.43873190624449876, 'temperatures': [19.5612680937555]}\n",
      "Reward:  -41424.81156421058 {'timestep': 35040, 'time_elapsed': 31536000, 'year': 1992, 'month': 1, 'day': 1, 'hour': 0, 'action': (19.0, 26.5), 'reward': -0.15205744029942805, 'reward_energy': -0.0070889160198247, 'reward_comfort': -0.2970259645790314, 'total_energy': 70.889160198247, 'abs_comfort': 0.2970259645790314, 'temperatures': [19.70297403542097]}\n",
      "Episode  0 Mean reward:  -1.1822149419008554 Cumulative reward:  -41424.81156421058\n"
     ]
    }
   ],
   "source": [
    "\n",
    "# create rule-based controller\n",
    "agent = MyRuleBasedController(env)\n",
    "\n",
    "for i in range(1):\n",
    "    obs, info = env.reset()\n",
    "    rewards = []\n",
    "    terminated = False\n",
    "    current_month = 0\n",
    "while not terminated:\n",
    "    action = agent.act(obs)\n",
    "    obs, reward, terminated, truncated, info = env.step(action)\n",
    "    rewards.append(reward)\n",
    "    if info['month'] != current_month:  # display results every month\n",
    "        current_month = info['month']\n",
    "        print('Reward: ', sum(rewards), info)\n",
    "print(\n",
    "    'Episode ',\n",
    "    i,\n",
    "    'Mean reward: ',\n",
    "    np.mean(rewards),\n",
    "    'Cumulative reward: ',\n",
    "    sum(rewards))"
   ]
  },
  {
   "attachments": {},
   "cell_type": "markdown",
   "metadata": {
    "collapsed": false
   },
   "source": [
    "Always remember to close the environment:"
   ]
  },
  {
   "cell_type": "code",
   "execution_count": 6,
   "metadata": {
    "collapsed": false,
    "pycharm": {
     "name": "#%%\n"
    }
   },
   "outputs": [
    {
     "name": "stdout",
     "output_type": "stream",
     "text": [
      "[2023-06-28 08:54:25,062] EPLUS_ENV_5Zone-hot-continuous-v1_MainThread_ROOT INFO:EnergyPlus simulation closed successfully. \n"
     ]
    }
   ],
   "source": [
    "env.close()"
   ]
  },
  {
   "attachments": {},
   "cell_type": "markdown",
   "metadata": {},
   "source": [
    ".. note:: For more information about our defines controllers and how create a new one, please, visit our [Controller Documentation](https://ugr-sail.github.io/sinergym/compilation/html/pages/controllers.html)"
   ]
  }
 ],
 "metadata": {
  "kernelspec": {
   "display_name": "Python 3.10.4 64-bit",
   "language": "python",
   "name": "python3"
  },
  "language_info": {
   "codemirror_mode": {
    "name": "ipython",
    "version": 3
   },
   "file_extension": ".py",
   "mimetype": "text/x-python",
   "name": "python",
   "nbconvert_exporter": "python",
   "pygments_lexer": "ipython3",
   "version": "3.10.6"
  },
  "vscode": {
   "interpreter": {
    "hash": "e7370f93d1d0cde622a1f8e1c04877d8463912d04d973331ad4851f04de6915a"
   }
  }
 },
 "nbformat": 4,
 "nbformat_minor": 0
}
