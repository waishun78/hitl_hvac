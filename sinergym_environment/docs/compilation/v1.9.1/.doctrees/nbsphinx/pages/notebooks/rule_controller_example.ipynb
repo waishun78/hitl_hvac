{
 "cells": [
  {
   "cell_type": "markdown",
   "metadata": {
    "collapsed": false
   },
   "source": [
    "# Rule Controller example"
   ]
  },
  {
   "cell_type": "markdown",
   "metadata": {
    "collapsed": false
   },
   "source": [
    "First we import al the used libraries, remember to always import `sinergym` even if it says is not used, because that is needed to define the environments"
   ]
  },
  {
   "cell_type": "code",
   "execution_count": 11,
   "metadata": {
    "collapsed": true
   },
   "outputs": [],
   "source": [
    "from typing import List, Any, Sequence\n",
    "from sinergym.utils.common import get_season_comfort_range\n",
    "from datetime import datetime\n",
    "import gym\n",
    "import numpy as np\n",
    "import sinergym"
   ]
  },
  {
   "cell_type": "markdown",
   "metadata": {
    "collapsed": false
   },
   "source": [
    "Now we can define the environment we want to use, in our case we are using the Eplus demo."
   ]
  },
  {
   "cell_type": "code",
   "execution_count": 12,
   "metadata": {
    "collapsed": false,
    "pycharm": {
     "name": "#%%\n"
    }
   },
   "outputs": [
    {
     "name": "stderr",
     "output_type": "stream",
     "text": [
      "[2022-05-16 13:52:47,254] EPLUS_ENV_demo-v1_MainThread_ROOT INFO:Updating idf Site:Location and SizingPeriod:DesignDay(s) to weather and ddy file...\n",
      "[2022-05-16 13:52:47,254] EPLUS_ENV_demo-v1_MainThread_ROOT INFO:Updating idf Site:Location and SizingPeriod:DesignDay(s) to weather and ddy file...\n",
      "[2022-05-16 13:52:47,254] EPLUS_ENV_demo-v1_MainThread_ROOT INFO:Updating idf Site:Location and SizingPeriod:DesignDay(s) to weather and ddy file...\n",
      "[2022-05-16 13:52:47,254] EPLUS_ENV_demo-v1_MainThread_ROOT INFO:Updating idf Site:Location and SizingPeriod:DesignDay(s) to weather and ddy file...\n",
      "[2022-05-16 13:52:47,257] EPLUS_ENV_demo-v1_MainThread_ROOT INFO:Setting up extra configuration in building model if exists...\n",
      "[2022-05-16 13:52:47,257] EPLUS_ENV_demo-v1_MainThread_ROOT INFO:Setting up extra configuration in building model if exists...\n",
      "[2022-05-16 13:52:47,257] EPLUS_ENV_demo-v1_MainThread_ROOT INFO:Setting up extra configuration in building model if exists...\n",
      "[2022-05-16 13:52:47,257] EPLUS_ENV_demo-v1_MainThread_ROOT INFO:Setting up extra configuration in building model if exists...\n"
     ]
    }
   ],
   "source": [
    "env = gym.make('Eplus-demo-v1')"
   ]
  },
  {
   "cell_type": "markdown",
   "metadata": {
    "collapsed": false
   },
   "source": [
    "For the Rule-base controller have a look at the already defined controllers, there is one for each building, since the demo is based on the 5Zone building we are extending that controller and defining the action function we desire, feel free to play with the function to define your own action."
   ]
  },
  {
   "cell_type": "code",
   "execution_count": 13,
   "metadata": {
    "collapsed": false,
    "pycharm": {
     "name": "#%%\n"
    }
   },
   "outputs": [],
   "source": [
    "from sinergym.utils.controllers import RBC5Zone\n",
    "\n",
    "class MyRuleBasedController(RBC5Zone):\n",
    "\n",
    "    def act(self, observation: List[Any]) -> Sequence[Any]:\n",
    "        \"\"\"Select action based on outdoor air drybulb temperature and daytime.\n",
    "\n",
    "        Args:\n",
    "            observation (List[Any]): Perceived observation.\n",
    "\n",
    "        Returns:\n",
    "            Sequence[Any]: Action chosen.\n",
    "        \"\"\"\n",
    "        obs_dict = dict(zip(self.variables['observation'], observation))\n",
    "\n",
    "        out_temp = obs_dict['Site Outdoor Air Drybulb Temperature (Environment)']\n",
    "\n",
    "        day = int(obs_dict['day'])\n",
    "        month = int(obs_dict['month'])\n",
    "        hour = int(obs_dict['hour'])\n",
    "        year = int(obs_dict['year'])\n",
    "\n",
    "        summer_start_date = datetime(year, 6, 1)\n",
    "        summer_final_date = datetime(year, 9, 30)\n",
    "\n",
    "        current_dt = datetime(year, month, day)\n",
    "\n",
    "        # Get season comfort range\n",
    "        if current_dt >= summer_start_date and current_dt <= summer_final_date:\n",
    "            season_comfort_range = self.range_comfort_summer\n",
    "        else:\n",
    "            season_comfort_range = self.range_comfort_winter\n",
    "        season_comfort_range = get_season_comfort_range(1991,month, day)\n",
    "        # Update setpoints\n",
    "        in_temp = obs_dict['Zone Air Temperature (SPACE1-1)']\n",
    "\n",
    "        current_heat_setpoint = obs_dict[\n",
    "            'Zone Thermostat Heating Setpoint Temperature (SPACE1-1)']\n",
    "        current_cool_setpoint = obs_dict[\n",
    "            'Zone Thermostat Cooling Setpoint Temperature (SPACE1-1)']\n",
    "\n",
    "        new_heat_setpoint = current_heat_setpoint\n",
    "        new_cool_setpoint = current_cool_setpoint\n",
    "\n",
    "        if in_temp < season_comfort_range[0]:\n",
    "            new_heat_setpoint = current_heat_setpoint + 1\n",
    "            new_cool_setpoint = current_cool_setpoint + 1\n",
    "        elif in_temp > season_comfort_range[1]:\n",
    "            new_cool_setpoint = current_cool_setpoint - 1\n",
    "            new_heat_setpoint = current_heat_setpoint - 1\n",
    "\n",
    "        action = (new_heat_setpoint, new_cool_setpoint)\n",
    "        if current_dt.weekday() > 5 or hour in range(22, 6):\n",
    "            #weekend or night\n",
    "            action = (18.33, 23.33)\n",
    "\n",
    "        return action"
   ]
  },
  {
   "cell_type": "markdown",
   "metadata": {
    "collapsed": false,
    "pycharm": {
     "name": "#%% md\n"
    }
   },
   "source": [
    "Now that we have our controller ready we can use it:"
   ]
  },
  {
   "cell_type": "code",
   "execution_count": 14,
   "metadata": {
    "collapsed": false,
    "pycharm": {
     "name": "#%%\n"
    }
   },
   "outputs": [
    {
     "name": "stderr",
     "output_type": "stream",
     "text": [
      "[2022-05-16 13:52:47,462] EPLUS_ENV_demo-v1_MainThread_ROOT INFO:Creating new EnergyPlus simulation episode...\n",
      "[2022-05-16 13:52:47,462] EPLUS_ENV_demo-v1_MainThread_ROOT INFO:Creating new EnergyPlus simulation episode...\n",
      "[2022-05-16 13:52:47,462] EPLUS_ENV_demo-v1_MainThread_ROOT INFO:Creating new EnergyPlus simulation episode...\n",
      "[2022-05-16 13:52:47,462] EPLUS_ENV_demo-v1_MainThread_ROOT INFO:Creating new EnergyPlus simulation episode...\n",
      "[2022-05-16 13:52:47,477] EPLUS_ENV_demo-v1_MainThread_ROOT INFO:EnergyPlus working directory is in /workspaces/sinergym/examples/Eplus-env-demo-v1-res15/Eplus-env-sub_run1\n",
      "[2022-05-16 13:52:47,477] EPLUS_ENV_demo-v1_MainThread_ROOT INFO:EnergyPlus working directory is in /workspaces/sinergym/examples/Eplus-env-demo-v1-res15/Eplus-env-sub_run1\n",
      "[2022-05-16 13:52:47,477] EPLUS_ENV_demo-v1_MainThread_ROOT INFO:EnergyPlus working directory is in /workspaces/sinergym/examples/Eplus-env-demo-v1-res15/Eplus-env-sub_run1\n",
      "[2022-05-16 13:52:47,477] EPLUS_ENV_demo-v1_MainThread_ROOT INFO:EnergyPlus working directory is in /workspaces/sinergym/examples/Eplus-env-demo-v1-res15/Eplus-env-sub_run1\n"
     ]
    },
    {
     "name": "stdout",
     "output_type": "stream",
     "text": [
      "Reward:  -0.3808358083250143 {'timestep': 1, 'time_elapsed': 900, 'year': 1991, 'month': 1, 'day': 1, 'hour': 0, 'total_power': 7616.716166500285, 'total_power_no_units': -0.7616716166500286, 'comfort_penalty': -0.0, 'temperatures': [20.99998783039325], 'out_temperature': 1.8, 'action_': [21.0, 25.0]}\n",
      "Reward:  -1394.933741103853 {'timestep': 2976, 'time_elapsed': 2678400, 'year': 1991, 'month': 2, 'day': 1, 'hour': 0, 'total_power': 8783.948537124963, 'total_power_no_units': -0.8783948537124964, 'comfort_penalty': -0.0, 'temperatures': [20.32998668433318], 'out_temperature': -7.0, 'action_': [20.33, 25.33]}\n",
      "Reward:  -2650.5674622643014 {'timestep': 5664, 'time_elapsed': 5097600, 'year': 1991, 'month': 3, 'day': 1, 'hour': 0, 'total_power': 2828.551434642312, 'total_power_no_units': -0.2828551434642312, 'comfort_penalty': -0.0, 'temperatures': [20.32988764119706], 'out_temperature': 8.1, 'action_': [20.33, 25.33]}\n",
      "Reward:  -3464.4534634130637 {'timestep': 8640, 'time_elapsed': 7776000, 'year': 1991, 'month': 4, 'day': 1, 'hour': 0, 'total_power': 186.5934720667916, 'total_power_no_units': -0.018659347206679163, 'comfort_penalty': -1.2670384566951505, 'temperatures': [18.73296154330485], 'out_temperature': 7.7, 'action_': [18.33, 23.33]}\n",
      "Reward:  -4056.362905023052 {'timestep': 11520, 'time_elapsed': 10368000, 'year': 1991, 'month': 5, 'day': 1, 'hour': 0, 'total_power': 1049.348956006732, 'total_power_no_units': -0.10493489560067319, 'comfort_penalty': -0.0, 'temperatures': [20.33021459066708], 'out_temperature': 13.0, 'action_': [20.33, 25.33]}\n",
      "Reward:  -4575.388821261888 {'timestep': 14496, 'time_elapsed': 13046400, 'year': 1991, 'month': 6, 'day': 1, 'hour': 0, 'total_power': 602.6474404745787, 'total_power_no_units': -0.06026474404745787, 'comfort_penalty': -2.6702171176743406, 'temperatures': [20.32978288232566], 'out_temperature': 18.4, 'action_': [20.33, 25.33]}\n",
      "Reward:  -5959.068563514961 {'timestep': 17376, 'time_elapsed': 15638400, 'year': 1991, 'month': 7, 'day': 1, 'hour': 0, 'total_power': 215.8105427085715, 'total_power_no_units': -0.02158105427085715, 'comfort_penalty': -2.871010625169369, 'temperatures': [20.12898937483063], 'out_temperature': 17.7, 'action_': [18.33, 23.33]}\n",
      "Reward:  -7457.679714984278 {'timestep': 20352, 'time_elapsed': 18316800, 'year': 1991, 'month': 8, 'day': 1, 'hour': 0, 'total_power': 9961.587143366478, 'total_power_no_units': -0.9961587143366478, 'comfort_penalty': -0.0, 'temperatures': [23.33021175763765], 'out_temperature': 20.6, 'action_': [23.33, 28.33]}\n",
      "Reward:  -8981.302898158818 {'timestep': 23328, 'time_elapsed': 20995200, 'year': 1991, 'month': 9, 'day': 1, 'hour': 0, 'total_power': 1814.198506979714, 'total_power_no_units': -0.1814198506979714, 'comfort_penalty': -0.0, 'temperatures': [23.32960549764289], 'out_temperature': 18.8, 'action_': [23.33, 28.33]}\n",
      "Reward:  -10197.28247814917 {'timestep': 26208, 'time_elapsed': 23587200, 'year': 1991, 'month': 10, 'day': 1, 'hour': 0, 'total_power': 2130.682079753009, 'total_power_no_units': -0.2130682079753009, 'comfort_penalty': -0.0, 'temperatures': [23.33031354561692], 'out_temperature': 13.3, 'action_': [23.33, 28.33]}\n",
      "Reward:  -10685.569288303852 {'timestep': 29184, 'time_elapsed': 26265600, 'year': 1991, 'month': 11, 'day': 1, 'hour': 0, 'total_power': 944.0904158092015, 'total_power_no_units': -0.09440904158092016, 'comfort_penalty': -0.0, 'temperatures': [20.33017991675662], 'out_temperature': 13.0, 'action_': [20.33, 25.33]}\n",
      "Reward:  -11374.36750934867 {'timestep': 32064, 'time_elapsed': 28857600, 'year': 1991, 'month': 12, 'day': 1, 'hour': 0, 'total_power': 2788.852968187345, 'total_power_no_units': -0.27888529681873453, 'comfort_penalty': -0.0, 'temperatures': [20.32995260044678], 'out_temperature': 5.1, 'action_': [20.33, 25.33]}\n",
      "Reward:  -12774.026233137427 {'timestep': 35040, 'time_elapsed': 31536000, 'year': 1992, 'month': 1, 'day': 1, 'hour': 0, 'total_power': 10847.14414165405, 'total_power_no_units': -1.084714414165405, 'comfort_penalty': -0.0, 'temperatures': [20.33000003505644], 'out_temperature': -12.0, 'action_': [20.33, 25.33]}\n",
      "Episode  0 Mean reward:  -0.36455554318315797 Cumulative reward:  -12774.026233137427\n"
     ]
    }
   ],
   "source": [
    "\n",
    "# create rule-based controller\n",
    "agent = MyRuleBasedController(env)\n",
    "\n",
    "for i in range(1):\n",
    "    obs = env.reset()\n",
    "    rewards = []\n",
    "    done = False\n",
    "    current_month = 0\n",
    "while not done:\n",
    "    action = agent.act(obs)\n",
    "    obs, reward, done, info = env.step(action)\n",
    "    rewards.append(reward)\n",
    "    if info['month'] != current_month:  # display results every month\n",
    "        current_month = info['month']\n",
    "        print('Reward: ', sum(rewards), info)\n",
    "print(\n",
    "    'Episode ',\n",
    "    i,\n",
    "    'Mean reward: ',\n",
    "    np.mean(rewards),\n",
    "    'Cumulative reward: ',\n",
    "    sum(rewards))"
   ]
  },
  {
   "cell_type": "markdown",
   "metadata": {
    "collapsed": false
   },
   "source": [
    "Always remember to close the environment:"
   ]
  },
  {
   "cell_type": "code",
   "execution_count": 15,
   "metadata": {
    "collapsed": false,
    "pycharm": {
     "name": "#%%\n"
    }
   },
   "outputs": [
    {
     "name": "stderr",
     "output_type": "stream",
     "text": [
      "[2022-05-16 13:52:58,937] EPLUS_ENV_demo-v1_MainThread_ROOT INFO:EnergyPlus simulation closed successfully. \n",
      "[2022-05-16 13:52:58,937] EPLUS_ENV_demo-v1_MainThread_ROOT INFO:EnergyPlus simulation closed successfully. \n",
      "[2022-05-16 13:52:58,937] EPLUS_ENV_demo-v1_MainThread_ROOT INFO:EnergyPlus simulation closed successfully. \n",
      "[2022-05-16 13:52:58,937] EPLUS_ENV_demo-v1_MainThread_ROOT INFO:EnergyPlus simulation closed successfully. \n"
     ]
    }
   ],
   "source": [
    "env.close()"
   ]
  }
 ],
 "metadata": {
  "interpreter": {
   "hash": "767d51c1340bd893661ea55ea3124f6de3c7a262a8b4abca0554b478b1e2ff90"
  },
  "kernelspec": {
   "display_name": "Python 3.9.11 64-bit",
   "language": "python",
   "name": "python3"
  },
  "language_info": {
   "codemirror_mode": {
    "name": "ipython",
    "version": 3
   },
   "file_extension": ".py",
   "mimetype": "text/x-python",
   "name": "python",
   "nbconvert_exporter": "python",
   "pygments_lexer": "ipython3",
   "version": "3.9.11"
  }
 },
 "nbformat": 4,
 "nbformat_minor": 0
}
